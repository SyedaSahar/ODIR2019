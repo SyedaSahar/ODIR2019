{
  "nbformat": 4,
  "nbformat_minor": 0,
  "metadata": {
    "colab": {
      "name": "duplicate minority image.ipynb",
      "provenance": [],
      "collapsed_sections": [],
      "include_colab_link": true
    },
    "kernelspec": {
      "name": "python3",
      "display_name": "Python 3"
    },
    "accelerator": "GPU"
  },
  "cells": [
    {
      "cell_type": "markdown",
      "metadata": {
        "id": "view-in-github",
        "colab_type": "text"
      },
      "source": [
        "<a href=\"https://colab.research.google.com/github/talhaanwarch/ODIR2019/blob/master/duplicate_minority_image.ipynb\" target=\"_parent\"><img src=\"https://colab.research.google.com/assets/colab-badge.svg\" alt=\"Open In Colab\"/></a>"
      ]
    },
    {
      "cell_type": "code",
      "metadata": {
        "id": "7PsU8MEqEtcx",
        "colab_type": "code",
        "outputId": "955ed528-75a0-423c-886b-7cabc210c5f0",
        "colab": {
          "base_uri": "https://localhost:8080/",
          "height": 34
        }
      },
      "source": [
        "\n",
        "#connect drive with colab notebook/\n",
        "\n",
        "from google.colab import drive\n",
        "drive.mount('/content/drive',force_remount=True)"
      ],
      "execution_count": 1,
      "outputs": [
        {
          "output_type": "stream",
          "text": [
            "Mounted at /content/drive\n"
          ],
          "name": "stdout"
        }
      ]
    },
    {
      "cell_type": "markdown",
      "metadata": {
        "id": "OJgWH2mVTf-3",
        "colab_type": "text"
      },
      "source": [
        "https://github.com/keras-team/keras/issues/8130\n",
        "https://stackoverflow.com/questions/56796331/how-to-input-multiple-images-with-flow-from-dataframe-in-keras"
      ]
    },
    {
      "cell_type": "code",
      "metadata": {
        "id": "Q2olGzDvEuRy",
        "colab_type": "code",
        "outputId": "b6867ffe-c5f8-47b4-e36a-f5426f63ed86",
        "colab": {
          "base_uri": "https://localhost:8080/",
          "height": 67
        }
      },
      "source": [
        "#following are libraries to unpack 7z file\n",
        "!pip install patool \n",
        "!pip install pyunpack\n",
        "from pyunpack import Archive"
      ],
      "execution_count": 2,
      "outputs": [
        {
          "output_type": "stream",
          "text": [
            "Requirement already satisfied: patool in /usr/local/lib/python3.6/dist-packages (1.12)\n",
            "Requirement already satisfied: pyunpack in /usr/local/lib/python3.6/dist-packages (0.1.2)\n",
            "Requirement already satisfied: easyprocess in /usr/local/lib/python3.6/dist-packages (from pyunpack) (0.2.10)\n"
          ],
          "name": "stdout"
        }
      ]
    },
    {
      "cell_type": "code",
      "metadata": {
        "id": "N6cxCkiCF0ux",
        "colab_type": "code",
        "colab": {}
      },
      "source": [
        "import pandas as pd\n",
        "import numpy as np\n",
        "import cv2"
      ],
      "execution_count": 0,
      "outputs": []
    },
    {
      "cell_type": "code",
      "metadata": {
        "id": "HFAmlM88FWqn",
        "colab_type": "code",
        "colab": {
          "base_uri": "https://localhost:8080/",
          "height": 34
        },
        "outputId": "19e44184-218d-46a8-8397-5ef93bfca99e"
      },
      "source": [
        "\n",
        "#create a folder name as data\n",
        "!mkdir data"
      ],
      "execution_count": 4,
      "outputs": [
        {
          "output_type": "stream",
          "text": [
            "mkdir: cannot create directory ‘data’: File exists\n"
          ],
          "name": "stdout"
        }
      ]
    },
    {
      "cell_type": "code",
      "metadata": {
        "id": "venZ9rNrFZMZ",
        "colab_type": "code",
        "colab": {}
      },
      "source": [
        "#path where our data is saved\n",
        "path='/content/drive/My Drive/ghina/thesis/'"
      ],
      "execution_count": 0,
      "outputs": []
    },
    {
      "cell_type": "code",
      "metadata": {
        "id": "RPbingUaFbJ0",
        "colab_type": "code",
        "colab": {}
      },
      "source": [
        "#extract the 7z file in data folder we created above\n",
        "#this not only extract the data but move it from drive to colab for efficinet processing\n",
        "#it will take some time\n",
        "Archive(path+'ODIR-5K_Training_Images.7z').extractall('data')"
      ],
      "execution_count": 0,
      "outputs": []
    },
    {
      "cell_type": "code",
      "metadata": {
        "id": "t2vwqBAqFdG2",
        "colab_type": "code",
        "colab": {}
      },
      "source": [
        "#read the annottion file\n",
        "annotation=pd.read_excel(path+'ODIR-5K_Training_Annotations(Updated)_V2.xlsx')"
      ],
      "execution_count": 0,
      "outputs": []
    },
    {
      "cell_type": "code",
      "metadata": {
        "id": "UpKZEXLMFfhW",
        "colab_type": "code",
        "colab": {}
      },
      "source": [
        "\n",
        "#normal (N), diabetes (D), glaucoma (G), cataract (C), AMD (A), hypertension (H), myopia (M) and other diseases/abnormalities (O)"
      ],
      "execution_count": 0,
      "outputs": []
    },
    {
      "cell_type": "code",
      "metadata": {
        "id": "3EIxDJR0FhDq",
        "colab_type": "code",
        "outputId": "00019b3a-407c-4d02-ea43-2a16ebf6df50",
        "colab": {
          "base_uri": "https://localhost:8080/",
          "height": 195
        }
      },
      "source": [
        "#print first 5 rows of annotation file\n",
        "annotation=annotation.sample(frac=1)\n",
        "annotation.head()"
      ],
      "execution_count": 27,
      "outputs": [
        {
          "output_type": "execute_result",
          "data": {
            "text/html": [
              "<div>\n",
              "<style scoped>\n",
              "    .dataframe tbody tr th:only-of-type {\n",
              "        vertical-align: middle;\n",
              "    }\n",
              "\n",
              "    .dataframe tbody tr th {\n",
              "        vertical-align: top;\n",
              "    }\n",
              "\n",
              "    .dataframe thead th {\n",
              "        text-align: right;\n",
              "    }\n",
              "</style>\n",
              "<table border=\"1\" class=\"dataframe\">\n",
              "  <thead>\n",
              "    <tr style=\"text-align: right;\">\n",
              "      <th></th>\n",
              "      <th>ID</th>\n",
              "      <th>Patient Age</th>\n",
              "      <th>Patient Sex</th>\n",
              "      <th>Left-Fundus</th>\n",
              "      <th>Right-Fundus</th>\n",
              "      <th>Left-Diagnostic Keywords</th>\n",
              "      <th>Right-Diagnostic Keywords</th>\n",
              "      <th>N</th>\n",
              "      <th>D</th>\n",
              "      <th>G</th>\n",
              "      <th>C</th>\n",
              "      <th>A</th>\n",
              "      <th>H</th>\n",
              "      <th>M</th>\n",
              "      <th>O</th>\n",
              "    </tr>\n",
              "  </thead>\n",
              "  <tbody>\n",
              "    <tr>\n",
              "      <th>684</th>\n",
              "      <td>686</td>\n",
              "      <td>37</td>\n",
              "      <td>Male</td>\n",
              "      <td>686_left.jpg</td>\n",
              "      <td>686_right.jpg</td>\n",
              "      <td>hypertensive retinopathy</td>\n",
              "      <td>hypertensive retinopathy</td>\n",
              "      <td>0</td>\n",
              "      <td>0</td>\n",
              "      <td>0</td>\n",
              "      <td>0</td>\n",
              "      <td>0</td>\n",
              "      <td>1</td>\n",
              "      <td>0</td>\n",
              "      <td>0</td>\n",
              "    </tr>\n",
              "    <tr>\n",
              "      <th>1516</th>\n",
              "      <td>1919</td>\n",
              "      <td>50</td>\n",
              "      <td>Male</td>\n",
              "      <td>1919_left.jpg</td>\n",
              "      <td>1919_right.jpg</td>\n",
              "      <td>refractive media opacity</td>\n",
              "      <td>dry age-related macular degeneration</td>\n",
              "      <td>0</td>\n",
              "      <td>0</td>\n",
              "      <td>0</td>\n",
              "      <td>0</td>\n",
              "      <td>1</td>\n",
              "      <td>0</td>\n",
              "      <td>0</td>\n",
              "      <td>1</td>\n",
              "    </tr>\n",
              "    <tr>\n",
              "      <th>1697</th>\n",
              "      <td>2242</td>\n",
              "      <td>63</td>\n",
              "      <td>Male</td>\n",
              "      <td>2242_left.jpg</td>\n",
              "      <td>2242_right.jpg</td>\n",
              "      <td>cataract</td>\n",
              "      <td>cataract</td>\n",
              "      <td>0</td>\n",
              "      <td>0</td>\n",
              "      <td>0</td>\n",
              "      <td>1</td>\n",
              "      <td>0</td>\n",
              "      <td>0</td>\n",
              "      <td>0</td>\n",
              "      <td>0</td>\n",
              "    </tr>\n",
              "    <tr>\n",
              "      <th>1824</th>\n",
              "      <td>2447</td>\n",
              "      <td>34</td>\n",
              "      <td>Female</td>\n",
              "      <td>2447_left.jpg</td>\n",
              "      <td>2447_right.jpg</td>\n",
              "      <td>normal fundus</td>\n",
              "      <td>normal fundus</td>\n",
              "      <td>1</td>\n",
              "      <td>0</td>\n",
              "      <td>0</td>\n",
              "      <td>0</td>\n",
              "      <td>0</td>\n",
              "      <td>0</td>\n",
              "      <td>0</td>\n",
              "      <td>0</td>\n",
              "    </tr>\n",
              "    <tr>\n",
              "      <th>125</th>\n",
              "      <td>125</td>\n",
              "      <td>71</td>\n",
              "      <td>Male</td>\n",
              "      <td>125_left.jpg</td>\n",
              "      <td>125_right.jpg</td>\n",
              "      <td>epiretinal membrane</td>\n",
              "      <td>normal fundus</td>\n",
              "      <td>0</td>\n",
              "      <td>0</td>\n",
              "      <td>0</td>\n",
              "      <td>0</td>\n",
              "      <td>0</td>\n",
              "      <td>0</td>\n",
              "      <td>0</td>\n",
              "      <td>1</td>\n",
              "    </tr>\n",
              "  </tbody>\n",
              "</table>\n",
              "</div>"
            ],
            "text/plain": [
              "        ID  Patient Age Patient Sex    Left-Fundus  ...  A  H  M  O\n",
              "684    686           37        Male   686_left.jpg  ...  0  1  0  0\n",
              "1516  1919           50        Male  1919_left.jpg  ...  1  0  0  1\n",
              "1697  2242           63        Male  2242_left.jpg  ...  0  0  0  0\n",
              "1824  2447           34      Female  2447_left.jpg  ...  0  0  0  0\n",
              "125    125           71        Male   125_left.jpg  ...  0  0  0  1\n",
              "\n",
              "[5 rows x 15 columns]"
            ]
          },
          "metadata": {
            "tags": []
          },
          "execution_count": 27
        }
      ]
    },
    {
      "cell_type": "code",
      "metadata": {
        "id": "3rAwNowDKIV7",
        "colab_type": "code",
        "colab": {}
      },
      "source": [
        "train_annotation=annotation[0:2500]\n",
        "val_annotation=annotation[2500:3500]\n"
      ],
      "execution_count": 0,
      "outputs": []
    },
    {
      "cell_type": "code",
      "metadata": {
        "id": "jznAC3XoGMTX",
        "colab_type": "code",
        "colab": {
          "base_uri": "https://localhost:8080/",
          "height": 195
        },
        "outputId": "a9224ec8-332e-4bfc-b56e-d8ddb5fb30bb"
      },
      "source": [
        "train_annotation.head()"
      ],
      "execution_count": 47,
      "outputs": [
        {
          "output_type": "execute_result",
          "data": {
            "text/html": [
              "<div>\n",
              "<style scoped>\n",
              "    .dataframe tbody tr th:only-of-type {\n",
              "        vertical-align: middle;\n",
              "    }\n",
              "\n",
              "    .dataframe tbody tr th {\n",
              "        vertical-align: top;\n",
              "    }\n",
              "\n",
              "    .dataframe thead th {\n",
              "        text-align: right;\n",
              "    }\n",
              "</style>\n",
              "<table border=\"1\" class=\"dataframe\">\n",
              "  <thead>\n",
              "    <tr style=\"text-align: right;\">\n",
              "      <th></th>\n",
              "      <th>ID</th>\n",
              "      <th>Patient Age</th>\n",
              "      <th>Patient Sex</th>\n",
              "      <th>Left-Fundus</th>\n",
              "      <th>Right-Fundus</th>\n",
              "      <th>Left-Diagnostic Keywords</th>\n",
              "      <th>Right-Diagnostic Keywords</th>\n",
              "      <th>N</th>\n",
              "      <th>D</th>\n",
              "      <th>G</th>\n",
              "      <th>C</th>\n",
              "      <th>A</th>\n",
              "      <th>H</th>\n",
              "      <th>M</th>\n",
              "      <th>O</th>\n",
              "    </tr>\n",
              "  </thead>\n",
              "  <tbody>\n",
              "    <tr>\n",
              "      <th>684</th>\n",
              "      <td>686</td>\n",
              "      <td>37</td>\n",
              "      <td>Male</td>\n",
              "      <td>686_left.jpg</td>\n",
              "      <td>686_right.jpg</td>\n",
              "      <td>hypertensive retinopathy</td>\n",
              "      <td>hypertensive retinopathy</td>\n",
              "      <td>0</td>\n",
              "      <td>0</td>\n",
              "      <td>0</td>\n",
              "      <td>0</td>\n",
              "      <td>0</td>\n",
              "      <td>1</td>\n",
              "      <td>0</td>\n",
              "      <td>0</td>\n",
              "    </tr>\n",
              "    <tr>\n",
              "      <th>1516</th>\n",
              "      <td>1919</td>\n",
              "      <td>50</td>\n",
              "      <td>Male</td>\n",
              "      <td>1919_left.jpg</td>\n",
              "      <td>1919_right.jpg</td>\n",
              "      <td>refractive media opacity</td>\n",
              "      <td>dry age-related macular degeneration</td>\n",
              "      <td>0</td>\n",
              "      <td>0</td>\n",
              "      <td>0</td>\n",
              "      <td>0</td>\n",
              "      <td>1</td>\n",
              "      <td>0</td>\n",
              "      <td>0</td>\n",
              "      <td>1</td>\n",
              "    </tr>\n",
              "    <tr>\n",
              "      <th>1697</th>\n",
              "      <td>2242</td>\n",
              "      <td>63</td>\n",
              "      <td>Male</td>\n",
              "      <td>2242_left.jpg</td>\n",
              "      <td>2242_right.jpg</td>\n",
              "      <td>cataract</td>\n",
              "      <td>cataract</td>\n",
              "      <td>0</td>\n",
              "      <td>0</td>\n",
              "      <td>0</td>\n",
              "      <td>1</td>\n",
              "      <td>0</td>\n",
              "      <td>0</td>\n",
              "      <td>0</td>\n",
              "      <td>0</td>\n",
              "    </tr>\n",
              "    <tr>\n",
              "      <th>1824</th>\n",
              "      <td>2447</td>\n",
              "      <td>34</td>\n",
              "      <td>Female</td>\n",
              "      <td>2447_left.jpg</td>\n",
              "      <td>2447_right.jpg</td>\n",
              "      <td>normal fundus</td>\n",
              "      <td>normal fundus</td>\n",
              "      <td>1</td>\n",
              "      <td>0</td>\n",
              "      <td>0</td>\n",
              "      <td>0</td>\n",
              "      <td>0</td>\n",
              "      <td>0</td>\n",
              "      <td>0</td>\n",
              "      <td>0</td>\n",
              "    </tr>\n",
              "    <tr>\n",
              "      <th>125</th>\n",
              "      <td>125</td>\n",
              "      <td>71</td>\n",
              "      <td>Male</td>\n",
              "      <td>125_left.jpg</td>\n",
              "      <td>125_right.jpg</td>\n",
              "      <td>epiretinal membrane</td>\n",
              "      <td>normal fundus</td>\n",
              "      <td>0</td>\n",
              "      <td>0</td>\n",
              "      <td>0</td>\n",
              "      <td>0</td>\n",
              "      <td>0</td>\n",
              "      <td>0</td>\n",
              "      <td>0</td>\n",
              "      <td>1</td>\n",
              "    </tr>\n",
              "  </tbody>\n",
              "</table>\n",
              "</div>"
            ],
            "text/plain": [
              "        ID  Patient Age Patient Sex    Left-Fundus  ...  A  H  M  O\n",
              "684    686           37        Male   686_left.jpg  ...  0  1  0  0\n",
              "1516  1919           50        Male  1919_left.jpg  ...  1  0  0  1\n",
              "1697  2242           63        Male  2242_left.jpg  ...  0  0  0  0\n",
              "1824  2447           34      Female  2447_left.jpg  ...  0  0  0  0\n",
              "125    125           71        Male   125_left.jpg  ...  0  0  0  1\n",
              "\n",
              "[5 rows x 15 columns]"
            ]
          },
          "metadata": {
            "tags": []
          },
          "execution_count": 47
        }
      ]
    },
    {
      "cell_type": "code",
      "metadata": {
        "id": "aLc48p3aGN1H",
        "colab_type": "code",
        "colab": {}
      },
      "source": [
        "for i in ['G',\t'C',\t'A',\t'H',\t'M']:\n",
        "  duplicate=train_annotation[train_annotation[i]==1]\n",
        "  train_annotation=train_annotation.append([duplicate]*2,ignore_index=True)"
      ],
      "execution_count": 0,
      "outputs": []
    },
    {
      "cell_type": "code",
      "metadata": {
        "id": "PY3rADC-GoFi",
        "colab_type": "code",
        "colab": {}
      },
      "source": [
        "\n",
        "# train_annotation.drop(columns=['ID', 'Patient Age', 'Patient Sex','Left-Diagnostic Keywords', 'Right-Diagnostic Keywords'],inplace=True)\n",
        "# val_annotation.drop(columns=['ID', 'Patient Age', 'Patient Sex','Left-Diagnostic Keywords', 'Right-Diagnostic Keywords'],inplace=True)\n",
        "\n",
        "# def change_name(x):\n",
        "#   l=list(x)\n",
        "#   l.insert(l.index('_'),'_1')\n",
        "#   l=''.join(l)\n",
        "#   return l\n",
        "# def df_row_duplicate(df):\n",
        "#   for i in range(len(df)):\n",
        "#     left=change_name(df.iloc[i,0]) #creat new image name\n",
        "\n",
        "#     img_left=Image.open('/content/data/ODIR-5K_Training_Dataset/{}'.format(df.iloc[i,0]))\n",
        "#     img_left = img_left.save('/content/data/ODIR-5K_Training_Dataset/{}'.format(img_left)) \n",
        "\n",
        "#     right=change_name(df.iloc[i,1])\n",
        "#     img_right=Image.open('/content/data/ODIR-5K_Training_Dataset/{}'.format(df.iloc[i,1]))\n",
        "#     img_right = img_right.save('/content/data/ODIR-5K_Training_Dataset/{}'.format(img_right)) \n",
        "\n",
        "#     label=list(df.iloc[i,-8::])\n",
        "#     new_list=[left,right]+label\n",
        "#     df=df.append(pd.Series(new_list,index=['Left-Fundus',\t'Right-Fundus','N'\t,'D'\t,'G',\t'C',\t'A'\t,'H'\t,'M',\t'O']),ignore_index=True)\n",
        "#   return df"
      ],
      "execution_count": 0,
      "outputs": []
    },
    {
      "cell_type": "code",
      "metadata": {
        "id": "_vZADzpUGq8L",
        "colab_type": "code",
        "colab": {
          "base_uri": "https://localhost:8080/",
          "height": 34
        },
        "outputId": "9d25651f-c683-42af-ea0e-7506a0b0327c"
      },
      "source": [
        "len(train_annotation)"
      ],
      "execution_count": 49,
      "outputs": [
        {
          "output_type": "execute_result",
          "data": {
            "text/plain": [
              "3820"
            ]
          },
          "metadata": {
            "tags": []
          },
          "execution_count": 49
        }
      ]
    },
    {
      "cell_type": "code",
      "metadata": {
        "id": "YGEKCh4cHLGY",
        "colab_type": "code",
        "colab": {}
      },
      "source": [
        "from keras_preprocessing.image import ImageDataGenerator\n",
        "\n",
        "train_data_gen= ImageDataGenerator(\n",
        "    rotation_range=10,\n",
        "    width_shift_range=0.1,\n",
        "    height_shift_range=0.1,\n",
        "    zoom_range=.1,\n",
        "    rescale=1/255,\n",
        "    fill_mode='nearest'\n",
        ")\n",
        "\n",
        "val_data_gen= ImageDataGenerator(\n",
        "    rescale=1/255\n",
        "    \n",
        ")"
      ],
      "execution_count": 0,
      "outputs": []
    },
    {
      "cell_type": "code",
      "metadata": {
        "id": "tCzfKSV3FkpG",
        "colab_type": "code",
        "colab": {}
      },
      "source": [
        "\n",
        "def get_flow_from_dataframe(generator, dataframe,directory_path,\n",
        "                            image_shape=(224, 224),\n",
        "                            #subset='training',\n",
        "                             batch_size=50):\n",
        "    train_generator_1 = generator.flow_from_dataframe(dataframe,\n",
        "                                                      directory=directory_path,\n",
        "                                                      target_size=image_shape,\n",
        "                                                      x_col=\"Left-Fundus\",\n",
        "                                                      y_col=['N'\t,'D'\t,'G',\t'C',\t'A'\t,'H'\t,'M',\t'O'],\n",
        "                                                      class_mode='other',\n",
        "                                                      shuffle=False,\n",
        "                                                      batch_size=batch_size,\n",
        "                                                      seed=7,\n",
        "                                                      #subset=subset\n",
        "                                                      )\n",
        "\n",
        "    train_generator_2 = generator.flow_from_dataframe(dataframe, \n",
        "                                                      directory=directory_path,\n",
        "                                                      target_size=image_shape,\n",
        "                                                      x_col=\"Right-Fundus\",\n",
        "                                                      y_col=['N'\t,'D'\t,'G',\t'C',\t'A'\t,'H'\t,'M',\t'O'],\n",
        "                                                      class_mode='other',\n",
        "                                                      shuffle=False,\n",
        "                                                      batch_size=batch_size,\n",
        "                                                      seed=7,\n",
        "                                                      #subset=subset\n",
        "                                                      )\n",
        "    while True:\n",
        "        x_1 = train_generator_1.next()\n",
        "        x_2 = train_generator_2.next()\n",
        "\n",
        "        yield [x_1[0], x_2[0]], x_1[1]"
      ],
      "execution_count": 0,
      "outputs": []
    },
    {
      "cell_type": "code",
      "metadata": {
        "id": "F8CwT_EtBd9L",
        "colab_type": "code",
        "colab": {}
      },
      "source": [
        ""
      ],
      "execution_count": 0,
      "outputs": []
    },
    {
      "cell_type": "code",
      "metadata": {
        "id": "Xjbl6CEiOJPB",
        "colab_type": "code",
        "colab": {}
      },
      "source": [
        "batch_size=50\n",
        "train_gen = get_flow_from_dataframe(train_data_gen, train_annotation, image_shape=(224, 224),\n",
        "                                        directory_path=\"data/ODIR-5K_Training_Dataset/\",batch_size=batch_size)\n",
        "valid_gen = get_flow_from_dataframe(val_data_gen, val_annotation, image_shape=(224, 224),\n",
        "                                        directory_path=\"data/ODIR-5K_Training_Dataset/\",batch_size=batch_size)"
      ],
      "execution_count": 0,
      "outputs": []
    },
    {
      "cell_type": "code",
      "metadata": {
        "id": "Yh2SCQ91Gyzk",
        "colab_type": "code",
        "colab": {}
      },
      "source": [
        "from keras.models import Sequential,Model\n",
        "from keras.layers import Activation, Dropout, Flatten, Dense, Conv2D, MaxPool2D, BatchNormalization,Input,MaxPooling2D,GlobalMaxPooling2D,concatenate\n",
        "from keras.layers import GlobalAveragePooling2D\n",
        "from keras.applications.resnet50 import ResNet50\n",
        "from keras.callbacks import ModelCheckpoint\n",
        "import tensorflow as tf\n",
        "tf.logging.set_verbosity(tf.logging.ERROR)"
      ],
      "execution_count": 0,
      "outputs": []
    },
    {
      "cell_type": "code",
      "metadata": {
        "colab_type": "code",
        "cellView": "both",
        "id": "990sSHvt_T-2",
        "colab": {}
      },
      "source": [
        "inp1= Input(shape=(224, 224, 3))\n",
        "inp2= Input(shape=(224, 224, 3))\n",
        "\n",
        "X1=BatchNormalization()(inp1)\n",
        "X1=Conv2D(32, (3, 3), padding='same',activation='relu')(X1)\n",
        "X1=Conv2D(32, (3, 3), padding='same',activation='relu')(X1)\n",
        "X1=MaxPooling2D(pool_size=(2, 2))(X1)\n",
        "X1=Conv2D(32, (3, 3), padding='same',activation='relu')(X1)\n",
        "X1=Conv2D(32, (3, 3), padding='same',activation='relu')(X1)\n",
        "X1=GlobalMaxPooling2D()(X1)\n",
        "\n",
        "\n",
        "X2=BatchNormalization()(inp2)\n",
        "X2=Conv2D(32, (3, 3), padding='same',activation='relu')(X2)\n",
        "X2=Conv2D(32, (3, 3), padding='same',activation='relu')(X2)\n",
        "X2=MaxPooling2D(pool_size=(2, 2))(X2)\n",
        "X2=Conv2D(32, (3, 3), padding='same',activation='relu')(X2)\n",
        "X2=Conv2D(32, (3, 3), padding='same',activation='relu')(X2)\n",
        "X2=GlobalMaxPooling2D()(X2)\n",
        "\n",
        "X=concatenate([X1,X2])\n",
        "X=Dropout(0.25)(X)\n",
        "X=Dense(512,activation='relu')(X)\n",
        "X=Dropout(0.25)(X)\n",
        "out=Dense(8, activation='sigmoid')(X)\n",
        "\n",
        "model=Model(inputs=[inp1,inp2],outputs=out)\n",
        "\n"
      ],
      "execution_count": 0,
      "outputs": []
    },
    {
      "cell_type": "code",
      "metadata": {
        "id": "iwEJjjCkfX5Y",
        "colab_type": "code",
        "colab": {}
      },
      "source": [
        "import keras.backend as K\n",
        "def focal_loss(y_true, y_pred, alpha = 0.75, gamma = 2):\n",
        "  alpha_factor = K.ones_like(y_true) * alpha\n",
        "  alpha_factor = tf.where(K.equal(y_true, 1), alpha_factor, 1 - alpha_factor)\n",
        "  focal_weight = tf.where(K.equal(y_true, 1), 1 - y_pred, y_pred)\n",
        "  focal_weight = alpha_factor * focal_weight ** gamma\n",
        "  loss = focal_weight * K.binary_crossentropy(y_true, y_pred)\n",
        "  return loss"
      ],
      "execution_count": 0,
      "outputs": []
    },
    {
      "cell_type": "code",
      "metadata": {
        "id": "WR_jQXQNfVCp",
        "colab_type": "code",
        "colab": {}
      },
      "source": [
        "model.compile('Adadelta',loss=focal_loss,metrics=['accuracy'])"
      ],
      "execution_count": 0,
      "outputs": []
    },
    {
      "cell_type": "code",
      "metadata": {
        "id": "sjnVWl1UQxRs",
        "colab_type": "code",
        "colab": {}
      },
      "source": [
        "step_size_train=len(train_annotation)/batch_size\n",
        "step_size_val=1000/50\n"
      ],
      "execution_count": 0,
      "outputs": []
    },
    {
      "cell_type": "code",
      "metadata": {
        "id": "Q_K_SSjQJoIk",
        "colab_type": "code",
        "outputId": "963a0d22-5054-4b43-9b8d-9e52410e63e5",
        "colab": {
          "base_uri": "https://localhost:8080/",
          "height": 134
        }
      },
      "source": [
        "model.fit_generator(train_gen, epochs=5,\n",
        "                        steps_per_epoch=step_size_train,\n",
        "                        use_multiprocessing=True,\n",
        "                        validation_data=valid_gen,\n",
        "                        validation_steps=step_size_val,\n",
        "                        verbose=2,\n",
        "                    class_weight=[0.5,0.5,1.5,1.5,1.5,2.5,1.5,0.5]\n",
        "                    \n",
        "                        )"
      ],
      "execution_count": 0,
      "outputs": [
        {
          "output_type": "stream",
          "text": [
            "Epoch 1/5\n",
            "Found 1000 validated image filenames.\n",
            "Found 1000 validated image filenames.\n",
            "Found 3820 validated image filenames.\n",
            "Found 3820 validated image filenames.\n",
            " - 580s - loss: 0.0507 - acc: 0.2744 - val_loss: 0.0618 - val_acc: 0.0440\n",
            "Epoch 2/5\n"
          ],
          "name": "stdout"
        }
      ]
    },
    {
      "cell_type": "code",
      "metadata": {
        "id": "jYRXBCYmJhHm",
        "colab_type": "code",
        "colab": {}
      },
      "source": [
        ""
      ],
      "execution_count": 0,
      "outputs": []
    },
    {
      "cell_type": "code",
      "metadata": {
        "id": "2_XdXICBMR6o",
        "colab_type": "code",
        "outputId": "5b88ab8c-0a39-47b0-c86a-d9b312dadfca",
        "colab": {
          "base_uri": "https://localhost:8080/",
          "height": 50
        }
      },
      "source": [
        "y_pred = model.predict_generator(valid_gen,steps=step_size_val)\n"
      ],
      "execution_count": 20,
      "outputs": [
        {
          "output_type": "stream",
          "text": [
            "Found 1000 validated image filenames.\n",
            "Found 1000 validated image filenames.\n"
          ],
          "name": "stdout"
        }
      ]
    },
    {
      "cell_type": "code",
      "metadata": {
        "id": "t1xf_D1hn7ZE",
        "colab_type": "code",
        "colab": {}
      },
      "source": [
        "y_pred1=y_pred.copy()\n",
        "y_pred1[y_pred1>=0.35] = 1\n",
        "y_pred1[y_pred1<0.35] = 0\n",
        "y_pred1=y_pred1.astype(int)"
      ],
      "execution_count": 0,
      "outputs": []
    },
    {
      "cell_type": "code",
      "metadata": {
        "id": "LK7dhwnUodZ7",
        "colab_type": "code",
        "outputId": "7ae3e5a7-e22a-43f2-db1b-e638579abe41",
        "colab": {
          "base_uri": "https://localhost:8080/",
          "height": 34
        }
      },
      "source": [
        "y_true=val_annotation.iloc[:,-8::].values\n",
        "y_true.shape"
      ],
      "execution_count": 22,
      "outputs": [
        {
          "output_type": "execute_result",
          "data": {
            "text/plain": [
              "(1000, 8)"
            ]
          },
          "metadata": {
            "tags": []
          },
          "execution_count": 22
        }
      ]
    },
    {
      "cell_type": "code",
      "metadata": {
        "id": "ePPDphOcn90N",
        "colab_type": "code",
        "outputId": "00715a95-9250-4d05-9085-dbd767f76c5c",
        "colab": {
          "base_uri": "https://localhost:8080/",
          "height": 403
        }
      },
      "source": [
        "from sklearn.metrics import classification_report\n",
        "from sklearn.metrics import accuracy_score\n",
        "from sklearn.metrics import multilabel_confusion_matrix\n",
        "\n",
        "multilabel_confusion_matrix(y_true, y_pred1)"
      ],
      "execution_count": 23,
      "outputs": [
        {
          "output_type": "execute_result",
          "data": {
            "text/plain": [
              "array([[[  0, 668],\n",
              "        [  0, 332]],\n",
              "\n",
              "       [[  0, 695],\n",
              "        [  0, 305]],\n",
              "\n",
              "       [[425, 516],\n",
              "        [ 15,  44]],\n",
              "\n",
              "       [[530, 404],\n",
              "        [ 19,  47]],\n",
              "\n",
              "       [[695, 257],\n",
              "        [ 38,  10]],\n",
              "\n",
              "       [[963,  12],\n",
              "        [ 25,   0]],\n",
              "\n",
              "       [[793, 161],\n",
              "        [ 38,   8]],\n",
              "\n",
              "       [[  0, 711],\n",
              "        [  0, 289]]])"
            ]
          },
          "metadata": {
            "tags": []
          },
          "execution_count": 23
        }
      ]
    },
    {
      "cell_type": "code",
      "metadata": {
        "id": "mpKNYxITn_-8",
        "colab_type": "code",
        "outputId": "f52208ab-16e3-4624-e639-d83be0da0b95",
        "colab": {
          "base_uri": "https://localhost:8080/",
          "height": 286
        }
      },
      "source": [
        "target_names = ['N'\t,'D'\t,'G',\t'C',\t'A'\t,'H'\t,'M',\t'O']\n",
        "print(classification_report(y_true, y_pred1, target_names=target_names))"
      ],
      "execution_count": 24,
      "outputs": [
        {
          "output_type": "stream",
          "text": [
            "              precision    recall  f1-score   support\n",
            "\n",
            "           N       0.33      1.00      0.50       332\n",
            "           D       0.30      1.00      0.47       305\n",
            "           G       0.08      0.75      0.14        59\n",
            "           C       0.10      0.71      0.18        66\n",
            "           A       0.04      0.21      0.06        48\n",
            "           H       0.00      0.00      0.00        25\n",
            "           M       0.05      0.17      0.07        46\n",
            "           O       0.29      1.00      0.45       289\n",
            "\n",
            "   micro avg       0.23      0.88      0.37      1170\n",
            "   macro avg       0.15      0.61      0.23      1170\n",
            "weighted avg       0.26      0.88      0.40      1170\n",
            " samples avg       0.25      0.89      0.38      1170\n",
            "\n"
          ],
          "name": "stdout"
        }
      ]
    },
    {
      "cell_type": "code",
      "metadata": {
        "id": "MdZaRUOoqXc0",
        "colab_type": "code",
        "colab": {
          "base_uri": "https://localhost:8080/",
          "height": 34
        },
        "outputId": "ccf31c45-2e84-49b2-8a5b-edad66660c73"
      },
      "source": [
        "(0.49+0.47+.12+.06+.00+.10+0.47)/8"
      ],
      "execution_count": 25,
      "outputs": [
        {
          "output_type": "execute_result",
          "data": {
            "text/plain": [
              "0.21375000000000002"
            ]
          },
          "metadata": {
            "tags": []
          },
          "execution_count": 25
        }
      ]
    },
    {
      "cell_type": "code",
      "metadata": {
        "id": "bowHQjwutLGp",
        "colab_type": "code",
        "colab": {}
      },
      "source": [
        "K.clear_session()\n"
      ],
      "execution_count": 0,
      "outputs": []
    },
    {
      "cell_type": "code",
      "metadata": {
        "id": "QblbLh26tm9g",
        "colab_type": "code",
        "colab": {}
      },
      "source": [
        ""
      ],
      "execution_count": 0,
      "outputs": []
    }
  ]
}