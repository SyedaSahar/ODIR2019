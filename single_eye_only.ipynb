{
  "nbformat": 4,
  "nbformat_minor": 0,
  "metadata": {
    "colab": {
      "name": "Copy of ghina_mam.ipynb",
      "provenance": [],
      "collapsed_sections": [],
      "machine_shape": "hm",
      "include_colab_link": true
    },
    "kernelspec": {
      "name": "python3",
      "display_name": "Python 3"
    },
    "accelerator": "GPU"
  },
  "cells": [
    {
      "cell_type": "markdown",
      "metadata": {
        "id": "view-in-github",
        "colab_type": "text"
      },
      "source": [
        "<a href=\"https://colab.research.google.com/github/talhaanwarch/ODIR2019/blob/master/single_eye_only.ipynb\" target=\"_parent\"><img src=\"https://colab.research.google.com/assets/colab-badge.svg\" alt=\"Open In Colab\"/></a>"
      ]
    },
    {
      "cell_type": "markdown",
      "metadata": {
        "id": "YZl-KcWFwfVz",
        "colab_type": "text"
      },
      "source": [
        "# read data from directory"
      ]
    },
    {
      "cell_type": "code",
      "metadata": {
        "id": "Asm-YEP0po4m",
        "colab_type": "code",
        "outputId": "dd3aa23d-492f-4b6d-ba90-116f5f879bb2",
        "colab": {
          "base_uri": "https://localhost:8080/",
          "height": 121
        }
      },
      "source": [
        "#connect drive with colab notebook\n",
        "from google.colab import drive\n",
        "drive.mount('/content/drive',force_remount=True)"
      ],
      "execution_count": 1,
      "outputs": [
        {
          "output_type": "stream",
          "text": [
            "Go to this URL in a browser: https://accounts.google.com/o/oauth2/auth?client_id=947318989803-6bn6qk8qdgf4n4g3pfee6491hc0brc4i.apps.googleusercontent.com&redirect_uri=urn%3aietf%3awg%3aoauth%3a2.0%3aoob&response_type=code&scope=email%20https%3a%2f%2fwww.googleapis.com%2fauth%2fdocs.test%20https%3a%2f%2fwww.googleapis.com%2fauth%2fdrive%20https%3a%2f%2fwww.googleapis.com%2fauth%2fdrive.photos.readonly%20https%3a%2f%2fwww.googleapis.com%2fauth%2fpeopleapi.readonly\n",
            "\n",
            "Enter your authorization code:\n",
            "··········\n",
            "Mounted at /content/drive\n"
          ],
          "name": "stdout"
        }
      ]
    },
    {
      "cell_type": "code",
      "metadata": {
        "id": "OD0ZQpnDqgEV",
        "colab_type": "code",
        "outputId": "6eb743bf-7dc8-44c5-b307-878ee0367cb3",
        "colab": {
          "base_uri": "https://localhost:8080/",
          "height": 34
        }
      },
      "source": [
        "#show content in working directory\n",
        "ls"
      ],
      "execution_count": 2,
      "outputs": [
        {
          "output_type": "stream",
          "text": [
            "\u001b[0m\u001b[01;34mdrive\u001b[0m/  \u001b[01;34msample_data\u001b[0m/\n"
          ],
          "name": "stdout"
        }
      ]
    },
    {
      "cell_type": "markdown",
      "metadata": {
        "id": "W6Sd_mP8wjMa",
        "colab_type": "text"
      },
      "source": [
        "#extract data"
      ]
    },
    {
      "cell_type": "code",
      "metadata": {
        "id": "oDi8Ai-4q8Ea",
        "colab_type": "code",
        "colab": {}
      },
      "source": [
        "import pandas as pd"
      ],
      "execution_count": 0,
      "outputs": []
    },
    {
      "cell_type": "code",
      "metadata": {
        "id": "IoY7pdqjsTP1",
        "colab_type": "code",
        "colab": {}
      },
      "source": [
        "#path where our data is saved\n",
        "path='/content/drive/My Drive/ghina/thesis/'"
      ],
      "execution_count": 0,
      "outputs": []
    },
    {
      "cell_type": "code",
      "metadata": {
        "id": "snDyZSiRrFkW",
        "colab_type": "code",
        "colab": {}
      },
      "source": [
        "#read the annottion file\n",
        "annotation=pd.read_excel(path+'ODIR-5K_Training_Annotations(Updated)_V2.xlsx')"
      ],
      "execution_count": 0,
      "outputs": []
    },
    {
      "cell_type": "code",
      "metadata": {
        "id": "3s4X-GkC0IpA",
        "colab_type": "code",
        "colab": {}
      },
      "source": [
        "#normal (N), diabetes (D), glaucoma (G), cataract (C), AMD (A), hypertension (H), myopia (M) and other diseases/abnormalities (O) "
      ],
      "execution_count": 0,
      "outputs": []
    },
    {
      "cell_type": "code",
      "metadata": {
        "id": "ex4R_3KcrJ5a",
        "colab_type": "code",
        "outputId": "33382267-d602-4a34-c7fc-71ef435f19af",
        "colab": {
          "base_uri": "https://localhost:8080/",
          "height": 706
        }
      },
      "source": [
        "#print first 5 rows of annotation file\n",
        "annotation.head(20)"
      ],
      "execution_count": 7,
      "outputs": [
        {
          "output_type": "execute_result",
          "data": {
            "text/html": [
              "<div>\n",
              "<style scoped>\n",
              "    .dataframe tbody tr th:only-of-type {\n",
              "        vertical-align: middle;\n",
              "    }\n",
              "\n",
              "    .dataframe tbody tr th {\n",
              "        vertical-align: top;\n",
              "    }\n",
              "\n",
              "    .dataframe thead th {\n",
              "        text-align: right;\n",
              "    }\n",
              "</style>\n",
              "<table border=\"1\" class=\"dataframe\">\n",
              "  <thead>\n",
              "    <tr style=\"text-align: right;\">\n",
              "      <th></th>\n",
              "      <th>ID</th>\n",
              "      <th>Patient Age</th>\n",
              "      <th>Patient Sex</th>\n",
              "      <th>Left-Fundus</th>\n",
              "      <th>Right-Fundus</th>\n",
              "      <th>Left-Diagnostic Keywords</th>\n",
              "      <th>Right-Diagnostic Keywords</th>\n",
              "      <th>N</th>\n",
              "      <th>D</th>\n",
              "      <th>G</th>\n",
              "      <th>C</th>\n",
              "      <th>A</th>\n",
              "      <th>H</th>\n",
              "      <th>M</th>\n",
              "      <th>O</th>\n",
              "    </tr>\n",
              "  </thead>\n",
              "  <tbody>\n",
              "    <tr>\n",
              "      <th>0</th>\n",
              "      <td>0</td>\n",
              "      <td>69</td>\n",
              "      <td>Female</td>\n",
              "      <td>0_left.jpg</td>\n",
              "      <td>0_right.jpg</td>\n",
              "      <td>cataract</td>\n",
              "      <td>normal fundus</td>\n",
              "      <td>0</td>\n",
              "      <td>0</td>\n",
              "      <td>0</td>\n",
              "      <td>1</td>\n",
              "      <td>0</td>\n",
              "      <td>0</td>\n",
              "      <td>0</td>\n",
              "      <td>0</td>\n",
              "    </tr>\n",
              "    <tr>\n",
              "      <th>1</th>\n",
              "      <td>1</td>\n",
              "      <td>57</td>\n",
              "      <td>Male</td>\n",
              "      <td>1_left.jpg</td>\n",
              "      <td>1_right.jpg</td>\n",
              "      <td>normal fundus</td>\n",
              "      <td>normal fundus</td>\n",
              "      <td>1</td>\n",
              "      <td>0</td>\n",
              "      <td>0</td>\n",
              "      <td>0</td>\n",
              "      <td>0</td>\n",
              "      <td>0</td>\n",
              "      <td>0</td>\n",
              "      <td>0</td>\n",
              "    </tr>\n",
              "    <tr>\n",
              "      <th>2</th>\n",
              "      <td>2</td>\n",
              "      <td>42</td>\n",
              "      <td>Male</td>\n",
              "      <td>2_left.jpg</td>\n",
              "      <td>2_right.jpg</td>\n",
              "      <td>laser spot，moderate non proliferative retinopathy</td>\n",
              "      <td>moderate non proliferative retinopathy</td>\n",
              "      <td>0</td>\n",
              "      <td>1</td>\n",
              "      <td>0</td>\n",
              "      <td>0</td>\n",
              "      <td>0</td>\n",
              "      <td>0</td>\n",
              "      <td>0</td>\n",
              "      <td>1</td>\n",
              "    </tr>\n",
              "    <tr>\n",
              "      <th>3</th>\n",
              "      <td>3</td>\n",
              "      <td>66</td>\n",
              "      <td>Male</td>\n",
              "      <td>3_left.jpg</td>\n",
              "      <td>3_right.jpg</td>\n",
              "      <td>normal fundus</td>\n",
              "      <td>branch retinal artery occlusion</td>\n",
              "      <td>0</td>\n",
              "      <td>0</td>\n",
              "      <td>0</td>\n",
              "      <td>0</td>\n",
              "      <td>0</td>\n",
              "      <td>0</td>\n",
              "      <td>0</td>\n",
              "      <td>1</td>\n",
              "    </tr>\n",
              "    <tr>\n",
              "      <th>4</th>\n",
              "      <td>4</td>\n",
              "      <td>53</td>\n",
              "      <td>Male</td>\n",
              "      <td>4_left.jpg</td>\n",
              "      <td>4_right.jpg</td>\n",
              "      <td>macular epiretinal membrane</td>\n",
              "      <td>mild nonproliferative retinopathy</td>\n",
              "      <td>0</td>\n",
              "      <td>1</td>\n",
              "      <td>0</td>\n",
              "      <td>0</td>\n",
              "      <td>0</td>\n",
              "      <td>0</td>\n",
              "      <td>0</td>\n",
              "      <td>1</td>\n",
              "    </tr>\n",
              "    <tr>\n",
              "      <th>5</th>\n",
              "      <td>5</td>\n",
              "      <td>50</td>\n",
              "      <td>Female</td>\n",
              "      <td>5_left.jpg</td>\n",
              "      <td>5_right.jpg</td>\n",
              "      <td>moderate non proliferative retinopathy</td>\n",
              "      <td>moderate non proliferative retinopathy</td>\n",
              "      <td>0</td>\n",
              "      <td>1</td>\n",
              "      <td>0</td>\n",
              "      <td>0</td>\n",
              "      <td>0</td>\n",
              "      <td>0</td>\n",
              "      <td>0</td>\n",
              "      <td>0</td>\n",
              "    </tr>\n",
              "    <tr>\n",
              "      <th>6</th>\n",
              "      <td>6</td>\n",
              "      <td>60</td>\n",
              "      <td>Male</td>\n",
              "      <td>6_left.jpg</td>\n",
              "      <td>6_right.jpg</td>\n",
              "      <td>macular epiretinal membrane</td>\n",
              "      <td>moderate non proliferative retinopathy，epireti...</td>\n",
              "      <td>0</td>\n",
              "      <td>1</td>\n",
              "      <td>0</td>\n",
              "      <td>0</td>\n",
              "      <td>0</td>\n",
              "      <td>0</td>\n",
              "      <td>0</td>\n",
              "      <td>1</td>\n",
              "    </tr>\n",
              "    <tr>\n",
              "      <th>7</th>\n",
              "      <td>7</td>\n",
              "      <td>60</td>\n",
              "      <td>Female</td>\n",
              "      <td>7_left.jpg</td>\n",
              "      <td>7_right.jpg</td>\n",
              "      <td>drusen</td>\n",
              "      <td>mild nonproliferative retinopathy</td>\n",
              "      <td>0</td>\n",
              "      <td>1</td>\n",
              "      <td>0</td>\n",
              "      <td>0</td>\n",
              "      <td>0</td>\n",
              "      <td>0</td>\n",
              "      <td>0</td>\n",
              "      <td>1</td>\n",
              "    </tr>\n",
              "    <tr>\n",
              "      <th>8</th>\n",
              "      <td>8</td>\n",
              "      <td>59</td>\n",
              "      <td>Male</td>\n",
              "      <td>8_left.jpg</td>\n",
              "      <td>8_right.jpg</td>\n",
              "      <td>normal fundus</td>\n",
              "      <td>normal fundus</td>\n",
              "      <td>1</td>\n",
              "      <td>0</td>\n",
              "      <td>0</td>\n",
              "      <td>0</td>\n",
              "      <td>0</td>\n",
              "      <td>0</td>\n",
              "      <td>0</td>\n",
              "      <td>0</td>\n",
              "    </tr>\n",
              "    <tr>\n",
              "      <th>9</th>\n",
              "      <td>9</td>\n",
              "      <td>54</td>\n",
              "      <td>Male</td>\n",
              "      <td>9_left.jpg</td>\n",
              "      <td>9_right.jpg</td>\n",
              "      <td>normal fundus</td>\n",
              "      <td>vitreous degeneration</td>\n",
              "      <td>0</td>\n",
              "      <td>0</td>\n",
              "      <td>0</td>\n",
              "      <td>0</td>\n",
              "      <td>0</td>\n",
              "      <td>0</td>\n",
              "      <td>0</td>\n",
              "      <td>1</td>\n",
              "    </tr>\n",
              "    <tr>\n",
              "      <th>10</th>\n",
              "      <td>10</td>\n",
              "      <td>70</td>\n",
              "      <td>Male</td>\n",
              "      <td>10_left.jpg</td>\n",
              "      <td>10_right.jpg</td>\n",
              "      <td>epiretinal membrane</td>\n",
              "      <td>normal fundus</td>\n",
              "      <td>0</td>\n",
              "      <td>0</td>\n",
              "      <td>0</td>\n",
              "      <td>0</td>\n",
              "      <td>0</td>\n",
              "      <td>0</td>\n",
              "      <td>0</td>\n",
              "      <td>1</td>\n",
              "    </tr>\n",
              "    <tr>\n",
              "      <th>11</th>\n",
              "      <td>11</td>\n",
              "      <td>60</td>\n",
              "      <td>Female</td>\n",
              "      <td>11_left.jpg</td>\n",
              "      <td>11_right.jpg</td>\n",
              "      <td>moderate non proliferative retinopathy，hyperte...</td>\n",
              "      <td>moderate non proliferative retinopathy，hyperte...</td>\n",
              "      <td>0</td>\n",
              "      <td>1</td>\n",
              "      <td>0</td>\n",
              "      <td>0</td>\n",
              "      <td>0</td>\n",
              "      <td>1</td>\n",
              "      <td>0</td>\n",
              "      <td>0</td>\n",
              "    </tr>\n",
              "    <tr>\n",
              "      <th>12</th>\n",
              "      <td>12</td>\n",
              "      <td>65</td>\n",
              "      <td>Male</td>\n",
              "      <td>12_left.jpg</td>\n",
              "      <td>12_right.jpg</td>\n",
              "      <td>retinal pigmentation</td>\n",
              "      <td>retinal pigmentation</td>\n",
              "      <td>0</td>\n",
              "      <td>0</td>\n",
              "      <td>0</td>\n",
              "      <td>0</td>\n",
              "      <td>0</td>\n",
              "      <td>0</td>\n",
              "      <td>0</td>\n",
              "      <td>1</td>\n",
              "    </tr>\n",
              "    <tr>\n",
              "      <th>13</th>\n",
              "      <td>13</td>\n",
              "      <td>60</td>\n",
              "      <td>Female</td>\n",
              "      <td>13_left.jpg</td>\n",
              "      <td>13_right.jpg</td>\n",
              "      <td>pathological myopia</td>\n",
              "      <td>pathological myopia</td>\n",
              "      <td>0</td>\n",
              "      <td>0</td>\n",
              "      <td>0</td>\n",
              "      <td>0</td>\n",
              "      <td>0</td>\n",
              "      <td>0</td>\n",
              "      <td>1</td>\n",
              "      <td>0</td>\n",
              "    </tr>\n",
              "    <tr>\n",
              "      <th>14</th>\n",
              "      <td>14</td>\n",
              "      <td>55</td>\n",
              "      <td>Male</td>\n",
              "      <td>14_left.jpg</td>\n",
              "      <td>14_right.jpg</td>\n",
              "      <td>normal fundus</td>\n",
              "      <td>macular epiretinal membrane</td>\n",
              "      <td>0</td>\n",
              "      <td>0</td>\n",
              "      <td>0</td>\n",
              "      <td>0</td>\n",
              "      <td>0</td>\n",
              "      <td>0</td>\n",
              "      <td>0</td>\n",
              "      <td>1</td>\n",
              "    </tr>\n",
              "    <tr>\n",
              "      <th>15</th>\n",
              "      <td>15</td>\n",
              "      <td>50</td>\n",
              "      <td>Male</td>\n",
              "      <td>15_left.jpg</td>\n",
              "      <td>15_right.jpg</td>\n",
              "      <td>normal fundus</td>\n",
              "      <td>myelinated nerve fibers</td>\n",
              "      <td>0</td>\n",
              "      <td>0</td>\n",
              "      <td>0</td>\n",
              "      <td>0</td>\n",
              "      <td>0</td>\n",
              "      <td>0</td>\n",
              "      <td>0</td>\n",
              "      <td>1</td>\n",
              "    </tr>\n",
              "    <tr>\n",
              "      <th>16</th>\n",
              "      <td>16</td>\n",
              "      <td>54</td>\n",
              "      <td>Female</td>\n",
              "      <td>16_left.jpg</td>\n",
              "      <td>16_right.jpg</td>\n",
              "      <td>normal fundus</td>\n",
              "      <td>pathological myopia</td>\n",
              "      <td>0</td>\n",
              "      <td>0</td>\n",
              "      <td>0</td>\n",
              "      <td>0</td>\n",
              "      <td>0</td>\n",
              "      <td>0</td>\n",
              "      <td>1</td>\n",
              "      <td>0</td>\n",
              "    </tr>\n",
              "    <tr>\n",
              "      <th>17</th>\n",
              "      <td>17</td>\n",
              "      <td>57</td>\n",
              "      <td>Male</td>\n",
              "      <td>17_left.jpg</td>\n",
              "      <td>17_right.jpg</td>\n",
              "      <td>drusen</td>\n",
              "      <td>drusen</td>\n",
              "      <td>0</td>\n",
              "      <td>0</td>\n",
              "      <td>0</td>\n",
              "      <td>0</td>\n",
              "      <td>0</td>\n",
              "      <td>0</td>\n",
              "      <td>0</td>\n",
              "      <td>1</td>\n",
              "    </tr>\n",
              "    <tr>\n",
              "      <th>18</th>\n",
              "      <td>18</td>\n",
              "      <td>58</td>\n",
              "      <td>Male</td>\n",
              "      <td>18_left.jpg</td>\n",
              "      <td>18_right.jpg</td>\n",
              "      <td>pathological myopia</td>\n",
              "      <td>pathological myopia</td>\n",
              "      <td>0</td>\n",
              "      <td>0</td>\n",
              "      <td>0</td>\n",
              "      <td>0</td>\n",
              "      <td>0</td>\n",
              "      <td>0</td>\n",
              "      <td>1</td>\n",
              "      <td>0</td>\n",
              "    </tr>\n",
              "    <tr>\n",
              "      <th>19</th>\n",
              "      <td>19</td>\n",
              "      <td>45</td>\n",
              "      <td>Male</td>\n",
              "      <td>19_left.jpg</td>\n",
              "      <td>19_right.jpg</td>\n",
              "      <td>mild nonproliferative retinopathy</td>\n",
              "      <td>mild nonproliferative retinopathy</td>\n",
              "      <td>0</td>\n",
              "      <td>1</td>\n",
              "      <td>0</td>\n",
              "      <td>0</td>\n",
              "      <td>0</td>\n",
              "      <td>0</td>\n",
              "      <td>0</td>\n",
              "      <td>0</td>\n",
              "    </tr>\n",
              "  </tbody>\n",
              "</table>\n",
              "</div>"
            ],
            "text/plain": [
              "    ID  Patient Age Patient Sex  Left-Fundus  Right-Fundus  ...  C  A  H  M  O\n",
              "0    0           69      Female   0_left.jpg   0_right.jpg  ...  1  0  0  0  0\n",
              "1    1           57        Male   1_left.jpg   1_right.jpg  ...  0  0  0  0  0\n",
              "2    2           42        Male   2_left.jpg   2_right.jpg  ...  0  0  0  0  1\n",
              "3    3           66        Male   3_left.jpg   3_right.jpg  ...  0  0  0  0  1\n",
              "4    4           53        Male   4_left.jpg   4_right.jpg  ...  0  0  0  0  1\n",
              "5    5           50      Female   5_left.jpg   5_right.jpg  ...  0  0  0  0  0\n",
              "6    6           60        Male   6_left.jpg   6_right.jpg  ...  0  0  0  0  1\n",
              "7    7           60      Female   7_left.jpg   7_right.jpg  ...  0  0  0  0  1\n",
              "8    8           59        Male   8_left.jpg   8_right.jpg  ...  0  0  0  0  0\n",
              "9    9           54        Male   9_left.jpg   9_right.jpg  ...  0  0  0  0  1\n",
              "10  10           70        Male  10_left.jpg  10_right.jpg  ...  0  0  0  0  1\n",
              "11  11           60      Female  11_left.jpg  11_right.jpg  ...  0  0  1  0  0\n",
              "12  12           65        Male  12_left.jpg  12_right.jpg  ...  0  0  0  0  1\n",
              "13  13           60      Female  13_left.jpg  13_right.jpg  ...  0  0  0  1  0\n",
              "14  14           55        Male  14_left.jpg  14_right.jpg  ...  0  0  0  0  1\n",
              "15  15           50        Male  15_left.jpg  15_right.jpg  ...  0  0  0  0  1\n",
              "16  16           54      Female  16_left.jpg  16_right.jpg  ...  0  0  0  1  0\n",
              "17  17           57        Male  17_left.jpg  17_right.jpg  ...  0  0  0  0  1\n",
              "18  18           58        Male  18_left.jpg  18_right.jpg  ...  0  0  0  1  0\n",
              "19  19           45        Male  19_left.jpg  19_right.jpg  ...  0  0  0  0  0\n",
              "\n",
              "[20 rows x 15 columns]"
            ]
          },
          "metadata": {
            "tags": []
          },
          "execution_count": 7
        }
      ]
    },
    {
      "cell_type": "code",
      "metadata": {
        "id": "pc65ypIVweUR",
        "colab_type": "code",
        "outputId": "34d20708-93df-4688-87a9-de9ce1dfd0c0",
        "colab": {
          "base_uri": "https://localhost:8080/",
          "height": 538
        }
      },
      "source": [
        "annotation['Left-Diagnostic Keywords'].value_counts().head(30)"
      ],
      "execution_count": 8,
      "outputs": [
        {
          "output_type": "execute_result",
          "data": {
            "text/plain": [
              "normal fundus                                                      1433\n",
              "moderate non proliferative retinopathy                              366\n",
              "mild nonproliferative retinopathy                                   220\n",
              "cataract                                                            135\n",
              "pathological myopia                                                 111\n",
              "lens dust，normal fundus                                             110\n",
              "glaucoma                                                            104\n",
              "dry age-related macular degeneration                                 93\n",
              "severe nonproliferative retinopathy                                  70\n",
              "drusen                                                               66\n",
              "epiretinal membrane                                                  54\n",
              "hypertensive retinopathy                                             53\n",
              "macular epiretinal membrane                                          49\n",
              "normal fundus，lens dust                                              34\n",
              "myelinated nerve fibers                                              30\n",
              "refractive media opacity                                             27\n",
              "vitreous degeneration                                                26\n",
              "wet age-related macular degeneration                                 22\n",
              "laser spot，moderate non proliferative retinopathy                    17\n",
              "moderate non proliferative retinopathy，hypertensive retinopathy      16\n",
              "moderate non proliferative retinopathy，epiretinal membrane           13\n",
              "branch retinal vein occlusion                                        12\n",
              "spotted membranous change                                            12\n",
              "suspected glaucoma                                                   11\n",
              "moderate non proliferative retinopathy，laser spot                    11\n",
              "diabetic retinopathy                                                 10\n",
              "low image quality                                                     8\n",
              "cataract，lens dust                                                    8\n",
              "chorioretinal atrophy                                                 8\n",
              "mild nonproliferative retinopathy，hypertensive retinopathy            7\n",
              "Name: Left-Diagnostic Keywords, dtype: int64"
            ]
          },
          "metadata": {
            "tags": []
          },
          "execution_count": 8
        }
      ]
    },
    {
      "cell_type": "code",
      "metadata": {
        "id": "G-N4ylKXP8BL",
        "colab_type": "code",
        "colab": {}
      },
      "source": [
        "left_image=[]\n",
        "left_label=[]\n",
        "for i,j in zip(annotation['Left-Fundus'],annotation['Left-Diagnostic Keywords']):\n",
        "  if j=='normal fundus':\n",
        "    left_label.append('N'),left_image.append(i)\n",
        "  elif any(j==s for s in ['diabetic retinopathy' , 'moderate non proliferative retinopathy' ,'mild nonproliferative retinopathy']):left_label.append('D'),left_image.append(i)\n",
        "  elif any(j==s for s in ['glaucoma', 'suspected glaucoma']):left_label.append('G'),left_image.append(i)\n",
        "  elif j=='cataract':left_label.append('C'),left_image.append(i)\n",
        "  elif j==any(j==s for s in ['dry age-related macular degeneration' , 'wet age-related macular degeneration']):left_label.append('A'),left_image.append(i)\n",
        "  elif j=='hypertensive retinopathy':left_label.append('H'),left_image.append(i)\n",
        "  elif j=='pathological myopia':left_label.append('M'),left_image.append(i)\n",
        "  else: left_label.append('O'),left_image.append(i)\n",
        "  \n",
        "  "
      ],
      "execution_count": 0,
      "outputs": []
    },
    {
      "cell_type": "code",
      "metadata": {
        "id": "mkDdp2PbTDxC",
        "colab_type": "code",
        "colab": {
          "base_uri": "https://localhost:8080/",
          "height": 70
        },
        "outputId": "c46b65d1-2209-4a70-af20-eba94f1915d5"
      },
      "source": [
        "print(left_image[:15])\n",
        "print(left_label[:15])"
      ],
      "execution_count": 10,
      "outputs": [
        {
          "output_type": "stream",
          "text": [
            "['0_left.jpg', '1_left.jpg', '2_left.jpg', '3_left.jpg', '4_left.jpg', '5_left.jpg', '6_left.jpg', '7_left.jpg', '8_left.jpg', '9_left.jpg', '10_left.jpg', '11_left.jpg', '12_left.jpg', '13_left.jpg', '14_left.jpg']\n",
            "['C', 'N', 'O', 'N', 'O', 'D', 'O', 'O', 'N', 'N', 'O', 'O', 'O', 'M', 'N']\n"
          ],
          "name": "stdout"
        }
      ]
    },
    {
      "cell_type": "code",
      "metadata": {
        "id": "32DkZcCxdSTO",
        "colab_type": "code",
        "colab": {
          "base_uri": "https://localhost:8080/",
          "height": 50
        },
        "outputId": "560773fb-3ae0-401a-bf1e-1e174593f754"
      },
      "source": [
        "print(len(left_image))\n",
        "print(len(left_label))"
      ],
      "execution_count": 11,
      "outputs": [
        {
          "output_type": "stream",
          "text": [
            "3500\n",
            "3500\n"
          ],
          "name": "stdout"
        }
      ]
    },
    {
      "cell_type": "code",
      "metadata": {
        "id": "xYZfEnFv0xr6",
        "colab_type": "code",
        "colab": {}
      },
      "source": [
        "left_df=pd.DataFrame(zip(left_image,left_label),columns=['Image','Label'])"
      ],
      "execution_count": 0,
      "outputs": []
    },
    {
      "cell_type": "code",
      "metadata": {
        "id": "jD7xrSWJd10t",
        "colab_type": "code",
        "colab": {
          "base_uri": "https://localhost:8080/",
          "height": 639
        },
        "outputId": "bd47a355-5dd0-48dd-cc69-a2e7cd3ec914"
      },
      "source": [
        "left_df.head(20)"
      ],
      "execution_count": 13,
      "outputs": [
        {
          "output_type": "execute_result",
          "data": {
            "text/html": [
              "<div>\n",
              "<style scoped>\n",
              "    .dataframe tbody tr th:only-of-type {\n",
              "        vertical-align: middle;\n",
              "    }\n",
              "\n",
              "    .dataframe tbody tr th {\n",
              "        vertical-align: top;\n",
              "    }\n",
              "\n",
              "    .dataframe thead th {\n",
              "        text-align: right;\n",
              "    }\n",
              "</style>\n",
              "<table border=\"1\" class=\"dataframe\">\n",
              "  <thead>\n",
              "    <tr style=\"text-align: right;\">\n",
              "      <th></th>\n",
              "      <th>Image</th>\n",
              "      <th>Label</th>\n",
              "    </tr>\n",
              "  </thead>\n",
              "  <tbody>\n",
              "    <tr>\n",
              "      <th>0</th>\n",
              "      <td>0_left.jpg</td>\n",
              "      <td>C</td>\n",
              "    </tr>\n",
              "    <tr>\n",
              "      <th>1</th>\n",
              "      <td>1_left.jpg</td>\n",
              "      <td>N</td>\n",
              "    </tr>\n",
              "    <tr>\n",
              "      <th>2</th>\n",
              "      <td>2_left.jpg</td>\n",
              "      <td>O</td>\n",
              "    </tr>\n",
              "    <tr>\n",
              "      <th>3</th>\n",
              "      <td>3_left.jpg</td>\n",
              "      <td>N</td>\n",
              "    </tr>\n",
              "    <tr>\n",
              "      <th>4</th>\n",
              "      <td>4_left.jpg</td>\n",
              "      <td>O</td>\n",
              "    </tr>\n",
              "    <tr>\n",
              "      <th>5</th>\n",
              "      <td>5_left.jpg</td>\n",
              "      <td>D</td>\n",
              "    </tr>\n",
              "    <tr>\n",
              "      <th>6</th>\n",
              "      <td>6_left.jpg</td>\n",
              "      <td>O</td>\n",
              "    </tr>\n",
              "    <tr>\n",
              "      <th>7</th>\n",
              "      <td>7_left.jpg</td>\n",
              "      <td>O</td>\n",
              "    </tr>\n",
              "    <tr>\n",
              "      <th>8</th>\n",
              "      <td>8_left.jpg</td>\n",
              "      <td>N</td>\n",
              "    </tr>\n",
              "    <tr>\n",
              "      <th>9</th>\n",
              "      <td>9_left.jpg</td>\n",
              "      <td>N</td>\n",
              "    </tr>\n",
              "    <tr>\n",
              "      <th>10</th>\n",
              "      <td>10_left.jpg</td>\n",
              "      <td>O</td>\n",
              "    </tr>\n",
              "    <tr>\n",
              "      <th>11</th>\n",
              "      <td>11_left.jpg</td>\n",
              "      <td>O</td>\n",
              "    </tr>\n",
              "    <tr>\n",
              "      <th>12</th>\n",
              "      <td>12_left.jpg</td>\n",
              "      <td>O</td>\n",
              "    </tr>\n",
              "    <tr>\n",
              "      <th>13</th>\n",
              "      <td>13_left.jpg</td>\n",
              "      <td>M</td>\n",
              "    </tr>\n",
              "    <tr>\n",
              "      <th>14</th>\n",
              "      <td>14_left.jpg</td>\n",
              "      <td>N</td>\n",
              "    </tr>\n",
              "    <tr>\n",
              "      <th>15</th>\n",
              "      <td>15_left.jpg</td>\n",
              "      <td>N</td>\n",
              "    </tr>\n",
              "    <tr>\n",
              "      <th>16</th>\n",
              "      <td>16_left.jpg</td>\n",
              "      <td>N</td>\n",
              "    </tr>\n",
              "    <tr>\n",
              "      <th>17</th>\n",
              "      <td>17_left.jpg</td>\n",
              "      <td>O</td>\n",
              "    </tr>\n",
              "    <tr>\n",
              "      <th>18</th>\n",
              "      <td>18_left.jpg</td>\n",
              "      <td>M</td>\n",
              "    </tr>\n",
              "    <tr>\n",
              "      <th>19</th>\n",
              "      <td>19_left.jpg</td>\n",
              "      <td>D</td>\n",
              "    </tr>\n",
              "  </tbody>\n",
              "</table>\n",
              "</div>"
            ],
            "text/plain": [
              "          Image Label\n",
              "0    0_left.jpg     C\n",
              "1    1_left.jpg     N\n",
              "2    2_left.jpg     O\n",
              "3    3_left.jpg     N\n",
              "4    4_left.jpg     O\n",
              "5    5_left.jpg     D\n",
              "6    6_left.jpg     O\n",
              "7    7_left.jpg     O\n",
              "8    8_left.jpg     N\n",
              "9    9_left.jpg     N\n",
              "10  10_left.jpg     O\n",
              "11  11_left.jpg     O\n",
              "12  12_left.jpg     O\n",
              "13  13_left.jpg     M\n",
              "14  14_left.jpg     N\n",
              "15  15_left.jpg     N\n",
              "16  16_left.jpg     N\n",
              "17  17_left.jpg     O\n",
              "18  18_left.jpg     M\n",
              "19  19_left.jpg     D"
            ]
          },
          "metadata": {
            "tags": []
          },
          "execution_count": 13
        }
      ]
    },
    {
      "cell_type": "code",
      "metadata": {
        "id": "YY73s9yhoEEp",
        "colab_type": "code",
        "colab": {
          "base_uri": "https://localhost:8080/",
          "height": 34
        },
        "outputId": "c5da80c4-87a5-4e8e-b2c9-cd036c649462"
      },
      "source": [
        "ls"
      ],
      "execution_count": 14,
      "outputs": [
        {
          "output_type": "stream",
          "text": [
            "\u001b[0m\u001b[01;34mdrive\u001b[0m/  \u001b[01;34msample_data\u001b[0m/\n"
          ],
          "name": "stdout"
        }
      ]
    },
    {
      "cell_type": "code",
      "metadata": {
        "id": "4I-dgZ6BoMgd",
        "colab_type": "code",
        "colab": {}
      },
      "source": [
        "import os\n",
        "os.makedirs(path+'new_data')"
      ],
      "execution_count": 0,
      "outputs": []
    },
    {
      "cell_type": "code",
      "metadata": {
        "id": "iCTbUfD7zIYg",
        "colab_type": "code",
        "colab": {}
      },
      "source": [
        "os.makedirs(path+'new_data/'+'Normal')\n",
        "os.makedirs(path+'new_data/'+'Diabetes')\n",
        "os.makedirs(path+'new_data/'+'Glaucoma')\n",
        "os.makedirs(path+'new_data/'+'Cataract')\n",
        "os.makedirs(path+'new_data/'+'AMD')\n",
        "os.makedirs(path+'new_data/'+'Hypertension')\n",
        "os.makedirs(path+'new_data/'+'Myopia')\n",
        "os.makedirs(path+'new_data/'+'Other')\n"
      ],
      "execution_count": 0,
      "outputs": []
    },
    {
      "cell_type": "code",
      "metadata": {
        "id": "S4xF7_b3yC1u",
        "colab_type": "code",
        "colab": {
          "base_uri": "https://localhost:8080/",
          "height": 34
        },
        "outputId": "3d6bc46d-db83-4efb-fba9-d5129af518da"
      },
      "source": [
        "load_path='/content/drive/My Drive/ghina/thesis/data/ODIR-5K_Training_Dataset/'\n",
        "save_path='/content/drive/My Drive/ghina/thesis/new_data/'\n",
        "import shutil \n",
        "from tqdm import tqdm\n",
        "\n",
        "for i,j in tqdm(zip(left_df['Image'],left_df['Label'])):\n",
        "  if j=='A':shutil.copy(load_path+'{}'.format(i),save_path+'AMD/{}'.format(i))\n",
        "  elif j=='C':shutil.copy(load_path+'{}'.format(i),save_path+'Cataract/{}'.format(i))\n",
        "  elif j=='D':shutil.copy(load_path+'{}'.format(i),save_path+'Diabetes/{}'.format(i))\n",
        "  elif j=='G':shutil.copy(load_path+'{}'.format(i),save_path+'Glaucoma/{}'.format(i))\n",
        "  elif j=='H':shutil.copy(load_path+'{}'.format(i),save_path+'Hypertension/{}'.format(i))\n",
        "  elif j=='M':shutil.copy(load_path+'{}'.format(i),save_path+'Myopia/{}'.format(i))\n",
        "  elif j=='N':shutil.copy(load_path+'{}'.format(i),save_path+'Normal/{}'.format(i))\n",
        "  elif j=='O':shutil.copy(load_path+'{}'.format(i),save_path+'Other/{}'.format(i))\n",
        "  \n",
        "\n"
      ],
      "execution_count": 16,
      "outputs": [
        {
          "output_type": "stream",
          "text": [
            "3500it [17:00,  2.92it/s]\n"
          ],
          "name": "stderr"
        }
      ]
    },
    {
      "cell_type": "code",
      "metadata": {
        "id": "oMY-fzIVm5Xs",
        "colab_type": "code",
        "colab": {}
      },
      "source": [
        ""
      ],
      "execution_count": 0,
      "outputs": []
    }
  ]
}