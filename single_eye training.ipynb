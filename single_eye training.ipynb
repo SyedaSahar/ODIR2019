{
  "nbformat": 4,
  "nbformat_minor": 0,
  "metadata": {
    "colab": {
      "name": "single eye.ipynb",
      "provenance": [],
      "collapsed_sections": [
        "Xg247doMODNp",
        "NlEzXYiFOSuu",
        "2L4u6w1_OV_J",
        "1-qBODMxOc1L"
      ],
      "authorship_tag": "ABX9TyMJANvjuaHrAMwibI0lWIOu",
      "include_colab_link": true
    },
    "kernelspec": {
      "name": "python3",
      "display_name": "Python 3"
    },
    "accelerator": "GPU"
  },
  "cells": [
    {
      "cell_type": "markdown",
      "metadata": {
        "id": "view-in-github",
        "colab_type": "text"
      },
      "source": [
        "<a href=\"https://colab.research.google.com/github/talhaanwarch/ODIR2019/blob/master/single_eye%20training.ipynb\" target=\"_parent\"><img src=\"https://colab.research.google.com/assets/colab-badge.svg\" alt=\"Open In Colab\"/></a>"
      ]
    },
    {
      "cell_type": "code",
      "metadata": {
        "id": "nZQpxSTbLYvC",
        "colab_type": "code",
        "outputId": "cdf4086e-6fc7-4c62-9d10-37fe66e81356",
        "colab": {
          "base_uri": "https://localhost:8080/",
          "height": 121
        }
      },
      "source": [
        "\n",
        "#connect drive with colab notebook/\n",
        "from google.colab import drive\n",
        "drive.mount('/content/drive',force_remount=True)"
      ],
      "execution_count": 0,
      "outputs": [
        {
          "output_type": "stream",
          "text": [
            "Go to this URL in a browser: https://accounts.google.com/o/oauth2/auth?client_id=947318989803-6bn6qk8qdgf4n4g3pfee6491hc0brc4i.apps.googleusercontent.com&redirect_uri=urn%3aietf%3awg%3aoauth%3a2.0%3aoob&response_type=code&scope=email%20https%3a%2f%2fwww.googleapis.com%2fauth%2fdocs.test%20https%3a%2f%2fwww.googleapis.com%2fauth%2fdrive%20https%3a%2f%2fwww.googleapis.com%2fauth%2fdrive.photos.readonly%20https%3a%2f%2fwww.googleapis.com%2fauth%2fpeopleapi.readonly\n",
            "\n",
            "Enter your authorization code:\n",
            "··········\n",
            "Mounted at /content/drive\n"
          ],
          "name": "stdout"
        }
      ]
    },
    {
      "cell_type": "code",
      "metadata": {
        "id": "zf2YXImELgUM",
        "colab_type": "code",
        "outputId": "f9493c38-b886-40e3-f566-ad36e89accc5",
        "colab": {
          "base_uri": "https://localhost:8080/",
          "height": 474
        }
      },
      "source": [
        "\n",
        "!pip install -U efficientnet==0.0.4\n",
        "!pip install keras-rectified-adam"
      ],
      "execution_count": 0,
      "outputs": [
        {
          "output_type": "stream",
          "text": [
            "Collecting efficientnet==0.0.4\n",
            "  Downloading https://files.pythonhosted.org/packages/a6/80/f2c098284f7c07491e66af18d9a5fea595d4b507d10c0845275b8d47dc6f/efficientnet-0.0.4.tar.gz\n",
            "Building wheels for collected packages: efficientnet\n",
            "  Building wheel for efficientnet (setup.py) ... \u001b[?25l\u001b[?25hdone\n",
            "  Created wheel for efficientnet: filename=efficientnet-0.0.4-cp36-none-any.whl size=14288 sha256=dae184209867a2a65a8ded6c5329967a478a903dcf1a000864232876ceb3e8bc\n",
            "  Stored in directory: /root/.cache/pip/wheels/5c/34/68/a611a699a28239e964ccf144c0e767cdb5439fee82ec5de6e0\n",
            "Successfully built efficientnet\n",
            "Installing collected packages: efficientnet\n",
            "Successfully installed efficientnet-0.0.4\n",
            "Collecting keras-rectified-adam\n",
            "  Downloading https://files.pythonhosted.org/packages/21/79/9521f66b92186702cb58a214c1b923b416266381cd824e15a1733f6a5b06/keras-rectified-adam-0.17.0.tar.gz\n",
            "Requirement already satisfied: numpy in /usr/local/lib/python3.6/dist-packages (from keras-rectified-adam) (1.17.5)\n",
            "Requirement already satisfied: Keras in /usr/local/lib/python3.6/dist-packages (from keras-rectified-adam) (2.2.5)\n",
            "Requirement already satisfied: six>=1.9.0 in /usr/local/lib/python3.6/dist-packages (from Keras->keras-rectified-adam) (1.12.0)\n",
            "Requirement already satisfied: scipy>=0.14 in /usr/local/lib/python3.6/dist-packages (from Keras->keras-rectified-adam) (1.4.1)\n",
            "Requirement already satisfied: pyyaml in /usr/local/lib/python3.6/dist-packages (from Keras->keras-rectified-adam) (3.13)\n",
            "Requirement already satisfied: keras-preprocessing>=1.1.0 in /usr/local/lib/python3.6/dist-packages (from Keras->keras-rectified-adam) (1.1.0)\n",
            "Requirement already satisfied: keras-applications>=1.0.8 in /usr/local/lib/python3.6/dist-packages (from Keras->keras-rectified-adam) (1.0.8)\n",
            "Requirement already satisfied: h5py in /usr/local/lib/python3.6/dist-packages (from Keras->keras-rectified-adam) (2.8.0)\n",
            "Building wheels for collected packages: keras-rectified-adam\n",
            "  Building wheel for keras-rectified-adam (setup.py) ... \u001b[?25l\u001b[?25hdone\n",
            "  Created wheel for keras-rectified-adam: filename=keras_rectified_adam-0.17.0-cp36-none-any.whl size=14781 sha256=01659e0c85a23a7bbf1220f86ef6eb163cac43c5d923476513c045ba80a756df\n",
            "  Stored in directory: /root/.cache/pip/wheels/7b/01/27/3a934e1a5644f5b93c720422a6ef97034ea78a21ba71cfb549\n",
            "Successfully built keras-rectified-adam\n",
            "Installing collected packages: keras-rectified-adam\n",
            "Successfully installed keras-rectified-adam-0.17.0\n"
          ],
          "name": "stdout"
        }
      ]
    },
    {
      "cell_type": "code",
      "metadata": {
        "id": "f5i0zar7LpRm",
        "colab_type": "code",
        "outputId": "dda53e1a-0470-4ff0-ef71-1372ab7ba1e1",
        "colab": {
          "base_uri": "https://localhost:8080/",
          "height": 306
        }
      },
      "source": [
        "\n",
        "#following are libraries to unpack 7z file\n",
        "!pip install patool \n",
        "!pip install pyunpack\n",
        "from pyunpack import Archive"
      ],
      "execution_count": 0,
      "outputs": [
        {
          "output_type": "stream",
          "text": [
            "Collecting patool\n",
            "\u001b[?25l  Downloading https://files.pythonhosted.org/packages/43/94/52243ddff508780dd2d8110964320ab4851134a55ab102285b46e740f76a/patool-1.12-py2.py3-none-any.whl (77kB)\n",
            "\r\u001b[K     |████▎                           | 10kB 25.2MB/s eta 0:00:01\r\u001b[K     |████████▌                       | 20kB 2.1MB/s eta 0:00:01\r\u001b[K     |████████████▊                   | 30kB 3.1MB/s eta 0:00:01\r\u001b[K     |█████████████████               | 40kB 2.0MB/s eta 0:00:01\r\u001b[K     |█████████████████████▏          | 51kB 2.5MB/s eta 0:00:01\r\u001b[K     |█████████████████████████▍      | 61kB 3.0MB/s eta 0:00:01\r\u001b[K     |█████████████████████████████▋  | 71kB 3.5MB/s eta 0:00:01\r\u001b[K     |████████████████████████████████| 81kB 3.1MB/s \n",
            "\u001b[?25hInstalling collected packages: patool\n",
            "Successfully installed patool-1.12\n",
            "Collecting pyunpack\n",
            "  Downloading https://files.pythonhosted.org/packages/79/dc/44cd41fb99d184ae7c2eac439a52ca624d5ece62b0302c3437fcc4ce3b58/pyunpack-0.1.2.tar.gz\n",
            "Collecting easyprocess\n",
            "  Downloading https://files.pythonhosted.org/packages/32/8f/88d636f1da22a3c573259e44cfefb46a117d3f9432e2c98b1ab4a21372ad/EasyProcess-0.2.10-py2.py3-none-any.whl\n",
            "Building wheels for collected packages: pyunpack\n",
            "  Building wheel for pyunpack (setup.py) ... \u001b[?25l\u001b[?25hdone\n",
            "  Created wheel for pyunpack: filename=pyunpack-0.1.2-cp36-none-any.whl size=5163 sha256=22d9c48b2f0deb5d1f2234acba0534776ede82c6e4f34aa16dc91725fda966cb\n",
            "  Stored in directory: /root/.cache/pip/wheels/af/44/08/60613970881e542c0baad1f2dea5ed8e6716bc573f49197b7e\n",
            "Successfully built pyunpack\n",
            "Installing collected packages: easyprocess, pyunpack\n",
            "Successfully installed easyprocess-0.2.10 pyunpack-0.1.2\n"
          ],
          "name": "stdout"
        }
      ]
    },
    {
      "cell_type": "code",
      "metadata": {
        "id": "lKSdIsohLrKT",
        "colab_type": "code",
        "colab": {}
      },
      "source": [
        "!mkdir data\n"
      ],
      "execution_count": 0,
      "outputs": []
    },
    {
      "cell_type": "code",
      "metadata": {
        "id": "QTlh6mDOLvDL",
        "colab_type": "code",
        "colab": {}
      },
      "source": [
        "import pandas as pd\n",
        "import numpy as np\n",
        "import cv2"
      ],
      "execution_count": 0,
      "outputs": []
    },
    {
      "cell_type": "markdown",
      "metadata": {
        "id": "vb0DEUuON9Rp",
        "colab_type": "text"
      },
      "source": [
        "# Prepare data"
      ]
    },
    {
      "cell_type": "code",
      "metadata": {
        "id": "6iJCpwikLyFP",
        "colab_type": "code",
        "colab": {}
      },
      "source": [
        "path='/content/drive/My Drive/thesis/'\n"
      ],
      "execution_count": 0,
      "outputs": []
    },
    {
      "cell_type": "code",
      "metadata": {
        "id": "ephHXggVL0vN",
        "colab_type": "code",
        "colab": {}
      },
      "source": [
        "\n",
        "#extract the 7z file in data folder we created above\n",
        "#this not only extract the data but move it from drive to colab for efficinet processing\n",
        "#it will take some time\n",
        "Archive(path+'ODIR-5K_Training_Images.7z').extractall('data')"
      ],
      "execution_count": 0,
      "outputs": []
    },
    {
      "cell_type": "code",
      "metadata": {
        "id": "qBxEcgRIL2jR",
        "colab_type": "code",
        "colab": {}
      },
      "source": [
        "Archive(path+'ODIR-5K_Testing_Images.7z').extractall('data')\n"
      ],
      "execution_count": 0,
      "outputs": []
    },
    {
      "cell_type": "code",
      "metadata": {
        "id": "Bx7JNOPJL31f",
        "colab_type": "code",
        "colab": {}
      },
      "source": [
        "#read the annottion file\n",
        "annotation=pd.read_excel(path+'ODIR-5K_Training_Annotations(Updated)_V2.xlsx')"
      ],
      "execution_count": 0,
      "outputs": []
    },
    {
      "cell_type": "code",
      "metadata": {
        "id": "-PVwKjosL6Gq",
        "colab_type": "code",
        "outputId": "20db71bf-c4cb-402d-ed5d-a3fe8b2e945e",
        "colab": {
          "base_uri": "https://localhost:8080/",
          "height": 229
        }
      },
      "source": [
        "annotation.head()\n"
      ],
      "execution_count": 0,
      "outputs": [
        {
          "output_type": "execute_result",
          "data": {
            "text/html": [
              "<div>\n",
              "<style scoped>\n",
              "    .dataframe tbody tr th:only-of-type {\n",
              "        vertical-align: middle;\n",
              "    }\n",
              "\n",
              "    .dataframe tbody tr th {\n",
              "        vertical-align: top;\n",
              "    }\n",
              "\n",
              "    .dataframe thead th {\n",
              "        text-align: right;\n",
              "    }\n",
              "</style>\n",
              "<table border=\"1\" class=\"dataframe\">\n",
              "  <thead>\n",
              "    <tr style=\"text-align: right;\">\n",
              "      <th></th>\n",
              "      <th>ID</th>\n",
              "      <th>Patient Age</th>\n",
              "      <th>Patient Sex</th>\n",
              "      <th>Left-Fundus</th>\n",
              "      <th>Right-Fundus</th>\n",
              "      <th>Left-Diagnostic Keywords</th>\n",
              "      <th>Right-Diagnostic Keywords</th>\n",
              "      <th>N</th>\n",
              "      <th>D</th>\n",
              "      <th>G</th>\n",
              "      <th>C</th>\n",
              "      <th>A</th>\n",
              "      <th>H</th>\n",
              "      <th>M</th>\n",
              "      <th>O</th>\n",
              "    </tr>\n",
              "  </thead>\n",
              "  <tbody>\n",
              "    <tr>\n",
              "      <th>0</th>\n",
              "      <td>0</td>\n",
              "      <td>69</td>\n",
              "      <td>Female</td>\n",
              "      <td>0_left.jpg</td>\n",
              "      <td>0_right.jpg</td>\n",
              "      <td>cataract</td>\n",
              "      <td>normal fundus</td>\n",
              "      <td>0</td>\n",
              "      <td>0</td>\n",
              "      <td>0</td>\n",
              "      <td>1</td>\n",
              "      <td>0</td>\n",
              "      <td>0</td>\n",
              "      <td>0</td>\n",
              "      <td>0</td>\n",
              "    </tr>\n",
              "    <tr>\n",
              "      <th>1</th>\n",
              "      <td>1</td>\n",
              "      <td>57</td>\n",
              "      <td>Male</td>\n",
              "      <td>1_left.jpg</td>\n",
              "      <td>1_right.jpg</td>\n",
              "      <td>normal fundus</td>\n",
              "      <td>normal fundus</td>\n",
              "      <td>1</td>\n",
              "      <td>0</td>\n",
              "      <td>0</td>\n",
              "      <td>0</td>\n",
              "      <td>0</td>\n",
              "      <td>0</td>\n",
              "      <td>0</td>\n",
              "      <td>0</td>\n",
              "    </tr>\n",
              "    <tr>\n",
              "      <th>2</th>\n",
              "      <td>2</td>\n",
              "      <td>42</td>\n",
              "      <td>Male</td>\n",
              "      <td>2_left.jpg</td>\n",
              "      <td>2_right.jpg</td>\n",
              "      <td>laser spot，moderate non proliferative retinopathy</td>\n",
              "      <td>moderate non proliferative retinopathy</td>\n",
              "      <td>0</td>\n",
              "      <td>1</td>\n",
              "      <td>0</td>\n",
              "      <td>0</td>\n",
              "      <td>0</td>\n",
              "      <td>0</td>\n",
              "      <td>0</td>\n",
              "      <td>1</td>\n",
              "    </tr>\n",
              "    <tr>\n",
              "      <th>3</th>\n",
              "      <td>3</td>\n",
              "      <td>66</td>\n",
              "      <td>Male</td>\n",
              "      <td>3_left.jpg</td>\n",
              "      <td>3_right.jpg</td>\n",
              "      <td>normal fundus</td>\n",
              "      <td>branch retinal artery occlusion</td>\n",
              "      <td>0</td>\n",
              "      <td>0</td>\n",
              "      <td>0</td>\n",
              "      <td>0</td>\n",
              "      <td>0</td>\n",
              "      <td>0</td>\n",
              "      <td>0</td>\n",
              "      <td>1</td>\n",
              "    </tr>\n",
              "    <tr>\n",
              "      <th>4</th>\n",
              "      <td>4</td>\n",
              "      <td>53</td>\n",
              "      <td>Male</td>\n",
              "      <td>4_left.jpg</td>\n",
              "      <td>4_right.jpg</td>\n",
              "      <td>macular epiretinal membrane</td>\n",
              "      <td>mild nonproliferative retinopathy</td>\n",
              "      <td>0</td>\n",
              "      <td>1</td>\n",
              "      <td>0</td>\n",
              "      <td>0</td>\n",
              "      <td>0</td>\n",
              "      <td>0</td>\n",
              "      <td>0</td>\n",
              "      <td>1</td>\n",
              "    </tr>\n",
              "  </tbody>\n",
              "</table>\n",
              "</div>"
            ],
            "text/plain": [
              "   ID  Patient Age Patient Sex Left-Fundus Right-Fundus  ...  C  A  H  M  O\n",
              "0   0           69      Female  0_left.jpg  0_right.jpg  ...  1  0  0  0  0\n",
              "1   1           57        Male  1_left.jpg  1_right.jpg  ...  0  0  0  0  0\n",
              "2   2           42        Male  2_left.jpg  2_right.jpg  ...  0  0  0  0  1\n",
              "3   3           66        Male  3_left.jpg  3_right.jpg  ...  0  0  0  0  1\n",
              "4   4           53        Male  4_left.jpg  4_right.jpg  ...  0  0  0  0  1\n",
              "\n",
              "[5 rows x 15 columns]"
            ]
          },
          "metadata": {
            "tags": []
          },
          "execution_count": 10
        }
      ]
    },
    {
      "cell_type": "code",
      "metadata": {
        "id": "bj34Yu2hL8U8",
        "colab_type": "code",
        "colab": {}
      },
      "source": [
        "left_train=pd.read_csv(path+'left_annotation.csv')\n",
        "left_train.drop('Unnamed: 0',inplace=True,axis=1)\n",
        "right_train=pd.read_csv(path+'right_annotation.csv')\n",
        "right_train.drop('Unnamed: 0',inplace=True,axis=1)\n"
      ],
      "execution_count": 0,
      "outputs": []
    },
    {
      "cell_type": "code",
      "metadata": {
        "id": "6JmwhxYgMQHU",
        "colab_type": "code",
        "outputId": "fb78f045-0269-4792-9f99-1015abd1cdbd",
        "colab": {
          "base_uri": "https://localhost:8080/",
          "height": 195
        }
      },
      "source": [
        "left_train.head()"
      ],
      "execution_count": 0,
      "outputs": [
        {
          "output_type": "execute_result",
          "data": {
            "text/html": [
              "<div>\n",
              "<style scoped>\n",
              "    .dataframe tbody tr th:only-of-type {\n",
              "        vertical-align: middle;\n",
              "    }\n",
              "\n",
              "    .dataframe tbody tr th {\n",
              "        vertical-align: top;\n",
              "    }\n",
              "\n",
              "    .dataframe thead th {\n",
              "        text-align: right;\n",
              "    }\n",
              "</style>\n",
              "<table border=\"1\" class=\"dataframe\">\n",
              "  <thead>\n",
              "    <tr style=\"text-align: right;\">\n",
              "      <th></th>\n",
              "      <th>Image</th>\n",
              "      <th>Label</th>\n",
              "      <th>N</th>\n",
              "      <th>D</th>\n",
              "      <th>G</th>\n",
              "      <th>C</th>\n",
              "      <th>A</th>\n",
              "      <th>H</th>\n",
              "      <th>M</th>\n",
              "      <th>O</th>\n",
              "    </tr>\n",
              "  </thead>\n",
              "  <tbody>\n",
              "    <tr>\n",
              "      <th>0</th>\n",
              "      <td>0_left.jpg</td>\n",
              "      <td>C</td>\n",
              "      <td>0</td>\n",
              "      <td>0</td>\n",
              "      <td>0</td>\n",
              "      <td>1</td>\n",
              "      <td>0</td>\n",
              "      <td>0</td>\n",
              "      <td>0</td>\n",
              "      <td>0</td>\n",
              "    </tr>\n",
              "    <tr>\n",
              "      <th>1</th>\n",
              "      <td>1_left.jpg</td>\n",
              "      <td>N</td>\n",
              "      <td>1</td>\n",
              "      <td>0</td>\n",
              "      <td>0</td>\n",
              "      <td>0</td>\n",
              "      <td>0</td>\n",
              "      <td>0</td>\n",
              "      <td>0</td>\n",
              "      <td>0</td>\n",
              "    </tr>\n",
              "    <tr>\n",
              "      <th>2</th>\n",
              "      <td>2_left.jpg</td>\n",
              "      <td>O</td>\n",
              "      <td>0</td>\n",
              "      <td>0</td>\n",
              "      <td>0</td>\n",
              "      <td>0</td>\n",
              "      <td>0</td>\n",
              "      <td>0</td>\n",
              "      <td>0</td>\n",
              "      <td>1</td>\n",
              "    </tr>\n",
              "    <tr>\n",
              "      <th>3</th>\n",
              "      <td>3_left.jpg</td>\n",
              "      <td>N</td>\n",
              "      <td>1</td>\n",
              "      <td>0</td>\n",
              "      <td>0</td>\n",
              "      <td>0</td>\n",
              "      <td>0</td>\n",
              "      <td>0</td>\n",
              "      <td>0</td>\n",
              "      <td>0</td>\n",
              "    </tr>\n",
              "    <tr>\n",
              "      <th>4</th>\n",
              "      <td>4_left.jpg</td>\n",
              "      <td>O</td>\n",
              "      <td>0</td>\n",
              "      <td>0</td>\n",
              "      <td>0</td>\n",
              "      <td>0</td>\n",
              "      <td>0</td>\n",
              "      <td>0</td>\n",
              "      <td>0</td>\n",
              "      <td>1</td>\n",
              "    </tr>\n",
              "  </tbody>\n",
              "</table>\n",
              "</div>"
            ],
            "text/plain": [
              "        Image Label  N  D  G  C  A  H  M  O\n",
              "0  0_left.jpg     C  0  0  0  1  0  0  0  0\n",
              "1  1_left.jpg     N  1  0  0  0  0  0  0  0\n",
              "2  2_left.jpg     O  0  0  0  0  0  0  0  1\n",
              "3  3_left.jpg     N  1  0  0  0  0  0  0  0\n",
              "4  4_left.jpg     O  0  0  0  0  0  0  0  1"
            ]
          },
          "metadata": {
            "tags": []
          },
          "execution_count": 12
        }
      ]
    },
    {
      "cell_type": "code",
      "metadata": {
        "id": "P2E3CiXsMXLF",
        "colab_type": "code",
        "colab": {}
      },
      "source": [
        "train=pd.concat([left_train,right_train])"
      ],
      "execution_count": 0,
      "outputs": []
    },
    {
      "cell_type": "code",
      "metadata": {
        "id": "l_ws8T3aMvhP",
        "colab_type": "code",
        "colab": {}
      },
      "source": [
        "from sklearn.model_selection import train_test_split\n",
        "df_train, df_validation = train_test_split(train, test_size = 0.2, stratify=train[['N','D','G','C','A','H','M','O']], random_state = 2020)"
      ],
      "execution_count": 0,
      "outputs": []
    },
    {
      "cell_type": "code",
      "metadata": {
        "id": "jqXgGPP9M4CP",
        "colab_type": "code",
        "outputId": "74545210-a4f3-4a3b-9193-4829a6c0e80c",
        "colab": {
          "base_uri": "https://localhost:8080/",
          "height": 195
        }
      },
      "source": [
        "df_train.head()"
      ],
      "execution_count": 0,
      "outputs": [
        {
          "output_type": "execute_result",
          "data": {
            "text/html": [
              "<div>\n",
              "<style scoped>\n",
              "    .dataframe tbody tr th:only-of-type {\n",
              "        vertical-align: middle;\n",
              "    }\n",
              "\n",
              "    .dataframe tbody tr th {\n",
              "        vertical-align: top;\n",
              "    }\n",
              "\n",
              "    .dataframe thead th {\n",
              "        text-align: right;\n",
              "    }\n",
              "</style>\n",
              "<table border=\"1\" class=\"dataframe\">\n",
              "  <thead>\n",
              "    <tr style=\"text-align: right;\">\n",
              "      <th></th>\n",
              "      <th>Image</th>\n",
              "      <th>Label</th>\n",
              "      <th>N</th>\n",
              "      <th>D</th>\n",
              "      <th>G</th>\n",
              "      <th>C</th>\n",
              "      <th>A</th>\n",
              "      <th>H</th>\n",
              "      <th>M</th>\n",
              "      <th>O</th>\n",
              "    </tr>\n",
              "  </thead>\n",
              "  <tbody>\n",
              "    <tr>\n",
              "      <th>3200</th>\n",
              "      <td>4343_right.jpg</td>\n",
              "      <td>D</td>\n",
              "      <td>0</td>\n",
              "      <td>1</td>\n",
              "      <td>0</td>\n",
              "      <td>0</td>\n",
              "      <td>0</td>\n",
              "      <td>0</td>\n",
              "      <td>0</td>\n",
              "      <td>0</td>\n",
              "    </tr>\n",
              "    <tr>\n",
              "      <th>2069</th>\n",
              "      <td>2692_left.jpg</td>\n",
              "      <td>N</td>\n",
              "      <td>1</td>\n",
              "      <td>0</td>\n",
              "      <td>0</td>\n",
              "      <td>0</td>\n",
              "      <td>0</td>\n",
              "      <td>0</td>\n",
              "      <td>0</td>\n",
              "      <td>0</td>\n",
              "    </tr>\n",
              "    <tr>\n",
              "      <th>1677</th>\n",
              "      <td>2220_left.jpg</td>\n",
              "      <td>O</td>\n",
              "      <td>0</td>\n",
              "      <td>0</td>\n",
              "      <td>0</td>\n",
              "      <td>0</td>\n",
              "      <td>0</td>\n",
              "      <td>0</td>\n",
              "      <td>0</td>\n",
              "      <td>1</td>\n",
              "    </tr>\n",
              "    <tr>\n",
              "      <th>2240</th>\n",
              "      <td>2863_right.jpg</td>\n",
              "      <td>O</td>\n",
              "      <td>0</td>\n",
              "      <td>0</td>\n",
              "      <td>0</td>\n",
              "      <td>0</td>\n",
              "      <td>0</td>\n",
              "      <td>0</td>\n",
              "      <td>0</td>\n",
              "      <td>1</td>\n",
              "    </tr>\n",
              "    <tr>\n",
              "      <th>578</th>\n",
              "      <td>579_right.jpg</td>\n",
              "      <td>O</td>\n",
              "      <td>0</td>\n",
              "      <td>0</td>\n",
              "      <td>0</td>\n",
              "      <td>0</td>\n",
              "      <td>0</td>\n",
              "      <td>0</td>\n",
              "      <td>0</td>\n",
              "      <td>1</td>\n",
              "    </tr>\n",
              "  </tbody>\n",
              "</table>\n",
              "</div>"
            ],
            "text/plain": [
              "               Image Label  N  D  G  C  A  H  M  O\n",
              "3200  4343_right.jpg     D  0  1  0  0  0  0  0  0\n",
              "2069   2692_left.jpg     N  1  0  0  0  0  0  0  0\n",
              "1677   2220_left.jpg     O  0  0  0  0  0  0  0  1\n",
              "2240  2863_right.jpg     O  0  0  0  0  0  0  0  1\n",
              "578    579_right.jpg     O  0  0  0  0  0  0  0  1"
            ]
          },
          "metadata": {
            "tags": []
          },
          "execution_count": 15
        }
      ]
    },
    {
      "cell_type": "code",
      "metadata": {
        "id": "4eKb2UxvNpup",
        "colab_type": "code",
        "outputId": "67d711e3-47ce-4532-9fec-24fe9710e752",
        "colab": {
          "base_uri": "https://localhost:8080/",
          "height": 195
        }
      },
      "source": [
        "df_validation.head()"
      ],
      "execution_count": 0,
      "outputs": [
        {
          "output_type": "execute_result",
          "data": {
            "text/html": [
              "<div>\n",
              "<style scoped>\n",
              "    .dataframe tbody tr th:only-of-type {\n",
              "        vertical-align: middle;\n",
              "    }\n",
              "\n",
              "    .dataframe tbody tr th {\n",
              "        vertical-align: top;\n",
              "    }\n",
              "\n",
              "    .dataframe thead th {\n",
              "        text-align: right;\n",
              "    }\n",
              "</style>\n",
              "<table border=\"1\" class=\"dataframe\">\n",
              "  <thead>\n",
              "    <tr style=\"text-align: right;\">\n",
              "      <th></th>\n",
              "      <th>Image</th>\n",
              "      <th>Label</th>\n",
              "      <th>N</th>\n",
              "      <th>D</th>\n",
              "      <th>G</th>\n",
              "      <th>C</th>\n",
              "      <th>A</th>\n",
              "      <th>H</th>\n",
              "      <th>M</th>\n",
              "      <th>O</th>\n",
              "    </tr>\n",
              "  </thead>\n",
              "  <tbody>\n",
              "    <tr>\n",
              "      <th>3283</th>\n",
              "      <td>4437_left.jpg</td>\n",
              "      <td>D</td>\n",
              "      <td>0</td>\n",
              "      <td>1</td>\n",
              "      <td>0</td>\n",
              "      <td>0</td>\n",
              "      <td>0</td>\n",
              "      <td>0</td>\n",
              "      <td>0</td>\n",
              "      <td>0</td>\n",
              "    </tr>\n",
              "    <tr>\n",
              "      <th>1604</th>\n",
              "      <td>2143_right.jpg</td>\n",
              "      <td>C</td>\n",
              "      <td>0</td>\n",
              "      <td>0</td>\n",
              "      <td>0</td>\n",
              "      <td>1</td>\n",
              "      <td>0</td>\n",
              "      <td>0</td>\n",
              "      <td>0</td>\n",
              "      <td>0</td>\n",
              "    </tr>\n",
              "    <tr>\n",
              "      <th>1869</th>\n",
              "      <td>2492_left.jpg</td>\n",
              "      <td>N</td>\n",
              "      <td>1</td>\n",
              "      <td>0</td>\n",
              "      <td>0</td>\n",
              "      <td>0</td>\n",
              "      <td>0</td>\n",
              "      <td>0</td>\n",
              "      <td>0</td>\n",
              "      <td>0</td>\n",
              "    </tr>\n",
              "    <tr>\n",
              "      <th>2277</th>\n",
              "      <td>2900_right.jpg</td>\n",
              "      <td>N</td>\n",
              "      <td>1</td>\n",
              "      <td>0</td>\n",
              "      <td>0</td>\n",
              "      <td>0</td>\n",
              "      <td>0</td>\n",
              "      <td>0</td>\n",
              "      <td>0</td>\n",
              "      <td>0</td>\n",
              "    </tr>\n",
              "    <tr>\n",
              "      <th>3361</th>\n",
              "      <td>4530_left.jpg</td>\n",
              "      <td>O</td>\n",
              "      <td>0</td>\n",
              "      <td>0</td>\n",
              "      <td>0</td>\n",
              "      <td>0</td>\n",
              "      <td>0</td>\n",
              "      <td>0</td>\n",
              "      <td>0</td>\n",
              "      <td>1</td>\n",
              "    </tr>\n",
              "  </tbody>\n",
              "</table>\n",
              "</div>"
            ],
            "text/plain": [
              "               Image Label  N  D  G  C  A  H  M  O\n",
              "3283   4437_left.jpg     D  0  1  0  0  0  0  0  0\n",
              "1604  2143_right.jpg     C  0  0  0  1  0  0  0  0\n",
              "1869   2492_left.jpg     N  1  0  0  0  0  0  0  0\n",
              "2277  2900_right.jpg     N  1  0  0  0  0  0  0  0\n",
              "3361   4530_left.jpg     O  0  0  0  0  0  0  0  1"
            ]
          },
          "metadata": {
            "tags": []
          },
          "execution_count": 16
        }
      ]
    },
    {
      "cell_type": "code",
      "metadata": {
        "id": "N7EsQJ4fNtXq",
        "colab_type": "code",
        "colab": {}
      },
      "source": [
        ""
      ],
      "execution_count": 0,
      "outputs": []
    },
    {
      "cell_type": "markdown",
      "metadata": {
        "id": "Xg247doMODNp",
        "colab_type": "text"
      },
      "source": [
        "# Utility Functions"
      ]
    },
    {
      "cell_type": "markdown",
      "metadata": {
        "id": "NlEzXYiFOSuu",
        "colab_type": "text"
      },
      "source": [
        "## Image Preprocessing"
      ]
    },
    {
      "cell_type": "code",
      "metadata": {
        "id": "EggOQS1hOUv-",
        "colab_type": "code",
        "colab": {}
      },
      "source": [
        ""
      ],
      "execution_count": 0,
      "outputs": []
    },
    {
      "cell_type": "code",
      "metadata": {
        "id": "7Dv7xxJROE6M",
        "colab_type": "code",
        "colab": {}
      },
      "source": [
        "#https://www.kaggle.com/ratthachat/aptos-eye-preprocessing-in-diabetic-retinopathy\n",
        "def crop_image1(img,tol=7):\n",
        "    # img is image data\n",
        "    # tol  is tolerance\n",
        "        \n",
        "    mask = img>tol\n",
        "    return img[np.ix_(mask.any(1),mask.any(0))]\n",
        "\n",
        "def crop_image_from_gray(img,tol=7):\n",
        "    if img.ndim ==2:\n",
        "        mask = img>tol\n",
        "        return img[np.ix_(mask.any(1),mask.any(0))]\n",
        "    elif img.ndim==3:\n",
        "        gray_img = cv2.cvtColor(img, cv2.COLOR_RGB2GRAY)\n",
        "        mask = gray_img>tol\n",
        "        \n",
        "        check_shape = img[:,:,0][np.ix_(mask.any(1),mask.any(0))].shape[0]\n",
        "        if (check_shape == 0): # image is too dark so that we crop out everything,\n",
        "            return img # return original image\n",
        "        else:\n",
        "            img1=img[:,:,0][np.ix_(mask.any(1),mask.any(0))]\n",
        "            img2=img[:,:,1][np.ix_(mask.any(1),mask.any(0))]\n",
        "            img3=img[:,:,2][np.ix_(mask.any(1),mask.any(0))]\n",
        "    #         print(img1.shape,img2.shape,img3.shape)\n",
        "            img = np.stack([img1,img2,img3],axis=-1)\n",
        "    #         print(img.shape)\n",
        "        return img"
      ],
      "execution_count": 0,
      "outputs": []
    },
    {
      "cell_type": "code",
      "metadata": {
        "id": "SBrYs6nWONkJ",
        "colab_type": "code",
        "colab": {}
      },
      "source": [
        "def load_ben_color(image, sigmaX=10):\n",
        "    #image = cv2.imread(path)\n",
        "    #image = cv2.cvtColor(image, cv2.COLOR_BGR2RGB)\n",
        "    image = crop_image_from_gray(image)\n",
        "    image = cv2.resize(image, (img_shape, img_shape))\n",
        "    image=cv2.addWeighted ( image,4, cv2.GaussianBlur( image , (0,0) , sigmaX) ,-4 ,128)\n",
        "    return image"
      ],
      "execution_count": 0,
      "outputs": []
    },
    {
      "cell_type": "markdown",
      "metadata": {
        "id": "2L4u6w1_OV_J",
        "colab_type": "text"
      },
      "source": [
        "## Evaluation Metrics"
      ]
    },
    {
      "cell_type": "code",
      "metadata": {
        "id": "kqPXuH3xOYXb",
        "colab_type": "code",
        "outputId": "04e36dfb-904d-4751-eff3-0fb43549f4be",
        "colab": {
          "base_uri": "https://localhost:8080/"
        }
      },
      "source": [
        "from keras.callbacks import Callback\n",
        "def get_preds_and_labels(model, generator):\n",
        "    \"\"\"\n",
        "    Get predictions and labels from the generator\n",
        "    \"\"\"\n",
        "    preds = []\n",
        "    labels = []\n",
        "    for _ in range(int(np.ceil(generator.samples / BATCH_SIZE))):\n",
        "        x, y = next(generator)\n",
        "        preds.append(model.predict(x))\n",
        "        labels.append(y)\n",
        "    # Flatten list of numpy arrays\n",
        "    return np.concatenate(preds).ravel(), np.concatenate(labels).ravel()\n",
        "# -----------------------------------------------\n",
        "# -----------------------------------------------\n",
        "# -----------------------------------------------\n",
        "class Metrics(Callback):\n",
        "    \"\"\"\n",
        "    A custom Keras callback for saving the best model\n",
        "    according to the Quadratic Weighted Kappa (QWK) metric\n",
        "    \"\"\"\n",
        "    def on_train_begin(self, logs={}):\n",
        "        \"\"\"\n",
        "        Initialize list of QWK scores on validation data\n",
        "        \"\"\"\n",
        "        self.val_kappas = []\n",
        "\n",
        "    def on_epoch_end(self, epoch, logs={}):\n",
        "        \"\"\"\n",
        "        Gets QWK score on the validation data\n",
        "        \"\"\"\n",
        "        # Get predictions and convert to integers\n",
        "        y_pred, labels = get_preds_and_labels(model, val_generator)\n",
        "        y_pred = np.rint(y_pred).astype(np.uint8).clip(0, 4)\n",
        "        # We can use sklearns implementation of QWK straight out of the box\n",
        "        # as long as we specify weights as 'quadratic'\n",
        "        _val_kappa = cohen_kappa_score(labels, y_pred, weights='quadratic')\n",
        "        self.val_kappas.append(_val_kappa)\n",
        "        print(f\"val_kappa: {round(_val_kappa, 4)}\")\n",
        "        if _val_kappa == max(self.val_kappas):\n",
        "            print(\"Validation Kappa has improved. Saving model.\")\n",
        "            self.model.save(SAVED_MODEL_NAME)\n",
        "        return\n",
        "kappa_metrics=Metrics()"
      ],
      "execution_count": 0,
      "outputs": [
        {
          "output_type": "stream",
          "text": [
            "Using TensorFlow backend.\n"
          ],
          "name": "stderr"
        },
        {
          "output_type": "display_data",
          "data": {
            "text/html": [
              "<p style=\"color: red;\">\n",
              "The default version of TensorFlow in Colab will soon switch to TensorFlow 2.x.<br>\n",
              "We recommend you <a href=\"https://www.tensorflow.org/guide/migrate\" target=\"_blank\">upgrade</a> now \n",
              "or ensure your notebook will continue to use TensorFlow 1.x via the <code>%tensorflow_version 1.x</code> magic:\n",
              "<a href=\"https://colab.research.google.com/notebooks/tensorflow_version.ipynb\" target=\"_blank\">more info</a>.</p>\n"
            ],
            "text/plain": [
              "<IPython.core.display.HTML object>"
            ]
          },
          "metadata": {
            "tags": []
          }
        }
      ]
    },
    {
      "cell_type": "markdown",
      "metadata": {
        "id": "1-qBODMxOc1L",
        "colab_type": "text"
      },
      "source": [
        "## Layers"
      ]
    },
    {
      "cell_type": "code",
      "metadata": {
        "id": "8EuQbxZdOeJS",
        "colab_type": "code",
        "colab": {}
      },
      "source": [
        "from keras import backend as K\n",
        "from keras.layers import Layer\n",
        "from keras import initializers,regularizers,constraints\n",
        "\n",
        "class GroupNormalization(Layer):\n",
        "    \"\"\"Group normalization layer\n",
        "    Group Normalization divides the channels into groups and computes within each group\n",
        "    the mean and variance for normalization. GN's computation is independent of batch sizes,\n",
        "    and its accuracy is stable in a wide range of batch sizes\n",
        "    # Arguments\n",
        "        groups: Integer, the number of groups for Group Normalization.\n",
        "        axis: Integer, the axis that should be normalized\n",
        "            (typically the features axis).\n",
        "            For instance, after a `Conv2D` layer with\n",
        "            `data_format=\"channels_first\"`,\n",
        "            set `axis=1` in `BatchNormalization`.\n",
        "        epsilon: Small float added to variance to avoid dividing by zero.\n",
        "        center: If True, add offset of `beta` to normalized tensor.\n",
        "            If False, `beta` is ignored.\n",
        "        scale: If True, multiply by `gamma`.\n",
        "            If False, `gamma` is not used.\n",
        "            When the next layer is linear (also e.g. `nn.relu`),\n",
        "            this can be disabled since the scaling\n",
        "            will be done by the next layer.\n",
        "        beta_initializer: Initializer for the beta weight.\n",
        "        gamma_initializer: Initializer for the gamma weight.\n",
        "        beta_regularizer: Optional regularizer for the beta weight.\n",
        "        gamma_regularizer: Optional regularizer for the gamma weight.\n",
        "        beta_constraint: Optional constraint for the beta weight.\n",
        "        gamma_constraint: Optional constraint for the gamma weight.\n",
        "    # Input shape\n",
        "        Arbitrary. Use the keyword argument `input_shape`\n",
        "        (tuple of integers, does not include the samples axis)\n",
        "        when using this layer as the first layer in a model.\n",
        "    # Output shape\n",
        "        Same shape as input.\n",
        "    # References\n",
        "        - [Group Normalization](https://arxiv.org/abs/1803.08494)\n",
        "    \"\"\"\n",
        "\n",
        "    def __init__(self,\n",
        "                 groups=32,\n",
        "                 axis=-1,\n",
        "                 epsilon=1e-5,\n",
        "                 center=True,\n",
        "                 scale=True,\n",
        "                 beta_initializer='zeros',\n",
        "                 gamma_initializer='ones',\n",
        "                 beta_regularizer=None,\n",
        "                 gamma_regularizer=None,\n",
        "                 beta_constraint=None,\n",
        "                 gamma_constraint=None,\n",
        "                 **kwargs):\n",
        "        super(GroupNormalization, self).__init__(**kwargs)\n",
        "        self.supports_masking = True\n",
        "        self.groups = groups\n",
        "        self.axis = axis\n",
        "        self.epsilon = epsilon\n",
        "        self.center = center\n",
        "        self.scale = scale\n",
        "        self.beta_initializer = initializers.get(beta_initializer)\n",
        "        self.gamma_initializer = initializers.get(gamma_initializer)\n",
        "        self.beta_regularizer = regularizers.get(beta_regularizer)\n",
        "        self.gamma_regularizer = regularizers.get(gamma_regularizer)\n",
        "        self.beta_constraint = constraints.get(beta_constraint)\n",
        "        self.gamma_constraint = constraints.get(gamma_constraint)\n",
        "\n",
        "    def build(self, input_shape):\n",
        "        dim = input_shape[self.axis]\n",
        "\n",
        "        if dim is None:\n",
        "            raise ValueError('Axis ' + str(self.axis) + ' of '\n",
        "                             'input tensor should have a defined dimension '\n",
        "                             'but the layer received an input with shape ' +\n",
        "                             str(input_shape) + '.')\n",
        "\n",
        "        if dim < self.groups:\n",
        "            raise ValueError('Number of groups (' + str(self.groups) + ') cannot be '\n",
        "                             'more than the number of channels (' +\n",
        "                             str(dim) + ').')\n",
        "\n",
        "        if dim % self.groups != 0:\n",
        "            raise ValueError('Number of groups (' + str(self.groups) + ') must be a '\n",
        "                             'multiple of the number of channels (' +\n",
        "                             str(dim) + ').')\n",
        "\n",
        "        self.input_spec = InputSpec(ndim=len(input_shape),\n",
        "                                    axes={self.axis: dim})\n",
        "        shape = (dim,)\n",
        "\n",
        "        if self.scale:\n",
        "            self.gamma = self.add_weight(shape=shape,\n",
        "                                         name='gamma',\n",
        "                                         initializer=self.gamma_initializer,\n",
        "                                         regularizer=self.gamma_regularizer,\n",
        "                                         constraint=self.gamma_constraint)\n",
        "        else:\n",
        "            self.gamma = None\n",
        "        if self.center:\n",
        "            self.beta = self.add_weight(shape=shape,\n",
        "                                        name='beta',\n",
        "                                        initializer=self.beta_initializer,\n",
        "                                        regularizer=self.beta_regularizer,\n",
        "                                        constraint=self.beta_constraint)\n",
        "        else:\n",
        "            self.beta = None\n",
        "        self.built = True\n",
        "\n",
        "    def call(self, inputs, **kwargs):\n",
        "        input_shape = K.int_shape(inputs)\n",
        "        tensor_input_shape = K.shape(inputs)\n",
        "\n",
        "        # Prepare broadcasting shape.\n",
        "        reduction_axes = list(range(len(input_shape)))\n",
        "        del reduction_axes[self.axis]\n",
        "        broadcast_shape = [1] * len(input_shape)\n",
        "        broadcast_shape[self.axis] = input_shape[self.axis] // self.groups\n",
        "        broadcast_shape.insert(1, self.groups)\n",
        "\n",
        "        reshape_group_shape = K.shape(inputs)\n",
        "        group_axes = [reshape_group_shape[i] for i in range(len(input_shape))]\n",
        "        group_axes[self.axis] = input_shape[self.axis] // self.groups\n",
        "        group_axes.insert(1, self.groups)\n",
        "\n",
        "        # reshape inputs to new group shape\n",
        "        group_shape = [group_axes[0], self.groups] + group_axes[2:]\n",
        "        group_shape = K.stack(group_shape)\n",
        "        inputs = K.reshape(inputs, group_shape)\n",
        "\n",
        "        group_reduction_axes = list(range(len(group_axes)))\n",
        "        group_reduction_axes = group_reduction_axes[2:]\n",
        "\n",
        "        mean = K.mean(inputs, axis=group_reduction_axes, keepdims=True)\n",
        "        variance = K.var(inputs, axis=group_reduction_axes, keepdims=True)\n",
        "\n",
        "        inputs = (inputs - mean) / (K.sqrt(variance + self.epsilon))\n",
        "\n",
        "        # prepare broadcast shape\n",
        "        inputs = K.reshape(inputs, group_shape)\n",
        "        outputs = inputs\n",
        "\n",
        "        # In this case we must explicitly broadcast all parameters.\n",
        "        if self.scale:\n",
        "            broadcast_gamma = K.reshape(self.gamma, broadcast_shape)\n",
        "            outputs = outputs * broadcast_gamma\n",
        "\n",
        "        if self.center:\n",
        "            broadcast_beta = K.reshape(self.beta, broadcast_shape)\n",
        "            outputs = outputs + broadcast_beta\n",
        "\n",
        "        outputs = K.reshape(outputs, tensor_input_shape)\n",
        "\n",
        "        return outputs\n",
        "\n",
        "    def get_config(self):\n",
        "        config = {\n",
        "            'groups': self.groups,\n",
        "            'axis': self.axis,\n",
        "            'epsilon': self.epsilon,\n",
        "            'center': self.center,\n",
        "            'scale': self.scale,\n",
        "            'beta_initializer': initializers.serialize(self.beta_initializer),\n",
        "            'gamma_initializer': initializers.serialize(self.gamma_initializer),\n",
        "            'beta_regularizer': regularizers.serialize(self.beta_regularizer),\n",
        "            'gamma_regularizer': regularizers.serialize(self.gamma_regularizer),\n",
        "            'beta_constraint': constraints.serialize(self.beta_constraint),\n",
        "            'gamma_constraint': constraints.serialize(self.gamma_constraint)\n",
        "        }\n",
        "        base_config = super(GroupNormalization, self).get_config()\n",
        "        return dict(list(base_config.items()) + list(config.items()))\n",
        "\n",
        "    def compute_output_shape(self, input_shape):\n",
        "        return input_shape"
      ],
      "execution_count": 0,
      "outputs": []
    },
    {
      "cell_type": "markdown",
      "metadata": {
        "id": "fO95zH0nPIto",
        "colab_type": "text"
      },
      "source": [
        "# Data Generation"
      ]
    },
    {
      "cell_type": "code",
      "metadata": {
        "id": "QNiDcjR7PKRW",
        "colab_type": "code",
        "colab": {}
      },
      "source": [
        "from keras_preprocessing.image import ImageDataGenerator\n",
        "\n",
        "train_data_gen= ImageDataGenerator(\n",
        "    horizontal_flip=True,\n",
        "    #vertical_flip=True,\n",
        "    rotation_range=60,\n",
        "    width_shift_range=0.1,\n",
        "    height_shift_range=0.1,\n",
        "    zoom_range=.1,\n",
        "    rescale=1/255,\n",
        "    fill_mode='nearest',\n",
        "    shear_range=0.1,\n",
        "    #brightness_range=[0.5, 1.5],\n",
        "    preprocessing_function=load_ben_color)\n",
        "\n",
        "val_data_gen= ImageDataGenerator(\n",
        "    horizontal_flip=True,\n",
        "    #vertical_flip=True,\n",
        "    rotation_range=60,\n",
        "    width_shift_range=0.1,\n",
        "    height_shift_range=0.1,\n",
        "    zoom_range=.1,\n",
        "    rescale=1/255,\n",
        "    fill_mode='nearest',\n",
        "    shear_range=0.1,\n",
        "    #brightness_range=[0.5, 1.5],\n",
        "    preprocessing_function=load_ben_color)\n",
        "\n",
        "\n"
      ],
      "execution_count": 0,
      "outputs": []
    },
    {
      "cell_type": "code",
      "metadata": {
        "id": "zgqKChuPPUCn",
        "colab_type": "code",
        "outputId": "cb6f6a3f-5e29-4521-f2b1-a3a7f8ad93b1",
        "colab": {
          "base_uri": "https://localhost:8080/",
          "height": 50
        }
      },
      "source": [
        "label_cols=['N','D','G','C','A','H','M','O']\n",
        "direc='/content/data/ODIR-5K_Training_Dataset/'\n",
        "img_shape=300\n",
        "batch=10\n",
        "train_generator = train_data_gen.flow_from_dataframe(df_train, \n",
        "                                                        x_col='Image', \n",
        "                                                        y_col=label_cols,\n",
        "                                                        directory = direc,\n",
        "                                                        target_size=(img_shape, img_shape),\n",
        "                                                        batch_size=batch,\n",
        "                                                        class_mode='other')\n",
        "\n",
        "val_generator = val_data_gen.flow_from_dataframe(df_validation, \n",
        "                                                  x_col='Image', \n",
        "                                                  y_col=label_cols,\n",
        "                                                  directory = direc,\n",
        "                                                  target_size=(img_shape, img_shape),\n",
        "                                                  batch_size=batch,\n",
        "                                                  class_mode='other')"
      ],
      "execution_count": 0,
      "outputs": [
        {
          "output_type": "stream",
          "text": [
            "Found 5600 validated image filenames.\n",
            "Found 1400 validated image filenames.\n"
          ],
          "name": "stdout"
        }
      ]
    },
    {
      "cell_type": "markdown",
      "metadata": {
        "id": "65PAbjfOQZm7",
        "colab_type": "text"
      },
      "source": [
        "# Model Setup"
      ]
    },
    {
      "cell_type": "code",
      "metadata": {
        "id": "ftOXjxgGQOfT",
        "colab_type": "code",
        "colab": {}
      },
      "source": [
        "from keras.callbacks import ReduceLROnPlateau,ModelCheckpoint,EarlyStopping\n",
        "SAVED_MODEL_NAME  = 'wieghts.h5'\n",
        "checkpoint = ModelCheckpoint('model.h5', monitor='val_loss', verbose=1, save_best_only=True, mode='min')\n",
        "es = EarlyStopping(monitor='val_loss', mode='auto', verbose=1, patience=20)\n",
        "rlr = ReduceLROnPlateau(monitor='val_loss', factor=0.2, patience=3, verbose=1,mode='auto')"
      ],
      "execution_count": 0,
      "outputs": []
    },
    {
      "cell_type": "code",
      "metadata": {
        "id": "3-ojMgIlORea",
        "colab_type": "code",
        "outputId": "3dce2e2f-846a-4e84-8220-92583acb7d18",
        "colab": {
          "base_uri": "https://localhost:8080/",
          "height": 524
        }
      },
      "source": [
        "from efficientnet import EfficientNetB3\n",
        "effnet = EfficientNetB3(weights='imagenet', include_top=False)\n",
        "\n",
        "# Replace all Batch Normalization layers by Group Normalization layers\n",
        "for i, layer in enumerate(effnet.layers):\n",
        "    if \"batch_normalization\" in layer.name:\n",
        "        effnet.layers[i] = GroupNormalization(groups=32, axis=-1, epsilon=0.00001)\n",
        "        \n",
        "for i, layer in enumerate(effnet.layers[:-1]):\n",
        "    effnet.layers[i].train = False"
      ],
      "execution_count": 0,
      "outputs": [
        {
          "output_type": "stream",
          "text": [
            "WARNING:tensorflow:From /usr/local/lib/python3.6/dist-packages/keras/backend/tensorflow_backend.py:66: The name tf.get_default_graph is deprecated. Please use tf.compat.v1.get_default_graph instead.\n",
            "\n",
            "WARNING:tensorflow:From /usr/local/lib/python3.6/dist-packages/keras/backend/tensorflow_backend.py:541: The name tf.placeholder is deprecated. Please use tf.compat.v1.placeholder instead.\n",
            "\n",
            "WARNING:tensorflow:From /usr/local/lib/python3.6/dist-packages/efficientnet/initializers.py:44: The name tf.random_normal is deprecated. Please use tf.random.normal instead.\n",
            "\n",
            "WARNING:tensorflow:From /usr/local/lib/python3.6/dist-packages/keras/backend/tensorflow_backend.py:190: The name tf.get_default_session is deprecated. Please use tf.compat.v1.get_default_session instead.\n",
            "\n",
            "WARNING:tensorflow:From /usr/local/lib/python3.6/dist-packages/keras/backend/tensorflow_backend.py:197: The name tf.ConfigProto is deprecated. Please use tf.compat.v1.ConfigProto instead.\n",
            "\n",
            "WARNING:tensorflow:From /usr/local/lib/python3.6/dist-packages/keras/backend/tensorflow_backend.py:203: The name tf.Session is deprecated. Please use tf.compat.v1.Session instead.\n",
            "\n",
            "WARNING:tensorflow:From /usr/local/lib/python3.6/dist-packages/keras/backend/tensorflow_backend.py:207: The name tf.global_variables is deprecated. Please use tf.compat.v1.global_variables instead.\n",
            "\n",
            "WARNING:tensorflow:From /usr/local/lib/python3.6/dist-packages/keras/backend/tensorflow_backend.py:216: The name tf.is_variable_initialized is deprecated. Please use tf.compat.v1.is_variable_initialized instead.\n",
            "\n",
            "WARNING:tensorflow:From /usr/local/lib/python3.6/dist-packages/keras/backend/tensorflow_backend.py:223: The name tf.variables_initializer is deprecated. Please use tf.compat.v1.variables_initializer instead.\n",
            "\n",
            "WARNING:tensorflow:From /usr/local/lib/python3.6/dist-packages/keras/backend/tensorflow_backend.py:2041: The name tf.nn.fused_batch_norm is deprecated. Please use tf.compat.v1.nn.fused_batch_norm instead.\n",
            "\n",
            "WARNING:tensorflow:From /usr/local/lib/python3.6/dist-packages/keras/backend/tensorflow_backend.py:148: The name tf.placeholder_with_default is deprecated. Please use tf.compat.v1.placeholder_with_default instead.\n",
            "\n",
            "WARNING:tensorflow:From /usr/local/lib/python3.6/dist-packages/efficientnet/layers.py:38: The name tf.random_uniform is deprecated. Please use tf.random.uniform instead.\n",
            "\n",
            "WARNING:tensorflow:From /usr/local/lib/python3.6/dist-packages/efficientnet/layers.py:42: div (from tensorflow.python.ops.math_ops) is deprecated and will be removed in a future version.\n",
            "Instructions for updating:\n",
            "Deprecated in favor of operator or tf.math.divide.\n",
            "Downloading data from https://github.com/qubvel/efficientnet/releases/download/v0.0.1/efficientnet-b3_imagenet_1000_notop.h5\n",
            "43974656/43966704 [==============================] - 1s 0us/step\n"
          ],
          "name": "stdout"
        }
      ]
    },
    {
      "cell_type": "code",
      "metadata": {
        "id": "F8fk9CtgRiU7",
        "colab_type": "code",
        "outputId": "7a191bc3-db82-4bd2-fb9a-fb0121e00dc0",
        "colab": {
          "base_uri": "https://localhost:8080/",
          "height": 558
        }
      },
      "source": [
        "from keras.models import Sequential\n",
        "from keras.layers import GlobalAveragePooling2D,Dropout,Dense\n",
        "model = Sequential()    \n",
        "model.add(effnet)\n",
        "model.add(GlobalAveragePooling2D())\n",
        "model.add(Dropout(0.5))\n",
        "model.add(Dense(128, activation='relu'))\n",
        "model.add(Dense(64, activation='relu'))\n",
        "model.add(Dense(8, activation='sigmoid'))\n",
        "model.compile(loss='binary_crossentropy', optimizer='adam', metrics=['mse', 'acc'])\n",
        "print(model.summary()) "
      ],
      "execution_count": 0,
      "outputs": [
        {
          "output_type": "stream",
          "text": [
            "WARNING:tensorflow:From /usr/local/lib/python3.6/dist-packages/keras/backend/tensorflow_backend.py:3733: calling dropout (from tensorflow.python.ops.nn_ops) with keep_prob is deprecated and will be removed in a future version.\n",
            "Instructions for updating:\n",
            "Please use `rate` instead of `keep_prob`. Rate should be set to `rate = 1 - keep_prob`.\n",
            "WARNING:tensorflow:From /usr/local/lib/python3.6/dist-packages/keras/optimizers.py:793: The name tf.train.Optimizer is deprecated. Please use tf.compat.v1.train.Optimizer instead.\n",
            "\n",
            "WARNING:tensorflow:From /usr/local/lib/python3.6/dist-packages/keras/backend/tensorflow_backend.py:3657: The name tf.log is deprecated. Please use tf.math.log instead.\n",
            "\n",
            "WARNING:tensorflow:From /usr/local/lib/python3.6/dist-packages/tensorflow_core/python/ops/nn_impl.py:183: where (from tensorflow.python.ops.array_ops) is deprecated and will be removed in a future version.\n",
            "Instructions for updating:\n",
            "Use tf.where in 2.0, which has the same broadcast rule as np.where\n",
            "Model: \"sequential_1\"\n",
            "_________________________________________________________________\n",
            "Layer (type)                 Output Shape              Param #   \n",
            "=================================================================\n",
            "efficientnet-b3 (Model)      (None, 10, 10, 1536)      10608936  \n",
            "_________________________________________________________________\n",
            "global_average_pooling2d_1 ( (None, 1536)              0         \n",
            "_________________________________________________________________\n",
            "dropout_1 (Dropout)          (None, 1536)              0         \n",
            "_________________________________________________________________\n",
            "dense_1 (Dense)              (None, 128)               196736    \n",
            "_________________________________________________________________\n",
            "dense_2 (Dense)              (None, 64)                8256      \n",
            "_________________________________________________________________\n",
            "dense_3 (Dense)              (None, 8)                 520       \n",
            "=================================================================\n",
            "Total params: 10,814,448\n",
            "Trainable params: 10,814,448\n",
            "Non-trainable params: 0\n",
            "_________________________________________________________________\n",
            "None\n"
          ],
          "name": "stdout"
        }
      ]
    },
    {
      "cell_type": "code",
      "metadata": {
        "id": "oW5v3gYVQw4R",
        "colab_type": "code",
        "outputId": "c4ab48c3-3e72-440c-a84c-43cd09cafcc8",
        "colab": {
          "base_uri": "https://localhost:8080/",
          "height": 1000
        }
      },
      "source": [
        "class_weights=[8.77, 8.66, 46.0, 47.,60.0,97.0,57.0,10.0]\n",
        "\n",
        "model.fit_generator(train_generator,\n",
        "                    class_weight=class_weights,\n",
        "                    steps_per_epoch=train_generator.samples // batch,                    \n",
        "                    epochs=30,\n",
        "                    validation_data=val_generator,\n",
        "                    validation_steps = val_generator.samples //batch,                    \n",
        "                    callbacks=[  rlr,checkpoint]\n",
        "                    )"
      ],
      "execution_count": 0,
      "outputs": [
        {
          "output_type": "stream",
          "text": [
            "WARNING:tensorflow:From /usr/local/lib/python3.6/dist-packages/keras/backend/tensorflow_backend.py:1033: The name tf.assign_add is deprecated. Please use tf.compat.v1.assign_add instead.\n",
            "\n",
            "WARNING:tensorflow:From /usr/local/lib/python3.6/dist-packages/keras/backend/tensorflow_backend.py:1020: The name tf.assign is deprecated. Please use tf.compat.v1.assign instead.\n",
            "\n",
            "Epoch 1/30\n",
            "560/560 [==============================] - 695s 1s/step - loss: 0.2751 - mean_squared_error: 0.0855 - acc: 0.8794 - val_loss: 0.2609 - val_mean_squared_error: 0.0812 - val_acc: 0.8877\n",
            "\n",
            "Epoch 00001: val_loss improved from inf to 0.26088, saving model to model.h5\n",
            "Epoch 2/30\n",
            "560/560 [==============================] - 649s 1s/step - loss: 0.2519 - mean_squared_error: 0.0787 - acc: 0.8873 - val_loss: 0.2496 - val_mean_squared_error: 0.0787 - val_acc: 0.8863\n",
            "\n",
            "Epoch 00002: val_loss improved from 0.26088 to 0.24964, saving model to model.h5\n",
            "Epoch 3/30\n",
            "560/560 [==============================] - 652s 1s/step - loss: 0.2422 - mean_squared_error: 0.0760 - acc: 0.8911 - val_loss: 0.2350 - val_mean_squared_error: 0.0735 - val_acc: 0.8967\n",
            "\n",
            "Epoch 00003: val_loss improved from 0.24964 to 0.23496, saving model to model.h5\n",
            "Epoch 4/30\n",
            "560/560 [==============================] - 661s 1s/step - loss: 0.2363 - mean_squared_error: 0.0742 - acc: 0.8948 - val_loss: 0.2330 - val_mean_squared_error: 0.0729 - val_acc: 0.8962\n",
            "\n",
            "Epoch 00004: val_loss improved from 0.23496 to 0.23304, saving model to model.h5\n",
            "Epoch 5/30\n",
            "560/560 [==============================] - 660s 1s/step - loss: 0.2326 - mean_squared_error: 0.0729 - acc: 0.8957 - val_loss: 0.2232 - val_mean_squared_error: 0.0702 - val_acc: 0.8976\n",
            "\n",
            "Epoch 00005: val_loss improved from 0.23304 to 0.22320, saving model to model.h5\n",
            "Epoch 6/30\n",
            "560/560 [==============================] - 629s 1s/step - loss: 0.2265 - mean_squared_error: 0.0710 - acc: 0.8977 - val_loss: 0.2188 - val_mean_squared_error: 0.0686 - val_acc: 0.9035\n",
            "\n",
            "Epoch 00006: val_loss improved from 0.22320 to 0.21877, saving model to model.h5\n",
            "Epoch 7/30\n",
            "560/560 [==============================] - 609s 1s/step - loss: 0.2258 - mean_squared_error: 0.0707 - acc: 0.8992 - val_loss: 0.2309 - val_mean_squared_error: 0.0718 - val_acc: 0.8971\n",
            "\n",
            "Epoch 00007: val_loss did not improve from 0.21877\n",
            "Epoch 8/30\n",
            "560/560 [==============================] - 607s 1s/step - loss: 0.2225 - mean_squared_error: 0.0698 - acc: 0.9008 - val_loss: 0.2440 - val_mean_squared_error: 0.0762 - val_acc: 0.8907\n",
            "\n",
            "Epoch 00008: val_loss did not improve from 0.21877\n",
            "Epoch 9/30\n",
            "560/560 [==============================] - 631s 1s/step - loss: 0.2207 - mean_squared_error: 0.0688 - acc: 0.9023 - val_loss: 0.2225 - val_mean_squared_error: 0.0688 - val_acc: 0.9050\n",
            "\n",
            "Epoch 00009: ReduceLROnPlateau reducing learning rate to 0.00020000000949949026.\n",
            "\n",
            "Epoch 00009: val_loss did not improve from 0.21877\n",
            "Epoch 10/30\n",
            "560/560 [==============================] - 631s 1s/step - loss: 0.2041 - mean_squared_error: 0.0637 - acc: 0.9099 - val_loss: 0.2055 - val_mean_squared_error: 0.0639 - val_acc: 0.9116\n",
            "\n",
            "Epoch 00010: val_loss improved from 0.21877 to 0.20548, saving model to model.h5\n",
            "Epoch 11/30\n",
            "560/560 [==============================] - 626s 1s/step - loss: 0.1949 - mean_squared_error: 0.0607 - acc: 0.9146 - val_loss: 0.2105 - val_mean_squared_error: 0.0658 - val_acc: 0.9097\n",
            "\n",
            "Epoch 00011: val_loss did not improve from 0.20548\n",
            "Epoch 12/30\n",
            "560/560 [==============================] - 610s 1s/step - loss: 0.1898 - mean_squared_error: 0.0592 - acc: 0.9160 - val_loss: 0.2046 - val_mean_squared_error: 0.0640 - val_acc: 0.9104\n",
            "\n",
            "Epoch 00012: val_loss improved from 0.20548 to 0.20464, saving model to model.h5\n",
            "Epoch 13/30\n",
            "560/560 [==============================] - 609s 1s/step - loss: 0.1878 - mean_squared_error: 0.0582 - acc: 0.9182 - val_loss: 0.2096 - val_mean_squared_error: 0.0648 - val_acc: 0.9087\n",
            "\n",
            "Epoch 00013: val_loss did not improve from 0.20464\n",
            "Epoch 14/30\n",
            "560/560 [==============================] - 607s 1s/step - loss: 0.1842 - mean_squared_error: 0.0573 - acc: 0.9205 - val_loss: 0.2085 - val_mean_squared_error: 0.0645 - val_acc: 0.9092\n",
            "\n",
            "Epoch 00014: val_loss did not improve from 0.20464\n",
            "Epoch 15/30\n",
            "560/560 [==============================] - 620s 1s/step - loss: 0.1819 - mean_squared_error: 0.0565 - acc: 0.9206 - val_loss: 0.2015 - val_mean_squared_error: 0.0628 - val_acc: 0.9113\n",
            "\n",
            "Epoch 00015: val_loss improved from 0.20464 to 0.20155, saving model to model.h5\n",
            "Epoch 16/30\n",
            "560/560 [==============================] - 638s 1s/step - loss: 0.1767 - mean_squared_error: 0.0547 - acc: 0.9234 - val_loss: 0.2032 - val_mean_squared_error: 0.0625 - val_acc: 0.9129\n",
            "\n",
            "Epoch 00016: val_loss did not improve from 0.20155\n",
            "Epoch 17/30\n",
            "560/560 [==============================] - 633s 1s/step - loss: 0.1728 - mean_squared_error: 0.0533 - acc: 0.9264 - val_loss: 0.2085 - val_mean_squared_error: 0.0639 - val_acc: 0.9115\n",
            "\n",
            "Epoch 00017: val_loss did not improve from 0.20155\n",
            "Epoch 18/30\n",
            "210/560 [==========>...................] - ETA: 5:17 - loss: 0.1681 - mean_squared_error: 0.0519 - acc: 0.9283WARNING:tensorflow:From /usr/local/lib/python3.6/dist-packages/keras/backend/tensorflow_backend.py:1033: The name tf.assign_add is deprecated. Please use tf.compat.v1.assign_add instead.\n",
            "\n",
            "WARNING:tensorflow:From /usr/local/lib/python3.6/dist-packages/keras/backend/tensorflow_backend.py:1020: The name tf.assign is deprecated. Please use tf.compat.v1.assign instead.\n",
            "\n",
            "Epoch 1/30\n",
            "560/560 [==============================] - 695s 1s/step - loss: 0.2751 - mean_squared_error: 0.0855 - acc: 0.8794 - val_loss: 0.2609 - val_mean_squared_error: 0.0812 - val_acc: 0.8877\n",
            "\n",
            "Epoch 00001: val_loss improved from inf to 0.26088, saving model to model.h5\n",
            "Epoch 2/30\n",
            "560/560 [==============================] - 649s 1s/step - loss: 0.2519 - mean_squared_error: 0.0787 - acc: 0.8873 - val_loss: 0.2496 - val_mean_squared_error: 0.0787 - val_acc: 0.8863\n",
            "\n",
            "Epoch 00002: val_loss improved from 0.26088 to 0.24964, saving model to model.h5\n",
            "Epoch 3/30\n",
            "560/560 [==============================] - 652s 1s/step - loss: 0.2422 - mean_squared_error: 0.0760 - acc: 0.8911 - val_loss: 0.2350 - val_mean_squared_error: 0.0735 - val_acc: 0.8967\n",
            "\n",
            "Epoch 00003: val_loss improved from 0.24964 to 0.23496, saving model to model.h5\n",
            "Epoch 4/30\n",
            "560/560 [==============================] - 661s 1s/step - loss: 0.2363 - mean_squared_error: 0.0742 - acc: 0.8948 - val_loss: 0.2330 - val_mean_squared_error: 0.0729 - val_acc: 0.8962\n",
            "\n",
            "Epoch 00004: val_loss improved from 0.23496 to 0.23304, saving model to model.h5\n",
            "Epoch 5/30\n",
            "560/560 [==============================] - 660s 1s/step - loss: 0.2326 - mean_squared_error: 0.0729 - acc: 0.8957 - val_loss: 0.2232 - val_mean_squared_error: 0.0702 - val_acc: 0.8976\n",
            "\n",
            "Epoch 00005: val_loss improved from 0.23304 to 0.22320, saving model to model.h5\n",
            "Epoch 6/30\n",
            "560/560 [==============================] - 629s 1s/step - loss: 0.2265 - mean_squared_error: 0.0710 - acc: 0.8977 - val_loss: 0.2188 - val_mean_squared_error: 0.0686 - val_acc: 0.9035\n",
            "\n",
            "Epoch 00006: val_loss improved from 0.22320 to 0.21877, saving model to model.h5\n",
            "Epoch 7/30\n",
            "560/560 [==============================] - 609s 1s/step - loss: 0.2258 - mean_squared_error: 0.0707 - acc: 0.8992 - val_loss: 0.2309 - val_mean_squared_error: 0.0718 - val_acc: 0.8971\n",
            "\n",
            "Epoch 00007: val_loss did not improve from 0.21877\n",
            "Epoch 8/30\n",
            "560/560 [==============================] - 607s 1s/step - loss: 0.2225 - mean_squared_error: 0.0698 - acc: 0.9008 - val_loss: 0.2440 - val_mean_squared_error: 0.0762 - val_acc: 0.8907\n",
            "\n",
            "Epoch 00008: val_loss did not improve from 0.21877\n",
            "Epoch 9/30\n",
            "560/560 [==============================] - 631s 1s/step - loss: 0.2207 - mean_squared_error: 0.0688 - acc: 0.9023 - val_loss: 0.2225 - val_mean_squared_error: 0.0688 - val_acc: 0.9050\n",
            "\n",
            "Epoch 00009: ReduceLROnPlateau reducing learning rate to 0.00020000000949949026.\n",
            "\n",
            "Epoch 00009: val_loss did not improve from 0.21877\n",
            "Epoch 10/30\n",
            "560/560 [==============================] - 631s 1s/step - loss: 0.2041 - mean_squared_error: 0.0637 - acc: 0.9099 - val_loss: 0.2055 - val_mean_squared_error: 0.0639 - val_acc: 0.9116\n",
            "\n",
            "Epoch 00010: val_loss improved from 0.21877 to 0.20548, saving model to model.h5\n",
            "Epoch 11/30\n",
            "560/560 [==============================] - 626s 1s/step - loss: 0.1949 - mean_squared_error: 0.0607 - acc: 0.9146 - val_loss: 0.2105 - val_mean_squared_error: 0.0658 - val_acc: 0.9097\n",
            "\n",
            "Epoch 00011: val_loss did not improve from 0.20548\n",
            "Epoch 12/30\n",
            "560/560 [==============================] - 610s 1s/step - loss: 0.1898 - mean_squared_error: 0.0592 - acc: 0.9160 - val_loss: 0.2046 - val_mean_squared_error: 0.0640 - val_acc: 0.9104\n",
            "\n",
            "Epoch 00012: val_loss improved from 0.20548 to 0.20464, saving model to model.h5\n",
            "Epoch 13/30\n",
            "560/560 [==============================] - 609s 1s/step - loss: 0.1878 - mean_squared_error: 0.0582 - acc: 0.9182 - val_loss: 0.2096 - val_mean_squared_error: 0.0648 - val_acc: 0.9087\n",
            "\n",
            "Epoch 00013: val_loss did not improve from 0.20464\n",
            "Epoch 14/30\n",
            "560/560 [==============================] - 607s 1s/step - loss: 0.1842 - mean_squared_error: 0.0573 - acc: 0.9205 - val_loss: 0.2085 - val_mean_squared_error: 0.0645 - val_acc: 0.9092\n",
            "\n",
            "Epoch 00014: val_loss did not improve from 0.20464\n",
            "Epoch 15/30\n",
            "560/560 [==============================] - 620s 1s/step - loss: 0.1819 - mean_squared_error: 0.0565 - acc: 0.9206 - val_loss: 0.2015 - val_mean_squared_error: 0.0628 - val_acc: 0.9113\n",
            "\n",
            "Epoch 00015: val_loss improved from 0.20464 to 0.20155, saving model to model.h5\n",
            "Epoch 16/30\n",
            "560/560 [==============================] - 638s 1s/step - loss: 0.1767 - mean_squared_error: 0.0547 - acc: 0.9234 - val_loss: 0.2032 - val_mean_squared_error: 0.0625 - val_acc: 0.9129\n",
            "\n",
            "Epoch 00016: val_loss did not improve from 0.20155\n",
            "Epoch 17/30\n",
            "560/560 [==============================] - 633s 1s/step - loss: 0.1728 - mean_squared_error: 0.0533 - acc: 0.9264 - val_loss: 0.2085 - val_mean_squared_error: 0.0639 - val_acc: 0.9115\n",
            "\n",
            "Epoch 00017: val_loss did not improve from 0.20155\n",
            "Epoch 18/30\n",
            "560/560 [==============================] - 609s 1s/step - loss: 0.1716 - mean_squared_error: 0.0529 - acc: 0.9263 - val_loss: 0.2096 - val_mean_squared_error: 0.0638 - val_acc: 0.9119\n",
            "560/560 [==============================] - 609s 1s/step - loss: 0.1716 - mean_squared_error: 0.0529 - acc: 0.9263 - val_loss: 0.2096 - val_mean_squared_error: 0.0638 - val_acc: 0.9119\n",
            "\n",
            "Epoch 00018: ReduceLROnPlateau reducing learning rate to 4.0000001899898055e-05.\n",
            "\n",
            "Epoch 00018: val_loss did not improve from 0.20155\n",
            "Epoch 19/30\n",
            "\n",
            "Epoch 00018: ReduceLROnPlateau reducing learning rate to 4.0000001899898055e-05.\n",
            "\n",
            "Epoch 00018: val_loss did not improve from 0.20155\n",
            "Epoch 19/30\n",
            "560/560 [==============================] - 602s 1s/step - loss: 0.1618 - mean_squared_error: 0.0499 - acc: 0.9300 - val_loss: 0.2093 - val_mean_squared_error: 0.0642 - val_acc: 0.9115\n",
            "560/560 [==============================] - 602s 1s/step - loss: 0.1618 - mean_squared_error: 0.0499 - acc: 0.9300 - val_loss: 0.2093 - val_mean_squared_error: 0.0642 - val_acc: 0.9115\n",
            "\n",
            "Epoch 00019: val_loss did not improve from 0.20155\n",
            "Epoch 20/30\n",
            "\n",
            "Epoch 00019: val_loss did not improve from 0.20155\n",
            "Epoch 20/30\n",
            "560/560 [==============================] - 598s 1s/step - loss: 0.1586 - mean_squared_error: 0.0487 - acc: 0.9327 - val_loss: 0.2079 - val_mean_squared_error: 0.0629 - val_acc: 0.9143\n",
            "560/560 [==============================] - 598s 1s/step - loss: 0.1586 - mean_squared_error: 0.0487 - acc: 0.9327 - val_loss: 0.2079 - val_mean_squared_error: 0.0629 - val_acc: 0.9143\n",
            "\n",
            "Epoch 00020: val_loss did not improve from 0.20155\n",
            "Epoch 21/30\n",
            "\n",
            "Epoch 00020: val_loss did not improve from 0.20155\n",
            "Epoch 21/30\n",
            "560/560 [==============================] - 599s 1s/step - loss: 0.1565 - mean_squared_error: 0.0482 - acc: 0.9319 - val_loss: 0.2059 - val_mean_squared_error: 0.0627 - val_acc: 0.9150\n",
            "560/560 [==============================] - 599s 1s/step - loss: 0.1565 - mean_squared_error: 0.0482 - acc: 0.9319 - val_loss: 0.2059 - val_mean_squared_error: 0.0627 - val_acc: 0.9150\n",
            "\n",
            "Epoch 00021: ReduceLROnPlateau reducing learning rate to 8.000000525498762e-06.\n",
            "\n",
            "Epoch 00021: val_loss did not improve from 0.20155\n",
            "Epoch 22/30\n",
            "\n",
            "Epoch 00021: ReduceLROnPlateau reducing learning rate to 8.000000525498762e-06.\n",
            "\n",
            "Epoch 00021: val_loss did not improve from 0.20155\n",
            "Epoch 22/30\n",
            "560/560 [==============================] - 595s 1s/step - loss: 0.1513 - mean_squared_error: 0.0462 - acc: 0.9358 - val_loss: 0.2099 - val_mean_squared_error: 0.0638 - val_acc: 0.9129\n",
            "560/560 [==============================] - 595s 1s/step - loss: 0.1513 - mean_squared_error: 0.0462 - acc: 0.9358 - val_loss: 0.2099 - val_mean_squared_error: 0.0638 - val_acc: 0.9129\n",
            "\n",
            "Epoch 00022: val_loss did not improve from 0.20155\n",
            "Epoch 23/30\n",
            "\n",
            "Epoch 00022: val_loss did not improve from 0.20155\n",
            "Epoch 23/30\n",
            "560/560 [==============================] - 594s 1s/step - loss: 0.1538 - mean_squared_error: 0.0473 - acc: 0.9343 - val_loss: 0.2103 - val_mean_squared_error: 0.0640 - val_acc: 0.9121\n",
            "560/560 [==============================] - 594s 1s/step - loss: 0.1538 - mean_squared_error: 0.0473 - acc: 0.9343 - val_loss: 0.2103 - val_mean_squared_error: 0.0640 - val_acc: 0.9121\n",
            "\n",
            "Epoch 00023: val_loss did not improve from 0.20155\n",
            "Epoch 24/30\n",
            "\n",
            "Epoch 00023: val_loss did not improve from 0.20155\n",
            "Epoch 24/30\n",
            "560/560 [==============================] - 603s 1s/step - loss: 0.1523 - mean_squared_error: 0.0464 - acc: 0.9362 - val_loss: 0.2154 - val_mean_squared_error: 0.0658 - val_acc: 0.9085\n",
            "560/560 [==============================] - 603s 1s/step - loss: 0.1523 - mean_squared_error: 0.0464 - acc: 0.9362 - val_loss: 0.2154 - val_mean_squared_error: 0.0658 - val_acc: 0.9085\n",
            "\n",
            "Epoch 00024: ReduceLROnPlateau reducing learning rate to 1.6000001778593287e-06.\n",
            "\n",
            "Epoch 00024: val_loss did not improve from 0.20155\n",
            "Epoch 25/30\n",
            "\n",
            "Epoch 00024: ReduceLROnPlateau reducing learning rate to 1.6000001778593287e-06.\n",
            "\n",
            "Epoch 00024: val_loss did not improve from 0.20155\n",
            "Epoch 25/30\n",
            "560/560 [==============================] - 598s 1s/step - loss: 0.1516 - mean_squared_error: 0.0463 - acc: 0.9358 - val_loss: 0.2103 - val_mean_squared_error: 0.0638 - val_acc: 0.9118\n",
            "560/560 [==============================] - 598s 1s/step - loss: 0.1516 - mean_squared_error: 0.0463 - acc: 0.9358 - val_loss: 0.2103 - val_mean_squared_error: 0.0638 - val_acc: 0.9118\n",
            "\n",
            "Epoch 00025: val_loss did not improve from 0.20155\n",
            "Epoch 26/30\n",
            "\n",
            "Epoch 00025: val_loss did not improve from 0.20155\n",
            "Epoch 26/30\n",
            "560/560 [==============================] - 600s 1s/step - loss: 0.1526 - mean_squared_error: 0.0467 - acc: 0.9351 - val_loss: 0.2087 - val_mean_squared_error: 0.0631 - val_acc: 0.9129\n",
            "560/560 [==============================] - 600s 1s/step - loss: 0.1526 - mean_squared_error: 0.0467 - acc: 0.9351 - val_loss: 0.2087 - val_mean_squared_error: 0.0631 - val_acc: 0.9129\n",
            "\n",
            "Epoch 00026: val_loss did not improve from 0.20155\n",
            "Epoch 27/30\n",
            "\n",
            "Epoch 00026: val_loss did not improve from 0.20155\n",
            "Epoch 27/30\n",
            "560/560 [==============================] - 598s 1s/step - loss: 0.1502 - mean_squared_error: 0.0460 - acc: 0.9362 - val_loss: 0.2087 - val_mean_squared_error: 0.0630 - val_acc: 0.9129\n",
            "560/560 [==============================] - 598s 1s/step - loss: 0.1502 - mean_squared_error: 0.0460 - acc: 0.9362 - val_loss: 0.2087 - val_mean_squared_error: 0.0630 - val_acc: 0.9129\n",
            "\n",
            "Epoch 00027: ReduceLROnPlateau reducing learning rate to 3.200000264769187e-07.\n",
            "\n",
            "Epoch 00027: val_loss did not improve from 0.20155\n",
            "Epoch 28/30\n",
            "\n",
            "Epoch 00027: ReduceLROnPlateau reducing learning rate to 3.200000264769187e-07.\n",
            "\n",
            "Epoch 00027: val_loss did not improve from 0.20155\n",
            "Epoch 28/30\n",
            "560/560 [==============================] - 599s 1s/step - loss: 0.1524 - mean_squared_error: 0.0467 - acc: 0.9358 - val_loss: 0.2100 - val_mean_squared_error: 0.0638 - val_acc: 0.9121\n",
            "560/560 [==============================] - 599s 1s/step - loss: 0.1524 - mean_squared_error: 0.0467 - acc: 0.9358 - val_loss: 0.2100 - val_mean_squared_error: 0.0638 - val_acc: 0.9121\n",
            "\n",
            "Epoch 00028: val_loss did not improve from 0.20155\n",
            "Epoch 29/30\n",
            "\n",
            "Epoch 00028: val_loss did not improve from 0.20155\n",
            "Epoch 29/30\n",
            "560/560 [==============================] - 601s 1s/step - loss: 0.1497 - mean_squared_error: 0.0458 - acc: 0.9359 - val_loss: 0.2071 - val_mean_squared_error: 0.0630 - val_acc: 0.9131\n",
            "560/560 [==============================] - 601s 1s/step - loss: 0.1497 - mean_squared_error: 0.0458 - acc: 0.9359 - val_loss: 0.2071 - val_mean_squared_error: 0.0630 - val_acc: 0.9131\n",
            "\n",
            "Epoch 00029: val_loss did not improve from 0.20155\n",
            "Epoch 30/30\n",
            "\n",
            "Epoch 00029: val_loss did not improve from 0.20155\n",
            "Epoch 30/30\n",
            "560/560 [==============================] - 600s 1s/step - loss: 0.1530 - mean_squared_error: 0.0470 - acc: 0.9355 - val_loss: 0.2147 - val_mean_squared_error: 0.0647 - val_acc: 0.9107\n",
            "560/560 [==============================] - 600s 1s/step - loss: 0.1530 - mean_squared_error: 0.0470 - acc: 0.9355 - val_loss: 0.2147 - val_mean_squared_error: 0.0647 - val_acc: 0.9107\n",
            "\n",
            "Epoch 00030: ReduceLROnPlateau reducing learning rate to 6.400000529538374e-08.\n",
            "\n",
            "Epoch 00030: val_loss did not improve from 0.20155\n",
            "\n",
            "Epoch 00030: ReduceLROnPlateau reducing learning rate to 6.400000529538374e-08.\n",
            "\n",
            "Epoch 00030: val_loss did not improve from 0.20155\n"
          ],
          "name": "stdout"
        },
        {
          "output_type": "execute_result",
          "data": {
            "text/plain": [
              "<keras.callbacks.History at 0x7f3fa07d74e0>"
            ]
          },
          "metadata": {
            "tags": []
          },
          "execution_count": 26
        },
        {
          "output_type": "execute_result",
          "data": {
            "text/plain": [
              "<keras.callbacks.History at 0x7f3fa07d74e0>"
            ]
          },
          "metadata": {
            "tags": []
          },
          "execution_count": 26
        }
      ]
    },
    {
      "cell_type": "code",
      "metadata": {
        "id": "Ilu16bAxgVah",
        "colab_type": "code",
        "colab": {}
      },
      "source": [
        "model.save_weights(path+\"single_model.h5\")\n"
      ],
      "execution_count": 0,
      "outputs": []
    },
    {
      "cell_type": "code",
      "metadata": {
        "id": "OiidmPM_M2PV",
        "colab_type": "code",
        "colab": {}
      },
      "source": [
        "# from keras.backend import clear_session as cs\n",
        "# cs()"
      ],
      "execution_count": 0,
      "outputs": []
    },
    {
      "cell_type": "code",
      "metadata": {
        "id": "3cQ9I7HTW9-o",
        "colab_type": "code",
        "colab": {}
      },
      "source": [
        ""
      ],
      "execution_count": 0,
      "outputs": []
    },
    {
      "cell_type": "code",
      "metadata": {
        "id": "UI4PPARXa2PT",
        "colab_type": "code",
        "colab": {}
      },
      "source": [
        ""
      ],
      "execution_count": 0,
      "outputs": []
    },
    {
      "cell_type": "markdown",
      "metadata": {
        "id": "g09l8X0Ma21O",
        "colab_type": "text"
      },
      "source": [
        "# Create Submission File"
      ]
    },
    {
      "cell_type": "markdown",
      "metadata": {
        "id": "QRtK6JGPbzJW",
        "colab_type": "text"
      },
      "source": [
        "## SPlit to left and right "
      ]
    },
    {
      "cell_type": "code",
      "metadata": {
        "id": "3Al8-7jDa54A",
        "colab_type": "code",
        "outputId": "04f6d43e-eece-412e-a2e2-7e51f0835569",
        "colab": {
          "base_uri": "https://localhost:8080/",
          "height": 374
        }
      },
      "source": [
        "test_sample = pd.read_csv(path+'XYZ_ODIR.csv')\n",
        "test_sample.head()"
      ],
      "execution_count": 0,
      "outputs": [
        {
          "output_type": "execute_result",
          "data": {
            "text/html": [
              "<div>\n",
              "<style scoped>\n",
              "    .dataframe tbody tr th:only-of-type {\n",
              "        vertical-align: middle;\n",
              "    }\n",
              "\n",
              "    .dataframe tbody tr th {\n",
              "        vertical-align: top;\n",
              "    }\n",
              "\n",
              "    .dataframe thead th {\n",
              "        text-align: right;\n",
              "    }\n",
              "</style>\n",
              "<table border=\"1\" class=\"dataframe\">\n",
              "  <thead>\n",
              "    <tr style=\"text-align: right;\">\n",
              "      <th></th>\n",
              "      <th>ID</th>\n",
              "      <th>N</th>\n",
              "      <th>D</th>\n",
              "      <th>G</th>\n",
              "      <th>C</th>\n",
              "      <th>A</th>\n",
              "      <th>H</th>\n",
              "      <th>M</th>\n",
              "      <th>O</th>\n",
              "    </tr>\n",
              "  </thead>\n",
              "  <tbody>\n",
              "    <tr>\n",
              "      <th>0</th>\n",
              "      <td>937</td>\n",
              "      <td>0</td>\n",
              "      <td>0</td>\n",
              "      <td>0</td>\n",
              "      <td>0</td>\n",
              "      <td>0</td>\n",
              "      <td>0</td>\n",
              "      <td>0</td>\n",
              "      <td>0</td>\n",
              "    </tr>\n",
              "    <tr>\n",
              "      <th>1</th>\n",
              "      <td>967</td>\n",
              "      <td>0</td>\n",
              "      <td>0</td>\n",
              "      <td>0</td>\n",
              "      <td>0</td>\n",
              "      <td>0</td>\n",
              "      <td>0</td>\n",
              "      <td>0</td>\n",
              "      <td>0</td>\n",
              "    </tr>\n",
              "    <tr>\n",
              "      <th>2</th>\n",
              "      <td>988</td>\n",
              "      <td>0</td>\n",
              "      <td>0</td>\n",
              "      <td>0</td>\n",
              "      <td>0</td>\n",
              "      <td>0</td>\n",
              "      <td>0</td>\n",
              "      <td>0</td>\n",
              "      <td>0</td>\n",
              "    </tr>\n",
              "    <tr>\n",
              "      <th>3</th>\n",
              "      <td>995</td>\n",
              "      <td>0</td>\n",
              "      <td>0</td>\n",
              "      <td>0</td>\n",
              "      <td>0</td>\n",
              "      <td>0</td>\n",
              "      <td>0</td>\n",
              "      <td>0</td>\n",
              "      <td>0</td>\n",
              "    </tr>\n",
              "    <tr>\n",
              "      <th>4</th>\n",
              "      <td>1000</td>\n",
              "      <td>0</td>\n",
              "      <td>0</td>\n",
              "      <td>0</td>\n",
              "      <td>0</td>\n",
              "      <td>0</td>\n",
              "      <td>0</td>\n",
              "      <td>0</td>\n",
              "      <td>0</td>\n",
              "    </tr>\n",
              "  </tbody>\n",
              "</table>\n",
              "</div>"
            ],
            "text/plain": [
              "     ID  N  D  G  C  A  H  M  O\n",
              "0   937  0  0  0  0  0  0  0  0\n",
              "1   967  0  0  0  0  0  0  0  0\n",
              "2   988  0  0  0  0  0  0  0  0\n",
              "3   995  0  0  0  0  0  0  0  0\n",
              "4  1000  0  0  0  0  0  0  0  0"
            ]
          },
          "metadata": {
            "tags": []
          },
          "execution_count": 28
        },
        {
          "output_type": "execute_result",
          "data": {
            "text/html": [
              "<div>\n",
              "<style scoped>\n",
              "    .dataframe tbody tr th:only-of-type {\n",
              "        vertical-align: middle;\n",
              "    }\n",
              "\n",
              "    .dataframe tbody tr th {\n",
              "        vertical-align: top;\n",
              "    }\n",
              "\n",
              "    .dataframe thead th {\n",
              "        text-align: right;\n",
              "    }\n",
              "</style>\n",
              "<table border=\"1\" class=\"dataframe\">\n",
              "  <thead>\n",
              "    <tr style=\"text-align: right;\">\n",
              "      <th></th>\n",
              "      <th>ID</th>\n",
              "      <th>N</th>\n",
              "      <th>D</th>\n",
              "      <th>G</th>\n",
              "      <th>C</th>\n",
              "      <th>A</th>\n",
              "      <th>H</th>\n",
              "      <th>M</th>\n",
              "      <th>O</th>\n",
              "    </tr>\n",
              "  </thead>\n",
              "  <tbody>\n",
              "    <tr>\n",
              "      <th>0</th>\n",
              "      <td>937</td>\n",
              "      <td>0</td>\n",
              "      <td>0</td>\n",
              "      <td>0</td>\n",
              "      <td>0</td>\n",
              "      <td>0</td>\n",
              "      <td>0</td>\n",
              "      <td>0</td>\n",
              "      <td>0</td>\n",
              "    </tr>\n",
              "    <tr>\n",
              "      <th>1</th>\n",
              "      <td>967</td>\n",
              "      <td>0</td>\n",
              "      <td>0</td>\n",
              "      <td>0</td>\n",
              "      <td>0</td>\n",
              "      <td>0</td>\n",
              "      <td>0</td>\n",
              "      <td>0</td>\n",
              "      <td>0</td>\n",
              "    </tr>\n",
              "    <tr>\n",
              "      <th>2</th>\n",
              "      <td>988</td>\n",
              "      <td>0</td>\n",
              "      <td>0</td>\n",
              "      <td>0</td>\n",
              "      <td>0</td>\n",
              "      <td>0</td>\n",
              "      <td>0</td>\n",
              "      <td>0</td>\n",
              "      <td>0</td>\n",
              "    </tr>\n",
              "    <tr>\n",
              "      <th>3</th>\n",
              "      <td>995</td>\n",
              "      <td>0</td>\n",
              "      <td>0</td>\n",
              "      <td>0</td>\n",
              "      <td>0</td>\n",
              "      <td>0</td>\n",
              "      <td>0</td>\n",
              "      <td>0</td>\n",
              "      <td>0</td>\n",
              "    </tr>\n",
              "    <tr>\n",
              "      <th>4</th>\n",
              "      <td>1000</td>\n",
              "      <td>0</td>\n",
              "      <td>0</td>\n",
              "      <td>0</td>\n",
              "      <td>0</td>\n",
              "      <td>0</td>\n",
              "      <td>0</td>\n",
              "      <td>0</td>\n",
              "      <td>0</td>\n",
              "    </tr>\n",
              "  </tbody>\n",
              "</table>\n",
              "</div>"
            ],
            "text/plain": [
              "     ID  N  D  G  C  A  H  M  O\n",
              "0   937  0  0  0  0  0  0  0  0\n",
              "1   967  0  0  0  0  0  0  0  0\n",
              "2   988  0  0  0  0  0  0  0  0\n",
              "3   995  0  0  0  0  0  0  0  0\n",
              "4  1000  0  0  0  0  0  0  0  0"
            ]
          },
          "metadata": {
            "tags": []
          },
          "execution_count": 28
        }
      ]
    },
    {
      "cell_type": "code",
      "metadata": {
        "id": "eIpPMVCkbK0R",
        "colab_type": "code",
        "colab": {}
      },
      "source": [
        "left_test = pd.DataFrame() \n",
        "left_test['ID']     = test_sample.ID\n",
        "left_test['Image'] = test_sample.ID.apply(lambda x: str(x)+\"_left.jpg\")\n",
        "\n",
        "right_test = pd.DataFrame() \n",
        "right_test['ID']     = test_sample.ID\n",
        "right_test['Image'] = test_sample.ID.apply(lambda x: str(x)+\"_right.jpg\")\n",
        "\n",
        "print('DF were created.')"
      ],
      "execution_count": 0,
      "outputs": []
    },
    {
      "cell_type": "code",
      "metadata": {
        "id": "GZcEbomLdLp5",
        "colab_type": "code",
        "colab": {}
      },
      "source": [
        "left_test.head()"
      ],
      "execution_count": 0,
      "outputs": []
    },
    {
      "cell_type": "markdown",
      "metadata": {
        "id": "MMiApUpDb3h3",
        "colab_type": "text"
      },
      "source": [
        "## Data augmentation"
      ]
    },
    {
      "cell_type": "code",
      "metadata": {
        "id": "78XDeKwIbkll",
        "colab_type": "code",
        "colab": {}
      },
      "source": [
        "test_data_gen= ImageDataGenerator(\n",
        "                                  rotation_range=360,\n",
        "                                   horizontal_flip=True,\n",
        "                                   vertical_flip=True,\n",
        "                                   validation_split=0.15,\n",
        "                                   preprocessing_function=load_ben_color, \n",
        "                                   rescale=1 / 128.)"
      ],
      "execution_count": 0,
      "outputs": []
    },
    {
      "cell_type": "code",
      "metadata": {
        "id": "2uJcHwHEbK38",
        "colab_type": "code",
        "outputId": "bdc720c1-b76c-4c68-f6e9-c6c708749b94",
        "colab": {
          "base_uri": "https://localhost:8080/",
          "height": 50
        }
      },
      "source": [
        "test_direc='/content/data/ODIR-5K_Testing_Images'\n",
        "left_test_generator = test_data_gen.flow_from_dataframe(left_test, \n",
        "                                                  x_col='Image', \n",
        "                                                  \n",
        "                                                  directory = test_direc,\n",
        "                                                  target_size=(img_shape, img_shape),\n",
        "                                                  batch_size=batch,\n",
        "                                                  class_mode=None)\n",
        "\n",
        "right_test_generator = test_data_gen.flow_from_dataframe(right_test, \n",
        "                                                  x_col='Image', \n",
        "                                                  \n",
        "                                                  directory = test_direc,\n",
        "                                                  target_size=(img_shape, img_shape),\n",
        "                                                  batch_size=batch,\n",
        "                                                  class_mode=None)"
      ],
      "execution_count": 0,
      "outputs": [
        {
          "output_type": "stream",
          "text": [
            "Found 500 validated image filenames.\n",
            "Found 500 validated image filenames.\n"
          ],
          "name": "stdout"
        }
      ]
    },
    {
      "cell_type": "markdown",
      "metadata": {
        "id": "lwrLrYSzcpCr",
        "colab_type": "text"
      },
      "source": [
        "## Evaluate"
      ]
    },
    {
      "cell_type": "code",
      "metadata": {
        "id": "zzhF0xMhbK7K",
        "colab_type": "code",
        "colab": {}
      },
      "source": [
        "left_pred=model.predict_generator(generator=left_test_generator,steps=left_test_generator.samples//batch)\n",
        "right_pred=model.predict_generator(generator=right_test_generator,steps=right_test_generator.samples//batch)"
      ],
      "execution_count": 0,
      "outputs": []
    },
    {
      "cell_type": "code",
      "metadata": {
        "id": "zWH1Mc-1bLA3",
        "colab_type": "code",
        "outputId": "11a2cb4e-cc97-4e8e-bcb3-b1b0640578f9",
        "colab": {
          "base_uri": "https://localhost:8080/",
          "height": 34
        }
      },
      "source": [
        "left_pred.shape,right_pred.shape"
      ],
      "execution_count": 0,
      "outputs": [
        {
          "output_type": "execute_result",
          "data": {
            "text/plain": [
              "((500, 8), (500, 8))"
            ]
          },
          "metadata": {
            "tags": []
          },
          "execution_count": 53
        }
      ]
    },
    {
      "cell_type": "code",
      "metadata": {
        "id": "TX1YEJ-5eaJd",
        "colab_type": "code",
        "colab": {}
      },
      "source": [
        "y_pred= 0.5*left_pred+0.5*right_pred"
      ],
      "execution_count": 0,
      "outputs": []
    },
    {
      "cell_type": "code",
      "metadata": {
        "id": "Vs0qm0rcbLD3",
        "colab_type": "code",
        "colab": {}
      },
      "source": [
        "df_submit=test_sample.copy()\n",
        "for i,j in enumerate(['N'\t,'D'\t,'G',\t'C',\t'A'\t,'H'\t,'M',\t'O']):\n",
        "  df_submit[j]=y_pred[:,i]"
      ],
      "execution_count": 0,
      "outputs": []
    },
    {
      "cell_type": "code",
      "metadata": {
        "id": "eBa7o93se4h1",
        "colab_type": "code",
        "outputId": "0fe08575-99c9-41d8-c173-a2b0de7e2614",
        "colab": {
          "base_uri": "https://localhost:8080/",
          "height": 195
        }
      },
      "source": [
        "df_submit.head()"
      ],
      "execution_count": 0,
      "outputs": [
        {
          "output_type": "execute_result",
          "data": {
            "text/html": [
              "<div>\n",
              "<style scoped>\n",
              "    .dataframe tbody tr th:only-of-type {\n",
              "        vertical-align: middle;\n",
              "    }\n",
              "\n",
              "    .dataframe tbody tr th {\n",
              "        vertical-align: top;\n",
              "    }\n",
              "\n",
              "    .dataframe thead th {\n",
              "        text-align: right;\n",
              "    }\n",
              "</style>\n",
              "<table border=\"1\" class=\"dataframe\">\n",
              "  <thead>\n",
              "    <tr style=\"text-align: right;\">\n",
              "      <th></th>\n",
              "      <th>ID</th>\n",
              "      <th>N</th>\n",
              "      <th>D</th>\n",
              "      <th>G</th>\n",
              "      <th>C</th>\n",
              "      <th>A</th>\n",
              "      <th>H</th>\n",
              "      <th>M</th>\n",
              "      <th>O</th>\n",
              "    </tr>\n",
              "  </thead>\n",
              "  <tbody>\n",
              "    <tr>\n",
              "      <th>0</th>\n",
              "      <td>937</td>\n",
              "      <td>0.006293</td>\n",
              "      <td>0.437596</td>\n",
              "      <td>0.000074</td>\n",
              "      <td>0.442128</td>\n",
              "      <td>0.000314</td>\n",
              "      <td>0.000245</td>\n",
              "      <td>0.000068</td>\n",
              "      <td>0.119855</td>\n",
              "    </tr>\n",
              "    <tr>\n",
              "      <th>1</th>\n",
              "      <td>967</td>\n",
              "      <td>0.080663</td>\n",
              "      <td>0.006065</td>\n",
              "      <td>0.000402</td>\n",
              "      <td>0.384663</td>\n",
              "      <td>0.420940</td>\n",
              "      <td>0.000706</td>\n",
              "      <td>0.000042</td>\n",
              "      <td>0.108658</td>\n",
              "    </tr>\n",
              "    <tr>\n",
              "      <th>2</th>\n",
              "      <td>988</td>\n",
              "      <td>0.605324</td>\n",
              "      <td>0.030372</td>\n",
              "      <td>0.001749</td>\n",
              "      <td>0.001265</td>\n",
              "      <td>0.030142</td>\n",
              "      <td>0.001924</td>\n",
              "      <td>0.000013</td>\n",
              "      <td>0.281375</td>\n",
              "    </tr>\n",
              "    <tr>\n",
              "      <th>3</th>\n",
              "      <td>995</td>\n",
              "      <td>0.555466</td>\n",
              "      <td>0.030239</td>\n",
              "      <td>0.009209</td>\n",
              "      <td>0.058077</td>\n",
              "      <td>0.041409</td>\n",
              "      <td>0.004358</td>\n",
              "      <td>0.001286</td>\n",
              "      <td>0.288081</td>\n",
              "    </tr>\n",
              "    <tr>\n",
              "      <th>4</th>\n",
              "      <td>1000</td>\n",
              "      <td>0.519771</td>\n",
              "      <td>0.030085</td>\n",
              "      <td>0.001117</td>\n",
              "      <td>0.000171</td>\n",
              "      <td>0.210848</td>\n",
              "      <td>0.002932</td>\n",
              "      <td>0.000157</td>\n",
              "      <td>0.260275</td>\n",
              "    </tr>\n",
              "  </tbody>\n",
              "</table>\n",
              "</div>"
            ],
            "text/plain": [
              "     ID         N         D         G  ...         A         H         M         O\n",
              "0   937  0.006293  0.437596  0.000074  ...  0.000314  0.000245  0.000068  0.119855\n",
              "1   967  0.080663  0.006065  0.000402  ...  0.420940  0.000706  0.000042  0.108658\n",
              "2   988  0.605324  0.030372  0.001749  ...  0.030142  0.001924  0.000013  0.281375\n",
              "3   995  0.555466  0.030239  0.009209  ...  0.041409  0.004358  0.001286  0.288081\n",
              "4  1000  0.519771  0.030085  0.001117  ...  0.210848  0.002932  0.000157  0.260275\n",
              "\n",
              "[5 rows x 9 columns]"
            ]
          },
          "metadata": {
            "tags": []
          },
          "execution_count": 56
        }
      ]
    },
    {
      "cell_type": "code",
      "metadata": {
        "id": "kfPHx_QDpc7p",
        "colab_type": "code",
        "colab": {}
      },
      "source": [
        ""
      ],
      "execution_count": 0,
      "outputs": []
    },
    {
      "cell_type": "code",
      "metadata": {
        "id": "1tI5ZhC7fr_h",
        "colab_type": "code",
        "colab": {}
      },
      "source": [
        "# df_submit[df_submit.iloc[:,1::]>1.0]=1"
      ],
      "execution_count": 0,
      "outputs": []
    },
    {
      "cell_type": "code",
      "metadata": {
        "id": "5nMjPiWefi_H",
        "colab_type": "code",
        "outputId": "167f19cd-fcf3-44a2-87e0-e810a980c39c",
        "colab": {
          "base_uri": "https://localhost:8080/",
          "height": 195
        }
      },
      "source": [
        "df_submit.head()"
      ],
      "execution_count": 0,
      "outputs": [
        {
          "output_type": "execute_result",
          "data": {
            "text/html": [
              "<div>\n",
              "<style scoped>\n",
              "    .dataframe tbody tr th:only-of-type {\n",
              "        vertical-align: middle;\n",
              "    }\n",
              "\n",
              "    .dataframe tbody tr th {\n",
              "        vertical-align: top;\n",
              "    }\n",
              "\n",
              "    .dataframe thead th {\n",
              "        text-align: right;\n",
              "    }\n",
              "</style>\n",
              "<table border=\"1\" class=\"dataframe\">\n",
              "  <thead>\n",
              "    <tr style=\"text-align: right;\">\n",
              "      <th></th>\n",
              "      <th>ID</th>\n",
              "      <th>N</th>\n",
              "      <th>D</th>\n",
              "      <th>G</th>\n",
              "      <th>C</th>\n",
              "      <th>A</th>\n",
              "      <th>H</th>\n",
              "      <th>M</th>\n",
              "      <th>O</th>\n",
              "    </tr>\n",
              "  </thead>\n",
              "  <tbody>\n",
              "    <tr>\n",
              "      <th>0</th>\n",
              "      <td>937</td>\n",
              "      <td>0.006293</td>\n",
              "      <td>0.437596</td>\n",
              "      <td>0.000074</td>\n",
              "      <td>0.442128</td>\n",
              "      <td>0.000314</td>\n",
              "      <td>0.000245</td>\n",
              "      <td>0.000068</td>\n",
              "      <td>0.119855</td>\n",
              "    </tr>\n",
              "    <tr>\n",
              "      <th>1</th>\n",
              "      <td>967</td>\n",
              "      <td>0.080663</td>\n",
              "      <td>0.006065</td>\n",
              "      <td>0.000402</td>\n",
              "      <td>0.384663</td>\n",
              "      <td>0.420940</td>\n",
              "      <td>0.000706</td>\n",
              "      <td>0.000042</td>\n",
              "      <td>0.108658</td>\n",
              "    </tr>\n",
              "    <tr>\n",
              "      <th>2</th>\n",
              "      <td>988</td>\n",
              "      <td>0.605324</td>\n",
              "      <td>0.030372</td>\n",
              "      <td>0.001749</td>\n",
              "      <td>0.001265</td>\n",
              "      <td>0.030142</td>\n",
              "      <td>0.001924</td>\n",
              "      <td>0.000013</td>\n",
              "      <td>0.281375</td>\n",
              "    </tr>\n",
              "    <tr>\n",
              "      <th>3</th>\n",
              "      <td>995</td>\n",
              "      <td>0.555466</td>\n",
              "      <td>0.030239</td>\n",
              "      <td>0.009209</td>\n",
              "      <td>0.058077</td>\n",
              "      <td>0.041409</td>\n",
              "      <td>0.004358</td>\n",
              "      <td>0.001286</td>\n",
              "      <td>0.288081</td>\n",
              "    </tr>\n",
              "    <tr>\n",
              "      <th>4</th>\n",
              "      <td>1000</td>\n",
              "      <td>0.519771</td>\n",
              "      <td>0.030085</td>\n",
              "      <td>0.001117</td>\n",
              "      <td>0.000171</td>\n",
              "      <td>0.210848</td>\n",
              "      <td>0.002932</td>\n",
              "      <td>0.000157</td>\n",
              "      <td>0.260275</td>\n",
              "    </tr>\n",
              "  </tbody>\n",
              "</table>\n",
              "</div>"
            ],
            "text/plain": [
              "     ID         N         D         G  ...         A         H         M         O\n",
              "0   937  0.006293  0.437596  0.000074  ...  0.000314  0.000245  0.000068  0.119855\n",
              "1   967  0.080663  0.006065  0.000402  ...  0.420940  0.000706  0.000042  0.108658\n",
              "2   988  0.605324  0.030372  0.001749  ...  0.030142  0.001924  0.000013  0.281375\n",
              "3   995  0.555466  0.030239  0.009209  ...  0.041409  0.004358  0.001286  0.288081\n",
              "4  1000  0.519771  0.030085  0.001117  ...  0.210848  0.002932  0.000157  0.260275\n",
              "\n",
              "[5 rows x 9 columns]"
            ]
          },
          "metadata": {
            "tags": []
          },
          "execution_count": 57
        }
      ]
    },
    {
      "cell_type": "code",
      "metadata": {
        "id": "oDqALYAfpjLu",
        "colab_type": "code",
        "colab": {}
      },
      "source": [
        "df_submit.to_csv('TAC_ODIR.csv',index=False)"
      ],
      "execution_count": 0,
      "outputs": []
    },
    {
      "cell_type": "code",
      "metadata": {
        "id": "I2i89aw1gUHr",
        "colab_type": "code",
        "colab": {}
      },
      "source": [
        ""
      ],
      "execution_count": 0,
      "outputs": []
    }
  ]
}