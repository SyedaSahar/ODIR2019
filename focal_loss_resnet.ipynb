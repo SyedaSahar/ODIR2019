{
  "nbformat": 4,
  "nbformat_minor": 0,
  "metadata": {
    "colab": {
      "name": "focal_loss.ipynb",
      "provenance": [],
      "collapsed_sections": [],
      "authorship_tag": "ABX9TyPl9ygq58MJufGARuTviLJ0",
      "include_colab_link": true
    },
    "kernelspec": {
      "name": "python3",
      "display_name": "Python 3"
    },
    "accelerator": "GPU"
  },
  "cells": [
    {
      "cell_type": "markdown",
      "metadata": {
        "id": "view-in-github",
        "colab_type": "text"
      },
      "source": [
        "<a href=\"https://colab.research.google.com/github/talhaanwarch/ODIR2019/blob/master/focal_loss_resnet.ipynb\" target=\"_parent\"><img src=\"https://colab.research.google.com/assets/colab-badge.svg\" alt=\"Open In Colab\"/></a>"
      ]
    },
    {
      "cell_type": "code",
      "metadata": {
        "id": "7PsU8MEqEtcx",
        "colab_type": "code",
        "outputId": "43709a35-1de2-46ed-8fba-a84cbac8c483",
        "colab": {
          "base_uri": "https://localhost:8080/",
          "height": 121
        }
      },
      "source": [
        "\n",
        "#connect drive with colab notebook/\n",
        "\n",
        "from google.colab import drive\n",
        "drive.mount('/content/drive',force_remount=True)"
      ],
      "execution_count": 1,
      "outputs": [
        {
          "output_type": "stream",
          "text": [
            "Go to this URL in a browser: https://accounts.google.com/o/oauth2/auth?client_id=947318989803-6bn6qk8qdgf4n4g3pfee6491hc0brc4i.apps.googleusercontent.com&redirect_uri=urn%3aietf%3awg%3aoauth%3a2.0%3aoob&response_type=code&scope=email%20https%3a%2f%2fwww.googleapis.com%2fauth%2fdocs.test%20https%3a%2f%2fwww.googleapis.com%2fauth%2fdrive%20https%3a%2f%2fwww.googleapis.com%2fauth%2fdrive.photos.readonly%20https%3a%2f%2fwww.googleapis.com%2fauth%2fpeopleapi.readonly\n",
            "\n",
            "Enter your authorization code:\n",
            "··········\n",
            "Mounted at /content/drive\n"
          ],
          "name": "stdout"
        }
      ]
    },
    {
      "cell_type": "markdown",
      "metadata": {
        "id": "OJgWH2mVTf-3",
        "colab_type": "text"
      },
      "source": [
        "https://github.com/keras-team/keras/issues/8130  \n",
        "https://stackoverflow.com/questions/56796331/how-to-input-multiple-images-with-flow-from-dataframe-in-keras  \n",
        "https://stackoverflow.com/questions/50686217/keras-how-is-accuracy-calculated-for-multi-label-classification"
      ]
    },
    {
      "cell_type": "code",
      "metadata": {
        "id": "Q2olGzDvEuRy",
        "colab_type": "code",
        "outputId": "388541a5-73d7-4fcc-faeb-9580f852909f",
        "colab": {
          "base_uri": "https://localhost:8080/",
          "height": 306
        }
      },
      "source": [
        "#following are libraries to unpack 7z file\n",
        "!pip install patool \n",
        "!pip install pyunpack\n",
        "from pyunpack import Archive"
      ],
      "execution_count": 2,
      "outputs": [
        {
          "output_type": "stream",
          "text": [
            "Collecting patool\n",
            "\u001b[?25l  Downloading https://files.pythonhosted.org/packages/43/94/52243ddff508780dd2d8110964320ab4851134a55ab102285b46e740f76a/patool-1.12-py2.py3-none-any.whl (77kB)\n",
            "\r\u001b[K     |████▎                           | 10kB 28.2MB/s eta 0:00:01\r\u001b[K     |████████▌                       | 20kB 2.1MB/s eta 0:00:01\r\u001b[K     |████████████▊                   | 30kB 2.9MB/s eta 0:00:01\r\u001b[K     |█████████████████               | 40kB 2.1MB/s eta 0:00:01\r\u001b[K     |█████████████████████▏          | 51kB 2.4MB/s eta 0:00:01\r\u001b[K     |█████████████████████████▍      | 61kB 2.8MB/s eta 0:00:01\r\u001b[K     |█████████████████████████████▋  | 71kB 3.1MB/s eta 0:00:01\r\u001b[K     |████████████████████████████████| 81kB 2.9MB/s \n",
            "\u001b[?25hInstalling collected packages: patool\n",
            "Successfully installed patool-1.12\n",
            "Collecting pyunpack\n",
            "  Downloading https://files.pythonhosted.org/packages/79/dc/44cd41fb99d184ae7c2eac439a52ca624d5ece62b0302c3437fcc4ce3b58/pyunpack-0.1.2.tar.gz\n",
            "Collecting easyprocess\n",
            "  Downloading https://files.pythonhosted.org/packages/32/8f/88d636f1da22a3c573259e44cfefb46a117d3f9432e2c98b1ab4a21372ad/EasyProcess-0.2.10-py2.py3-none-any.whl\n",
            "Building wheels for collected packages: pyunpack\n",
            "  Building wheel for pyunpack (setup.py) ... \u001b[?25l\u001b[?25hdone\n",
            "  Created wheel for pyunpack: filename=pyunpack-0.1.2-cp36-none-any.whl size=5162 sha256=a98d046f81e9d7cb2a1b92ebed62fcaf87b4ee6522a64a3e5c636f99871ed9cd\n",
            "  Stored in directory: /root/.cache/pip/wheels/af/44/08/60613970881e542c0baad1f2dea5ed8e6716bc573f49197b7e\n",
            "Successfully built pyunpack\n",
            "Installing collected packages: easyprocess, pyunpack\n",
            "Successfully installed easyprocess-0.2.10 pyunpack-0.1.2\n"
          ],
          "name": "stdout"
        }
      ]
    },
    {
      "cell_type": "code",
      "metadata": {
        "id": "N6cxCkiCF0ux",
        "colab_type": "code",
        "colab": {}
      },
      "source": [
        "import pandas as pd\n",
        "import numpy as np\n",
        "import cv2"
      ],
      "execution_count": 0,
      "outputs": []
    },
    {
      "cell_type": "code",
      "metadata": {
        "id": "HFAmlM88FWqn",
        "colab_type": "code",
        "colab": {}
      },
      "source": [
        "\n",
        "#create a folder name as data\n",
        "!mkdir data"
      ],
      "execution_count": 0,
      "outputs": []
    },
    {
      "cell_type": "code",
      "metadata": {
        "id": "venZ9rNrFZMZ",
        "colab_type": "code",
        "colab": {}
      },
      "source": [
        "#path where our data is saved\n",
        "path='/content/drive/My Drive/ghina/thesis/'"
      ],
      "execution_count": 0,
      "outputs": []
    },
    {
      "cell_type": "code",
      "metadata": {
        "id": "RPbingUaFbJ0",
        "colab_type": "code",
        "colab": {}
      },
      "source": [
        "#extract the 7z file in data folder we created above\n",
        "#this not only extract the data but move it from drive to colab for efficinet processing\n",
        "#it will take some time\n",
        "Archive(path+'ODIR-5K_Training_Images.7z').extractall('data')"
      ],
      "execution_count": 0,
      "outputs": []
    },
    {
      "cell_type": "code",
      "metadata": {
        "id": "t2vwqBAqFdG2",
        "colab_type": "code",
        "colab": {}
      },
      "source": [
        "#read the annottion file\n",
        "annotation=pd.read_excel(path+'ODIR-5K_Training_Annotations(Updated)_V2.xlsx')"
      ],
      "execution_count": 0,
      "outputs": []
    },
    {
      "cell_type": "code",
      "metadata": {
        "id": "UpKZEXLMFfhW",
        "colab_type": "code",
        "colab": {}
      },
      "source": [
        "\n",
        "#normal (N), diabetes (D), glaucoma (G), cataract (C), AMD (A), hypertension (H), myopia (M) and other diseases/abnormalities (O)"
      ],
      "execution_count": 0,
      "outputs": []
    },
    {
      "cell_type": "code",
      "metadata": {
        "id": "3EIxDJR0FhDq",
        "colab_type": "code",
        "outputId": "7c4f6253-550a-4e2a-851d-a2763913d883",
        "colab": {
          "base_uri": "https://localhost:8080/",
          "height": 246
        }
      },
      "source": [
        "#print first 5 rows of annotation file\n",
        "annotation=annotation.sample(frac=1)\n",
        "annotation.head()"
      ],
      "execution_count": 9,
      "outputs": [
        {
          "output_type": "execute_result",
          "data": {
            "text/html": [
              "<div>\n",
              "<style scoped>\n",
              "    .dataframe tbody tr th:only-of-type {\n",
              "        vertical-align: middle;\n",
              "    }\n",
              "\n",
              "    .dataframe tbody tr th {\n",
              "        vertical-align: top;\n",
              "    }\n",
              "\n",
              "    .dataframe thead th {\n",
              "        text-align: right;\n",
              "    }\n",
              "</style>\n",
              "<table border=\"1\" class=\"dataframe\">\n",
              "  <thead>\n",
              "    <tr style=\"text-align: right;\">\n",
              "      <th></th>\n",
              "      <th>ID</th>\n",
              "      <th>Patient Age</th>\n",
              "      <th>Patient Sex</th>\n",
              "      <th>Left-Fundus</th>\n",
              "      <th>Right-Fundus</th>\n",
              "      <th>Left-Diagnostic Keywords</th>\n",
              "      <th>Right-Diagnostic Keywords</th>\n",
              "      <th>N</th>\n",
              "      <th>D</th>\n",
              "      <th>G</th>\n",
              "      <th>C</th>\n",
              "      <th>A</th>\n",
              "      <th>H</th>\n",
              "      <th>M</th>\n",
              "      <th>O</th>\n",
              "    </tr>\n",
              "  </thead>\n",
              "  <tbody>\n",
              "    <tr>\n",
              "      <th>3229</th>\n",
              "      <td>4375</td>\n",
              "      <td>57</td>\n",
              "      <td>Female</td>\n",
              "      <td>4375_left.jpg</td>\n",
              "      <td>4375_right.jpg</td>\n",
              "      <td>mild nonproliferative retinopathy</td>\n",
              "      <td>mild nonproliferative retinopathy</td>\n",
              "      <td>0</td>\n",
              "      <td>1</td>\n",
              "      <td>0</td>\n",
              "      <td>0</td>\n",
              "      <td>0</td>\n",
              "      <td>0</td>\n",
              "      <td>0</td>\n",
              "      <td>0</td>\n",
              "    </tr>\n",
              "    <tr>\n",
              "      <th>1715</th>\n",
              "      <td>2338</td>\n",
              "      <td>64</td>\n",
              "      <td>Male</td>\n",
              "      <td>2338_left.jpg</td>\n",
              "      <td>2338_right.jpg</td>\n",
              "      <td>normal fundus</td>\n",
              "      <td>normal fundus</td>\n",
              "      <td>1</td>\n",
              "      <td>0</td>\n",
              "      <td>0</td>\n",
              "      <td>0</td>\n",
              "      <td>0</td>\n",
              "      <td>0</td>\n",
              "      <td>0</td>\n",
              "      <td>0</td>\n",
              "    </tr>\n",
              "    <tr>\n",
              "      <th>53</th>\n",
              "      <td>53</td>\n",
              "      <td>65</td>\n",
              "      <td>Female</td>\n",
              "      <td>53_left.jpg</td>\n",
              "      <td>53_right.jpg</td>\n",
              "      <td>wet age-related macular degeneration</td>\n",
              "      <td>dry age-related macular degeneration</td>\n",
              "      <td>0</td>\n",
              "      <td>0</td>\n",
              "      <td>0</td>\n",
              "      <td>0</td>\n",
              "      <td>1</td>\n",
              "      <td>0</td>\n",
              "      <td>0</td>\n",
              "      <td>0</td>\n",
              "    </tr>\n",
              "    <tr>\n",
              "      <th>1853</th>\n",
              "      <td>2476</td>\n",
              "      <td>70</td>\n",
              "      <td>Female</td>\n",
              "      <td>2476_left.jpg</td>\n",
              "      <td>2476_right.jpg</td>\n",
              "      <td>normal fundus</td>\n",
              "      <td>normal fundus</td>\n",
              "      <td>1</td>\n",
              "      <td>0</td>\n",
              "      <td>0</td>\n",
              "      <td>0</td>\n",
              "      <td>0</td>\n",
              "      <td>0</td>\n",
              "      <td>0</td>\n",
              "      <td>0</td>\n",
              "    </tr>\n",
              "    <tr>\n",
              "      <th>126</th>\n",
              "      <td>126</td>\n",
              "      <td>66</td>\n",
              "      <td>Male</td>\n",
              "      <td>126_left.jpg</td>\n",
              "      <td>126_right.jpg</td>\n",
              "      <td>dry age-related macular degeneration</td>\n",
              "      <td>dry age-related macular degeneration</td>\n",
              "      <td>0</td>\n",
              "      <td>0</td>\n",
              "      <td>0</td>\n",
              "      <td>0</td>\n",
              "      <td>1</td>\n",
              "      <td>0</td>\n",
              "      <td>0</td>\n",
              "      <td>0</td>\n",
              "    </tr>\n",
              "  </tbody>\n",
              "</table>\n",
              "</div>"
            ],
            "text/plain": [
              "        ID  Patient Age Patient Sex    Left-Fundus  ...  A  H  M  O\n",
              "3229  4375           57      Female  4375_left.jpg  ...  0  0  0  0\n",
              "1715  2338           64        Male  2338_left.jpg  ...  0  0  0  0\n",
              "53      53           65      Female    53_left.jpg  ...  1  0  0  0\n",
              "1853  2476           70      Female  2476_left.jpg  ...  0  0  0  0\n",
              "126    126           66        Male   126_left.jpg  ...  1  0  0  0\n",
              "\n",
              "[5 rows x 15 columns]"
            ]
          },
          "metadata": {
            "tags": []
          },
          "execution_count": 9
        }
      ]
    },
    {
      "cell_type": "code",
      "metadata": {
        "id": "3rAwNowDKIV7",
        "colab_type": "code",
        "colab": {}
      },
      "source": [
        "train_annotation=annotation[0:2500]\n",
        "val_annotation=annotation[2500:3500]\n"
      ],
      "execution_count": 0,
      "outputs": []
    },
    {
      "cell_type": "code",
      "metadata": {
        "id": "YGEKCh4cHLGY",
        "colab_type": "code",
        "colab": {}
      },
      "source": [
        "from keras_preprocessing.image import ImageDataGenerator\n",
        "\n",
        "train_data_gen= ImageDataGenerator(\n",
        "    rotation_range=10,\n",
        "    width_shift_range=0.1,\n",
        "    height_shift_range=0.1,\n",
        "    zoom_range=.1,\n",
        "    rescale=1/255,\n",
        "    fill_mode='nearest'\n",
        ")\n",
        "\n",
        "val_data_gen= ImageDataGenerator(\n",
        "    rescale=1/255\n",
        "    \n",
        ")"
      ],
      "execution_count": 0,
      "outputs": []
    },
    {
      "cell_type": "code",
      "metadata": {
        "id": "tCzfKSV3FkpG",
        "colab_type": "code",
        "colab": {}
      },
      "source": [
        "\n",
        "def get_flow_from_dataframe(generator, dataframe,directory_path,\n",
        "                            image_shape=(224, 224),\n",
        "                            #subset='training',\n",
        "                             batch_size=50):\n",
        "    train_generator_1 = generator.flow_from_dataframe(dataframe,\n",
        "                                                      directory=directory_path,\n",
        "                                                      target_size=image_shape,\n",
        "                                                      x_col=\"Left-Fundus\",\n",
        "                                                      y_col=['N'\t,'D'\t,'G',\t'C',\t'A'\t,'H'\t,'M',\t'O'],\n",
        "                                                      class_mode='other',\n",
        "                                                      shuffle=False,\n",
        "                                                      batch_size=batch_size,\n",
        "                                                      seed=7,\n",
        "                                                      #subset=subset\n",
        "                                                      )\n",
        "\n",
        "    train_generator_2 = generator.flow_from_dataframe(dataframe, \n",
        "                                                      directory=directory_path,\n",
        "                                                      target_size=image_shape,\n",
        "                                                      x_col=\"Right-Fundus\",\n",
        "                                                      y_col=['N'\t,'D'\t,'G',\t'C',\t'A'\t,'H'\t,'M',\t'O'],\n",
        "                                                      class_mode='other',\n",
        "                                                      shuffle=False,\n",
        "                                                      batch_size=batch_size,\n",
        "                                                      seed=7,\n",
        "                                                      #subset=subset\n",
        "                                                      )\n",
        "    while True:\n",
        "        x_1 = train_generator_1.next()\n",
        "        x_2 = train_generator_2.next()\n",
        "\n",
        "        yield [x_1[0], x_2[0]], x_1[1]"
      ],
      "execution_count": 0,
      "outputs": []
    },
    {
      "cell_type": "code",
      "metadata": {
        "id": "F8CwT_EtBd9L",
        "colab_type": "code",
        "colab": {}
      },
      "source": [
        ""
      ],
      "execution_count": 0,
      "outputs": []
    },
    {
      "cell_type": "code",
      "metadata": {
        "id": "Xjbl6CEiOJPB",
        "colab_type": "code",
        "colab": {}
      },
      "source": [
        "batch_size=25\n",
        "train_gen = get_flow_from_dataframe(train_data_gen, train_annotation, image_shape=(224, 224),\n",
        "                                        directory_path=\"data/ODIR-5K_Training_Dataset/\",batch_size=batch_size)\n",
        "valid_gen = get_flow_from_dataframe(val_data_gen, val_annotation, image_shape=(224, 224),\n",
        "                                        directory_path=\"data/ODIR-5K_Training_Dataset/\",batch_size=batch_size)"
      ],
      "execution_count": 0,
      "outputs": []
    },
    {
      "cell_type": "code",
      "metadata": {
        "id": "Yh2SCQ91Gyzk",
        "colab_type": "code",
        "outputId": "726ff0cd-afb7-401b-d135-7a204bbeb88e",
        "colab": {
          "base_uri": "https://localhost:8080/",
          "height": 79
        }
      },
      "source": [
        "from keras.models import Sequential,Model\n",
        "from keras.layers import Activation, Dropout, Flatten, Dense, Conv2D, MaxPool2D, BatchNormalization,Input,MaxPooling2D,GlobalMaxPooling2D,concatenate\n",
        "from keras.layers import GlobalAveragePooling2D\n",
        "from keras.applications.resnet50 import ResNet50\n",
        "from keras.callbacks import ModelCheckpoint\n",
        "import tensorflow as tf\n",
        "tf.logging.set_verbosity(tf.logging.ERROR)"
      ],
      "execution_count": 14,
      "outputs": [
        {
          "output_type": "stream",
          "text": [
            "Using TensorFlow backend.\n"
          ],
          "name": "stderr"
        },
        {
          "output_type": "display_data",
          "data": {
            "text/html": [
              "<p style=\"color: red;\">\n",
              "The default version of TensorFlow in Colab will soon switch to TensorFlow 2.x.<br>\n",
              "We recommend you <a href=\"https://www.tensorflow.org/guide/migrate\" target=\"_blank\">upgrade</a> now \n",
              "or ensure your notebook will continue to use TensorFlow 1.x via the <code>%tensorflow_version 1.x</code> magic:\n",
              "<a href=\"https://colab.research.google.com/notebooks/tensorflow_version.ipynb\" target=\"_blank\">more info</a>.</p>\n"
            ],
            "text/plain": [
              "<IPython.core.display.HTML object>"
            ]
          },
          "metadata": {
            "tags": []
          }
        }
      ]
    },
    {
      "cell_type": "code",
      "metadata": {
        "id": "eUuQ7KeCWAPq",
        "colab_type": "code",
        "colab": {
          "base_uri": "https://localhost:8080/",
          "height": 70
        },
        "outputId": "8a234348-da1b-4581-e545-6889b063aee3"
      },
      "source": [
        "\n",
        "import keras\n",
        "left_input=Input(shape=(224, 224, 3))\n",
        "right_input=Input(shape=(224, 224, 3))\n",
        "\n",
        "left_model = ResNet50(include_top=False,input_tensor=left_input)\n",
        "for layer in left_model.layers:\n",
        "        layer.name = layer.name + '_left'\n",
        "        layer.trainable = False\n",
        "\n",
        "\n",
        "right_model = ResNet50(include_top=False,input_tensor=right_input)\n",
        "for layer in right_model.layers:\n",
        "        layer.name = layer.name + '_right'\n",
        "        layer.trainable = False"
      ],
      "execution_count": 29,
      "outputs": [
        {
          "output_type": "stream",
          "text": [
            "/usr/local/lib/python3.6/dist-packages/keras_applications/resnet50.py:265: UserWarning: The output shape of `ResNet50(include_top=False)` has been changed since Keras 2.2.0.\n",
            "  warnings.warn('The output shape of `ResNet50(include_top=False)` '\n"
          ],
          "name": "stderr"
        }
      ]
    },
    {
      "cell_type": "code",
      "metadata": {
        "colab_type": "code",
        "cellView": "both",
        "id": "990sSHvt_T-2",
        "colab": {}
      },
      "source": [
        "\n",
        "\n",
        "X=concatenate([left_model.output, right_model.output])\n",
        "X=Flatten()(X)\n",
        "X=Dropout(0.25)(X)\n",
        "X=Dense(512,activation='relu')(X)\n",
        "X=Dropout(0.25)(X)\n",
        "out=Dense(8, activation='sigmoid')(X)\n",
        "\n",
        "model=Model(inputs=[left_input,right_input],outputs=out)\n",
        "\n"
      ],
      "execution_count": 0,
      "outputs": []
    },
    {
      "cell_type": "code",
      "metadata": {
        "id": "8-Qtx9SDN2O3",
        "colab_type": "code",
        "colab": {}
      },
      "source": [
        "import keras.backend as K\n",
        "def focal_loss(y_true, y_pred, alpha = 0.75, gamma = 2):\n",
        "  alpha_factor = K.ones_like(y_true) * alpha\n",
        "  alpha_factor = tf.where(K.equal(y_true, 1), alpha_factor, 1 - alpha_factor)\n",
        "  focal_weight = tf.where(K.equal(y_true, 1), 1 - y_pred, y_pred)\n",
        "  focal_weight = alpha_factor * focal_weight ** gamma\n",
        "  loss = focal_weight * K.binary_crossentropy(y_true, y_pred)\n",
        "  return loss"
      ],
      "execution_count": 0,
      "outputs": []
    },
    {
      "cell_type": "code",
      "metadata": {
        "id": "kAan8BmuNgSz",
        "colab_type": "code",
        "colab": {}
      },
      "source": [
        "model.compile('Adadelta',loss=focal_loss,metrics=['accuracy'])"
      ],
      "execution_count": 0,
      "outputs": []
    },
    {
      "cell_type": "code",
      "metadata": {
        "id": "sjnVWl1UQxRs",
        "colab_type": "code",
        "colab": {}
      },
      "source": [
        "step_size_train=2500/batch_size\n",
        "step_size_val=1000/batch_size\n"
      ],
      "execution_count": 0,
      "outputs": []
    },
    {
      "cell_type": "code",
      "metadata": {
        "id": "IbGz2zzEJ7AX",
        "colab_type": "code",
        "outputId": "b27f0311-ebc8-4eb9-c165-cc868fec36f7",
        "colab": {
          "base_uri": "https://localhost:8080/",
          "height": 34
        }
      },
      "source": [
        "y_true=val_annotation.iloc[:,-8::].values\n",
        "y_true.shape"
      ],
      "execution_count": 34,
      "outputs": [
        {
          "output_type": "execute_result",
          "data": {
            "text/plain": [
              "(1000, 8)"
            ]
          },
          "metadata": {
            "tags": []
          },
          "execution_count": 34
        }
      ]
    },
    {
      "cell_type": "code",
      "metadata": {
        "id": "Q_K_SSjQJoIk",
        "colab_type": "code",
        "outputId": "e7c31c95-8607-4947-f2b4-0eb3750a66b9",
        "colab": {
          "base_uri": "https://localhost:8080/",
          "height": 286
        }
      },
      "source": [
        "model.fit_generator(train_gen, epochs=5,\n",
        "                        steps_per_epoch=step_size_train,\n",
        "                        use_multiprocessing=True,\n",
        "                        validation_data=valid_gen,\n",
        "                        validation_steps=step_size_val,\n",
        "                        verbose=2\n",
        "                    \n",
        "                        )"
      ],
      "execution_count": 35,
      "outputs": [
        {
          "output_type": "stream",
          "text": [
            "Epoch 1/5Found 1000 validated image filenames.\n",
            "\n",
            "Found 2500 validated image filenames.\n",
            "Found 1000 validated image filenames.\n",
            "Found 2500 validated image filenames.\n",
            "\n",
            " - 440s - loss: 1.6146 - acc: 0.3228 - val_loss: 1.6323 - val_acc: 0.3200\n",
            "Epoch 2/5\n",
            " - 401s - loss: 1.6246 - acc: 0.3232 - val_loss: 1.6323 - val_acc: 0.3200\n",
            "Epoch 3/5\n",
            " - 401s - loss: 1.6234 - acc: 0.3232 - val_loss: 1.6323 - val_acc: 0.3200\n",
            "Epoch 4/5\n",
            " - 399s - loss: 1.6160 - acc: 0.3232 - val_loss: 1.6323 - val_acc: 0.3200\n",
            "Epoch 5/5\n",
            " - 397s - loss: 1.5985 - acc: 0.3232 - val_loss: 1.5909 - val_acc: 0.3200\n"
          ],
          "name": "stdout"
        },
        {
          "output_type": "execute_result",
          "data": {
            "text/plain": [
              "<keras.callbacks.History at 0x7f8a29b22eb8>"
            ]
          },
          "metadata": {
            "tags": []
          },
          "execution_count": 35
        }
      ]
    },
    {
      "cell_type": "code",
      "metadata": {
        "id": "2_XdXICBMR6o",
        "colab_type": "code",
        "outputId": "eaa97321-b28b-4ec1-8b9d-bf81fe726afb",
        "colab": {
          "base_uri": "https://localhost:8080/",
          "height": 50
        }
      },
      "source": [
        "y_pred = model.predict_generator(valid_gen,steps=step_size_val)\n"
      ],
      "execution_count": 36,
      "outputs": [
        {
          "output_type": "stream",
          "text": [
            "Found 1000 validated image filenames.\n",
            "Found 1000 validated image filenames.\n"
          ],
          "name": "stdout"
        }
      ]
    },
    {
      "cell_type": "code",
      "metadata": {
        "id": "_XkHT9H9fm5g",
        "colab_type": "code",
        "colab": {}
      },
      "source": [
        " model.evaluate_generator(valid_gen,steps=step_size_val,use_multiprocessing=True)"
      ],
      "execution_count": 0,
      "outputs": []
    },
    {
      "cell_type": "code",
      "metadata": {
        "id": "bpiQgAahMJwU",
        "colab_type": "code",
        "colab": {}
      },
      "source": [
        "y_pred1=y_pred.copy()\n",
        "y_pred1[y_pred1>=0.3] = 1\n",
        "y_pred1[y_pred1<0.3] = 0\n",
        "y_pred1=y_pred1.astype(int)"
      ],
      "execution_count": 0,
      "outputs": []
    },
    {
      "cell_type": "code",
      "metadata": {
        "id": "XQTfq7jIJiLh",
        "colab_type": "code",
        "outputId": "f30a70a6-8957-4c48-e68e-a99aef485b6c",
        "colab": {
          "base_uri": "https://localhost:8080/",
          "height": 403
        }
      },
      "source": [
        "from sklearn.metrics import classification_report\n",
        "from sklearn.metrics import accuracy_score\n",
        "from sklearn.metrics import multilabel_confusion_matrix\n",
        "#target_names = ['N'\t,'D'\t,'G',\t'C',\t'A'\t,'H'\t,'M',\t'O']\n",
        "#print(classification_report(y_true, y_pred, target_names=target_names))\n",
        "multilabel_confusion_matrix(y_true, y_pred1)"
      ],
      "execution_count": 40,
      "outputs": [
        {
          "output_type": "execute_result",
          "data": {
            "text/plain": [
              "array([[[678,   0],\n",
              "        [322,   0]],\n",
              "\n",
              "       [[  0, 680],\n",
              "        [  0, 320]],\n",
              "\n",
              "       [[936,   0],\n",
              "        [ 64,   0]],\n",
              "\n",
              "       [[942,   0],\n",
              "        [ 58,   0]],\n",
              "\n",
              "       [[948,   0],\n",
              "        [ 52,   0]],\n",
              "\n",
              "       [[967,   0],\n",
              "        [ 33,   0]],\n",
              "\n",
              "       [[947,   0],\n",
              "        [ 53,   0]],\n",
              "\n",
              "       [[726,   0],\n",
              "        [274,   0]]])"
            ]
          },
          "metadata": {
            "tags": []
          },
          "execution_count": 40
        }
      ]
    },
    {
      "cell_type": "code",
      "metadata": {
        "id": "AUZdooXVmf8W",
        "colab_type": "code",
        "colab": {
          "base_uri": "https://localhost:8080/",
          "height": 339
        },
        "outputId": "534d6c75-5bd5-4d8e-c1dd-dddbb2c260e5"
      },
      "source": [
        "print(classification_report(y_true, y_pred1))"
      ],
      "execution_count": 41,
      "outputs": [
        {
          "output_type": "stream",
          "text": [
            "              precision    recall  f1-score   support\n",
            "\n",
            "           0       0.00      0.00      0.00       322\n",
            "           1       0.32      1.00      0.48       320\n",
            "           2       0.00      0.00      0.00        64\n",
            "           3       0.00      0.00      0.00        58\n",
            "           4       0.00      0.00      0.00        52\n",
            "           5       0.00      0.00      0.00        33\n",
            "           6       0.00      0.00      0.00        53\n",
            "           7       0.00      0.00      0.00       274\n",
            "\n",
            "   micro avg       0.32      0.27      0.29      1176\n",
            "   macro avg       0.04      0.12      0.06      1176\n",
            "weighted avg       0.09      0.27      0.13      1176\n",
            " samples avg       0.32      0.26      0.28      1176\n",
            "\n"
          ],
          "name": "stdout"
        },
        {
          "output_type": "stream",
          "text": [
            "/usr/local/lib/python3.6/dist-packages/sklearn/metrics/_classification.py:1272: UndefinedMetricWarning: Precision and F-score are ill-defined and being set to 0.0 in labels with no predicted samples. Use `zero_division` parameter to control this behavior.\n",
            "  _warn_prf(average, modifier, msg_start, len(result))\n"
          ],
          "name": "stderr"
        }
      ]
    },
    {
      "cell_type": "code",
      "metadata": {
        "id": "hQXkXLUPKRDF",
        "colab_type": "code",
        "colab": {}
      },
      "source": [
        "y_pred1[0:10]"
      ],
      "execution_count": 0,
      "outputs": []
    },
    {
      "cell_type": "code",
      "metadata": {
        "id": "xLNfQp9j-zY9",
        "colab_type": "code",
        "colab": {}
      },
      "source": [
        "np.round(y_pred[0:10],2)"
      ],
      "execution_count": 0,
      "outputs": []
    },
    {
      "cell_type": "code",
      "metadata": {
        "id": "semn6Ykr98V1",
        "colab_type": "code",
        "colab": {}
      },
      "source": [
        "y_true[0:10]"
      ],
      "execution_count": 0,
      "outputs": []
    },
    {
      "cell_type": "code",
      "metadata": {
        "id": "XT41vM3K-Ej1",
        "colab_type": "code",
        "colab": {}
      },
      "source": [
        "K.clear_session()"
      ],
      "execution_count": 0,
      "outputs": []
    },
    {
      "cell_type": "code",
      "metadata": {
        "id": "M3c-WY4PdugK",
        "colab_type": "code",
        "colab": {}
      },
      "source": [
        ""
      ],
      "execution_count": 0,
      "outputs": []
    }
  ]
}