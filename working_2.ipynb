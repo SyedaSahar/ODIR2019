{
  "nbformat": 4,
  "nbformat_minor": 0,
  "metadata": {
    "colab": {
      "name": "Copy of effnet_attention.ipynb",
      "provenance": [],
      "collapsed_sections": [],
      "include_colab_link": true
    },
    "kernelspec": {
      "name": "python3",
      "display_name": "Python 3"
    },
    "accelerator": "GPU"
  },
  "cells": [
    {
      "cell_type": "markdown",
      "metadata": {
        "id": "view-in-github",
        "colab_type": "text"
      },
      "source": [
        "<a href=\"https://colab.research.google.com/github/talhaanwarch/ODIR2019/blob/master/working_2.ipynb\" target=\"_parent\"><img src=\"https://colab.research.google.com/assets/colab-badge.svg\" alt=\"Open In Colab\"/></a>"
      ]
    },
    {
      "cell_type": "code",
      "metadata": {
        "id": "7PsU8MEqEtcx",
        "colab_type": "code",
        "outputId": "c0487dab-1244-445a-8eea-d969b67aad5e",
        "colab": {
          "base_uri": "https://localhost:8080/",
          "height": 121
        }
      },
      "source": [
        "\n",
        "#connect drive with colab notebook/\n",
        "from google.colab import drive\n",
        "drive.mount('/content/drive',force_remount=True)"
      ],
      "execution_count": 1,
      "outputs": [
        {
          "output_type": "stream",
          "text": [
            "Go to this URL in a browser: https://accounts.google.com/o/oauth2/auth?client_id=947318989803-6bn6qk8qdgf4n4g3pfee6491hc0brc4i.apps.googleusercontent.com&redirect_uri=urn%3aietf%3awg%3aoauth%3a2.0%3aoob&response_type=code&scope=email%20https%3a%2f%2fwww.googleapis.com%2fauth%2fdocs.test%20https%3a%2f%2fwww.googleapis.com%2fauth%2fdrive%20https%3a%2f%2fwww.googleapis.com%2fauth%2fdrive.photos.readonly%20https%3a%2f%2fwww.googleapis.com%2fauth%2fpeopleapi.readonly\n",
            "\n",
            "Enter your authorization code:\n",
            "··········\n",
            "Mounted at /content/drive\n"
          ],
          "name": "stdout"
        }
      ]
    },
    {
      "cell_type": "code",
      "metadata": {
        "id": "xQ9q3gfrqcmh",
        "colab_type": "code",
        "outputId": "89f40174-7463-4ac7-ebc9-aecb8a1cd403",
        "colab": {
          "base_uri": "https://localhost:8080/",
          "height": 302
        }
      },
      "source": [
        "gpu_info = !nvidia-smi\n",
        "gpu_info = '\\n'.join(gpu_info)\n",
        "if gpu_info.find('failed') >= 0:\n",
        "  print('Select the Runtime → \"Change runtime type\" menu to enable a GPU accelerator, ')\n",
        "  print('and then re-execute this cell.')\n",
        "else:\n",
        "  print(gpu_info)"
      ],
      "execution_count": 2,
      "outputs": [
        {
          "output_type": "stream",
          "text": [
            "Mon Feb 10 12:09:09 2020       \n",
            "+-----------------------------------------------------------------------------+\n",
            "| NVIDIA-SMI 440.48.02    Driver Version: 418.67       CUDA Version: 10.1     |\n",
            "|-------------------------------+----------------------+----------------------+\n",
            "| GPU  Name        Persistence-M| Bus-Id        Disp.A | Volatile Uncorr. ECC |\n",
            "| Fan  Temp  Perf  Pwr:Usage/Cap|         Memory-Usage | GPU-Util  Compute M. |\n",
            "|===============================+======================+======================|\n",
            "|   0  Tesla T4            Off  | 00000000:00:04.0 Off |                    0 |\n",
            "| N/A   36C    P8     9W /  70W |      0MiB / 15079MiB |      0%      Default |\n",
            "+-------------------------------+----------------------+----------------------+\n",
            "                                                                               \n",
            "+-----------------------------------------------------------------------------+\n",
            "| Processes:                                                       GPU Memory |\n",
            "|  GPU       PID   Type   Process name                             Usage      |\n",
            "|=============================================================================|\n",
            "|  No running processes found                                                 |\n",
            "+-----------------------------------------------------------------------------+\n"
          ],
          "name": "stdout"
        }
      ]
    },
    {
      "cell_type": "code",
      "metadata": {
        "id": "6W7wnTqZqd8h",
        "colab_type": "code",
        "colab": {}
      },
      "source": [
        ""
      ],
      "execution_count": 0,
      "outputs": []
    },
    {
      "cell_type": "code",
      "metadata": {
        "id": "P0Kr8B21IPhb",
        "colab_type": "code",
        "outputId": "6257e767-121a-469b-b0d8-b2d5190090a1",
        "colab": {
          "base_uri": "https://localhost:8080/",
          "height": 474
        }
      },
      "source": [
        "!pip install -U efficientnet==0.0.4\n",
        "!pip install keras-rectified-adam\n"
      ],
      "execution_count": 3,
      "outputs": [
        {
          "output_type": "stream",
          "text": [
            "Collecting efficientnet==0.0.4\n",
            "  Downloading https://files.pythonhosted.org/packages/a6/80/f2c098284f7c07491e66af18d9a5fea595d4b507d10c0845275b8d47dc6f/efficientnet-0.0.4.tar.gz\n",
            "Building wheels for collected packages: efficientnet\n",
            "  Building wheel for efficientnet (setup.py) ... \u001b[?25l\u001b[?25hdone\n",
            "  Created wheel for efficientnet: filename=efficientnet-0.0.4-cp36-none-any.whl size=14288 sha256=d4ea8a389d457b1847fd11ae3ab5a3c805a930ee562e71870a1578b35d5e0812\n",
            "  Stored in directory: /root/.cache/pip/wheels/5c/34/68/a611a699a28239e964ccf144c0e767cdb5439fee82ec5de6e0\n",
            "Successfully built efficientnet\n",
            "Installing collected packages: efficientnet\n",
            "Successfully installed efficientnet-0.0.4\n",
            "Collecting keras-rectified-adam\n",
            "  Downloading https://files.pythonhosted.org/packages/21/79/9521f66b92186702cb58a214c1b923b416266381cd824e15a1733f6a5b06/keras-rectified-adam-0.17.0.tar.gz\n",
            "Requirement already satisfied: numpy in /usr/local/lib/python3.6/dist-packages (from keras-rectified-adam) (1.17.5)\n",
            "Requirement already satisfied: Keras in /usr/local/lib/python3.6/dist-packages (from keras-rectified-adam) (2.2.5)\n",
            "Requirement already satisfied: pyyaml in /usr/local/lib/python3.6/dist-packages (from Keras->keras-rectified-adam) (3.13)\n",
            "Requirement already satisfied: scipy>=0.14 in /usr/local/lib/python3.6/dist-packages (from Keras->keras-rectified-adam) (1.4.1)\n",
            "Requirement already satisfied: keras-preprocessing>=1.1.0 in /usr/local/lib/python3.6/dist-packages (from Keras->keras-rectified-adam) (1.1.0)\n",
            "Requirement already satisfied: h5py in /usr/local/lib/python3.6/dist-packages (from Keras->keras-rectified-adam) (2.8.0)\n",
            "Requirement already satisfied: keras-applications>=1.0.8 in /usr/local/lib/python3.6/dist-packages (from Keras->keras-rectified-adam) (1.0.8)\n",
            "Requirement already satisfied: six>=1.9.0 in /usr/local/lib/python3.6/dist-packages (from Keras->keras-rectified-adam) (1.12.0)\n",
            "Building wheels for collected packages: keras-rectified-adam\n",
            "  Building wheel for keras-rectified-adam (setup.py) ... \u001b[?25l\u001b[?25hdone\n",
            "  Created wheel for keras-rectified-adam: filename=keras_rectified_adam-0.17.0-cp36-none-any.whl size=14781 sha256=76971ec1963f7e03fe177e645a16e5c3d6cb2f1639c3725b1313a378f6806f0d\n",
            "  Stored in directory: /root/.cache/pip/wheels/7b/01/27/3a934e1a5644f5b93c720422a6ef97034ea78a21ba71cfb549\n",
            "Successfully built keras-rectified-adam\n",
            "Installing collected packages: keras-rectified-adam\n",
            "Successfully installed keras-rectified-adam-0.17.0\n"
          ],
          "name": "stdout"
        }
      ]
    },
    {
      "cell_type": "markdown",
      "metadata": {
        "id": "K0P-LQlKfwhp",
        "colab_type": "text"
      },
      "source": [
        "EfficientNetB0 - (224, 224, 3)  \n",
        "EfficientNetB1 - (240, 240, 3)  \n",
        "EfficientNetB2 - (260, 260, 3)  \n",
        "EfficientNetB3 - (300, 300, 3)  \n",
        "EfficientNetB4 - (380, 380, 3)  \n",
        "EfficientNetB5 - (456, 456, 3)  \n",
        "EfficientNetB6 - (528, 528, 3)  \n",
        "EfficientNetB7 - (600, 600, 3)  "
      ]
    },
    {
      "cell_type": "markdown",
      "metadata": {
        "id": "OJgWH2mVTf-3",
        "colab_type": "text"
      },
      "source": [
        "https://github.com/keras-team/keras/issues/8130\n",
        "https://stackoverflow.com/questions/56796331/how-to-input-multiple-images-with-flow-from-dataframe-in-keras"
      ]
    },
    {
      "cell_type": "code",
      "metadata": {
        "id": "Q2olGzDvEuRy",
        "colab_type": "code",
        "outputId": "6758dfdb-0d46-43b2-961b-059696c7fd71",
        "colab": {
          "base_uri": "https://localhost:8080/",
          "height": 306
        }
      },
      "source": [
        "#following are libraries to unpack 7z file\n",
        "!pip install patool \n",
        "!pip install pyunpack\n",
        "from pyunpack import Archive"
      ],
      "execution_count": 4,
      "outputs": [
        {
          "output_type": "stream",
          "text": [
            "Collecting patool\n",
            "\u001b[?25l  Downloading https://files.pythonhosted.org/packages/43/94/52243ddff508780dd2d8110964320ab4851134a55ab102285b46e740f76a/patool-1.12-py2.py3-none-any.whl (77kB)\n",
            "\r\u001b[K     |████▎                           | 10kB 29.2MB/s eta 0:00:01\r\u001b[K     |████████▌                       | 20kB 1.7MB/s eta 0:00:01\r\u001b[K     |████████████▊                   | 30kB 2.3MB/s eta 0:00:01\r\u001b[K     |█████████████████               | 40kB 1.7MB/s eta 0:00:01\r\u001b[K     |█████████████████████▏          | 51kB 1.9MB/s eta 0:00:01\r\u001b[K     |█████████████████████████▍      | 61kB 2.2MB/s eta 0:00:01\r\u001b[K     |█████████████████████████████▋  | 71kB 2.5MB/s eta 0:00:01\r\u001b[K     |████████████████████████████████| 81kB 2.4MB/s \n",
            "\u001b[?25hInstalling collected packages: patool\n",
            "Successfully installed patool-1.12\n",
            "Collecting pyunpack\n",
            "  Downloading https://files.pythonhosted.org/packages/79/dc/44cd41fb99d184ae7c2eac439a52ca624d5ece62b0302c3437fcc4ce3b58/pyunpack-0.1.2.tar.gz\n",
            "Collecting easyprocess\n",
            "  Downloading https://files.pythonhosted.org/packages/32/8f/88d636f1da22a3c573259e44cfefb46a117d3f9432e2c98b1ab4a21372ad/EasyProcess-0.2.10-py2.py3-none-any.whl\n",
            "Building wheels for collected packages: pyunpack\n",
            "  Building wheel for pyunpack (setup.py) ... \u001b[?25l\u001b[?25hdone\n",
            "  Created wheel for pyunpack: filename=pyunpack-0.1.2-cp36-none-any.whl size=5163 sha256=44eef8e789cb22c3ef7f52bb3f473a68aefde841028f2557bc097976b1b43c03\n",
            "  Stored in directory: /root/.cache/pip/wheels/af/44/08/60613970881e542c0baad1f2dea5ed8e6716bc573f49197b7e\n",
            "Successfully built pyunpack\n",
            "Installing collected packages: easyprocess, pyunpack\n",
            "Successfully installed easyprocess-0.2.10 pyunpack-0.1.2\n"
          ],
          "name": "stdout"
        }
      ]
    },
    {
      "cell_type": "code",
      "metadata": {
        "id": "N6cxCkiCF0ux",
        "colab_type": "code",
        "colab": {}
      },
      "source": [
        "import pandas as pd\n",
        "import numpy as np\n",
        "import cv2"
      ],
      "execution_count": 0,
      "outputs": []
    },
    {
      "cell_type": "code",
      "metadata": {
        "id": "HFAmlM88FWqn",
        "colab_type": "code",
        "colab": {}
      },
      "source": [
        "\n",
        "#create a folder name as data\n",
        "!mkdir data"
      ],
      "execution_count": 0,
      "outputs": []
    },
    {
      "cell_type": "code",
      "metadata": {
        "id": "venZ9rNrFZMZ",
        "colab_type": "code",
        "colab": {}
      },
      "source": [
        "#path where our data is saved\n",
        "path='/content/drive/My Drive/thesis/'"
      ],
      "execution_count": 0,
      "outputs": []
    },
    {
      "cell_type": "code",
      "metadata": {
        "id": "RPbingUaFbJ0",
        "colab_type": "code",
        "colab": {}
      },
      "source": [
        "#extract the 7z file in data folder we created above\n",
        "#this not only extract the data but move it from drive to colab for efficinet processing\n",
        "#it will take some time\n",
        "Archive(path+'ODIR-5K_Training_Images.7z').extractall('data')"
      ],
      "execution_count": 0,
      "outputs": []
    },
    {
      "cell_type": "code",
      "metadata": {
        "id": "5B_YwiHlMOHd",
        "colab_type": "code",
        "colab": {}
      },
      "source": [
        "Archive(path+'ODIR-5K_Testing_Images.7z').extractall('data')\n"
      ],
      "execution_count": 0,
      "outputs": []
    },
    {
      "cell_type": "code",
      "metadata": {
        "id": "t2vwqBAqFdG2",
        "colab_type": "code",
        "colab": {}
      },
      "source": [
        "#read the annottion file\n",
        "annotation=pd.read_excel(path+'ODIR-5K_Training_Annotations(Updated)_V2.xlsx')"
      ],
      "execution_count": 0,
      "outputs": []
    },
    {
      "cell_type": "code",
      "metadata": {
        "id": "UpKZEXLMFfhW",
        "colab_type": "code",
        "colab": {}
      },
      "source": [
        "\n",
        "#normal (N), diabetes (D), glaucoma (G), cataract (C), AMD (A), hypertension (H), myopia (M) and other diseases/abnormalities (O)"
      ],
      "execution_count": 0,
      "outputs": []
    },
    {
      "cell_type": "code",
      "metadata": {
        "id": "3EIxDJR0FhDq",
        "colab_type": "code",
        "outputId": "6f657db3-1455-4055-9c12-e599bbafbbcb",
        "colab": {
          "base_uri": "https://localhost:8080/",
          "height": 400
        }
      },
      "source": [
        "#print first 5 rows of annotation file\n",
        "#annotation=annotation.sample(frac=1)\n",
        "annotation.head()"
      ],
      "execution_count": 12,
      "outputs": [
        {
          "output_type": "execute_result",
          "data": {
            "text/html": [
              "<div>\n",
              "<style scoped>\n",
              "    .dataframe tbody tr th:only-of-type {\n",
              "        vertical-align: middle;\n",
              "    }\n",
              "\n",
              "    .dataframe tbody tr th {\n",
              "        vertical-align: top;\n",
              "    }\n",
              "\n",
              "    .dataframe thead th {\n",
              "        text-align: right;\n",
              "    }\n",
              "</style>\n",
              "<table border=\"1\" class=\"dataframe\">\n",
              "  <thead>\n",
              "    <tr style=\"text-align: right;\">\n",
              "      <th></th>\n",
              "      <th>ID</th>\n",
              "      <th>Patient Age</th>\n",
              "      <th>Patient Sex</th>\n",
              "      <th>Left-Fundus</th>\n",
              "      <th>Right-Fundus</th>\n",
              "      <th>Left-Diagnostic Keywords</th>\n",
              "      <th>Right-Diagnostic Keywords</th>\n",
              "      <th>N</th>\n",
              "      <th>D</th>\n",
              "      <th>G</th>\n",
              "      <th>C</th>\n",
              "      <th>A</th>\n",
              "      <th>H</th>\n",
              "      <th>M</th>\n",
              "      <th>O</th>\n",
              "    </tr>\n",
              "  </thead>\n",
              "  <tbody>\n",
              "    <tr>\n",
              "      <th>0</th>\n",
              "      <td>0</td>\n",
              "      <td>69</td>\n",
              "      <td>Female</td>\n",
              "      <td>0_left.jpg</td>\n",
              "      <td>0_right.jpg</td>\n",
              "      <td>cataract</td>\n",
              "      <td>normal fundus</td>\n",
              "      <td>0</td>\n",
              "      <td>0</td>\n",
              "      <td>0</td>\n",
              "      <td>1</td>\n",
              "      <td>0</td>\n",
              "      <td>0</td>\n",
              "      <td>0</td>\n",
              "      <td>0</td>\n",
              "    </tr>\n",
              "    <tr>\n",
              "      <th>1</th>\n",
              "      <td>1</td>\n",
              "      <td>57</td>\n",
              "      <td>Male</td>\n",
              "      <td>1_left.jpg</td>\n",
              "      <td>1_right.jpg</td>\n",
              "      <td>normal fundus</td>\n",
              "      <td>normal fundus</td>\n",
              "      <td>1</td>\n",
              "      <td>0</td>\n",
              "      <td>0</td>\n",
              "      <td>0</td>\n",
              "      <td>0</td>\n",
              "      <td>0</td>\n",
              "      <td>0</td>\n",
              "      <td>0</td>\n",
              "    </tr>\n",
              "    <tr>\n",
              "      <th>2</th>\n",
              "      <td>2</td>\n",
              "      <td>42</td>\n",
              "      <td>Male</td>\n",
              "      <td>2_left.jpg</td>\n",
              "      <td>2_right.jpg</td>\n",
              "      <td>laser spot，moderate non proliferative retinopathy</td>\n",
              "      <td>moderate non proliferative retinopathy</td>\n",
              "      <td>0</td>\n",
              "      <td>1</td>\n",
              "      <td>0</td>\n",
              "      <td>0</td>\n",
              "      <td>0</td>\n",
              "      <td>0</td>\n",
              "      <td>0</td>\n",
              "      <td>1</td>\n",
              "    </tr>\n",
              "    <tr>\n",
              "      <th>3</th>\n",
              "      <td>3</td>\n",
              "      <td>66</td>\n",
              "      <td>Male</td>\n",
              "      <td>3_left.jpg</td>\n",
              "      <td>3_right.jpg</td>\n",
              "      <td>normal fundus</td>\n",
              "      <td>branch retinal artery occlusion</td>\n",
              "      <td>0</td>\n",
              "      <td>0</td>\n",
              "      <td>0</td>\n",
              "      <td>0</td>\n",
              "      <td>0</td>\n",
              "      <td>0</td>\n",
              "      <td>0</td>\n",
              "      <td>1</td>\n",
              "    </tr>\n",
              "    <tr>\n",
              "      <th>4</th>\n",
              "      <td>4</td>\n",
              "      <td>53</td>\n",
              "      <td>Male</td>\n",
              "      <td>4_left.jpg</td>\n",
              "      <td>4_right.jpg</td>\n",
              "      <td>macular epiretinal membrane</td>\n",
              "      <td>mild nonproliferative retinopathy</td>\n",
              "      <td>0</td>\n",
              "      <td>1</td>\n",
              "      <td>0</td>\n",
              "      <td>0</td>\n",
              "      <td>0</td>\n",
              "      <td>0</td>\n",
              "      <td>0</td>\n",
              "      <td>1</td>\n",
              "    </tr>\n",
              "  </tbody>\n",
              "</table>\n",
              "</div>"
            ],
            "text/plain": [
              "   ID  Patient Age Patient Sex Left-Fundus Right-Fundus  ...  C  A  H  M  O\n",
              "0   0           69      Female  0_left.jpg  0_right.jpg  ...  1  0  0  0  0\n",
              "1   1           57        Male  1_left.jpg  1_right.jpg  ...  0  0  0  0  0\n",
              "2   2           42        Male  2_left.jpg  2_right.jpg  ...  0  0  0  0  1\n",
              "3   3           66        Male  3_left.jpg  3_right.jpg  ...  0  0  0  0  1\n",
              "4   4           53        Male  4_left.jpg  4_right.jpg  ...  0  0  0  0  1\n",
              "\n",
              "[5 rows x 15 columns]"
            ]
          },
          "metadata": {
            "tags": []
          },
          "execution_count": 12
        }
      ]
    },
    {
      "cell_type": "code",
      "metadata": {
        "id": "qmg1lv12PWNk",
        "colab_type": "code",
        "colab": {}
      },
      "source": [
        "from sklearn.model_selection import train_test_split\n",
        "annotation, val = train_test_split(annotation, test_size = 0.2,  random_state = 73)"
      ],
      "execution_count": 0,
      "outputs": []
    },
    {
      "cell_type": "code",
      "metadata": {
        "id": "HZqovtU5QryH",
        "colab_type": "code",
        "colab": {}
      },
      "source": [
        "# for i in ['G',\t'C',\t'A',\t'H',\t'M']:\n",
        "#   duplicate=annotation[annotation[i]==1]\n",
        "#   annotation=annotation.append([duplicate]*10,ignore_index=True)"
      ],
      "execution_count": 0,
      "outputs": []
    },
    {
      "cell_type": "code",
      "metadata": {
        "id": "qaUpTnUiPf31",
        "colab_type": "code",
        "outputId": "b1ccd994-a759-445f-e087-f8a643c47754",
        "colab": {
          "base_uri": "https://localhost:8080/",
          "height": 400
        }
      },
      "source": [
        "annotation.head()"
      ],
      "execution_count": 15,
      "outputs": [
        {
          "output_type": "execute_result",
          "data": {
            "text/html": [
              "<div>\n",
              "<style scoped>\n",
              "    .dataframe tbody tr th:only-of-type {\n",
              "        vertical-align: middle;\n",
              "    }\n",
              "\n",
              "    .dataframe tbody tr th {\n",
              "        vertical-align: top;\n",
              "    }\n",
              "\n",
              "    .dataframe thead th {\n",
              "        text-align: right;\n",
              "    }\n",
              "</style>\n",
              "<table border=\"1\" class=\"dataframe\">\n",
              "  <thead>\n",
              "    <tr style=\"text-align: right;\">\n",
              "      <th></th>\n",
              "      <th>ID</th>\n",
              "      <th>Patient Age</th>\n",
              "      <th>Patient Sex</th>\n",
              "      <th>Left-Fundus</th>\n",
              "      <th>Right-Fundus</th>\n",
              "      <th>Left-Diagnostic Keywords</th>\n",
              "      <th>Right-Diagnostic Keywords</th>\n",
              "      <th>N</th>\n",
              "      <th>D</th>\n",
              "      <th>G</th>\n",
              "      <th>C</th>\n",
              "      <th>A</th>\n",
              "      <th>H</th>\n",
              "      <th>M</th>\n",
              "      <th>O</th>\n",
              "    </tr>\n",
              "  </thead>\n",
              "  <tbody>\n",
              "    <tr>\n",
              "      <th>3225</th>\n",
              "      <td>4371</td>\n",
              "      <td>58</td>\n",
              "      <td>Female</td>\n",
              "      <td>4371_left.jpg</td>\n",
              "      <td>4371_right.jpg</td>\n",
              "      <td>moderate non proliferative retinopathy</td>\n",
              "      <td>mild nonproliferative retinopathy</td>\n",
              "      <td>0</td>\n",
              "      <td>1</td>\n",
              "      <td>0</td>\n",
              "      <td>0</td>\n",
              "      <td>0</td>\n",
              "      <td>0</td>\n",
              "      <td>0</td>\n",
              "      <td>0</td>\n",
              "    </tr>\n",
              "    <tr>\n",
              "      <th>2030</th>\n",
              "      <td>2653</td>\n",
              "      <td>31</td>\n",
              "      <td>Male</td>\n",
              "      <td>2653_left.jpg</td>\n",
              "      <td>2653_right.jpg</td>\n",
              "      <td>normal fundus</td>\n",
              "      <td>normal fundus</td>\n",
              "      <td>1</td>\n",
              "      <td>0</td>\n",
              "      <td>0</td>\n",
              "      <td>0</td>\n",
              "      <td>0</td>\n",
              "      <td>0</td>\n",
              "      <td>0</td>\n",
              "      <td>0</td>\n",
              "    </tr>\n",
              "    <tr>\n",
              "      <th>3054</th>\n",
              "      <td>4194</td>\n",
              "      <td>50</td>\n",
              "      <td>Female</td>\n",
              "      <td>4194_left.jpg</td>\n",
              "      <td>4194_right.jpg</td>\n",
              "      <td>mild nonproliferative retinopathy</td>\n",
              "      <td>normal fundus</td>\n",
              "      <td>0</td>\n",
              "      <td>1</td>\n",
              "      <td>0</td>\n",
              "      <td>0</td>\n",
              "      <td>0</td>\n",
              "      <td>0</td>\n",
              "      <td>0</td>\n",
              "      <td>0</td>\n",
              "    </tr>\n",
              "    <tr>\n",
              "      <th>1558</th>\n",
              "      <td>2096</td>\n",
              "      <td>74</td>\n",
              "      <td>Male</td>\n",
              "      <td>2096_left.jpg</td>\n",
              "      <td>2096_right.jpg</td>\n",
              "      <td>mild nonproliferative retinopathy</td>\n",
              "      <td>cataract</td>\n",
              "      <td>0</td>\n",
              "      <td>1</td>\n",
              "      <td>0</td>\n",
              "      <td>1</td>\n",
              "      <td>0</td>\n",
              "      <td>0</td>\n",
              "      <td>0</td>\n",
              "      <td>0</td>\n",
              "    </tr>\n",
              "    <tr>\n",
              "      <th>3059</th>\n",
              "      <td>4199</td>\n",
              "      <td>67</td>\n",
              "      <td>Female</td>\n",
              "      <td>4199_left.jpg</td>\n",
              "      <td>4199_right.jpg</td>\n",
              "      <td>moderate non proliferative retinopathy，hyperte...</td>\n",
              "      <td>hypertensive retinopathy</td>\n",
              "      <td>0</td>\n",
              "      <td>1</td>\n",
              "      <td>0</td>\n",
              "      <td>0</td>\n",
              "      <td>0</td>\n",
              "      <td>1</td>\n",
              "      <td>0</td>\n",
              "      <td>0</td>\n",
              "    </tr>\n",
              "  </tbody>\n",
              "</table>\n",
              "</div>"
            ],
            "text/plain": [
              "        ID  Patient Age Patient Sex    Left-Fundus  ...  A  H  M  O\n",
              "3225  4371           58      Female  4371_left.jpg  ...  0  0  0  0\n",
              "2030  2653           31        Male  2653_left.jpg  ...  0  0  0  0\n",
              "3054  4194           50      Female  4194_left.jpg  ...  0  0  0  0\n",
              "1558  2096           74        Male  2096_left.jpg  ...  0  0  0  0\n",
              "3059  4199           67      Female  4199_left.jpg  ...  0  1  0  0\n",
              "\n",
              "[5 rows x 15 columns]"
            ]
          },
          "metadata": {
            "tags": []
          },
          "execution_count": 15
        }
      ]
    },
    {
      "cell_type": "code",
      "metadata": {
        "id": "aPHLUeCbP7-y",
        "colab_type": "code",
        "outputId": "60c604e1-25b9-43e4-f394-b321f8dd4e76",
        "colab": {
          "base_uri": "https://localhost:8080/",
          "height": 400
        }
      },
      "source": [
        "val.head()"
      ],
      "execution_count": 16,
      "outputs": [
        {
          "output_type": "execute_result",
          "data": {
            "text/html": [
              "<div>\n",
              "<style scoped>\n",
              "    .dataframe tbody tr th:only-of-type {\n",
              "        vertical-align: middle;\n",
              "    }\n",
              "\n",
              "    .dataframe tbody tr th {\n",
              "        vertical-align: top;\n",
              "    }\n",
              "\n",
              "    .dataframe thead th {\n",
              "        text-align: right;\n",
              "    }\n",
              "</style>\n",
              "<table border=\"1\" class=\"dataframe\">\n",
              "  <thead>\n",
              "    <tr style=\"text-align: right;\">\n",
              "      <th></th>\n",
              "      <th>ID</th>\n",
              "      <th>Patient Age</th>\n",
              "      <th>Patient Sex</th>\n",
              "      <th>Left-Fundus</th>\n",
              "      <th>Right-Fundus</th>\n",
              "      <th>Left-Diagnostic Keywords</th>\n",
              "      <th>Right-Diagnostic Keywords</th>\n",
              "      <th>N</th>\n",
              "      <th>D</th>\n",
              "      <th>G</th>\n",
              "      <th>C</th>\n",
              "      <th>A</th>\n",
              "      <th>H</th>\n",
              "      <th>M</th>\n",
              "      <th>O</th>\n",
              "    </tr>\n",
              "  </thead>\n",
              "  <tbody>\n",
              "    <tr>\n",
              "      <th>2891</th>\n",
              "      <td>4009</td>\n",
              "      <td>60</td>\n",
              "      <td>Male</td>\n",
              "      <td>4009_left.jpg</td>\n",
              "      <td>4009_right.jpg</td>\n",
              "      <td>moderate non proliferative retinopathy</td>\n",
              "      <td>moderate non proliferative retinopathy</td>\n",
              "      <td>0</td>\n",
              "      <td>1</td>\n",
              "      <td>0</td>\n",
              "      <td>0</td>\n",
              "      <td>0</td>\n",
              "      <td>0</td>\n",
              "      <td>0</td>\n",
              "      <td>0</td>\n",
              "    </tr>\n",
              "    <tr>\n",
              "      <th>1811</th>\n",
              "      <td>2434</td>\n",
              "      <td>54</td>\n",
              "      <td>Male</td>\n",
              "      <td>2434_left.jpg</td>\n",
              "      <td>2434_right.jpg</td>\n",
              "      <td>normal fundus</td>\n",
              "      <td>normal fundus</td>\n",
              "      <td>1</td>\n",
              "      <td>0</td>\n",
              "      <td>0</td>\n",
              "      <td>0</td>\n",
              "      <td>0</td>\n",
              "      <td>0</td>\n",
              "      <td>0</td>\n",
              "      <td>0</td>\n",
              "    </tr>\n",
              "    <tr>\n",
              "      <th>441</th>\n",
              "      <td>442</td>\n",
              "      <td>56</td>\n",
              "      <td>Male</td>\n",
              "      <td>442_left.jpg</td>\n",
              "      <td>442_right.jpg</td>\n",
              "      <td>moderate non proliferative retinopathy</td>\n",
              "      <td>moderate non proliferative retinopathy</td>\n",
              "      <td>0</td>\n",
              "      <td>1</td>\n",
              "      <td>0</td>\n",
              "      <td>0</td>\n",
              "      <td>0</td>\n",
              "      <td>0</td>\n",
              "      <td>0</td>\n",
              "      <td>0</td>\n",
              "    </tr>\n",
              "    <tr>\n",
              "      <th>1589</th>\n",
              "      <td>2127</td>\n",
              "      <td>70</td>\n",
              "      <td>Male</td>\n",
              "      <td>2127_left.jpg</td>\n",
              "      <td>2127_right.jpg</td>\n",
              "      <td>cataract</td>\n",
              "      <td>cataract</td>\n",
              "      <td>0</td>\n",
              "      <td>0</td>\n",
              "      <td>0</td>\n",
              "      <td>1</td>\n",
              "      <td>0</td>\n",
              "      <td>0</td>\n",
              "      <td>0</td>\n",
              "      <td>0</td>\n",
              "    </tr>\n",
              "    <tr>\n",
              "      <th>526</th>\n",
              "      <td>527</td>\n",
              "      <td>48</td>\n",
              "      <td>Male</td>\n",
              "      <td>527_left.jpg</td>\n",
              "      <td>527_right.jpg</td>\n",
              "      <td>branch retinal vein occlusion</td>\n",
              "      <td>normal fundus</td>\n",
              "      <td>0</td>\n",
              "      <td>0</td>\n",
              "      <td>0</td>\n",
              "      <td>0</td>\n",
              "      <td>0</td>\n",
              "      <td>0</td>\n",
              "      <td>0</td>\n",
              "      <td>1</td>\n",
              "    </tr>\n",
              "  </tbody>\n",
              "</table>\n",
              "</div>"
            ],
            "text/plain": [
              "        ID  Patient Age Patient Sex    Left-Fundus  ...  A  H  M  O\n",
              "2891  4009           60        Male  4009_left.jpg  ...  0  0  0  0\n",
              "1811  2434           54        Male  2434_left.jpg  ...  0  0  0  0\n",
              "441    442           56        Male   442_left.jpg  ...  0  0  0  0\n",
              "1589  2127           70        Male  2127_left.jpg  ...  0  0  0  0\n",
              "526    527           48        Male   527_left.jpg  ...  0  0  0  1\n",
              "\n",
              "[5 rows x 15 columns]"
            ]
          },
          "metadata": {
            "tags": []
          },
          "execution_count": 16
        }
      ]
    },
    {
      "cell_type": "code",
      "metadata": {
        "id": "-G5M3oh4PcuG",
        "colab_type": "code",
        "outputId": "40ec5fd6-8860-441e-937a-1ffd4d3bbc70",
        "colab": {
          "base_uri": "https://localhost:8080/",
          "height": 420
        }
      },
      "source": [
        "for i in ['N'\t,'D'\t,'G',\t'C',\t'A'\t,'H'\t,'M',\t'O']:\n",
        "  print(val[i].value_counts())"
      ],
      "execution_count": 17,
      "outputs": [
        {
          "output_type": "stream",
          "text": [
            "0    470\n",
            "1    230\n",
            "Name: N, dtype: int64\n",
            "0    476\n",
            "1    224\n",
            "Name: D, dtype: int64\n",
            "0    667\n",
            "1     33\n",
            "Name: G, dtype: int64\n",
            "0    655\n",
            "1     45\n",
            "Name: C, dtype: int64\n",
            "0    661\n",
            "1     39\n",
            "Name: A, dtype: int64\n",
            "0    681\n",
            "1     19\n",
            "Name: H, dtype: int64\n",
            "0    661\n",
            "1     39\n",
            "Name: M, dtype: int64\n",
            "0    518\n",
            "1    182\n",
            "Name: O, dtype: int64\n"
          ],
          "name": "stdout"
        }
      ]
    },
    {
      "cell_type": "code",
      "metadata": {
        "id": "EtXHJkD5SqEA",
        "colab_type": "code",
        "colab": {}
      },
      "source": [
        "# val=[]\n",
        "# for i in ['N'\t,'D'\t,'G',\t'C',\t'A'\t,'H'\t,'M',\t'O']:\n",
        "#   df=annotation.sort_values(by=[i],ascending=False).head(20)\n",
        "#   val.append(df)\n",
        "#   annotation.drop(df.index,inplace=True)\n"
      ],
      "execution_count": 0,
      "outputs": []
    },
    {
      "cell_type": "code",
      "metadata": {
        "id": "Pr2Jtt5rWacr",
        "colab_type": "code",
        "colab": {}
      },
      "source": [
        "# val = pd.concat(val)\n",
        "# val=val.sample(frac=1)\n",
        "# val.head(5)"
      ],
      "execution_count": 0,
      "outputs": []
    },
    {
      "cell_type": "code",
      "metadata": {
        "id": "xUTUDoXoo11N",
        "colab_type": "code",
        "outputId": "0a256895-2422-4d7d-9fdf-07123293da65",
        "colab": {
          "base_uri": "https://localhost:8080/",
          "height": 212
        }
      },
      "source": [
        "test=pd.read_csv(path+'XYZ_ODIR.csv')\n",
        "print(len(test))\n",
        "test.head()\n"
      ],
      "execution_count": 19,
      "outputs": [
        {
          "output_type": "stream",
          "text": [
            "500\n"
          ],
          "name": "stdout"
        },
        {
          "output_type": "execute_result",
          "data": {
            "text/html": [
              "<div>\n",
              "<style scoped>\n",
              "    .dataframe tbody tr th:only-of-type {\n",
              "        vertical-align: middle;\n",
              "    }\n",
              "\n",
              "    .dataframe tbody tr th {\n",
              "        vertical-align: top;\n",
              "    }\n",
              "\n",
              "    .dataframe thead th {\n",
              "        text-align: right;\n",
              "    }\n",
              "</style>\n",
              "<table border=\"1\" class=\"dataframe\">\n",
              "  <thead>\n",
              "    <tr style=\"text-align: right;\">\n",
              "      <th></th>\n",
              "      <th>ID</th>\n",
              "      <th>N</th>\n",
              "      <th>D</th>\n",
              "      <th>G</th>\n",
              "      <th>C</th>\n",
              "      <th>A</th>\n",
              "      <th>H</th>\n",
              "      <th>M</th>\n",
              "      <th>O</th>\n",
              "    </tr>\n",
              "  </thead>\n",
              "  <tbody>\n",
              "    <tr>\n",
              "      <th>0</th>\n",
              "      <td>937</td>\n",
              "      <td>0</td>\n",
              "      <td>0</td>\n",
              "      <td>0</td>\n",
              "      <td>0</td>\n",
              "      <td>0</td>\n",
              "      <td>0</td>\n",
              "      <td>0</td>\n",
              "      <td>0</td>\n",
              "    </tr>\n",
              "    <tr>\n",
              "      <th>1</th>\n",
              "      <td>967</td>\n",
              "      <td>0</td>\n",
              "      <td>0</td>\n",
              "      <td>0</td>\n",
              "      <td>0</td>\n",
              "      <td>0</td>\n",
              "      <td>0</td>\n",
              "      <td>0</td>\n",
              "      <td>0</td>\n",
              "    </tr>\n",
              "    <tr>\n",
              "      <th>2</th>\n",
              "      <td>988</td>\n",
              "      <td>0</td>\n",
              "      <td>0</td>\n",
              "      <td>0</td>\n",
              "      <td>0</td>\n",
              "      <td>0</td>\n",
              "      <td>0</td>\n",
              "      <td>0</td>\n",
              "      <td>0</td>\n",
              "    </tr>\n",
              "    <tr>\n",
              "      <th>3</th>\n",
              "      <td>995</td>\n",
              "      <td>0</td>\n",
              "      <td>0</td>\n",
              "      <td>0</td>\n",
              "      <td>0</td>\n",
              "      <td>0</td>\n",
              "      <td>0</td>\n",
              "      <td>0</td>\n",
              "      <td>0</td>\n",
              "    </tr>\n",
              "    <tr>\n",
              "      <th>4</th>\n",
              "      <td>1000</td>\n",
              "      <td>0</td>\n",
              "      <td>0</td>\n",
              "      <td>0</td>\n",
              "      <td>0</td>\n",
              "      <td>0</td>\n",
              "      <td>0</td>\n",
              "      <td>0</td>\n",
              "      <td>0</td>\n",
              "    </tr>\n",
              "  </tbody>\n",
              "</table>\n",
              "</div>"
            ],
            "text/plain": [
              "     ID  N  D  G  C  A  H  M  O\n",
              "0   937  0  0  0  0  0  0  0  0\n",
              "1   967  0  0  0  0  0  0  0  0\n",
              "2   988  0  0  0  0  0  0  0  0\n",
              "3   995  0  0  0  0  0  0  0  0\n",
              "4  1000  0  0  0  0  0  0  0  0"
            ]
          },
          "metadata": {
            "tags": []
          },
          "execution_count": 19
        }
      ]
    },
    {
      "cell_type": "code",
      "metadata": {
        "id": "8ficanACZVOk",
        "colab_type": "code",
        "outputId": "a17ba71b-c6b4-4021-ef82-e0776c36b488",
        "colab": {
          "base_uri": "https://localhost:8080/",
          "height": 67
        }
      },
      "source": [
        "print(len(annotation))\n",
        "print(len(val))\n",
        "print(len(test))"
      ],
      "execution_count": 20,
      "outputs": [
        {
          "output_type": "stream",
          "text": [
            "2800\n",
            "700\n",
            "500\n"
          ],
          "name": "stdout"
        }
      ]
    },
    {
      "cell_type": "code",
      "metadata": {
        "id": "skIdshbwo3Y_",
        "colab_type": "code",
        "outputId": "96a9b198-c016-49d5-f12d-8ecb2bd63648",
        "colab": {
          "base_uri": "https://localhost:8080/",
          "height": 195
        }
      },
      "source": [
        "left_test=[]\n",
        "right_test=[]\n",
        "ID=[]\n",
        "for i in test['ID']:\n",
        "  ID.append(i)\n",
        "  left_test.append(str(i)+'_left.jpg')\n",
        "  right_test.append(str(i)+'_right.jpg')\n",
        "\n",
        "name_df=pd.DataFrame(zip(ID,left_test,right_test),columns=['ID','Left-Fundus','Right-Fundus'])\n",
        "name_df.head()\n",
        "result = pd.merge(name_df, test, on='ID')\n",
        "result.head()"
      ],
      "execution_count": 21,
      "outputs": [
        {
          "output_type": "execute_result",
          "data": {
            "text/html": [
              "<div>\n",
              "<style scoped>\n",
              "    .dataframe tbody tr th:only-of-type {\n",
              "        vertical-align: middle;\n",
              "    }\n",
              "\n",
              "    .dataframe tbody tr th {\n",
              "        vertical-align: top;\n",
              "    }\n",
              "\n",
              "    .dataframe thead th {\n",
              "        text-align: right;\n",
              "    }\n",
              "</style>\n",
              "<table border=\"1\" class=\"dataframe\">\n",
              "  <thead>\n",
              "    <tr style=\"text-align: right;\">\n",
              "      <th></th>\n",
              "      <th>ID</th>\n",
              "      <th>Left-Fundus</th>\n",
              "      <th>Right-Fundus</th>\n",
              "      <th>N</th>\n",
              "      <th>D</th>\n",
              "      <th>G</th>\n",
              "      <th>C</th>\n",
              "      <th>A</th>\n",
              "      <th>H</th>\n",
              "      <th>M</th>\n",
              "      <th>O</th>\n",
              "    </tr>\n",
              "  </thead>\n",
              "  <tbody>\n",
              "    <tr>\n",
              "      <th>0</th>\n",
              "      <td>937</td>\n",
              "      <td>937_left.jpg</td>\n",
              "      <td>937_right.jpg</td>\n",
              "      <td>0</td>\n",
              "      <td>0</td>\n",
              "      <td>0</td>\n",
              "      <td>0</td>\n",
              "      <td>0</td>\n",
              "      <td>0</td>\n",
              "      <td>0</td>\n",
              "      <td>0</td>\n",
              "    </tr>\n",
              "    <tr>\n",
              "      <th>1</th>\n",
              "      <td>967</td>\n",
              "      <td>967_left.jpg</td>\n",
              "      <td>967_right.jpg</td>\n",
              "      <td>0</td>\n",
              "      <td>0</td>\n",
              "      <td>0</td>\n",
              "      <td>0</td>\n",
              "      <td>0</td>\n",
              "      <td>0</td>\n",
              "      <td>0</td>\n",
              "      <td>0</td>\n",
              "    </tr>\n",
              "    <tr>\n",
              "      <th>2</th>\n",
              "      <td>988</td>\n",
              "      <td>988_left.jpg</td>\n",
              "      <td>988_right.jpg</td>\n",
              "      <td>0</td>\n",
              "      <td>0</td>\n",
              "      <td>0</td>\n",
              "      <td>0</td>\n",
              "      <td>0</td>\n",
              "      <td>0</td>\n",
              "      <td>0</td>\n",
              "      <td>0</td>\n",
              "    </tr>\n",
              "    <tr>\n",
              "      <th>3</th>\n",
              "      <td>995</td>\n",
              "      <td>995_left.jpg</td>\n",
              "      <td>995_right.jpg</td>\n",
              "      <td>0</td>\n",
              "      <td>0</td>\n",
              "      <td>0</td>\n",
              "      <td>0</td>\n",
              "      <td>0</td>\n",
              "      <td>0</td>\n",
              "      <td>0</td>\n",
              "      <td>0</td>\n",
              "    </tr>\n",
              "    <tr>\n",
              "      <th>4</th>\n",
              "      <td>1000</td>\n",
              "      <td>1000_left.jpg</td>\n",
              "      <td>1000_right.jpg</td>\n",
              "      <td>0</td>\n",
              "      <td>0</td>\n",
              "      <td>0</td>\n",
              "      <td>0</td>\n",
              "      <td>0</td>\n",
              "      <td>0</td>\n",
              "      <td>0</td>\n",
              "      <td>0</td>\n",
              "    </tr>\n",
              "  </tbody>\n",
              "</table>\n",
              "</div>"
            ],
            "text/plain": [
              "     ID    Left-Fundus    Right-Fundus  N  D  G  C  A  H  M  O\n",
              "0   937   937_left.jpg   937_right.jpg  0  0  0  0  0  0  0  0\n",
              "1   967   967_left.jpg   967_right.jpg  0  0  0  0  0  0  0  0\n",
              "2   988   988_left.jpg   988_right.jpg  0  0  0  0  0  0  0  0\n",
              "3   995   995_left.jpg   995_right.jpg  0  0  0  0  0  0  0  0\n",
              "4  1000  1000_left.jpg  1000_right.jpg  0  0  0  0  0  0  0  0"
            ]
          },
          "metadata": {
            "tags": []
          },
          "execution_count": 21
        }
      ]
    },
    {
      "cell_type": "code",
      "metadata": {
        "colab_type": "code",
        "id": "CZ89sH5UQjqX",
        "colab": {}
      },
      "source": [
        ""
      ],
      "execution_count": 0,
      "outputs": []
    },
    {
      "cell_type": "code",
      "metadata": {
        "id": "_vZADzpUGq8L",
        "colab_type": "code",
        "outputId": "ac34df0c-99bb-4a26-e8b3-82cdb126c472",
        "colab": {
          "base_uri": "https://localhost:8080/",
          "height": 34
        }
      },
      "source": [
        "len(annotation)"
      ],
      "execution_count": 22,
      "outputs": [
        {
          "output_type": "execute_result",
          "data": {
            "text/plain": [
              "2800"
            ]
          },
          "metadata": {
            "tags": []
          },
          "execution_count": 22
        }
      ]
    },
    {
      "cell_type": "code",
      "metadata": {
        "id": "7zy2yQ5GG5VB",
        "colab_type": "code",
        "colab": {}
      },
      "source": [
        "img_shape=300"
      ],
      "execution_count": 0,
      "outputs": []
    },
    {
      "cell_type": "code",
      "metadata": {
        "id": "o029gBw9G058",
        "colab_type": "code",
        "colab": {}
      },
      "source": [
        "#https://www.kaggle.com/ratthachat/aptos-eye-preprocessing-in-diabetic-retinopathy\n",
        "def crop_image1(img,tol=7):\n",
        "    # img is image data\n",
        "    # tol  is tolerance\n",
        "        \n",
        "    mask = img>tol\n",
        "    return img[np.ix_(mask.any(1),mask.any(0))]\n",
        "\n",
        "def crop_image_from_gray(img,tol=7):\n",
        "    if img.ndim ==2:\n",
        "        mask = img>tol\n",
        "        return img[np.ix_(mask.any(1),mask.any(0))]\n",
        "    elif img.ndim==3:\n",
        "        gray_img = cv2.cvtColor(img, cv2.COLOR_RGB2GRAY)\n",
        "        mask = gray_img>tol\n",
        "        \n",
        "        check_shape = img[:,:,0][np.ix_(mask.any(1),mask.any(0))].shape[0]\n",
        "        if (check_shape == 0): # image is too dark so that we crop out everything,\n",
        "            return img # return original image\n",
        "        else:\n",
        "            img1=img[:,:,0][np.ix_(mask.any(1),mask.any(0))]\n",
        "            img2=img[:,:,1][np.ix_(mask.any(1),mask.any(0))]\n",
        "            img3=img[:,:,2][np.ix_(mask.any(1),mask.any(0))]\n",
        "    #         print(img1.shape,img2.shape,img3.shape)\n",
        "            img = np.stack([img1,img2,img3],axis=-1)\n",
        "    #         print(img.shape)\n",
        "        return img"
      ],
      "execution_count": 0,
      "outputs": []
    },
    {
      "cell_type": "code",
      "metadata": {
        "id": "lXCvf95yG3Su",
        "colab_type": "code",
        "colab": {}
      },
      "source": [
        "def load_ben_color(image, sigmaX=10):\n",
        "    #image = cv2.imread(path)\n",
        "    #image = cv2.cvtColor(image, cv2.COLOR_BGR2RGB)\n",
        "    image = crop_image_from_gray(image)\n",
        "    image = cv2.resize(image, (img_shape, img_shape))\n",
        "    image=cv2.addWeighted ( image,4, cv2.GaussianBlur( image , (0,0) , sigmaX) ,-4 ,128)\n",
        "    \n",
        "    \n",
        "    return image"
      ],
      "execution_count": 0,
      "outputs": []
    },
    {
      "cell_type": "code",
      "metadata": {
        "id": "YGEKCh4cHLGY",
        "colab_type": "code",
        "colab": {}
      },
      "source": [
        "from keras_preprocessing.image import ImageDataGenerator\n",
        "\n",
        "train_data_gen= ImageDataGenerator(\n",
        "    horizontal_flip=True,\n",
        "    vertical_flip=True,\n",
        "    rotation_range=10,\n",
        "    width_shift_range=0.1,\n",
        "    height_shift_range=0.1,\n",
        "    zoom_range=.1,\n",
        "    rescale=1/255,\n",
        "    fill_mode='nearest',\n",
        "    shear_range=0.1,\n",
        "    brightness_range=[0.5, 1.5],\n",
        "    preprocessing_function=load_ben_color\n",
        ")\n",
        "\n",
        "val_data_gen= ImageDataGenerator(\n",
        "    rescale=1/255\n",
        "    \n",
        ")"
      ],
      "execution_count": 0,
      "outputs": []
    },
    {
      "cell_type": "code",
      "metadata": {
        "id": "tCzfKSV3FkpG",
        "colab_type": "code",
        "colab": {}
      },
      "source": [
        "def get_flow_from_dataframe(generator, dataframe,directory_path,\n",
        "                            image_shape=(img_shape, img_shape),\n",
        "                            #subset='training',\n",
        "                             batch_size=35):\n",
        "    train_generator_1 = generator.flow_from_dataframe(dataframe,\n",
        "                                                      directory=directory_path,\n",
        "                                                      target_size=(img_shape,img_shape),\n",
        "                                                      x_col=\"Left-Fundus\",\n",
        "                                                      y_col=['N'\t,'D'\t,'G',\t'C',\t'A'\t,'H'\t,'M',\t'O'],\n",
        "                                                      class_mode='other',\n",
        "                                                      shuffle=False,\n",
        "                                                      batch_size=batch_size,\n",
        "                                                      seed=7,\n",
        "                                                      classes=['N'\t,'D'\t,'G',\t'C',\t'A'\t,'H'\t,'M',\t'O']\n",
        "                                                      #subset=subset\n",
        "                                                      )\n",
        "\n",
        "    train_generator_2 = generator.flow_from_dataframe(dataframe, \n",
        "                                                      directory=directory_path,\n",
        "                                                      target_size=(img_shape,img_shape),\n",
        "                                                      x_col=\"Right-Fundus\",\n",
        "                                                      y_col=['N'\t,'D'\t,'G',\t'C',\t'A'\t,'H'\t,'M',\t'O'],\n",
        "                                                      class_mode='other',\n",
        "                                                      shuffle=False,\n",
        "                                                      batch_size=batch_size,\n",
        "                                                      seed=7,\n",
        "                                                      classes=['N'\t,'D'\t,'G',\t'C',\t'A'\t,'H'\t,'M',\t'O']                                                     \n",
        "                                                      #subset=subset\n",
        "                                                      )\n",
        "    while True:\n",
        "        x_1 = train_generator_1.next()\n",
        "        x_2 = train_generator_2.next()\n",
        "\n",
        "        yield [x_1[0], x_2[0]], x_1[1]"
      ],
      "execution_count": 0,
      "outputs": []
    },
    {
      "cell_type": "code",
      "metadata": {
        "id": "Xjbl6CEiOJPB",
        "colab_type": "code",
        "colab": {}
      },
      "source": [
        "batch_size=15\n",
        "train_gen = get_flow_from_dataframe(train_data_gen, annotation, image_shape=(img_shape, img_shape),\n",
        "                                        directory_path=\"data/ODIR-5K_Training_Dataset/\",batch_size=batch_size)\n",
        "valid_gen = get_flow_from_dataframe(train_data_gen, val, image_shape=(img_shape, img_shape),\n",
        "                                        directory_path=\"data/ODIR-5K_Training_Dataset/\",batch_size=batch_size)\n",
        "test_gen = get_flow_from_dataframe(train_data_gen, result, image_shape=(img_shape, img_shape),\n",
        "                                        directory_path=\"data/ODIR-5K_Testing_Images/\",batch_size=batch_size)"
      ],
      "execution_count": 0,
      "outputs": []
    },
    {
      "cell_type": "code",
      "metadata": {
        "id": "6wW1nbe2OPlM",
        "colab_type": "code",
        "outputId": "c9a00c17-614b-480a-888c-398a613898e4",
        "colab": {
          "base_uri": "https://localhost:8080/",
          "height": 34
        }
      },
      "source": [
        "img_shape"
      ],
      "execution_count": 29,
      "outputs": [
        {
          "output_type": "execute_result",
          "data": {
            "text/plain": [
              "300"
            ]
          },
          "metadata": {
            "tags": []
          },
          "execution_count": 29
        }
      ]
    },
    {
      "cell_type": "code",
      "metadata": {
        "id": "Yh2SCQ91Gyzk",
        "colab_type": "code",
        "colab": {
          "base_uri": "https://localhost:8080/",
          "height": 96
        },
        "outputId": "7ad7ed70-f937-45c7-b236-9c93b71f14db"
      },
      "source": [
        "from keras.models import Sequential,Model\n",
        "from keras.layers import Activation, Dropout, Flatten, Dense, Conv2D, MaxPool2D, BatchNormalization,Input,MaxPooling2D,GlobalMaxPooling2D,concatenate\n",
        "from keras.layers import GlobalAveragePooling2D\n",
        "from keras.applications.resnet50 import ResNet50\n",
        "from keras.callbacks import ModelCheckpoint\n",
        "import tensorflow as tf\n",
        "tf.logging.set_verbosity(tf.logging.ERROR)"
      ],
      "execution_count": 30,
      "outputs": [
        {
          "output_type": "stream",
          "text": [
            "Using TensorFlow backend.\n"
          ],
          "name": "stderr"
        },
        {
          "output_type": "display_data",
          "data": {
            "text/html": [
              "<p style=\"color: red;\">\n",
              "The default version of TensorFlow in Colab will soon switch to TensorFlow 2.x.<br>\n",
              "We recommend you <a href=\"https://www.tensorflow.org/guide/migrate\" target=\"_blank\">upgrade</a> now \n",
              "or ensure your notebook will continue to use TensorFlow 1.x via the <code>%tensorflow_version 1.x</code> magic:\n",
              "<a href=\"https://colab.research.google.com/notebooks/tensorflow_version.ipynb\" target=\"_blank\">more info</a>.</p>\n"
            ],
            "text/plain": [
              "<IPython.core.display.HTML object>"
            ]
          },
          "metadata": {
            "tags": []
          }
        }
      ]
    },
    {
      "cell_type": "code",
      "metadata": {
        "id": "UR73wULkH2M6",
        "colab_type": "code",
        "colab": {}
      },
      "source": [
        "\n",
        "from efficientnet import EfficientNetB3\n",
        "from keras.applications.vgg16 import VGG16\n",
        "import keras\n",
        "left_input=Input(shape=(img_shape,img_shape,3))\n",
        "right_input=Input(shape=(img_shape,img_shape,3))\n",
        "\n",
        "left_model = EfficientNetB3(input_shape =  (img_shape,img_shape,3), include_top = False, weights = 'imagenet',input_tensor=left_input)\n",
        "right_model = EfficientNetB3(input_shape =  (img_shape,img_shape,3), include_top = False, weights = 'imagenet',input_tensor=right_input)\n",
        "\n",
        "left_model.trainable = False\n",
        "right_model.trainable = False"
      ],
      "execution_count": 0,
      "outputs": []
    },
    {
      "cell_type": "code",
      "metadata": {
        "id": "Ml2q6gLRJnDZ",
        "colab_type": "code",
        "colab": {}
      },
      "source": [
        "con = concatenate([left_model.output, right_model.output])\n",
        "gap_dr = Dropout(0.5)(con)\n",
        "GAP= GlobalAveragePooling2D()(gap_dr)\n",
        "fc1=Dense(256, activation = 'relu')(GAP)\n",
        "fc2=Dense(128, activation = 'relu')(fc1)\n",
        "fc3=Dense(64, activation = 'relu')(fc2)\n",
        "out = Dense(8, activation = 'sigmoid')(fc3)"
      ],
      "execution_count": 0,
      "outputs": []
    },
    {
      "cell_type": "code",
      "metadata": {
        "id": "FqzmkMwkJl4u",
        "colab_type": "code",
        "colab": {}
      },
      "source": [
        "\n",
        "for layer in right_model.layers:\n",
        "        layer.name = layer.name + '_right'\n",
        "for layer in left_model.layers:\n",
        "  layer.name = layer.name + '_left'\n",
        "\n",
        "left_model.name=\"left_eff\"\n",
        "right_model.name=\"right_eff\""
      ],
      "execution_count": 0,
      "outputs": []
    },
    {
      "cell_type": "code",
      "metadata": {
        "id": "yhsdxOIzKDWW",
        "colab_type": "code",
        "colab": {}
      },
      "source": [
        "model =Model(inputs=[left_input, right_input], outputs=out)\n"
      ],
      "execution_count": 0,
      "outputs": []
    },
    {
      "cell_type": "code",
      "metadata": {
        "id": "xVWovHlxGh2D",
        "colab_type": "code",
        "colab": {}
      },
      "source": [
        "# from keras.utils import plot_model\n",
        "# plot_model(model)"
      ],
      "execution_count": 0,
      "outputs": []
    },
    {
      "cell_type": "code",
      "metadata": {
        "id": "iwEJjjCkfX5Y",
        "colab_type": "code",
        "colab": {}
      },
      "source": [
        "import keras.backend as K\n",
        "def focal_loss(y_true, y_pred, alpha = 0.75, gamma = 2):\n",
        "  alpha_factor = K.ones_like(y_true) * alpha\n",
        "  alpha_factor = tf.where(K.equal(y_true, 1), alpha_factor, 1 - alpha_factor)\n",
        "  focal_weight = tf.where(K.equal(y_true, 1), 1 - y_pred, y_pred)\n",
        "  focal_weight = alpha_factor * focal_weight ** gamma\n",
        "  loss = focal_weight * K.binary_crossentropy(y_true, y_pred)\n",
        "  return loss"
      ],
      "execution_count": 0,
      "outputs": []
    },
    {
      "cell_type": "code",
      "metadata": {
        "id": "WR_jQXQNfVCp",
        "colab_type": "code",
        "colab": {}
      },
      "source": [
        "from keras_radam import RAdam\n",
        "\n",
        "model.compile('adam',loss=focal_loss,metrics=['accuracy'])"
      ],
      "execution_count": 0,
      "outputs": []
    },
    {
      "cell_type": "code",
      "metadata": {
        "id": "sjnVWl1UQxRs",
        "colab_type": "code",
        "colab": {}
      },
      "source": [
        "step_size_train=len(annotation)/batch_size\n",
        "step_size_val=len(val)/batch_size\n"
      ],
      "execution_count": 0,
      "outputs": []
    },
    {
      "cell_type": "code",
      "metadata": {
        "id": "hKlqXLgkHRNe",
        "colab_type": "code",
        "colab": {}
      },
      "source": [
        "from keras.callbacks import ReduceLROnPlateau,ModelCheckpoint\n",
        "reduce_lr = ReduceLROnPlateau(monitor='val_loss', factor=0.3,\n",
        "                              patience=3, min_lr=0.000001, verbose=1)\n",
        "checkpoint = ModelCheckpoint('model.h5', monitor='val_loss', verbose=1, save_best_only=True, mode='min')\n"
      ],
      "execution_count": 0,
      "outputs": []
    },
    {
      "cell_type": "code",
      "metadata": {
        "id": "nzPOtk_XeLy4",
        "colab_type": "code",
        "colab": {}
      },
      "source": [
        ""
      ],
      "execution_count": 0,
      "outputs": []
    },
    {
      "cell_type": "code",
      "metadata": {
        "id": "Q_K_SSjQJoIk",
        "colab_type": "code",
        "outputId": "447bc590-2eb5-4bce-e984-2bd017d3302a",
        "colab": {
          "base_uri": "https://localhost:8080/",
          "height": 1000
        }
      },
      "source": [
        "hist=model.fit_generator(train_gen, epochs=20,\n",
        "                        steps_per_epoch=step_size_train,\n",
        "                        use_multiprocessing=True,\n",
        "                        validation_data=valid_gen,\n",
        "                        validation_steps=step_size_val,\n",
        "                        verbose=2,callbacks=[reduce_lr,checkpoint],\n",
        "                    \n",
        "                        )"
      ],
      "execution_count": 40,
      "outputs": [
        {
          "output_type": "stream",
          "text": [
            "Epoch 1/20\n"
          ],
          "name": "stdout"
        },
        {
          "output_type": "stream",
          "text": [
            "/usr/local/lib/python3.6/dist-packages/keras_preprocessing/image/dataframe_iterator.py:211: UserWarning: `classes` will be ignored given the class_mode=\"raw\"\n",
            "  .format(self.class_mode))\n",
            "/usr/local/lib/python3.6/dist-packages/keras_preprocessing/image/dataframe_iterator.py:211: UserWarning: `classes` will be ignored given the class_mode=\"raw\"\n",
            "  .format(self.class_mode))\n"
          ],
          "name": "stderr"
        },
        {
          "output_type": "stream",
          "text": [
            "Found 700 validated image filenames.\n",
            "Found 700 validated image filenames.\n",
            "Found 2800 validated image filenames.\n",
            "Found 2800 validated image filenames.\n",
            " - 727s - loss: 0.0416 - acc: 0.3750 - val_loss: 0.0390 - val_acc: 0.4157\n",
            "\n",
            "Epoch 00001: val_loss improved from inf to 0.03903, saving model to model.h5\n",
            "Epoch 2/20\n",
            " - 615s - loss: 0.0388 - acc: 0.4093 - val_loss: 0.0374 - val_acc: 0.4529\n",
            "\n",
            "Epoch 00002: val_loss improved from 0.03903 to 0.03744, saving model to model.h5\n",
            "Epoch 3/20\n",
            " - 632s - loss: 0.0370 - acc: 0.4479 - val_loss: 0.0411 - val_acc: 0.3929\n",
            "\n",
            "Epoch 00003: val_loss did not improve from 0.03744\n",
            "Epoch 4/20\n",
            " - 633s - loss: 0.0364 - acc: 0.4553 - val_loss: 0.0424 - val_acc: 0.4300\n",
            "\n",
            "Epoch 00004: val_loss did not improve from 0.03744\n",
            "Epoch 5/20\n",
            " - 632s - loss: 0.0344 - acc: 0.4989 - val_loss: 0.0380 - val_acc: 0.4643\n",
            "\n",
            "Epoch 00005: ReduceLROnPlateau reducing learning rate to 0.0003000000142492354.\n",
            "\n",
            "Epoch 00005: val_loss did not improve from 0.03744\n",
            "Epoch 6/20\n",
            " - 631s - loss: 0.0312 - acc: 0.5533 - val_loss: 0.0332 - val_acc: 0.5471\n",
            "\n",
            "Epoch 00006: val_loss improved from 0.03744 to 0.03317, saving model to model.h5\n",
            "Epoch 7/20\n",
            " - 629s - loss: 0.0292 - acc: 0.5734 - val_loss: 0.0326 - val_acc: 0.5257\n",
            "\n",
            "Epoch 00007: val_loss improved from 0.03317 to 0.03263, saving model to model.h5\n",
            "Epoch 8/20\n",
            " - 629s - loss: 0.0275 - acc: 0.5843 - val_loss: 0.0344 - val_acc: 0.5371\n",
            "\n",
            "Epoch 00008: val_loss did not improve from 0.03263\n",
            "Epoch 9/20\n",
            " - 631s - loss: 0.0267 - acc: 0.5959 - val_loss: 0.0361 - val_acc: 0.4971\n",
            "\n",
            "Epoch 00009: val_loss did not improve from 0.03263\n",
            "Epoch 10/20\n",
            " - 631s - loss: 0.0258 - acc: 0.6070 - val_loss: 0.0377 - val_acc: 0.5057\n",
            "\n",
            "Epoch 00010: ReduceLROnPlateau reducing learning rate to 9.000000427477062e-05.\n",
            "\n",
            "Epoch 00010: val_loss did not improve from 0.03263\n",
            "Epoch 11/20\n",
            " - 649s - loss: 0.0230 - acc: 0.6537 - val_loss: 0.0334 - val_acc: 0.5714\n",
            "\n",
            "Epoch 00011: val_loss did not improve from 0.03263\n",
            "Epoch 12/20\n",
            " - 673s - loss: 0.0218 - acc: 0.6679 - val_loss: 0.0351 - val_acc: 0.5671\n",
            "\n",
            "Epoch 00012: val_loss did not improve from 0.03263\n",
            "Epoch 13/20\n",
            " - 664s - loss: 0.0205 - acc: 0.6848 - val_loss: 0.0372 - val_acc: 0.5629\n",
            "\n",
            "Epoch 00013: ReduceLROnPlateau reducing learning rate to 2.700000040931627e-05.\n",
            "\n",
            "Epoch 00013: val_loss did not improve from 0.03263\n",
            "Epoch 14/20\n",
            " - 654s - loss: 0.0192 - acc: 0.7070 - val_loss: 0.0356 - val_acc: 0.6014\n",
            "\n",
            "Epoch 00014: val_loss did not improve from 0.03263\n",
            "Epoch 15/20\n",
            " - 662s - loss: 0.0187 - acc: 0.7189 - val_loss: 0.0361 - val_acc: 0.5771\n",
            "\n",
            "Epoch 00015: val_loss did not improve from 0.03263\n",
            "Epoch 16/20\n",
            " - 668s - loss: 0.0179 - acc: 0.7234 - val_loss: 0.0366 - val_acc: 0.5886\n",
            "\n",
            "Epoch 00016: ReduceLROnPlateau reducing learning rate to 8.100000013655517e-06.\n",
            "\n",
            "Epoch 00016: val_loss did not improve from 0.03263\n",
            "Epoch 17/20\n",
            " - 668s - loss: 0.0177 - acc: 0.7168 - val_loss: 0.0361 - val_acc: 0.5800\n",
            "\n",
            "Epoch 00017: val_loss did not improve from 0.03263\n",
            "Epoch 18/20\n",
            " - 672s - loss: 0.0173 - acc: 0.7358 - val_loss: 0.0369 - val_acc: 0.5900\n",
            "\n",
            "Epoch 00018: val_loss did not improve from 0.03263\n",
            "Epoch 19/20\n",
            " - 675s - loss: 0.0169 - acc: 0.7430 - val_loss: 0.0379 - val_acc: 0.5786\n",
            "\n",
            "Epoch 00019: ReduceLROnPlateau reducing learning rate to 2.429999949526973e-06.\n",
            "\n",
            "Epoch 00019: val_loss did not improve from 0.03263\n",
            "Epoch 20/20\n",
            " - 668s - loss: 0.0172 - acc: 0.7258 - val_loss: 0.0375 - val_acc: 0.5871\n",
            "\n",
            "Epoch 00020: val_loss did not improve from 0.03263\n"
          ],
          "name": "stdout"
        }
      ]
    },
    {
      "cell_type": "code",
      "metadata": {
        "id": "JrQCxAMLLPlD",
        "colab_type": "code",
        "outputId": "dd20e379-553a-4366-d530-e9dd0cf08e9c",
        "colab": {
          "base_uri": "https://localhost:8080/",
          "height": 34
        }
      },
      "source": [
        "hist"
      ],
      "execution_count": 41,
      "outputs": [
        {
          "output_type": "execute_result",
          "data": {
            "text/plain": [
              "<keras.callbacks.History at 0x7f3bb7f35320>"
            ]
          },
          "metadata": {
            "tags": []
          },
          "execution_count": 41
        }
      ]
    },
    {
      "cell_type": "code",
      "metadata": {
        "id": "jYRXBCYmJhHm",
        "colab_type": "code",
        "outputId": "fafdd498-3dff-4bc1-8a91-ae3a76b406e9",
        "colab": {
          "base_uri": "https://localhost:8080/",
          "height": 295
        }
      },
      "source": [
        "import matplotlib.pyplot as plt\n",
        "\n",
        "plt.plot(hist.history['loss'])\n",
        "plt.plot(hist.history['val_loss'])\n",
        "plt.title('model loss')\n",
        "plt.ylabel('loss')\n",
        "plt.xlabel('epoch')\n",
        "plt.legend(['train', 'test'], loc='upper left')\n",
        "plt.show()"
      ],
      "execution_count": 42,
      "outputs": [
        {
          "output_type": "display_data",
          "data": {
            "image/png": "[encoded data removed]",
            "text/plain": [
              "<Figure size 432x288 with 1 Axes>"
            ]
          },
          "metadata": {
            "tags": []
          }
        }
      ]
    },
    {
      "cell_type": "code",
      "metadata": {
        "id": "2_XdXICBMR6o",
        "colab_type": "code",
        "colab": {
          "base_uri": "https://localhost:8080/",
          "height": 104
        },
        "outputId": "83362bb4-abfe-42a7-8811-7c13db44661f"
      },
      "source": [
        "y_pred = model.predict_generator(valid_gen,steps=step_size_val)\n",
        "y_pred1=y_pred.copy()\n",
        "y_pred1[y_pred1>=0.5] = 1\n",
        "y_pred1[y_pred1<0.5] = 0\n",
        "y_pred1=y_pred1.astype(int)"
      ],
      "execution_count": 43,
      "outputs": [
        {
          "output_type": "stream",
          "text": [
            "/usr/local/lib/python3.6/dist-packages/keras_preprocessing/image/dataframe_iterator.py:211: UserWarning: `classes` will be ignored given the class_mode=\"raw\"\n",
            "  .format(self.class_mode))\n"
          ],
          "name": "stderr"
        },
        {
          "output_type": "stream",
          "text": [
            "Found 700 validated image filenames.\n",
            "Found 700 validated image filenames.\n"
          ],
          "name": "stdout"
        }
      ]
    },
    {
      "cell_type": "code",
      "metadata": {
        "id": "t1xf_D1hn7ZE",
        "colab_type": "code",
        "colab": {}
      },
      "source": [
        ""
      ],
      "execution_count": 0,
      "outputs": []
    },
    {
      "cell_type": "code",
      "metadata": {
        "id": "LK7dhwnUodZ7",
        "colab_type": "code",
        "colab": {}
      },
      "source": [
        "# y_true=val_annotation.iloc[:,-8::].values\n",
        "# y_true.shape"
      ],
      "execution_count": 0,
      "outputs": []
    },
    {
      "cell_type": "code",
      "metadata": {
        "id": "ePPDphOcn90N",
        "colab_type": "code",
        "colab": {}
      },
      "source": [
        "# from sklearn.metrics import classification_report\n",
        "# from sklearn.metrics import accuracy_score\n",
        "# from sklearn.metrics import multilabel_confusion_matrix\n",
        "\n",
        "# multilabel_confusion_matrix(y_true, y_pred1)"
      ],
      "execution_count": 0,
      "outputs": []
    },
    {
      "cell_type": "code",
      "metadata": {
        "id": "mpKNYxITn_-8",
        "colab_type": "code",
        "colab": {}
      },
      "source": [
        "# target_names = ['N'\t,'D'\t,'G',\t'C',\t'A'\t,'H'\t,'M',\t'O']\n",
        "# print(classification_report(y_true, y_pred1, target_names=target_names))"
      ],
      "execution_count": 0,
      "outputs": []
    },
    {
      "cell_type": "code",
      "metadata": {
        "id": "_07ZnzJVS6V7",
        "colab_type": "code",
        "colab": {}
      },
      "source": [
        "#model.load_weights('model.h5')"
      ],
      "execution_count": 0,
      "outputs": []
    },
    {
      "cell_type": "code",
      "metadata": {
        "id": "UvQM1WK-TNFc",
        "colab_type": "code",
        "colab": {}
      },
      "source": [
        "y_test= model.predict_generator(test_gen,steps=len(test)/batch_size)\n"
      ],
      "execution_count": 0,
      "outputs": []
    },
    {
      "cell_type": "code",
      "metadata": {
        "id": "MK_o2xCF7obl",
        "colab_type": "code",
        "colab": {}
      },
      "source": [
        "for i,j in enumerate(['N'\t,'D'\t,'G',\t'C',\t'A'\t,'H'\t,'M',\t'O']):\n",
        "  test[j]=y_test[:,i]"
      ],
      "execution_count": 0,
      "outputs": []
    },
    {
      "cell_type": "code",
      "metadata": {
        "id": "blfhoD498HM5",
        "colab_type": "code",
        "outputId": "7ae69f1c-2184-4415-c132-0a1cc85a41c0",
        "colab": {
          "base_uri": "https://localhost:8080/",
          "height": 195
        }
      },
      "source": [
        "test.head()"
      ],
      "execution_count": 64,
      "outputs": [
        {
          "output_type": "execute_result",
          "data": {
            "text/html": [
              "<div>\n",
              "<style scoped>\n",
              "    .dataframe tbody tr th:only-of-type {\n",
              "        vertical-align: middle;\n",
              "    }\n",
              "\n",
              "    .dataframe tbody tr th {\n",
              "        vertical-align: top;\n",
              "    }\n",
              "\n",
              "    .dataframe thead th {\n",
              "        text-align: right;\n",
              "    }\n",
              "</style>\n",
              "<table border=\"1\" class=\"dataframe\">\n",
              "  <thead>\n",
              "    <tr style=\"text-align: right;\">\n",
              "      <th></th>\n",
              "      <th>ID</th>\n",
              "      <th>N</th>\n",
              "      <th>D</th>\n",
              "      <th>G</th>\n",
              "      <th>C</th>\n",
              "      <th>A</th>\n",
              "      <th>H</th>\n",
              "      <th>M</th>\n",
              "      <th>O</th>\n",
              "    </tr>\n",
              "  </thead>\n",
              "  <tbody>\n",
              "    <tr>\n",
              "      <th>0</th>\n",
              "      <td>937</td>\n",
              "      <td>0.531283</td>\n",
              "      <td>0.545583</td>\n",
              "      <td>0.156361</td>\n",
              "      <td>0.132665</td>\n",
              "      <td>0.284910</td>\n",
              "      <td>0.216472</td>\n",
              "      <td>0.059940</td>\n",
              "      <td>0.557069</td>\n",
              "    </tr>\n",
              "    <tr>\n",
              "      <th>1</th>\n",
              "      <td>967</td>\n",
              "      <td>0.601640</td>\n",
              "      <td>0.352587</td>\n",
              "      <td>0.527915</td>\n",
              "      <td>0.108094</td>\n",
              "      <td>0.066309</td>\n",
              "      <td>0.109182</td>\n",
              "      <td>0.018108</td>\n",
              "      <td>0.406333</td>\n",
              "    </tr>\n",
              "    <tr>\n",
              "      <th>2</th>\n",
              "      <td>988</td>\n",
              "      <td>0.283680</td>\n",
              "      <td>0.383577</td>\n",
              "      <td>0.245242</td>\n",
              "      <td>0.172516</td>\n",
              "      <td>0.660086</td>\n",
              "      <td>0.175962</td>\n",
              "      <td>0.287011</td>\n",
              "      <td>0.519372</td>\n",
              "    </tr>\n",
              "    <tr>\n",
              "      <th>3</th>\n",
              "      <td>995</td>\n",
              "      <td>0.420732</td>\n",
              "      <td>0.305039</td>\n",
              "      <td>0.767300</td>\n",
              "      <td>0.074007</td>\n",
              "      <td>0.089879</td>\n",
              "      <td>0.102426</td>\n",
              "      <td>0.043770</td>\n",
              "      <td>0.344675</td>\n",
              "    </tr>\n",
              "    <tr>\n",
              "      <th>4</th>\n",
              "      <td>1000</td>\n",
              "      <td>0.468432</td>\n",
              "      <td>0.411044</td>\n",
              "      <td>0.612407</td>\n",
              "      <td>0.364113</td>\n",
              "      <td>0.201935</td>\n",
              "      <td>0.224372</td>\n",
              "      <td>0.215634</td>\n",
              "      <td>0.499904</td>\n",
              "    </tr>\n",
              "  </tbody>\n",
              "</table>\n",
              "</div>"
            ],
            "text/plain": [
              "     ID         N         D         G  ...         A         H         M         O\n",
              "0   937  0.531283  0.545583  0.156361  ...  0.284910  0.216472  0.059940  0.557069\n",
              "1   967  0.601640  0.352587  0.527915  ...  0.066309  0.109182  0.018108  0.406333\n",
              "2   988  0.283680  0.383577  0.245242  ...  0.660086  0.175962  0.287011  0.519372\n",
              "3   995  0.420732  0.305039  0.767300  ...  0.089879  0.102426  0.043770  0.344675\n",
              "4  1000  0.468432  0.411044  0.612407  ...  0.201935  0.224372  0.215634  0.499904\n",
              "\n",
              "[5 rows x 9 columns]"
            ]
          },
          "metadata": {
            "tags": []
          },
          "execution_count": 64
        }
      ]
    },
    {
      "cell_type": "code",
      "metadata": {
        "id": "spGpr4_X7fRb",
        "colab_type": "code",
        "colab": {}
      },
      "source": [
        "test.to_csv('/content/TAC_ODIR.csv',index=False)"
      ],
      "execution_count": 0,
      "outputs": []
    },
    {
      "cell_type": "code",
      "metadata": {
        "id": "bowHQjwutLGp",
        "colab_type": "code",
        "colab": {}
      },
      "source": [
        "keras.backend.clear_session()\n"
      ],
      "execution_count": 0,
      "outputs": []
    },
    {
      "cell_type": "code",
      "metadata": {
        "id": "QblbLh26tm9g",
        "colab_type": "code",
        "colab": {}
      },
      "source": [
        ""
      ],
      "execution_count": 0,
      "outputs": []
    }
  ]
}