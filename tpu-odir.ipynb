{
 "cells": [
  {
   "cell_type": "code",
   "execution_count": 1,
   "metadata": {
    "execution": {
     "iopub.execute_input": "2020-09-27T07:58:24.865078Z",
     "iopub.status.busy": "2020-09-27T07:58:24.864350Z",
     "iopub.status.idle": "2020-09-27T07:58:25.613187Z",
     "shell.execute_reply": "2020-09-27T07:58:25.612529Z"
    },
    "papermill": {
     "duration": 0.777574,
     "end_time": "2020-09-27T07:58:25.613337",
     "exception": false,
     "start_time": "2020-09-27T07:58:24.835763",
     "status": "completed"
    },
    "tags": []
   },
   "outputs": [
    {
     "name": "stdout",
     "output_type": "stream",
     "text": [
      "aptos-model  aptos-tpu\tocular-disease-recognition-odir5k  odir-labels\r\n"
     ]
    }
   ],
   "source": [
    "!ls /kaggle/input"
   ]
  },
  {
   "cell_type": "code",
   "execution_count": 2,
   "metadata": {
    "execution": {
     "iopub.execute_input": "2020-09-27T07:58:25.663627Z",
     "iopub.status.busy": "2020-09-27T07:58:25.662962Z",
     "iopub.status.idle": "2020-09-27T07:58:49.933414Z",
     "shell.execute_reply": "2020-09-27T07:58:49.932784Z"
    },
    "papermill": {
     "duration": 24.298905,
     "end_time": "2020-09-27T07:58:49.933532",
     "exception": false,
     "start_time": "2020-09-27T07:58:25.634627",
     "status": "completed"
    },
    "tags": []
   },
   "outputs": [],
   "source": [
    "%%capture\n",
    "!pip install efficientnet\n",
    "!pip install tensorflow-addons\n",
    "!pip install focal-loss"
   ]
  },
  {
   "cell_type": "code",
   "execution_count": 3,
   "metadata": {
    "_cell_guid": "b1076dfc-b9ad-4769-8c92-a6c4dae69d19",
    "_uuid": "8f2839f25d086af736a60e9eeb907d3b93b6e0e5",
    "execution": {
     "iopub.execute_input": "2020-09-27T07:58:49.982570Z",
     "iopub.status.busy": "2020-09-27T07:58:49.981944Z",
     "iopub.status.idle": "2020-09-27T07:58:56.444127Z",
     "shell.execute_reply": "2020-09-27T07:58:56.443574Z"
    },
    "papermill": {
     "duration": 6.490724,
     "end_time": "2020-09-27T07:58:56.444246",
     "exception": false,
     "start_time": "2020-09-27T07:58:49.953522",
     "status": "completed"
    },
    "tags": []
   },
   "outputs": [],
   "source": [
    "import os\n",
    "import numpy as np\n",
    "import matplotlib.pyplot as plt\n",
    "import pandas as pd\n",
    "import tensorflow as tf, tensorflow.keras.backend as K\n",
    "from tensorflow.keras.layers import Dense,Conv2D,Concatenate,GlobalAveragePooling2D\n",
    "from tensorflow.keras.models import Model\n",
    "from tensorflow.keras import optimizers\n",
    "from kaggle_datasets import KaggleDatasets\n",
    "import math\n",
    "import tensorflow_addons as tfa\n"
   ]
  },
  {
   "cell_type": "code",
   "execution_count": 4,
   "metadata": {
    "execution": {
     "iopub.execute_input": "2020-09-27T07:58:56.582736Z",
     "iopub.status.busy": "2020-09-27T07:58:56.531809Z",
     "iopub.status.idle": "2020-09-27T07:59:02.379318Z",
     "shell.execute_reply": "2020-09-27T07:59:02.379809Z"
    },
    "papermill": {
     "duration": 5.915882,
     "end_time": "2020-09-27T07:59:02.380001",
     "exception": false,
     "start_time": "2020-09-27T07:58:56.464119",
     "status": "completed"
    },
    "tags": []
   },
   "outputs": [
    {
     "name": "stdout",
     "output_type": "stream",
     "text": [
      "Running on TPU  grpc://10.0.0.2:8470\n",
      "REPLICAS:  8\n",
      "gs://kds-bfef3f07e2d6c94a647cc6f9bb3b34a053dfec1877aab16008b0c9d1\n"
     ]
    }
   ],
   "source": [
    "AUTO = tf.data.experimental.AUTOTUNE\n",
    "try:\n",
    "    tpu = tf.distribute.cluster_resolver.TPUClusterResolver()\n",
    "    print('Running on TPU ', tpu.master())\n",
    "except ValueError:\n",
    "    tpu = None\n",
    "\n",
    "if tpu:\n",
    "    tf.config.experimental_connect_to_cluster(tpu)\n",
    "    tf.tpu.experimental.initialize_tpu_system(tpu)\n",
    "    strategy = tf.distribute.experimental.TPUStrategy(tpu)\n",
    "else:\n",
    "    strategy = tf.distribute.get_strategy()\n",
    "\n",
    "print(\"REPLICAS: \", strategy.num_replicas_in_sync)\n",
    "\n",
    "GCS_DS_PATH = KaggleDatasets().get_gcs_path('ocular-disease-recognition-odir5k')\n",
    "print(GCS_DS_PATH)"
   ]
  },
  {
   "cell_type": "code",
   "execution_count": 5,
   "metadata": {
    "execution": {
     "iopub.execute_input": "2020-09-27T07:59:02.429802Z",
     "iopub.status.busy": "2020-09-27T07:59:02.428779Z",
     "iopub.status.idle": "2020-09-27T07:59:02.432559Z",
     "shell.execute_reply": "2020-09-27T07:59:02.433081Z"
    },
    "papermill": {
     "duration": 0.031979,
     "end_time": "2020-09-27T07:59:02.433218",
     "exception": false,
     "start_time": "2020-09-27T07:59:02.401239",
     "status": "completed"
    },
    "tags": []
   },
   "outputs": [
    {
     "data": {
      "text/plain": [
       "8"
      ]
     },
     "execution_count": 5,
     "metadata": {},
     "output_type": "execute_result"
    }
   ],
   "source": [
    "strategy.num_replicas_in_sync"
   ]
  },
  {
   "cell_type": "code",
   "execution_count": 6,
   "metadata": {
    "execution": {
     "iopub.execute_input": "2020-09-27T07:59:02.482201Z",
     "iopub.status.busy": "2020-09-27T07:59:02.481337Z",
     "iopub.status.idle": "2020-09-27T07:59:02.485251Z",
     "shell.execute_reply": "2020-09-27T07:59:02.485724Z"
    },
    "papermill": {
     "duration": 0.031145,
     "end_time": "2020-09-27T07:59:02.485904",
     "exception": false,
     "start_time": "2020-09-27T07:59:02.454759",
     "status": "completed"
    },
    "tags": []
   },
   "outputs": [
    {
     "data": {
      "text/plain": [
       "40"
      ]
     },
     "execution_count": 6,
     "metadata": {},
     "output_type": "execute_result"
    }
   ],
   "source": [
    "img_shape=456\n",
    "BATCH_SIZE = 5*strategy.num_replicas_in_sync\n",
    "BATCH_SIZE"
   ]
  },
  {
   "cell_type": "code",
   "execution_count": 7,
   "metadata": {
    "execution": {
     "iopub.execute_input": "2020-09-27T07:59:02.536151Z",
     "iopub.status.busy": "2020-09-27T07:59:02.535441Z",
     "iopub.status.idle": "2020-09-27T07:59:02.539130Z",
     "shell.execute_reply": "2020-09-27T07:59:02.538480Z"
    },
    "papermill": {
     "duration": 0.03115,
     "end_time": "2020-09-27T07:59:02.539267",
     "exception": false,
     "start_time": "2020-09-27T07:59:02.508117",
     "status": "completed"
    },
    "tags": []
   },
   "outputs": [],
   "source": [
    "def train_format_path(st):\n",
    "    return GCS_DS_PATH + '/ODIR-5K/ODIR-5K/Training Images/' + st \n",
    "\n",
    "def test_format_path(st):\n",
    "    return GCS_DS_PATH + '/ODIR-5K/ODIR-5K/Testing Images/' + st \n"
   ]
  },
  {
   "cell_type": "code",
   "execution_count": 8,
   "metadata": {
    "execution": {
     "iopub.execute_input": "2020-09-27T07:59:02.595333Z",
     "iopub.status.busy": "2020-09-27T07:59:02.594502Z",
     "iopub.status.idle": "2020-09-27T07:59:03.850027Z",
     "shell.execute_reply": "2020-09-27T07:59:03.849365Z"
    },
    "papermill": {
     "duration": 1.285602,
     "end_time": "2020-09-27T07:59:03.850143",
     "exception": false,
     "start_time": "2020-09-27T07:59:02.564541",
     "status": "completed"
    },
    "tags": []
   },
   "outputs": [
    {
     "data": {
      "text/html": [
       "<div>\n",
       "<style scoped>\n",
       "    .dataframe tbody tr th:only-of-type {\n",
       "        vertical-align: middle;\n",
       "    }\n",
       "\n",
       "    .dataframe tbody tr th {\n",
       "        vertical-align: top;\n",
       "    }\n",
       "\n",
       "    .dataframe thead th {\n",
       "        text-align: right;\n",
       "    }\n",
       "</style>\n",
       "<table border=\"1\" class=\"dataframe\">\n",
       "  <thead>\n",
       "    <tr style=\"text-align: right;\">\n",
       "      <th></th>\n",
       "      <th>ID</th>\n",
       "      <th>Patient Age</th>\n",
       "      <th>Patient Sex</th>\n",
       "      <th>Left-Fundus</th>\n",
       "      <th>Right-Fundus</th>\n",
       "      <th>Left-Diagnostic Keywords</th>\n",
       "      <th>Right-Diagnostic Keywords</th>\n",
       "      <th>N</th>\n",
       "      <th>D</th>\n",
       "      <th>G</th>\n",
       "      <th>C</th>\n",
       "      <th>A</th>\n",
       "      <th>H</th>\n",
       "      <th>M</th>\n",
       "      <th>O</th>\n",
       "    </tr>\n",
       "  </thead>\n",
       "  <tbody>\n",
       "    <tr>\n",
       "      <th>0</th>\n",
       "      <td>0</td>\n",
       "      <td>69</td>\n",
       "      <td>Female</td>\n",
       "      <td>0_left.jpg</td>\n",
       "      <td>0_right.jpg</td>\n",
       "      <td>cataract</td>\n",
       "      <td>normal fundus</td>\n",
       "      <td>0</td>\n",
       "      <td>0</td>\n",
       "      <td>0</td>\n",
       "      <td>1</td>\n",
       "      <td>0</td>\n",
       "      <td>0</td>\n",
       "      <td>0</td>\n",
       "      <td>0</td>\n",
       "    </tr>\n",
       "    <tr>\n",
       "      <th>1</th>\n",
       "      <td>1</td>\n",
       "      <td>57</td>\n",
       "      <td>Male</td>\n",
       "      <td>1_left.jpg</td>\n",
       "      <td>1_right.jpg</td>\n",
       "      <td>normal fundus</td>\n",
       "      <td>normal fundus</td>\n",
       "      <td>1</td>\n",
       "      <td>0</td>\n",
       "      <td>0</td>\n",
       "      <td>0</td>\n",
       "      <td>0</td>\n",
       "      <td>0</td>\n",
       "      <td>0</td>\n",
       "      <td>0</td>\n",
       "    </tr>\n",
       "    <tr>\n",
       "      <th>2</th>\n",
       "      <td>2</td>\n",
       "      <td>42</td>\n",
       "      <td>Male</td>\n",
       "      <td>2_left.jpg</td>\n",
       "      <td>2_right.jpg</td>\n",
       "      <td>laser spot，moderate non proliferative retinopathy</td>\n",
       "      <td>moderate non proliferative retinopathy</td>\n",
       "      <td>0</td>\n",
       "      <td>1</td>\n",
       "      <td>0</td>\n",
       "      <td>0</td>\n",
       "      <td>0</td>\n",
       "      <td>0</td>\n",
       "      <td>0</td>\n",
       "      <td>1</td>\n",
       "    </tr>\n",
       "    <tr>\n",
       "      <th>3</th>\n",
       "      <td>3</td>\n",
       "      <td>66</td>\n",
       "      <td>Male</td>\n",
       "      <td>3_left.jpg</td>\n",
       "      <td>3_right.jpg</td>\n",
       "      <td>normal fundus</td>\n",
       "      <td>branch retinal artery occlusion</td>\n",
       "      <td>0</td>\n",
       "      <td>0</td>\n",
       "      <td>0</td>\n",
       "      <td>0</td>\n",
       "      <td>0</td>\n",
       "      <td>0</td>\n",
       "      <td>0</td>\n",
       "      <td>1</td>\n",
       "    </tr>\n",
       "    <tr>\n",
       "      <th>4</th>\n",
       "      <td>4</td>\n",
       "      <td>53</td>\n",
       "      <td>Male</td>\n",
       "      <td>4_left.jpg</td>\n",
       "      <td>4_right.jpg</td>\n",
       "      <td>macular epiretinal membrane</td>\n",
       "      <td>mild nonproliferative retinopathy</td>\n",
       "      <td>0</td>\n",
       "      <td>1</td>\n",
       "      <td>0</td>\n",
       "      <td>0</td>\n",
       "      <td>0</td>\n",
       "      <td>0</td>\n",
       "      <td>0</td>\n",
       "      <td>1</td>\n",
       "    </tr>\n",
       "  </tbody>\n",
       "</table>\n",
       "</div>"
      ],
      "text/plain": [
       "   ID  Patient Age Patient Sex Left-Fundus Right-Fundus  \\\n",
       "0   0           69      Female  0_left.jpg  0_right.jpg   \n",
       "1   1           57        Male  1_left.jpg  1_right.jpg   \n",
       "2   2           42        Male  2_left.jpg  2_right.jpg   \n",
       "3   3           66        Male  3_left.jpg  3_right.jpg   \n",
       "4   4           53        Male  4_left.jpg  4_right.jpg   \n",
       "\n",
       "                            Left-Diagnostic Keywords  \\\n",
       "0                                           cataract   \n",
       "1                                      normal fundus   \n",
       "2  laser spot，moderate non proliferative retinopathy   \n",
       "3                                      normal fundus   \n",
       "4                        macular epiretinal membrane   \n",
       "\n",
       "                Right-Diagnostic Keywords  N  D  G  C  A  H  M  O  \n",
       "0                           normal fundus  0  0  0  1  0  0  0  0  \n",
       "1                           normal fundus  1  0  0  0  0  0  0  0  \n",
       "2  moderate non proliferative retinopathy  0  1  0  0  0  0  0  1  \n",
       "3         branch retinal artery occlusion  0  0  0  0  0  0  0  1  \n",
       "4       mild nonproliferative retinopathy  0  1  0  0  0  0  0  1  "
      ]
     },
     "execution_count": 8,
     "metadata": {},
     "output_type": "execute_result"
    }
   ],
   "source": [
    "train = pd.read_excel('../input/odir-labels/ODIR-5K_Training_Annotations(Updated)_V2.xlsx')\n",
    "train.head()"
   ]
  },
  {
   "cell_type": "code",
   "execution_count": 9,
   "metadata": {
    "execution": {
     "iopub.execute_input": "2020-09-27T07:59:03.901361Z",
     "iopub.status.busy": "2020-09-27T07:59:03.900335Z",
     "iopub.status.idle": "2020-09-27T07:59:03.915975Z",
     "shell.execute_reply": "2020-09-27T07:59:03.915436Z"
    },
    "papermill": {
     "duration": 0.04329,
     "end_time": "2020-09-27T07:59:03.916092",
     "exception": false,
     "start_time": "2020-09-27T07:59:03.872802",
     "status": "completed"
    },
    "tags": []
   },
   "outputs": [
    {
     "data": {
      "text/html": [
       "<div>\n",
       "<style scoped>\n",
       "    .dataframe tbody tr th:only-of-type {\n",
       "        vertical-align: middle;\n",
       "    }\n",
       "\n",
       "    .dataframe tbody tr th {\n",
       "        vertical-align: top;\n",
       "    }\n",
       "\n",
       "    .dataframe thead th {\n",
       "        text-align: right;\n",
       "    }\n",
       "</style>\n",
       "<table border=\"1\" class=\"dataframe\">\n",
       "  <thead>\n",
       "    <tr style=\"text-align: right;\">\n",
       "      <th></th>\n",
       "      <th>ID</th>\n",
       "      <th>N</th>\n",
       "      <th>D</th>\n",
       "      <th>G</th>\n",
       "      <th>C</th>\n",
       "      <th>A</th>\n",
       "      <th>H</th>\n",
       "      <th>M</th>\n",
       "      <th>O</th>\n",
       "    </tr>\n",
       "  </thead>\n",
       "  <tbody>\n",
       "    <tr>\n",
       "      <th>0</th>\n",
       "      <td>937</td>\n",
       "      <td>0</td>\n",
       "      <td>0</td>\n",
       "      <td>0</td>\n",
       "      <td>0</td>\n",
       "      <td>0</td>\n",
       "      <td>0</td>\n",
       "      <td>0</td>\n",
       "      <td>0</td>\n",
       "    </tr>\n",
       "    <tr>\n",
       "      <th>1</th>\n",
       "      <td>967</td>\n",
       "      <td>0</td>\n",
       "      <td>0</td>\n",
       "      <td>0</td>\n",
       "      <td>0</td>\n",
       "      <td>0</td>\n",
       "      <td>0</td>\n",
       "      <td>0</td>\n",
       "      <td>0</td>\n",
       "    </tr>\n",
       "    <tr>\n",
       "      <th>2</th>\n",
       "      <td>988</td>\n",
       "      <td>0</td>\n",
       "      <td>0</td>\n",
       "      <td>0</td>\n",
       "      <td>0</td>\n",
       "      <td>0</td>\n",
       "      <td>0</td>\n",
       "      <td>0</td>\n",
       "      <td>0</td>\n",
       "    </tr>\n",
       "    <tr>\n",
       "      <th>3</th>\n",
       "      <td>995</td>\n",
       "      <td>0</td>\n",
       "      <td>0</td>\n",
       "      <td>0</td>\n",
       "      <td>0</td>\n",
       "      <td>0</td>\n",
       "      <td>0</td>\n",
       "      <td>0</td>\n",
       "      <td>0</td>\n",
       "    </tr>\n",
       "    <tr>\n",
       "      <th>4</th>\n",
       "      <td>1000</td>\n",
       "      <td>0</td>\n",
       "      <td>0</td>\n",
       "      <td>0</td>\n",
       "      <td>0</td>\n",
       "      <td>0</td>\n",
       "      <td>0</td>\n",
       "      <td>0</td>\n",
       "      <td>0</td>\n",
       "    </tr>\n",
       "  </tbody>\n",
       "</table>\n",
       "</div>"
      ],
      "text/plain": [
       "     ID  N  D  G  C  A  H  M  O\n",
       "0   937  0  0  0  0  0  0  0  0\n",
       "1   967  0  0  0  0  0  0  0  0\n",
       "2   988  0  0  0  0  0  0  0  0\n",
       "3   995  0  0  0  0  0  0  0  0\n",
       "4  1000  0  0  0  0  0  0  0  0"
      ]
     },
     "execution_count": 9,
     "metadata": {},
     "output_type": "execute_result"
    }
   ],
   "source": [
    "test = pd.read_csv('../input/odir-labels/XYZ_ODIR.csv')\n",
    "test.head()"
   ]
  },
  {
   "cell_type": "code",
   "execution_count": 10,
   "metadata": {
    "execution": {
     "iopub.execute_input": "2020-09-27T07:59:03.985660Z",
     "iopub.status.busy": "2020-09-27T07:59:03.973166Z",
     "iopub.status.idle": "2020-09-27T07:59:04.006030Z",
     "shell.execute_reply": "2020-09-27T07:59:04.005461Z"
    },
    "papermill": {
     "duration": 0.066236,
     "end_time": "2020-09-27T07:59:04.006140",
     "exception": false,
     "start_time": "2020-09-27T07:59:03.939904",
     "status": "completed"
    },
    "tags": []
   },
   "outputs": [
    {
     "data": {
      "text/html": [
       "<div>\n",
       "<style scoped>\n",
       "    .dataframe tbody tr th:only-of-type {\n",
       "        vertical-align: middle;\n",
       "    }\n",
       "\n",
       "    .dataframe tbody tr th {\n",
       "        vertical-align: top;\n",
       "    }\n",
       "\n",
       "    .dataframe thead th {\n",
       "        text-align: right;\n",
       "    }\n",
       "</style>\n",
       "<table border=\"1\" class=\"dataframe\">\n",
       "  <thead>\n",
       "    <tr style=\"text-align: right;\">\n",
       "      <th></th>\n",
       "      <th>ID</th>\n",
       "      <th>Left-Fundus</th>\n",
       "      <th>Right-Fundus</th>\n",
       "      <th>N</th>\n",
       "      <th>D</th>\n",
       "      <th>G</th>\n",
       "      <th>C</th>\n",
       "      <th>A</th>\n",
       "      <th>H</th>\n",
       "      <th>M</th>\n",
       "      <th>O</th>\n",
       "    </tr>\n",
       "  </thead>\n",
       "  <tbody>\n",
       "    <tr>\n",
       "      <th>0</th>\n",
       "      <td>937</td>\n",
       "      <td>937_left.jpg</td>\n",
       "      <td>937_right.jpg</td>\n",
       "      <td>0</td>\n",
       "      <td>0</td>\n",
       "      <td>0</td>\n",
       "      <td>0</td>\n",
       "      <td>0</td>\n",
       "      <td>0</td>\n",
       "      <td>0</td>\n",
       "      <td>0</td>\n",
       "    </tr>\n",
       "    <tr>\n",
       "      <th>1</th>\n",
       "      <td>967</td>\n",
       "      <td>967_left.jpg</td>\n",
       "      <td>967_right.jpg</td>\n",
       "      <td>0</td>\n",
       "      <td>0</td>\n",
       "      <td>0</td>\n",
       "      <td>0</td>\n",
       "      <td>0</td>\n",
       "      <td>0</td>\n",
       "      <td>0</td>\n",
       "      <td>0</td>\n",
       "    </tr>\n",
       "    <tr>\n",
       "      <th>2</th>\n",
       "      <td>988</td>\n",
       "      <td>988_left.jpg</td>\n",
       "      <td>988_right.jpg</td>\n",
       "      <td>0</td>\n",
       "      <td>0</td>\n",
       "      <td>0</td>\n",
       "      <td>0</td>\n",
       "      <td>0</td>\n",
       "      <td>0</td>\n",
       "      <td>0</td>\n",
       "      <td>0</td>\n",
       "    </tr>\n",
       "    <tr>\n",
       "      <th>3</th>\n",
       "      <td>995</td>\n",
       "      <td>995_left.jpg</td>\n",
       "      <td>995_right.jpg</td>\n",
       "      <td>0</td>\n",
       "      <td>0</td>\n",
       "      <td>0</td>\n",
       "      <td>0</td>\n",
       "      <td>0</td>\n",
       "      <td>0</td>\n",
       "      <td>0</td>\n",
       "      <td>0</td>\n",
       "    </tr>\n",
       "    <tr>\n",
       "      <th>4</th>\n",
       "      <td>1000</td>\n",
       "      <td>1000_left.jpg</td>\n",
       "      <td>1000_right.jpg</td>\n",
       "      <td>0</td>\n",
       "      <td>0</td>\n",
       "      <td>0</td>\n",
       "      <td>0</td>\n",
       "      <td>0</td>\n",
       "      <td>0</td>\n",
       "      <td>0</td>\n",
       "      <td>0</td>\n",
       "    </tr>\n",
       "  </tbody>\n",
       "</table>\n",
       "</div>"
      ],
      "text/plain": [
       "     ID    Left-Fundus    Right-Fundus  N  D  G  C  A  H  M  O\n",
       "0   937   937_left.jpg   937_right.jpg  0  0  0  0  0  0  0  0\n",
       "1   967   967_left.jpg   967_right.jpg  0  0  0  0  0  0  0  0\n",
       "2   988   988_left.jpg   988_right.jpg  0  0  0  0  0  0  0  0\n",
       "3   995   995_left.jpg   995_right.jpg  0  0  0  0  0  0  0  0\n",
       "4  1000  1000_left.jpg  1000_right.jpg  0  0  0  0  0  0  0  0"
      ]
     },
     "execution_count": 10,
     "metadata": {},
     "output_type": "execute_result"
    }
   ],
   "source": [
    "left_test=[]\n",
    "right_test=[]\n",
    "ID=[]\n",
    "for i in test['ID']:\n",
    "  ID.append(i)\n",
    "  left_test.append(str(i)+'_left.jpg')\n",
    "  right_test.append(str(i)+'_right.jpg')\n",
    "\n",
    "name_df=pd.DataFrame(zip(ID,left_test,right_test),columns=['ID','Left-Fundus','Right-Fundus'])\n",
    "test = pd.merge(name_df, test, on='ID')\n",
    "test.head()"
   ]
  },
  {
   "cell_type": "code",
   "execution_count": 11,
   "metadata": {
    "execution": {
     "iopub.execute_input": "2020-09-27T07:59:04.062507Z",
     "iopub.status.busy": "2020-09-27T07:59:04.061292Z",
     "iopub.status.idle": "2020-09-27T07:59:04.065066Z",
     "shell.execute_reply": "2020-09-27T07:59:04.065613Z"
    },
    "papermill": {
     "duration": 0.03433,
     "end_time": "2020-09-27T07:59:04.065744",
     "exception": false,
     "start_time": "2020-09-27T07:59:04.031414",
     "status": "completed"
    },
    "tags": []
   },
   "outputs": [],
   "source": [
    "test_labels=test[['N','D','G','C','A','H','M','O']]"
   ]
  },
  {
   "cell_type": "code",
   "execution_count": 12,
   "metadata": {
    "execution": {
     "iopub.execute_input": "2020-09-27T07:59:04.120637Z",
     "iopub.status.busy": "2020-09-27T07:59:04.119686Z",
     "iopub.status.idle": "2020-09-27T07:59:04.122724Z",
     "shell.execute_reply": "2020-09-27T07:59:04.122180Z"
    },
    "papermill": {
     "duration": 0.032778,
     "end_time": "2020-09-27T07:59:04.122864",
     "exception": false,
     "start_time": "2020-09-27T07:59:04.090086",
     "status": "completed"
    },
    "tags": []
   },
   "outputs": [],
   "source": [
    "left_train=train['Left-Fundus']\n",
    "right_train=train['Right-Fundus']\n",
    "\n",
    "left_test=test['Left-Fundus']\n",
    "right_test=test['Right-Fundus']"
   ]
  },
  {
   "cell_type": "code",
   "execution_count": 13,
   "metadata": {
    "execution": {
     "iopub.execute_input": "2020-09-27T07:59:04.178252Z",
     "iopub.status.busy": "2020-09-27T07:59:04.177510Z",
     "iopub.status.idle": "2020-09-27T07:59:04.182280Z",
     "shell.execute_reply": "2020-09-27T07:59:04.181641Z"
    },
    "papermill": {
     "duration": 0.0349,
     "end_time": "2020-09-27T07:59:04.182410",
     "exception": false,
     "start_time": "2020-09-27T07:59:04.147510",
     "status": "completed"
    },
    "tags": []
   },
   "outputs": [
    {
     "data": {
      "text/plain": [
       "(3500, 3500, 500, 500)"
      ]
     },
     "execution_count": 13,
     "metadata": {},
     "output_type": "execute_result"
    }
   ],
   "source": [
    "len(left_train),len(right_train),len(left_test),len(right_test)"
   ]
  },
  {
   "cell_type": "code",
   "execution_count": 14,
   "metadata": {
    "execution": {
     "iopub.execute_input": "2020-09-27T07:59:04.244288Z",
     "iopub.status.busy": "2020-09-27T07:59:04.243618Z",
     "iopub.status.idle": "2020-09-27T07:59:04.246024Z",
     "shell.execute_reply": "2020-09-27T07:59:04.246462Z"
    },
    "papermill": {
     "duration": 0.039412,
     "end_time": "2020-09-27T07:59:04.246608",
     "exception": false,
     "start_time": "2020-09-27T07:59:04.207196",
     "status": "completed"
    },
    "tags": []
   },
   "outputs": [],
   "source": [
    "left_train_paths = left_train.apply(train_format_path).values\n",
    "right_train_paths = right_train.apply(train_format_path).values\n",
    "\n",
    "left_test_paths = left_test.apply(test_format_path).values\n",
    "right_test_paths = right_test.apply(test_format_path).values\n",
    "\n",
    "\n"
   ]
  },
  {
   "cell_type": "code",
   "execution_count": 15,
   "metadata": {
    "execution": {
     "iopub.execute_input": "2020-09-27T07:59:04.309978Z",
     "iopub.status.busy": "2020-09-27T07:59:04.309263Z",
     "iopub.status.idle": "2020-09-27T07:59:04.313333Z",
     "shell.execute_reply": "2020-09-27T07:59:04.313832Z"
    },
    "papermill": {
     "duration": 0.042537,
     "end_time": "2020-09-27T07:59:04.313975",
     "exception": false,
     "start_time": "2020-09-27T07:59:04.271438",
     "status": "completed"
    },
    "tags": []
   },
   "outputs": [
    {
     "data": {
      "text/html": [
       "<div>\n",
       "<style scoped>\n",
       "    .dataframe tbody tr th:only-of-type {\n",
       "        vertical-align: middle;\n",
       "    }\n",
       "\n",
       "    .dataframe tbody tr th {\n",
       "        vertical-align: top;\n",
       "    }\n",
       "\n",
       "    .dataframe thead th {\n",
       "        text-align: right;\n",
       "    }\n",
       "</style>\n",
       "<table border=\"1\" class=\"dataframe\">\n",
       "  <thead>\n",
       "    <tr style=\"text-align: right;\">\n",
       "      <th></th>\n",
       "      <th>N</th>\n",
       "      <th>D</th>\n",
       "      <th>G</th>\n",
       "      <th>C</th>\n",
       "      <th>A</th>\n",
       "      <th>H</th>\n",
       "      <th>M</th>\n",
       "      <th>O</th>\n",
       "    </tr>\n",
       "  </thead>\n",
       "  <tbody>\n",
       "    <tr>\n",
       "      <th>0</th>\n",
       "      <td>0</td>\n",
       "      <td>0</td>\n",
       "      <td>0</td>\n",
       "      <td>1</td>\n",
       "      <td>0</td>\n",
       "      <td>0</td>\n",
       "      <td>0</td>\n",
       "      <td>0</td>\n",
       "    </tr>\n",
       "    <tr>\n",
       "      <th>1</th>\n",
       "      <td>1</td>\n",
       "      <td>0</td>\n",
       "      <td>0</td>\n",
       "      <td>0</td>\n",
       "      <td>0</td>\n",
       "      <td>0</td>\n",
       "      <td>0</td>\n",
       "      <td>0</td>\n",
       "    </tr>\n",
       "    <tr>\n",
       "      <th>2</th>\n",
       "      <td>0</td>\n",
       "      <td>1</td>\n",
       "      <td>0</td>\n",
       "      <td>0</td>\n",
       "      <td>0</td>\n",
       "      <td>0</td>\n",
       "      <td>0</td>\n",
       "      <td>1</td>\n",
       "    </tr>\n",
       "    <tr>\n",
       "      <th>3</th>\n",
       "      <td>0</td>\n",
       "      <td>0</td>\n",
       "      <td>0</td>\n",
       "      <td>0</td>\n",
       "      <td>0</td>\n",
       "      <td>0</td>\n",
       "      <td>0</td>\n",
       "      <td>1</td>\n",
       "    </tr>\n",
       "    <tr>\n",
       "      <th>4</th>\n",
       "      <td>0</td>\n",
       "      <td>1</td>\n",
       "      <td>0</td>\n",
       "      <td>0</td>\n",
       "      <td>0</td>\n",
       "      <td>0</td>\n",
       "      <td>0</td>\n",
       "      <td>1</td>\n",
       "    </tr>\n",
       "  </tbody>\n",
       "</table>\n",
       "</div>"
      ],
      "text/plain": [
       "   N  D  G  C  A  H  M  O\n",
       "0  0  0  0  1  0  0  0  0\n",
       "1  1  0  0  0  0  0  0  0\n",
       "2  0  1  0  0  0  0  0  1\n",
       "3  0  0  0  0  0  0  0  1\n",
       "4  0  1  0  0  0  0  0  1"
      ]
     },
     "execution_count": 15,
     "metadata": {},
     "output_type": "execute_result"
    }
   ],
   "source": [
    "train_labels = train[['N','D','G','C','A','H','M','O']]\n",
    "train_labels.head()"
   ]
  },
  {
   "cell_type": "code",
   "execution_count": 16,
   "metadata": {
    "execution": {
     "iopub.execute_input": "2020-09-27T07:59:04.377244Z",
     "iopub.status.busy": "2020-09-27T07:59:04.376600Z",
     "iopub.status.idle": "2020-09-27T07:59:04.379929Z",
     "shell.execute_reply": "2020-09-27T07:59:04.379386Z"
    },
    "papermill": {
     "duration": 0.039872,
     "end_time": "2020-09-27T07:59:04.380039",
     "exception": false,
     "start_time": "2020-09-27T07:59:04.340167",
     "status": "completed"
    },
    "tags": []
   },
   "outputs": [],
   "source": [
    "def decode(img,image_size=(img_shape, img_shape)):\n",
    "    bits = tf.io.read_file(img)\n",
    "    image = tf.image.decode_jpeg(bits, channels=3)\n",
    "    image = tf.cast(image, tf.float32) / 255.0\n",
    "    image = tf.image.resize(image, image_size)\n",
    "    \n",
    "    image = tf.image.random_flip_left_right(image, seed=2020)\n",
    "    image = tf.image.random_flip_up_down(image, seed=2020)\n",
    "    image = tf.image.random_crop(image,size=[img_shape,img_shape,3],seed=2020 )\n",
    "    image = tf.image.rot90(image)\n",
    "    return image\n",
    "\n",
    "def decode_image(left, right,labels=None ):\n",
    "    if labels is None:\n",
    "        return tf.stack([decode(left),decode(right)])\n",
    "    else:\n",
    "        return tf.stack([decode(left),decode(right)]),labels \n",
    "    \n"
   ]
  },
  {
   "cell_type": "code",
   "execution_count": 17,
   "metadata": {
    "execution": {
     "iopub.execute_input": "2020-09-27T07:59:04.440625Z",
     "iopub.status.busy": "2020-09-27T07:59:04.440015Z",
     "iopub.status.idle": "2020-09-27T07:59:05.500706Z",
     "shell.execute_reply": "2020-09-27T07:59:05.500029Z"
    },
    "papermill": {
     "duration": 1.094648,
     "end_time": "2020-09-27T07:59:05.500837",
     "exception": false,
     "start_time": "2020-09-27T07:59:04.406189",
     "status": "completed"
    },
    "tags": []
   },
   "outputs": [],
   "source": [
    "import efficientnet.tfkeras as efn\n",
    "import tensorflow as tf, tensorflow.keras.backend as K\n",
    "from tensorflow.keras.layers import concatenate,Activation,GlobalMaxPooling2D,Flatten,Dense,Dropout,Input,Reshape,Lambda,GlobalMaxPooling2D\n",
    "from tensorflow.keras.models import Model,Sequential\n",
    "from tensorflow.keras import optimizers\n",
    "from keras.utils.vis_utils import plot_model\n",
    "from tensorflow.keras.preprocessing.image import ImageDataGenerator\n",
    "from tensorflow.keras.callbacks import ModelCheckpoint\n",
    "from tensorflow.keras.callbacks import ReduceLROnPlateau\n",
    "from sklearn.model_selection import KFold\n",
    "from sklearn.metrics import f1_score,cohen_kappa_score,roc_auc_score\n"
   ]
  },
  {
   "cell_type": "code",
   "execution_count": 18,
   "metadata": {
    "execution": {
     "iopub.execute_input": "2020-09-27T07:59:05.573775Z",
     "iopub.status.busy": "2020-09-27T07:59:05.573111Z",
     "iopub.status.idle": "2020-09-27T07:59:05.575443Z",
     "shell.execute_reply": "2020-09-27T07:59:05.576064Z"
    },
    "papermill": {
     "duration": 0.049044,
     "end_time": "2020-09-27T07:59:05.576204",
     "exception": false,
     "start_time": "2020-09-27T07:59:05.527160",
     "status": "completed"
    },
    "tags": []
   },
   "outputs": [],
   "source": [
    "def parallel_model():\n",
    "    input_layer = Input(shape=(2, img_shape,img_shape,3))\n",
    "    left_input, right_input = Lambda(lambda x: tf.split(x, 2, axis=1))(input_layer)\n",
    "\n",
    "    left_input = Reshape([img_shape, img_shape, 3])(left_input)\n",
    "    right_input = Reshape([img_shape, img_shape, 3])(right_input)\n",
    "\n",
    "\n",
    "\n",
    "    left_model = efn.EfficientNetB7(input_shape =  (img_shape,img_shape,3), include_top = False, weights = None,input_tensor=left_input)\n",
    "    xl = left_model.output\n",
    "    xl = GlobalMaxPooling2D()(xl)\n",
    "    out1 = Dense(5, activation='softmax')(xl)\n",
    "    left_model=tf.keras.Model(inputs=left_model.input, outputs=out1)\n",
    "    left_model.load_weights('../input/aptos-model/aptos_model.hdf5')\n",
    "    left_model=tf.keras.Model(left_model.input, left_model.layers[-3].output)\n",
    "    \n",
    "    \n",
    "    \n",
    "    right_model = efn.EfficientNetB7(input_shape =  (img_shape,img_shape,3), include_top = False, weights = None,input_tensor=right_input)\n",
    "    xr = right_model.output\n",
    "    xr = GlobalMaxPooling2D()(xr)\n",
    "    outr = Dense(5, activation='softmax')(xr)\n",
    "    right_model=tf.keras.Model(inputs=right_model.input, outputs=outr)\n",
    "    right_model.load_weights('../input/aptos-model/aptos_model.hdf5')\n",
    "    right_model=tf.keras.Model(right_model.input, right_model.layers[-3].output)\n",
    "\n",
    "    for layer in right_model._layers:\n",
    "        layer._name = layer._name + '_right'\n",
    "    for layer in left_model._layers:\n",
    "        layer._name = layer._name + '_left'\n",
    "\n",
    "    left_model._name=\"left_eff\"\n",
    "    right_model._name=\"right_eff\"\n",
    "\n",
    "\n",
    "    con = concatenate([left_model.output, right_model.output])\n",
    "    GAP= GlobalAveragePooling2D()(con)\n",
    "    fc1=Dense(256, activation = 'relu')(GAP)\n",
    "    fc2=Dense(128, activation = 'relu')(fc1)\n",
    "    fc3=Dense(64, activation = 'relu')(fc2)\n",
    "    out = Dense(8, activation = 'sigmoid')(fc3)\n",
    "\n",
    "    model = tf.keras.Model(inputs=input_layer, outputs=out)\n",
    "    return model\n"
   ]
  },
  {
   "cell_type": "code",
   "execution_count": 19,
   "metadata": {
    "execution": {
     "iopub.execute_input": "2020-09-27T07:59:05.636384Z",
     "iopub.status.busy": "2020-09-27T07:59:05.635698Z",
     "iopub.status.idle": "2020-09-27T07:59:05.641339Z",
     "shell.execute_reply": "2020-09-27T07:59:05.640702Z"
    },
    "papermill": {
     "duration": 0.039027,
     "end_time": "2020-09-27T07:59:05.641493",
     "exception": false,
     "start_time": "2020-09-27T07:59:05.602466",
     "status": "completed"
    },
    "tags": []
   },
   "outputs": [],
   "source": [
    "from tensorflow.keras.optimizers import Adam\n",
    "from focal_loss import BinaryFocalLoss\n",
    "\n",
    "def get_model():\n",
    "    opt = Adam(lr=0.0003, decay=1e-3)\n",
    "\n",
    "    with strategy.scope():\n",
    "        model = parallel_model()\n",
    "        #model.summary()\n",
    "\n",
    "    model.compile(optimizer=opt, loss=BinaryFocalLoss(gamma=2),metrics=['accuracy'])\n",
    "    return model"
   ]
  },
  {
   "cell_type": "code",
   "execution_count": 20,
   "metadata": {
    "execution": {
     "iopub.execute_input": "2020-09-27T07:59:05.700862Z",
     "iopub.status.busy": "2020-09-27T07:59:05.699843Z",
     "iopub.status.idle": "2020-09-27T07:59:05.703294Z",
     "shell.execute_reply": "2020-09-27T07:59:05.702645Z"
    },
    "papermill": {
     "duration": 0.03531,
     "end_time": "2020-09-27T07:59:05.703405",
     "exception": false,
     "start_time": "2020-09-27T07:59:05.668095",
     "status": "completed"
    },
    "tags": []
   },
   "outputs": [],
   "source": [
    "reduce_lr=[ReduceLROnPlateau(monitor='val_loss', factor=0.5,patience=3, min_lr=0.000001)]"
   ]
  },
  {
   "cell_type": "code",
   "execution_count": 21,
   "metadata": {
    "execution": {
     "iopub.execute_input": "2020-09-27T07:59:05.764364Z",
     "iopub.status.busy": "2020-09-27T07:59:05.763361Z",
     "iopub.status.idle": "2020-09-27T07:59:05.770445Z",
     "shell.execute_reply": "2020-09-27T07:59:05.769873Z"
    },
    "papermill": {
     "duration": 0.040787,
     "end_time": "2020-09-27T07:59:05.770556",
     "exception": false,
     "start_time": "2020-09-27T07:59:05.729769",
     "status": "completed"
    },
    "tags": []
   },
   "outputs": [],
   "source": [
    "from sklearn.model_selection import train_test_split\n",
    "right_train,right_val, train_label_right, val_label_right= train_test_split(right_train_paths,train_labels, test_size = 500/3500,  random_state = 73)\n",
    "left_train, left_val,train_label_left, val_label_left = train_test_split(left_train_paths,train_labels, test_size = 500/3500,  random_state = 73)"
   ]
  },
  {
   "cell_type": "code",
   "execution_count": 22,
   "metadata": {
    "execution": {
     "iopub.execute_input": "2020-09-27T07:59:05.830351Z",
     "iopub.status.busy": "2020-09-27T07:59:05.829475Z",
     "iopub.status.idle": "2020-09-27T07:59:05.834695Z",
     "shell.execute_reply": "2020-09-27T07:59:05.834187Z"
    },
    "papermill": {
     "duration": 0.037198,
     "end_time": "2020-09-27T07:59:05.834808",
     "exception": false,
     "start_time": "2020-09-27T07:59:05.797610",
     "status": "completed"
    },
    "tags": []
   },
   "outputs": [
    {
     "data": {
      "text/plain": [
       "(500, 3000)"
      ]
     },
     "execution_count": 22,
     "metadata": {},
     "output_type": "execute_result"
    }
   ],
   "source": [
    "len(left_val),len(left_train)"
   ]
  },
  {
   "cell_type": "code",
   "execution_count": 23,
   "metadata": {
    "execution": {
     "iopub.execute_input": "2020-09-27T07:59:05.894495Z",
     "iopub.status.busy": "2020-09-27T07:59:05.893580Z",
     "iopub.status.idle": "2020-09-27T07:59:05.921399Z",
     "shell.execute_reply": "2020-09-27T07:59:05.920813Z"
    },
    "papermill": {
     "duration": 0.059748,
     "end_time": "2020-09-27T07:59:05.921511",
     "exception": false,
     "start_time": "2020-09-27T07:59:05.861763",
     "status": "completed"
    },
    "tags": []
   },
   "outputs": [
    {
     "data": {
      "text/plain": [
       "N    True\n",
       "D    True\n",
       "G    True\n",
       "C    True\n",
       "A    True\n",
       "H    True\n",
       "M    True\n",
       "O    True\n",
       "dtype: bool"
      ]
     },
     "execution_count": 23,
     "metadata": {},
     "output_type": "execute_result"
    }
   ],
   "source": [
    "(train_label_left==train_label_right).any()"
   ]
  },
  {
   "cell_type": "markdown",
   "metadata": {
    "papermill": {
     "duration": 0.027684,
     "end_time": "2020-09-27T07:59:05.977122",
     "exception": false,
     "start_time": "2020-09-27T07:59:05.949438",
     "status": "completed"
    },
    "tags": []
   },
   "source": []
  },
  {
   "cell_type": "code",
   "execution_count": 24,
   "metadata": {
    "execution": {
     "iopub.execute_input": "2020-09-27T07:59:06.056558Z",
     "iopub.status.busy": "2020-09-27T07:59:06.047677Z",
     "iopub.status.idle": "2020-09-27T08:38:51.599209Z",
     "shell.execute_reply": "2020-09-27T08:38:51.598563Z"
    },
    "papermill": {
     "duration": 2385.593316,
     "end_time": "2020-09-27T08:38:51.599337",
     "exception": false,
     "start_time": "2020-09-27T07:59:06.006021",
     "status": "completed"
    },
    "tags": []
   },
   "outputs": [
    {
     "name": "stdout",
     "output_type": "stream",
     "text": [
      "Epoch 1/10\n",
      "Epoch 2/10\n",
      "Epoch 3/10\n",
      "Epoch 4/10\n",
      "Epoch 5/10\n",
      "Epoch 6/10\n",
      "Epoch 7/10\n",
      "Epoch 8/10\n",
      "Epoch 9/10\n",
      "Epoch 10/10\n"
     ]
    }
   ],
   "source": [
    "\n",
    "    \n",
    "train_image=tf.data.Dataset.from_tensor_slices((left_train,right_train,train_label_left ))\n",
    "train_dataset=train_image.map(decode_image, num_parallel_calls=AUTO).repeat().shuffle(512).batch(BATCH_SIZE).prefetch(AUTO)\n",
    "\n",
    "val_image=tf.data.Dataset.from_tensor_slices((left_val,right_val,val_label_left ))\n",
    "val_dataset=train_image.map(decode_image, num_parallel_calls=AUTO).repeat().batch(BATCH_SIZE).prefetch(AUTO)\n",
    "\n",
    "test_image=tf.data.Dataset.from_tensor_slices((left_test_paths,right_test_paths ))\n",
    "test_dataset=test_image.map(decode_image, num_parallel_calls=AUTO).batch(BATCH_SIZE)\n",
    "\n",
    "\n",
    "model=get_model()\n",
    "history = model.fit(train_dataset,\n",
    "                steps_per_epoch=train_label_left.shape[0]/BATCH_SIZE,\n",
    "                epochs=10,\n",
    "                verbose=10,\n",
    "                callbacks=[reduce_lr],\n",
    "                validation_data=val_dataset,\n",
    "                validation_steps=(len(val_label_left)/BATCH_SIZE)\n",
    "                )\n",
    "    \n",
    "\n"
   ]
  },
  {
   "cell_type": "code",
   "execution_count": 25,
   "metadata": {
    "execution": {
     "iopub.execute_input": "2020-09-27T08:38:51.669415Z",
     "iopub.status.busy": "2020-09-27T08:38:51.668708Z",
     "iopub.status.idle": "2020-09-27T08:40:25.412266Z",
     "shell.execute_reply": "2020-09-27T08:40:25.412800Z"
    },
    "papermill": {
     "duration": 93.782506,
     "end_time": "2020-09-27T08:40:25.412964",
     "exception": false,
     "start_time": "2020-09-27T08:38:51.630458",
     "status": "completed"
    },
    "tags": []
   },
   "outputs": [
    {
     "data": {
      "text/plain": [
       "((500, 8), (500, 8))"
      ]
     },
     "execution_count": 25,
     "metadata": {},
     "output_type": "execute_result"
    }
   ],
   "source": [
    "y_pred=model.predict(test_dataset,steps=(len(test_labels)/BATCH_SIZE))\n",
    "y_pred.shape,test_labels.shape"
   ]
  },
  {
   "cell_type": "code",
   "execution_count": 26,
   "metadata": {
    "execution": {
     "iopub.execute_input": "2020-09-27T08:40:25.484910Z",
     "iopub.status.busy": "2020-09-27T08:40:25.484026Z",
     "iopub.status.idle": "2020-09-27T08:40:25.487235Z",
     "shell.execute_reply": "2020-09-27T08:40:25.486568Z"
    },
    "papermill": {
     "duration": 0.043013,
     "end_time": "2020-09-27T08:40:25.487353",
     "exception": false,
     "start_time": "2020-09-27T08:40:25.444340",
     "status": "completed"
    },
    "tags": []
   },
   "outputs": [],
   "source": [
    "for i,j in enumerate(['N','D','G','C','A','H','M','O']):\n",
    "    test[j]=y_pred[:,i]"
   ]
  },
  {
   "cell_type": "code",
   "execution_count": 27,
   "metadata": {
    "execution": {
     "iopub.execute_input": "2020-09-27T08:40:25.559526Z",
     "iopub.status.busy": "2020-09-27T08:40:25.558686Z",
     "iopub.status.idle": "2020-09-27T08:40:25.560919Z",
     "shell.execute_reply": "2020-09-27T08:40:25.561426Z"
    },
    "papermill": {
     "duration": 0.041947,
     "end_time": "2020-09-27T08:40:25.561574",
     "exception": false,
     "start_time": "2020-09-27T08:40:25.519627",
     "status": "completed"
    },
    "tags": []
   },
   "outputs": [],
   "source": [
    "test.drop(['Left-Fundus','Right-Fundus'],axis=1,inplace=True)"
   ]
  },
  {
   "cell_type": "code",
   "execution_count": 28,
   "metadata": {
    "execution": {
     "iopub.execute_input": "2020-09-27T08:40:25.633886Z",
     "iopub.status.busy": "2020-09-27T08:40:25.633230Z",
     "iopub.status.idle": "2020-09-27T08:40:25.650109Z",
     "shell.execute_reply": "2020-09-27T08:40:25.649531Z"
    },
    "papermill": {
     "duration": 0.056468,
     "end_time": "2020-09-27T08:40:25.650226",
     "exception": false,
     "start_time": "2020-09-27T08:40:25.593758",
     "status": "completed"
    },
    "tags": []
   },
   "outputs": [],
   "source": [
    "test.to_csv('tpu_B5.csv',index=False)"
   ]
  },
  {
   "cell_type": "code",
   "execution_count": null,
   "metadata": {
    "papermill": {
     "duration": 0.03187,
     "end_time": "2020-09-27T08:40:25.714409",
     "exception": false,
     "start_time": "2020-09-27T08:40:25.682539",
     "status": "completed"
    },
    "tags": []
   },
   "outputs": [],
   "source": []
  }
 ],
 "metadata": {
  "kernelspec": {
   "display_name": "Python 3",
   "language": "python",
   "name": "python3"
  },
  "language_info": {
   "codemirror_mode": {
    "name": "ipython",
    "version": 3
   },
   "file_extension": ".py",
   "mimetype": "text/x-python",
   "name": "python",
   "nbconvert_exporter": "python",
   "pygments_lexer": "ipython3",
   "version": "3.7.6"
  },
  "papermill": {
   "duration": 2526.150462,
   "end_time": "2020-09-27T08:40:25.957611",
   "environment_variables": {},
   "exception": null,
   "input_path": "__notebook__.ipynb",
   "output_path": "__notebook__.ipynb",
   "parameters": {},
   "start_time": "2020-09-27T07:58:19.807149",
   "version": "2.1.0"
  }
 },
 "nbformat": 4,
 "nbformat_minor": 4
}
