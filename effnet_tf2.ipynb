{
  "nbformat": 4,
  "nbformat_minor": 0,
  "metadata": {
    "accelerator": "GPU",
    "colab": {
      "name": "effnet_attention_tf2.ipynb",
      "provenance": [],
      "collapsed_sections": [],
      "include_colab_link": true
    },
    "kernelspec": {
      "display_name": "Python 3",
      "name": "python3"
    }
  },
  "cells": [
    {
      "cell_type": "markdown",
      "metadata": {
        "id": "view-in-github",
        "colab_type": "text"
      },
      "source": [
        "<a href=\"https://colab.research.google.com/github/talhaanwarch/ODIR2019/blob/master/effnet_tf2.ipynb\" target=\"_parent\"><img src=\"https://colab.research.google.com/assets/colab-badge.svg\" alt=\"Open In Colab\"/></a>"
      ]
    },
    {
      "cell_type": "code",
      "metadata": {
        "colab": {
          "base_uri": "https://localhost:8080/"
        },
        "id": "7PsU8MEqEtcx",
        "outputId": "519ab5bb-5533-4b83-c374-a74ad96bfcfd"
      },
      "source": [
        "\n",
        "#connect drive with colab notebook/\n",
        "from google.colab import drive\n",
        "drive.mount('/content/drive',force_remount=True)"
      ],
      "execution_count": null,
      "outputs": [
        {
          "output_type": "stream",
          "text": [
            "Mounted at /content/drive\n"
          ],
          "name": "stdout"
        }
      ]
    },
    {
      "cell_type": "code",
      "metadata": {
        "colab": {
          "base_uri": "https://localhost:8080/"
        },
        "id": "xQ9q3gfrqcmh",
        "outputId": "c1c2ad86-2ec4-42c4-c5e8-cc923a591659"
      },
      "source": [
        "gpu_info = !nvidia-smi\n",
        "gpu_info = '\\n'.join(gpu_info)\n",
        "if gpu_info.find('failed') >= 0:\n",
        "  print('Select the Runtime → \"Change runtime type\" menu to enable a GPU accelerator, ')\n",
        "  print('and then re-execute this cell.')\n",
        "else:\n",
        "  print(gpu_info)"
      ],
      "execution_count": null,
      "outputs": [
        {
          "output_type": "stream",
          "text": [
            "Thu Feb 25 12:25:07 2021       \n",
            "+-----------------------------------------------------------------------------+\n",
            "| NVIDIA-SMI 460.39       Driver Version: 460.32.03    CUDA Version: 11.2     |\n",
            "|-------------------------------+----------------------+----------------------+\n",
            "| GPU  Name        Persistence-M| Bus-Id        Disp.A | Volatile Uncorr. ECC |\n",
            "| Fan  Temp  Perf  Pwr:Usage/Cap|         Memory-Usage | GPU-Util  Compute M. |\n",
            "|                               |                      |               MIG M. |\n",
            "|===============================+======================+======================|\n",
            "|   0  Tesla T4            Off  | 00000000:00:04.0 Off |                    0 |\n",
            "| N/A   51C    P0    27W /  70W |      0MiB / 15109MiB |      0%      Default |\n",
            "|                               |                      |                  N/A |\n",
            "+-------------------------------+----------------------+----------------------+\n",
            "                                                                               \n",
            "+-----------------------------------------------------------------------------+\n",
            "| Processes:                                                                  |\n",
            "|  GPU   GI   CI        PID   Type   Process name                  GPU Memory |\n",
            "|        ID   ID                                                   Usage      |\n",
            "|=============================================================================|\n",
            "|  No running processes found                                                 |\n",
            "+-----------------------------------------------------------------------------+\n"
          ],
          "name": "stdout"
        }
      ]
    },
    {
      "cell_type": "code",
      "metadata": {
        "id": "6W7wnTqZqd8h"
      },
      "source": [
        "%%capture\r\n",
        "!pip install focal-loss\r\n",
        "!pip install -U efficientnet"
      ],
      "execution_count": null,
      "outputs": []
    },
    {
      "cell_type": "markdown",
      "metadata": {
        "id": "K0P-LQlKfwhp"
      },
      "source": [
        "EfficientNetB0 - (224, 224, 3)  \n",
        "EfficientNetB1 - (240, 240, 3)  \n",
        "EfficientNetB2 - (260, 260, 3)  \n",
        "EfficientNetB3 - (300, 300, 3)  \n",
        "EfficientNetB4 - (380, 380, 3)  \n",
        "EfficientNetB5 - (456, 456, 3)  \n",
        "EfficientNetB6 - (528, 528, 3)  \n",
        "EfficientNetB7 - (600, 600, 3)  "
      ]
    },
    {
      "cell_type": "markdown",
      "metadata": {
        "id": "OJgWH2mVTf-3"
      },
      "source": [
        "https://github.com/keras-team/keras/issues/8130\n",
        "https://stackoverflow.com/questions/56796331/how-to-input-multiple-images-with-flow-from-dataframe-in-keras"
      ]
    },
    {
      "cell_type": "code",
      "metadata": {
        "colab": {
          "base_uri": "https://localhost:8080/"
        },
        "id": "Q2olGzDvEuRy",
        "outputId": "b338a07c-c4f8-443f-99c3-a1102dbbd4a6"
      },
      "source": [
        "#following are libraries to unpack 7z file\n",
        "!pip install patool \n",
        "!pip install pyunpack\n",
        "from pyunpack import Archive"
      ],
      "execution_count": null,
      "outputs": [
        {
          "output_type": "stream",
          "text": [
            "Requirement already satisfied: patool in /usr/local/lib/python3.7/dist-packages (1.12)\n",
            "Requirement already satisfied: pyunpack in /usr/local/lib/python3.7/dist-packages (0.2.2)\n",
            "Requirement already satisfied: entrypoint2 in /usr/local/lib/python3.7/dist-packages (from pyunpack) (0.2.3)\n",
            "Requirement already satisfied: easyprocess in /usr/local/lib/python3.7/dist-packages (from pyunpack) (0.3)\n",
            "Requirement already satisfied: argparse in /usr/local/lib/python3.7/dist-packages (from entrypoint2->pyunpack) (1.4.0)\n"
          ],
          "name": "stdout"
        }
      ]
    },
    {
      "cell_type": "code",
      "metadata": {
        "id": "N6cxCkiCF0ux"
      },
      "source": [
        "import pandas as pd\n",
        "import numpy as np\n",
        "import cv2"
      ],
      "execution_count": null,
      "outputs": []
    },
    {
      "cell_type": "code",
      "metadata": {
        "id": "HFAmlM88FWqn",
        "colab": {
          "base_uri": "https://localhost:8080/"
        },
        "outputId": "b4d9775d-cf08-4fd9-e08d-49b7487ce168"
      },
      "source": [
        "\n",
        "#create a folder name as data\n",
        "!mkdir data"
      ],
      "execution_count": null,
      "outputs": [
        {
          "output_type": "stream",
          "text": [
            "mkdir: cannot create directory ‘data’: File exists\n"
          ],
          "name": "stdout"
        }
      ]
    },
    {
      "cell_type": "code",
      "metadata": {
        "id": "venZ9rNrFZMZ"
      },
      "source": [
        "#path where our data is saved\n",
        "path='/content/drive/My Drive/thesis/'"
      ],
      "execution_count": null,
      "outputs": []
    },
    {
      "cell_type": "code",
      "metadata": {
        "id": "RPbingUaFbJ0"
      },
      "source": [
        "#extract the 7z file in data folder we created above\n",
        "#this not only extract the data but move it from drive to colab for efficinet processing\n",
        "#it will take some time\n",
        "Archive(path+'ODIR-5K_Training_Images.7z').extractall('data')"
      ],
      "execution_count": null,
      "outputs": []
    },
    {
      "cell_type": "code",
      "metadata": {
        "id": "5B_YwiHlMOHd"
      },
      "source": [
        "Archive(path+'ODIR-5K_Testing_Images.7z').extractall('data')\n"
      ],
      "execution_count": null,
      "outputs": []
    },
    {
      "cell_type": "code",
      "metadata": {
        "id": "t2vwqBAqFdG2"
      },
      "source": [
        "#read the annottion file\n",
        "annotation=pd.read_excel(path+'ODIR-5K_Training_Annotations(Updated)_V2.xlsx')"
      ],
      "execution_count": null,
      "outputs": []
    },
    {
      "cell_type": "code",
      "metadata": {
        "id": "UpKZEXLMFfhW"
      },
      "source": [
        "\n",
        "#normal (N), diabetes (D), glaucoma (G), cataract (C), AMD (A), hypertension (H), myopia (M) and other diseases/abnormalities (O)"
      ],
      "execution_count": null,
      "outputs": []
    },
    {
      "cell_type": "code",
      "metadata": {
        "colab": {
          "base_uri": "https://localhost:8080/",
          "height": 237
        },
        "id": "3EIxDJR0FhDq",
        "outputId": "04d194f3-a415-4e69-cee8-d4646d1f9cd1"
      },
      "source": [
        "#print first 5 rows of annotation file\n",
        "#annotation=annotation.sample(frac=1)\n",
        "annotation.head()"
      ],
      "execution_count": null,
      "outputs": [
        {
          "output_type": "execute_result",
          "data": {
            "text/html": [
              "<div>\n",
              "<style scoped>\n",
              "    .dataframe tbody tr th:only-of-type {\n",
              "        vertical-align: middle;\n",
              "    }\n",
              "\n",
              "    .dataframe tbody tr th {\n",
              "        vertical-align: top;\n",
              "    }\n",
              "\n",
              "    .dataframe thead th {\n",
              "        text-align: right;\n",
              "    }\n",
              "</style>\n",
              "<table border=\"1\" class=\"dataframe\">\n",
              "  <thead>\n",
              "    <tr style=\"text-align: right;\">\n",
              "      <th></th>\n",
              "      <th>ID</th>\n",
              "      <th>Patient Age</th>\n",
              "      <th>Patient Sex</th>\n",
              "      <th>Left-Fundus</th>\n",
              "      <th>Right-Fundus</th>\n",
              "      <th>Left-Diagnostic Keywords</th>\n",
              "      <th>Right-Diagnostic Keywords</th>\n",
              "      <th>N</th>\n",
              "      <th>D</th>\n",
              "      <th>G</th>\n",
              "      <th>C</th>\n",
              "      <th>A</th>\n",
              "      <th>H</th>\n",
              "      <th>M</th>\n",
              "      <th>O</th>\n",
              "    </tr>\n",
              "  </thead>\n",
              "  <tbody>\n",
              "    <tr>\n",
              "      <th>0</th>\n",
              "      <td>0</td>\n",
              "      <td>69</td>\n",
              "      <td>Female</td>\n",
              "      <td>0_left.jpg</td>\n",
              "      <td>0_right.jpg</td>\n",
              "      <td>cataract</td>\n",
              "      <td>normal fundus</td>\n",
              "      <td>0</td>\n",
              "      <td>0</td>\n",
              "      <td>0</td>\n",
              "      <td>1</td>\n",
              "      <td>0</td>\n",
              "      <td>0</td>\n",
              "      <td>0</td>\n",
              "      <td>0</td>\n",
              "    </tr>\n",
              "    <tr>\n",
              "      <th>1</th>\n",
              "      <td>1</td>\n",
              "      <td>57</td>\n",
              "      <td>Male</td>\n",
              "      <td>1_left.jpg</td>\n",
              "      <td>1_right.jpg</td>\n",
              "      <td>normal fundus</td>\n",
              "      <td>normal fundus</td>\n",
              "      <td>1</td>\n",
              "      <td>0</td>\n",
              "      <td>0</td>\n",
              "      <td>0</td>\n",
              "      <td>0</td>\n",
              "      <td>0</td>\n",
              "      <td>0</td>\n",
              "      <td>0</td>\n",
              "    </tr>\n",
              "    <tr>\n",
              "      <th>2</th>\n",
              "      <td>2</td>\n",
              "      <td>42</td>\n",
              "      <td>Male</td>\n",
              "      <td>2_left.jpg</td>\n",
              "      <td>2_right.jpg</td>\n",
              "      <td>laser spot，moderate non proliferative retinopathy</td>\n",
              "      <td>moderate non proliferative retinopathy</td>\n",
              "      <td>0</td>\n",
              "      <td>1</td>\n",
              "      <td>0</td>\n",
              "      <td>0</td>\n",
              "      <td>0</td>\n",
              "      <td>0</td>\n",
              "      <td>0</td>\n",
              "      <td>1</td>\n",
              "    </tr>\n",
              "    <tr>\n",
              "      <th>3</th>\n",
              "      <td>3</td>\n",
              "      <td>66</td>\n",
              "      <td>Male</td>\n",
              "      <td>3_left.jpg</td>\n",
              "      <td>3_right.jpg</td>\n",
              "      <td>normal fundus</td>\n",
              "      <td>branch retinal artery occlusion</td>\n",
              "      <td>0</td>\n",
              "      <td>0</td>\n",
              "      <td>0</td>\n",
              "      <td>0</td>\n",
              "      <td>0</td>\n",
              "      <td>0</td>\n",
              "      <td>0</td>\n",
              "      <td>1</td>\n",
              "    </tr>\n",
              "    <tr>\n",
              "      <th>4</th>\n",
              "      <td>4</td>\n",
              "      <td>53</td>\n",
              "      <td>Male</td>\n",
              "      <td>4_left.jpg</td>\n",
              "      <td>4_right.jpg</td>\n",
              "      <td>macular epiretinal membrane</td>\n",
              "      <td>mild nonproliferative retinopathy</td>\n",
              "      <td>0</td>\n",
              "      <td>1</td>\n",
              "      <td>0</td>\n",
              "      <td>0</td>\n",
              "      <td>0</td>\n",
              "      <td>0</td>\n",
              "      <td>0</td>\n",
              "      <td>1</td>\n",
              "    </tr>\n",
              "  </tbody>\n",
              "</table>\n",
              "</div>"
            ],
            "text/plain": [
              "   ID  Patient Age Patient Sex Left-Fundus Right-Fundus  ...  C  A  H  M  O\n",
              "0   0           69      Female  0_left.jpg  0_right.jpg  ...  1  0  0  0  0\n",
              "1   1           57        Male  1_left.jpg  1_right.jpg  ...  0  0  0  0  0\n",
              "2   2           42        Male  2_left.jpg  2_right.jpg  ...  0  0  0  0  1\n",
              "3   3           66        Male  3_left.jpg  3_right.jpg  ...  0  0  0  0  1\n",
              "4   4           53        Male  4_left.jpg  4_right.jpg  ...  0  0  0  0  1\n",
              "\n",
              "[5 rows x 15 columns]"
            ]
          },
          "metadata": {
            "tags": []
          },
          "execution_count": 12
        }
      ]
    },
    {
      "cell_type": "code",
      "metadata": {
        "id": "qmg1lv12PWNk"
      },
      "source": [
        "from sklearn.model_selection import train_test_split\n",
        "annotation, val = train_test_split(annotation, test_size = 0.2,  random_state = 73)"
      ],
      "execution_count": null,
      "outputs": []
    },
    {
      "cell_type": "code",
      "metadata": {
        "id": "HZqovtU5QryH"
      },
      "source": [
        "# for i in ['G',\t'C',\t'A',\t'H',\t'M']:\n",
        "#   duplicate=annotation[annotation[i]==1]\n",
        "#   annotation=annotation.append([duplicate]*10,ignore_index=True)"
      ],
      "execution_count": null,
      "outputs": []
    },
    {
      "cell_type": "code",
      "metadata": {
        "colab": {
          "base_uri": "https://localhost:8080/",
          "height": 254
        },
        "id": "qaUpTnUiPf31",
        "outputId": "13b10ce4-a088-4550-b481-4367a9dee62a"
      },
      "source": [
        "annotation.head()"
      ],
      "execution_count": null,
      "outputs": [
        {
          "output_type": "execute_result",
          "data": {
            "text/html": [
              "<div>\n",
              "<style scoped>\n",
              "    .dataframe tbody tr th:only-of-type {\n",
              "        vertical-align: middle;\n",
              "    }\n",
              "\n",
              "    .dataframe tbody tr th {\n",
              "        vertical-align: top;\n",
              "    }\n",
              "\n",
              "    .dataframe thead th {\n",
              "        text-align: right;\n",
              "    }\n",
              "</style>\n",
              "<table border=\"1\" class=\"dataframe\">\n",
              "  <thead>\n",
              "    <tr style=\"text-align: right;\">\n",
              "      <th></th>\n",
              "      <th>ID</th>\n",
              "      <th>Patient Age</th>\n",
              "      <th>Patient Sex</th>\n",
              "      <th>Left-Fundus</th>\n",
              "      <th>Right-Fundus</th>\n",
              "      <th>Left-Diagnostic Keywords</th>\n",
              "      <th>Right-Diagnostic Keywords</th>\n",
              "      <th>N</th>\n",
              "      <th>D</th>\n",
              "      <th>G</th>\n",
              "      <th>C</th>\n",
              "      <th>A</th>\n",
              "      <th>H</th>\n",
              "      <th>M</th>\n",
              "      <th>O</th>\n",
              "    </tr>\n",
              "  </thead>\n",
              "  <tbody>\n",
              "    <tr>\n",
              "      <th>3225</th>\n",
              "      <td>4371</td>\n",
              "      <td>58</td>\n",
              "      <td>Female</td>\n",
              "      <td>4371_left.jpg</td>\n",
              "      <td>4371_right.jpg</td>\n",
              "      <td>moderate non proliferative retinopathy</td>\n",
              "      <td>mild nonproliferative retinopathy</td>\n",
              "      <td>0</td>\n",
              "      <td>1</td>\n",
              "      <td>0</td>\n",
              "      <td>0</td>\n",
              "      <td>0</td>\n",
              "      <td>0</td>\n",
              "      <td>0</td>\n",
              "      <td>0</td>\n",
              "    </tr>\n",
              "    <tr>\n",
              "      <th>2030</th>\n",
              "      <td>2653</td>\n",
              "      <td>31</td>\n",
              "      <td>Male</td>\n",
              "      <td>2653_left.jpg</td>\n",
              "      <td>2653_right.jpg</td>\n",
              "      <td>normal fundus</td>\n",
              "      <td>normal fundus</td>\n",
              "      <td>1</td>\n",
              "      <td>0</td>\n",
              "      <td>0</td>\n",
              "      <td>0</td>\n",
              "      <td>0</td>\n",
              "      <td>0</td>\n",
              "      <td>0</td>\n",
              "      <td>0</td>\n",
              "    </tr>\n",
              "    <tr>\n",
              "      <th>3054</th>\n",
              "      <td>4194</td>\n",
              "      <td>50</td>\n",
              "      <td>Female</td>\n",
              "      <td>4194_left.jpg</td>\n",
              "      <td>4194_right.jpg</td>\n",
              "      <td>mild nonproliferative retinopathy</td>\n",
              "      <td>normal fundus</td>\n",
              "      <td>0</td>\n",
              "      <td>1</td>\n",
              "      <td>0</td>\n",
              "      <td>0</td>\n",
              "      <td>0</td>\n",
              "      <td>0</td>\n",
              "      <td>0</td>\n",
              "      <td>0</td>\n",
              "    </tr>\n",
              "    <tr>\n",
              "      <th>1558</th>\n",
              "      <td>2096</td>\n",
              "      <td>74</td>\n",
              "      <td>Male</td>\n",
              "      <td>2096_left.jpg</td>\n",
              "      <td>2096_right.jpg</td>\n",
              "      <td>mild nonproliferative retinopathy</td>\n",
              "      <td>cataract</td>\n",
              "      <td>0</td>\n",
              "      <td>1</td>\n",
              "      <td>0</td>\n",
              "      <td>1</td>\n",
              "      <td>0</td>\n",
              "      <td>0</td>\n",
              "      <td>0</td>\n",
              "      <td>0</td>\n",
              "    </tr>\n",
              "    <tr>\n",
              "      <th>3059</th>\n",
              "      <td>4199</td>\n",
              "      <td>67</td>\n",
              "      <td>Female</td>\n",
              "      <td>4199_left.jpg</td>\n",
              "      <td>4199_right.jpg</td>\n",
              "      <td>moderate non proliferative retinopathy，hyperte...</td>\n",
              "      <td>hypertensive retinopathy</td>\n",
              "      <td>0</td>\n",
              "      <td>1</td>\n",
              "      <td>0</td>\n",
              "      <td>0</td>\n",
              "      <td>0</td>\n",
              "      <td>1</td>\n",
              "      <td>0</td>\n",
              "      <td>0</td>\n",
              "    </tr>\n",
              "  </tbody>\n",
              "</table>\n",
              "</div>"
            ],
            "text/plain": [
              "        ID  Patient Age Patient Sex    Left-Fundus  ...  A  H  M  O\n",
              "3225  4371           58      Female  4371_left.jpg  ...  0  0  0  0\n",
              "2030  2653           31        Male  2653_left.jpg  ...  0  0  0  0\n",
              "3054  4194           50      Female  4194_left.jpg  ...  0  0  0  0\n",
              "1558  2096           74        Male  2096_left.jpg  ...  0  0  0  0\n",
              "3059  4199           67      Female  4199_left.jpg  ...  0  1  0  0\n",
              "\n",
              "[5 rows x 15 columns]"
            ]
          },
          "metadata": {
            "tags": []
          },
          "execution_count": 15
        }
      ]
    },
    {
      "cell_type": "code",
      "metadata": {
        "colab": {
          "base_uri": "https://localhost:8080/",
          "height": 254
        },
        "id": "aPHLUeCbP7-y",
        "outputId": "b4310e6e-4e48-4755-f31e-3f6b1667c3a8"
      },
      "source": [
        "val.head()"
      ],
      "execution_count": null,
      "outputs": [
        {
          "output_type": "execute_result",
          "data": {
            "text/html": [
              "<div>\n",
              "<style scoped>\n",
              "    .dataframe tbody tr th:only-of-type {\n",
              "        vertical-align: middle;\n",
              "    }\n",
              "\n",
              "    .dataframe tbody tr th {\n",
              "        vertical-align: top;\n",
              "    }\n",
              "\n",
              "    .dataframe thead th {\n",
              "        text-align: right;\n",
              "    }\n",
              "</style>\n",
              "<table border=\"1\" class=\"dataframe\">\n",
              "  <thead>\n",
              "    <tr style=\"text-align: right;\">\n",
              "      <th></th>\n",
              "      <th>ID</th>\n",
              "      <th>Patient Age</th>\n",
              "      <th>Patient Sex</th>\n",
              "      <th>Left-Fundus</th>\n",
              "      <th>Right-Fundus</th>\n",
              "      <th>Left-Diagnostic Keywords</th>\n",
              "      <th>Right-Diagnostic Keywords</th>\n",
              "      <th>N</th>\n",
              "      <th>D</th>\n",
              "      <th>G</th>\n",
              "      <th>C</th>\n",
              "      <th>A</th>\n",
              "      <th>H</th>\n",
              "      <th>M</th>\n",
              "      <th>O</th>\n",
              "    </tr>\n",
              "  </thead>\n",
              "  <tbody>\n",
              "    <tr>\n",
              "      <th>2891</th>\n",
              "      <td>4009</td>\n",
              "      <td>60</td>\n",
              "      <td>Male</td>\n",
              "      <td>4009_left.jpg</td>\n",
              "      <td>4009_right.jpg</td>\n",
              "      <td>moderate non proliferative retinopathy</td>\n",
              "      <td>moderate non proliferative retinopathy</td>\n",
              "      <td>0</td>\n",
              "      <td>1</td>\n",
              "      <td>0</td>\n",
              "      <td>0</td>\n",
              "      <td>0</td>\n",
              "      <td>0</td>\n",
              "      <td>0</td>\n",
              "      <td>0</td>\n",
              "    </tr>\n",
              "    <tr>\n",
              "      <th>1811</th>\n",
              "      <td>2434</td>\n",
              "      <td>54</td>\n",
              "      <td>Male</td>\n",
              "      <td>2434_left.jpg</td>\n",
              "      <td>2434_right.jpg</td>\n",
              "      <td>normal fundus</td>\n",
              "      <td>normal fundus</td>\n",
              "      <td>1</td>\n",
              "      <td>0</td>\n",
              "      <td>0</td>\n",
              "      <td>0</td>\n",
              "      <td>0</td>\n",
              "      <td>0</td>\n",
              "      <td>0</td>\n",
              "      <td>0</td>\n",
              "    </tr>\n",
              "    <tr>\n",
              "      <th>441</th>\n",
              "      <td>442</td>\n",
              "      <td>56</td>\n",
              "      <td>Male</td>\n",
              "      <td>442_left.jpg</td>\n",
              "      <td>442_right.jpg</td>\n",
              "      <td>moderate non proliferative retinopathy</td>\n",
              "      <td>moderate non proliferative retinopathy</td>\n",
              "      <td>0</td>\n",
              "      <td>1</td>\n",
              "      <td>0</td>\n",
              "      <td>0</td>\n",
              "      <td>0</td>\n",
              "      <td>0</td>\n",
              "      <td>0</td>\n",
              "      <td>0</td>\n",
              "    </tr>\n",
              "    <tr>\n",
              "      <th>1589</th>\n",
              "      <td>2127</td>\n",
              "      <td>70</td>\n",
              "      <td>Male</td>\n",
              "      <td>2127_left.jpg</td>\n",
              "      <td>2127_right.jpg</td>\n",
              "      <td>cataract</td>\n",
              "      <td>cataract</td>\n",
              "      <td>0</td>\n",
              "      <td>0</td>\n",
              "      <td>0</td>\n",
              "      <td>1</td>\n",
              "      <td>0</td>\n",
              "      <td>0</td>\n",
              "      <td>0</td>\n",
              "      <td>0</td>\n",
              "    </tr>\n",
              "    <tr>\n",
              "      <th>526</th>\n",
              "      <td>527</td>\n",
              "      <td>48</td>\n",
              "      <td>Male</td>\n",
              "      <td>527_left.jpg</td>\n",
              "      <td>527_right.jpg</td>\n",
              "      <td>branch retinal vein occlusion</td>\n",
              "      <td>normal fundus</td>\n",
              "      <td>0</td>\n",
              "      <td>0</td>\n",
              "      <td>0</td>\n",
              "      <td>0</td>\n",
              "      <td>0</td>\n",
              "      <td>0</td>\n",
              "      <td>0</td>\n",
              "      <td>1</td>\n",
              "    </tr>\n",
              "  </tbody>\n",
              "</table>\n",
              "</div>"
            ],
            "text/plain": [
              "        ID  Patient Age Patient Sex    Left-Fundus  ...  A  H  M  O\n",
              "2891  4009           60        Male  4009_left.jpg  ...  0  0  0  0\n",
              "1811  2434           54        Male  2434_left.jpg  ...  0  0  0  0\n",
              "441    442           56        Male   442_left.jpg  ...  0  0  0  0\n",
              "1589  2127           70        Male  2127_left.jpg  ...  0  0  0  0\n",
              "526    527           48        Male   527_left.jpg  ...  0  0  0  1\n",
              "\n",
              "[5 rows x 15 columns]"
            ]
          },
          "metadata": {
            "tags": []
          },
          "execution_count": 16
        }
      ]
    },
    {
      "cell_type": "code",
      "metadata": {
        "colab": {
          "base_uri": "https://localhost:8080/"
        },
        "id": "-G5M3oh4PcuG",
        "outputId": "c8f9057f-15c8-4bdc-94bc-59bf83d17a3c"
      },
      "source": [
        "for i in ['N'\t,'D'\t,'G',\t'C',\t'A'\t,'H'\t,'M',\t'O']:\n",
        "  print(val[i].value_counts())"
      ],
      "execution_count": null,
      "outputs": [
        {
          "output_type": "stream",
          "text": [
            "0    470\n",
            "1    230\n",
            "Name: N, dtype: int64\n",
            "0    476\n",
            "1    224\n",
            "Name: D, dtype: int64\n",
            "0    667\n",
            "1     33\n",
            "Name: G, dtype: int64\n",
            "0    655\n",
            "1     45\n",
            "Name: C, dtype: int64\n",
            "0    661\n",
            "1     39\n",
            "Name: A, dtype: int64\n",
            "0    681\n",
            "1     19\n",
            "Name: H, dtype: int64\n",
            "0    661\n",
            "1     39\n",
            "Name: M, dtype: int64\n",
            "0    518\n",
            "1    182\n",
            "Name: O, dtype: int64\n"
          ],
          "name": "stdout"
        }
      ]
    },
    {
      "cell_type": "code",
      "metadata": {
        "id": "EtXHJkD5SqEA"
      },
      "source": [
        "# val=[]\n",
        "# for i in ['N'\t,'D'\t,'G',\t'C',\t'A'\t,'H'\t,'M',\t'O']:\n",
        "#   df=annotation.sort_values(by=[i],ascending=False).head(20)\n",
        "#   val.append(df)\n",
        "#   annotation.drop(df.index,inplace=True)\n"
      ],
      "execution_count": null,
      "outputs": []
    },
    {
      "cell_type": "code",
      "metadata": {
        "id": "Pr2Jtt5rWacr"
      },
      "source": [
        "# val = pd.concat(val)\n",
        "# val=val.sample(frac=1)\n",
        "# val.head(5)"
      ],
      "execution_count": null,
      "outputs": []
    },
    {
      "cell_type": "code",
      "metadata": {
        "colab": {
          "base_uri": "https://localhost:8080/",
          "height": 219
        },
        "id": "xUTUDoXoo11N",
        "outputId": "0c10e0ea-b0ec-47b2-dcb4-e78597aebb9b"
      },
      "source": [
        "test=pd.read_csv(path+'XYZ_ODIR.csv')\n",
        "print(len(test))\n",
        "test.head()\n"
      ],
      "execution_count": null,
      "outputs": [
        {
          "output_type": "stream",
          "text": [
            "500\n"
          ],
          "name": "stdout"
        },
        {
          "output_type": "execute_result",
          "data": {
            "text/html": [
              "<div>\n",
              "<style scoped>\n",
              "    .dataframe tbody tr th:only-of-type {\n",
              "        vertical-align: middle;\n",
              "    }\n",
              "\n",
              "    .dataframe tbody tr th {\n",
              "        vertical-align: top;\n",
              "    }\n",
              "\n",
              "    .dataframe thead th {\n",
              "        text-align: right;\n",
              "    }\n",
              "</style>\n",
              "<table border=\"1\" class=\"dataframe\">\n",
              "  <thead>\n",
              "    <tr style=\"text-align: right;\">\n",
              "      <th></th>\n",
              "      <th>ID</th>\n",
              "      <th>N</th>\n",
              "      <th>D</th>\n",
              "      <th>G</th>\n",
              "      <th>C</th>\n",
              "      <th>A</th>\n",
              "      <th>H</th>\n",
              "      <th>M</th>\n",
              "      <th>O</th>\n",
              "    </tr>\n",
              "  </thead>\n",
              "  <tbody>\n",
              "    <tr>\n",
              "      <th>0</th>\n",
              "      <td>937</td>\n",
              "      <td>0</td>\n",
              "      <td>0</td>\n",
              "      <td>0</td>\n",
              "      <td>0</td>\n",
              "      <td>0</td>\n",
              "      <td>0</td>\n",
              "      <td>0</td>\n",
              "      <td>0</td>\n",
              "    </tr>\n",
              "    <tr>\n",
              "      <th>1</th>\n",
              "      <td>967</td>\n",
              "      <td>0</td>\n",
              "      <td>0</td>\n",
              "      <td>0</td>\n",
              "      <td>0</td>\n",
              "      <td>0</td>\n",
              "      <td>0</td>\n",
              "      <td>0</td>\n",
              "      <td>0</td>\n",
              "    </tr>\n",
              "    <tr>\n",
              "      <th>2</th>\n",
              "      <td>988</td>\n",
              "      <td>0</td>\n",
              "      <td>0</td>\n",
              "      <td>0</td>\n",
              "      <td>0</td>\n",
              "      <td>0</td>\n",
              "      <td>0</td>\n",
              "      <td>0</td>\n",
              "      <td>0</td>\n",
              "    </tr>\n",
              "    <tr>\n",
              "      <th>3</th>\n",
              "      <td>995</td>\n",
              "      <td>0</td>\n",
              "      <td>0</td>\n",
              "      <td>0</td>\n",
              "      <td>0</td>\n",
              "      <td>0</td>\n",
              "      <td>0</td>\n",
              "      <td>0</td>\n",
              "      <td>0</td>\n",
              "    </tr>\n",
              "    <tr>\n",
              "      <th>4</th>\n",
              "      <td>1000</td>\n",
              "      <td>0</td>\n",
              "      <td>0</td>\n",
              "      <td>0</td>\n",
              "      <td>0</td>\n",
              "      <td>0</td>\n",
              "      <td>0</td>\n",
              "      <td>0</td>\n",
              "      <td>0</td>\n",
              "    </tr>\n",
              "  </tbody>\n",
              "</table>\n",
              "</div>"
            ],
            "text/plain": [
              "     ID  N  D  G  C  A  H  M  O\n",
              "0   937  0  0  0  0  0  0  0  0\n",
              "1   967  0  0  0  0  0  0  0  0\n",
              "2   988  0  0  0  0  0  0  0  0\n",
              "3   995  0  0  0  0  0  0  0  0\n",
              "4  1000  0  0  0  0  0  0  0  0"
            ]
          },
          "metadata": {
            "tags": []
          },
          "execution_count": 20
        }
      ]
    },
    {
      "cell_type": "code",
      "metadata": {
        "colab": {
          "base_uri": "https://localhost:8080/"
        },
        "id": "8ficanACZVOk",
        "outputId": "6d07c122-14f3-4a1e-9b52-281ec7feaaca"
      },
      "source": [
        "print(len(annotation))\n",
        "print(len(val))\n",
        "print(len(test))"
      ],
      "execution_count": null,
      "outputs": [
        {
          "output_type": "stream",
          "text": [
            "2800\n",
            "700\n",
            "500\n"
          ],
          "name": "stdout"
        }
      ]
    },
    {
      "cell_type": "code",
      "metadata": {
        "colab": {
          "base_uri": "https://localhost:8080/",
          "height": 202
        },
        "id": "skIdshbwo3Y_",
        "outputId": "801759db-5810-4a2d-c47b-db4910296ba7"
      },
      "source": [
        "left_test=[]\n",
        "right_test=[]\n",
        "ID=[]\n",
        "for i in test['ID']:\n",
        "  ID.append(i)\n",
        "  left_test.append(str(i)+'_left.jpg')\n",
        "  right_test.append(str(i)+'_right.jpg')\n",
        "\n",
        "name_df=pd.DataFrame(zip(ID,left_test,right_test),columns=['ID','Left-Fundus','Right-Fundus'])\n",
        "name_df.head()\n",
        "result = pd.merge(name_df, test, on='ID')\n",
        "result.head()"
      ],
      "execution_count": null,
      "outputs": [
        {
          "output_type": "execute_result",
          "data": {
            "text/html": [
              "<div>\n",
              "<style scoped>\n",
              "    .dataframe tbody tr th:only-of-type {\n",
              "        vertical-align: middle;\n",
              "    }\n",
              "\n",
              "    .dataframe tbody tr th {\n",
              "        vertical-align: top;\n",
              "    }\n",
              "\n",
              "    .dataframe thead th {\n",
              "        text-align: right;\n",
              "    }\n",
              "</style>\n",
              "<table border=\"1\" class=\"dataframe\">\n",
              "  <thead>\n",
              "    <tr style=\"text-align: right;\">\n",
              "      <th></th>\n",
              "      <th>ID</th>\n",
              "      <th>Left-Fundus</th>\n",
              "      <th>Right-Fundus</th>\n",
              "      <th>N</th>\n",
              "      <th>D</th>\n",
              "      <th>G</th>\n",
              "      <th>C</th>\n",
              "      <th>A</th>\n",
              "      <th>H</th>\n",
              "      <th>M</th>\n",
              "      <th>O</th>\n",
              "    </tr>\n",
              "  </thead>\n",
              "  <tbody>\n",
              "    <tr>\n",
              "      <th>0</th>\n",
              "      <td>937</td>\n",
              "      <td>937_left.jpg</td>\n",
              "      <td>937_right.jpg</td>\n",
              "      <td>0</td>\n",
              "      <td>0</td>\n",
              "      <td>0</td>\n",
              "      <td>0</td>\n",
              "      <td>0</td>\n",
              "      <td>0</td>\n",
              "      <td>0</td>\n",
              "      <td>0</td>\n",
              "    </tr>\n",
              "    <tr>\n",
              "      <th>1</th>\n",
              "      <td>967</td>\n",
              "      <td>967_left.jpg</td>\n",
              "      <td>967_right.jpg</td>\n",
              "      <td>0</td>\n",
              "      <td>0</td>\n",
              "      <td>0</td>\n",
              "      <td>0</td>\n",
              "      <td>0</td>\n",
              "      <td>0</td>\n",
              "      <td>0</td>\n",
              "      <td>0</td>\n",
              "    </tr>\n",
              "    <tr>\n",
              "      <th>2</th>\n",
              "      <td>988</td>\n",
              "      <td>988_left.jpg</td>\n",
              "      <td>988_right.jpg</td>\n",
              "      <td>0</td>\n",
              "      <td>0</td>\n",
              "      <td>0</td>\n",
              "      <td>0</td>\n",
              "      <td>0</td>\n",
              "      <td>0</td>\n",
              "      <td>0</td>\n",
              "      <td>0</td>\n",
              "    </tr>\n",
              "    <tr>\n",
              "      <th>3</th>\n",
              "      <td>995</td>\n",
              "      <td>995_left.jpg</td>\n",
              "      <td>995_right.jpg</td>\n",
              "      <td>0</td>\n",
              "      <td>0</td>\n",
              "      <td>0</td>\n",
              "      <td>0</td>\n",
              "      <td>0</td>\n",
              "      <td>0</td>\n",
              "      <td>0</td>\n",
              "      <td>0</td>\n",
              "    </tr>\n",
              "    <tr>\n",
              "      <th>4</th>\n",
              "      <td>1000</td>\n",
              "      <td>1000_left.jpg</td>\n",
              "      <td>1000_right.jpg</td>\n",
              "      <td>0</td>\n",
              "      <td>0</td>\n",
              "      <td>0</td>\n",
              "      <td>0</td>\n",
              "      <td>0</td>\n",
              "      <td>0</td>\n",
              "      <td>0</td>\n",
              "      <td>0</td>\n",
              "    </tr>\n",
              "  </tbody>\n",
              "</table>\n",
              "</div>"
            ],
            "text/plain": [
              "     ID    Left-Fundus    Right-Fundus  N  D  G  C  A  H  M  O\n",
              "0   937   937_left.jpg   937_right.jpg  0  0  0  0  0  0  0  0\n",
              "1   967   967_left.jpg   967_right.jpg  0  0  0  0  0  0  0  0\n",
              "2   988   988_left.jpg   988_right.jpg  0  0  0  0  0  0  0  0\n",
              "3   995   995_left.jpg   995_right.jpg  0  0  0  0  0  0  0  0\n",
              "4  1000  1000_left.jpg  1000_right.jpg  0  0  0  0  0  0  0  0"
            ]
          },
          "metadata": {
            "tags": []
          },
          "execution_count": 22
        }
      ]
    },
    {
      "cell_type": "code",
      "metadata": {
        "id": "CZ89sH5UQjqX"
      },
      "source": [
        ""
      ],
      "execution_count": null,
      "outputs": []
    },
    {
      "cell_type": "code",
      "metadata": {
        "colab": {
          "base_uri": "https://localhost:8080/"
        },
        "id": "_vZADzpUGq8L",
        "outputId": "b210302d-25ac-42ed-ec17-b88fe9cddeab"
      },
      "source": [
        "len(annotation)"
      ],
      "execution_count": null,
      "outputs": [
        {
          "output_type": "execute_result",
          "data": {
            "text/plain": [
              "2800"
            ]
          },
          "metadata": {
            "tags": []
          },
          "execution_count": 23
        }
      ]
    },
    {
      "cell_type": "code",
      "metadata": {
        "id": "7zy2yQ5GG5VB"
      },
      "source": [
        "img_shape=300"
      ],
      "execution_count": null,
      "outputs": []
    },
    {
      "cell_type": "code",
      "metadata": {
        "id": "o029gBw9G058"
      },
      "source": [
        "#https://www.kaggle.com/ratthachat/aptos-eye-preprocessing-in-diabetic-retinopathy\n",
        "def crop_image1(img,tol=7):\n",
        "    # img is image data\n",
        "    # tol  is tolerance\n",
        "        \n",
        "    mask = img>tol\n",
        "    return img[np.ix_(mask.any(1),mask.any(0))]\n",
        "\n",
        "def crop_image_from_gray(img,tol=7):\n",
        "    if img.ndim ==2:\n",
        "        mask = img>tol\n",
        "        return img[np.ix_(mask.any(1),mask.any(0))]\n",
        "    elif img.ndim==3:\n",
        "        gray_img = cv2.cvtColor(img, cv2.COLOR_RGB2GRAY)\n",
        "        mask = gray_img>tol\n",
        "        \n",
        "        check_shape = img[:,:,0][np.ix_(mask.any(1),mask.any(0))].shape[0]\n",
        "        if (check_shape == 0): # image is too dark so that we crop out everything,\n",
        "            return img # return original image\n",
        "        else:\n",
        "            img1=img[:,:,0][np.ix_(mask.any(1),mask.any(0))]\n",
        "            img2=img[:,:,1][np.ix_(mask.any(1),mask.any(0))]\n",
        "            img3=img[:,:,2][np.ix_(mask.any(1),mask.any(0))]\n",
        "    #         print(img1.shape,img2.shape,img3.shape)\n",
        "            img = np.stack([img1,img2,img3],axis=-1)\n",
        "    #         print(img.shape)\n",
        "        return img"
      ],
      "execution_count": null,
      "outputs": []
    },
    {
      "cell_type": "code",
      "metadata": {
        "id": "lXCvf95yG3Su"
      },
      "source": [
        "def load_ben_color(image, sigmaX=10):\n",
        "    #image = cv2.imread(path)\n",
        "    #image = cv2.cvtColor(image, cv2.COLOR_BGR2RGB)\n",
        "    image = crop_image_from_gray(image)\n",
        "    image = cv2.resize(image, (img_shape, img_shape))\n",
        "    image=cv2.addWeighted ( image,4, cv2.GaussianBlur( image , (0,0) , sigmaX) ,-4 ,128)\n",
        "    \n",
        "    \n",
        "    return image"
      ],
      "execution_count": null,
      "outputs": []
    },
    {
      "cell_type": "code",
      "metadata": {
        "id": "YGEKCh4cHLGY"
      },
      "source": [
        "from tensorflow.keras.preprocessing.image import ImageDataGenerator\n",
        "\n",
        "train_data_gen= ImageDataGenerator(\n",
        "    horizontal_flip=True,\n",
        "    vertical_flip=True,\n",
        "    rotation_range=30,\n",
        "    width_shift_range=0.1,\n",
        "    height_shift_range=0.1,\n",
        "    zoom_range=.1,\n",
        "    rescale=1/255,\n",
        "    fill_mode='nearest',\n",
        "    shear_range=0.1,\n",
        "    brightness_range=[0.5, 1.5],\n",
        "    preprocessing_function=load_ben_color\n",
        ")\n",
        "\n",
        "val_data_gen= ImageDataGenerator(\n",
        "    rescale=1/255\n",
        "    \n",
        ")"
      ],
      "execution_count": null,
      "outputs": []
    },
    {
      "cell_type": "code",
      "metadata": {
        "id": "tCzfKSV3FkpG"
      },
      "source": [
        "def get_flow_from_dataframe(generator, dataframe,directory_path,\n",
        "                            image_shape=(img_shape, img_shape),\n",
        "                            #subset='training',\n",
        "                             batch_size=35):\n",
        "    train_generator_1 = generator.flow_from_dataframe(dataframe,\n",
        "                                                      directory=directory_path,\n",
        "                                                      target_size=(img_shape,img_shape),\n",
        "                                                      x_col=\"Left-Fundus\",\n",
        "                                                      y_col=['N'\t,'D'\t,'G',\t'C',\t'A'\t,'H'\t,'M',\t'O'],\n",
        "                                                      class_mode='raw',\n",
        "                                                      shuffle=False,\n",
        "                                                      batch_size=batch_size,\n",
        "                                                      seed=7,\n",
        "                                                      classes=['N'\t,'D'\t,'G',\t'C',\t'A'\t,'H'\t,'M',\t'O']\n",
        "                                                      #subset=subset\n",
        "                                                      )\n",
        "\n",
        "    train_generator_2 = generator.flow_from_dataframe(dataframe, \n",
        "                                                      directory=directory_path,\n",
        "                                                      target_size=(img_shape,img_shape),\n",
        "                                                      x_col=\"Right-Fundus\",\n",
        "                                                      y_col=['N'\t,'D'\t,'G',\t'C',\t'A'\t,'H'\t,'M',\t'O'],\n",
        "                                                      class_mode='raw',\n",
        "                                                      shuffle=False,\n",
        "                                                      batch_size=batch_size,\n",
        "                                                      seed=7,\n",
        "                                                      classes=['N'\t,'D'\t,'G',\t'C',\t'A'\t,'H'\t,'M',\t'O']                                                     \n",
        "                                                      #subset=subset\n",
        "                                                      )\n",
        "    while True:\n",
        "        x_1 = train_generator_1.next()\n",
        "        x_2 = train_generator_2.next()\n",
        "        yield [x_1[0], x_2[0]], x_1[1]"
      ],
      "execution_count": null,
      "outputs": []
    },
    {
      "cell_type": "code",
      "metadata": {
        "id": "Xjbl6CEiOJPB"
      },
      "source": [
        "batch_size=15\n",
        "train_gen = get_flow_from_dataframe(train_data_gen, annotation, image_shape=(img_shape, img_shape),\n",
        "                                        directory_path=\"data/ODIR-5K_Training_Dataset/\",batch_size=batch_size)\n",
        "valid_gen = get_flow_from_dataframe(train_data_gen, val, image_shape=(img_shape, img_shape),\n",
        "                                        directory_path=\"data/ODIR-5K_Training_Dataset/\",batch_size=batch_size)\n",
        "test_gen = get_flow_from_dataframe(train_data_gen, result, image_shape=(img_shape, img_shape),\n",
        "                                        directory_path=\"data/ODIR-5K_Testing_Images/\",batch_size=batch_size)"
      ],
      "execution_count": null,
      "outputs": []
    },
    {
      "cell_type": "code",
      "metadata": {
        "colab": {
          "base_uri": "https://localhost:8080/"
        },
        "id": "6wW1nbe2OPlM",
        "outputId": "df8c72c3-d0ba-400f-e895-327620c88e05"
      },
      "source": [
        "img_shape"
      ],
      "execution_count": null,
      "outputs": [
        {
          "output_type": "execute_result",
          "data": {
            "text/plain": [
              "300"
            ]
          },
          "metadata": {
            "tags": []
          },
          "execution_count": 30
        }
      ]
    },
    {
      "cell_type": "code",
      "metadata": {
        "id": "Yh2SCQ91Gyzk"
      },
      "source": [
        "from tensorflow.keras.models import Sequential,Model\n",
        "from tensorflow.keras.layers import Activation, Dropout, Flatten, Dense, Conv2D, MaxPool2D, BatchNormalization,Input,MaxPooling2D,GlobalMaxPooling2D,concatenate\n",
        "from tensorflow.keras.layers import GlobalAveragePooling2D\n",
        "from tensorflow.keras.applications.resnet50 import ResNet50\n",
        "from tensorflow.keras.callbacks import ModelCheckpoint\n",
        "import tensorflow as tf\n",
        "import efficientnet.keras as efn \n"
      ],
      "execution_count": null,
      "outputs": []
    },
    {
      "cell_type": "code",
      "metadata": {
        "id": "UR73wULkH2M6"
      },
      "source": [
        "#from tensorflow.keras.applications import EfficientNetB3\n",
        "left_input=Input(shape=(img_shape,img_shape,3))\n",
        "right_input=Input(shape=(img_shape,img_shape,3))\n",
        "\n",
        "left_model = efn.EfficientNetB3(input_shape =  (img_shape,img_shape,3), include_top = False, weights = 'imagenet',input_tensor=left_input)\n",
        "right_model = efn.EfficientNetB3(input_shape =  (img_shape,img_shape,3), include_top = False, weights = 'imagenet',input_tensor=right_input)\n",
        "\n",
        "left_model.trainable = False\n",
        "right_model.trainable = False"
      ],
      "execution_count": null,
      "outputs": []
    },
    {
      "cell_type": "code",
      "metadata": {
        "id": "Ml2q6gLRJnDZ"
      },
      "source": [
        "con = concatenate([left_model.output, right_model.output])\n",
        "gap_dr = Dropout(0.5)(con)\n",
        "GAP= GlobalAveragePooling2D()(gap_dr)\n",
        "fc1=Dense(256, activation = 'relu')(GAP)\n",
        "fc2=Dense(128, activation = 'relu')(fc1)\n",
        "fc3=Dense(64, activation = 'relu')(fc2)\n",
        "out = Dense(8, activation = 'sigmoid')(fc3)"
      ],
      "execution_count": null,
      "outputs": []
    },
    {
      "cell_type": "code",
      "metadata": {
        "id": "FqzmkMwkJl4u"
      },
      "source": [
        "\n",
        "for layer in right_model._layers:\n",
        "        layer._name = layer._name + '_right'\n",
        "for layer in left_model._layers:\n",
        "  layer._name = layer._name + '_left'\n",
        "\n",
        "left_model._name=\"left_eff\"\n",
        "right_model._name=\"right_eff\""
      ],
      "execution_count": null,
      "outputs": []
    },
    {
      "cell_type": "code",
      "metadata": {
        "id": "yhsdxOIzKDWW"
      },
      "source": [
        "model =Model(inputs=[left_input, right_input], outputs=out)\n"
      ],
      "execution_count": null,
      "outputs": []
    },
    {
      "cell_type": "code",
      "metadata": {
        "id": "xVWovHlxGh2D"
      },
      "source": [
        "# from keras.utils import plot_model\n",
        "# plot_model(model)"
      ],
      "execution_count": null,
      "outputs": []
    },
    {
      "cell_type": "code",
      "metadata": {
        "id": "WR_jQXQNfVCp"
      },
      "source": [
        "from focal_loss import BinaryFocalLoss\n",
        "model.compile('adam',loss=BinaryFocalLoss(gamma=2),metrics=['accuracy'])"
      ],
      "execution_count": null,
      "outputs": []
    },
    {
      "cell_type": "code",
      "metadata": {
        "id": "sjnVWl1UQxRs"
      },
      "source": [
        "step_size_train=len(annotation)/batch_size\n",
        "step_size_val=len(val)/batch_size\n"
      ],
      "execution_count": null,
      "outputs": []
    },
    {
      "cell_type": "code",
      "metadata": {
        "id": "hKlqXLgkHRNe"
      },
      "source": [
        "from tensorflow.keras.callbacks import ReduceLROnPlateau,ModelCheckpoint\n",
        "reduce_lr = ReduceLROnPlateau(monitor='val_loss', factor=0.3,\n",
        "                              patience=3, min_lr=0.000001, verbose=1)\n",
        "checkpoint = ModelCheckpoint('model.h5', monitor='val_loss', verbose=1, save_best_only=True, mode='min')\n"
      ],
      "execution_count": null,
      "outputs": []
    },
    {
      "cell_type": "code",
      "metadata": {
        "id": "nzPOtk_XeLy4"
      },
      "source": [
        ""
      ],
      "execution_count": null,
      "outputs": []
    },
    {
      "cell_type": "code",
      "metadata": {
        "colab": {
          "base_uri": "https://localhost:8080/"
        },
        "id": "Q_K_SSjQJoIk",
        "outputId": "45ae0f04-5ef1-4890-9c8c-39d6473f1d30"
      },
      "source": [
        "hist=model.fit(train_gen, epochs=10,\n",
        "                        steps_per_epoch=step_size_train,\n",
        "                        use_multiprocessing=False,\n",
        "                        validation_data=valid_gen,\n",
        "                        validation_steps=step_size_val,\n",
        "                        verbose=2,callbacks=[reduce_lr,checkpoint],\n",
        "                    \n",
        "                        )"
      ],
      "execution_count": null,
      "outputs": [
        {
          "output_type": "stream",
          "text": [
            "/usr/local/lib/python3.7/dist-packages/keras_preprocessing/image/dataframe_iterator.py:220: UserWarning: `classes` will be ignored given the class_mode=\"raw\"\n",
            "  .format(self.class_mode))\n"
          ],
          "name": "stderr"
        },
        {
          "output_type": "stream",
          "text": [
            "Found 2800 validated image filenames.\n",
            "Found 2800 validated image filenames.\n",
            "Epoch 1/10\n",
            "Found 700 validated image filenames.\n",
            "Found 700 validated image filenames.\n",
            "186/186 - 577s - loss: 0.0901 - accuracy: 0.3554 - val_loss: 0.0805 - val_accuracy: 0.4329\n",
            "\n",
            "Epoch 00001: val_loss improved from inf to 0.08054, saving model to model.h5\n",
            "Epoch 2/10\n",
            "186/186 - 541s - loss: 0.0813 - accuracy: 0.4229 - val_loss: 0.0785 - val_accuracy: 0.4600\n",
            "\n",
            "Epoch 00002: val_loss improved from 0.08054 to 0.07846, saving model to model.h5\n",
            "Epoch 3/10\n",
            "186/186 - 536s - loss: 0.0788 - accuracy: 0.4457 - val_loss: 0.0778 - val_accuracy: 0.4586\n",
            "\n",
            "Epoch 00003: val_loss improved from 0.07846 to 0.07784, saving model to model.h5\n",
            "Epoch 4/10\n",
            "186/186 - 532s - loss: 0.0769 - accuracy: 0.4568 - val_loss: 0.0760 - val_accuracy: 0.4786\n",
            "\n",
            "Epoch 00004: val_loss improved from 0.07784 to 0.07597, saving model to model.h5\n",
            "Epoch 5/10\n",
            "186/186 - 531s - loss: 0.0760 - accuracy: 0.4743 - val_loss: 0.0778 - val_accuracy: 0.4657\n",
            "\n",
            "Epoch 00005: val_loss did not improve from 0.07597\n",
            "Epoch 6/10\n",
            "186/186 - 534s - loss: 0.0750 - accuracy: 0.4754 - val_loss: 0.0757 - val_accuracy: 0.4714\n",
            "\n",
            "Epoch 00006: val_loss improved from 0.07597 to 0.07568, saving model to model.h5\n",
            "Epoch 7/10\n",
            "186/186 - 534s - loss: 0.0742 - accuracy: 0.4793 - val_loss: 0.0767 - val_accuracy: 0.4700\n",
            "\n",
            "Epoch 00007: val_loss did not improve from 0.07568\n",
            "Epoch 8/10\n",
            "186/186 - 535s - loss: 0.0737 - accuracy: 0.4829 - val_loss: 0.0744 - val_accuracy: 0.4729\n",
            "\n",
            "Epoch 00008: val_loss improved from 0.07568 to 0.07436, saving model to model.h5\n",
            "Epoch 9/10\n",
            "186/186 - 532s - loss: 0.0727 - accuracy: 0.4864 - val_loss: 0.0738 - val_accuracy: 0.4957\n",
            "\n",
            "Epoch 00009: val_loss improved from 0.07436 to 0.07384, saving model to model.h5\n",
            "Epoch 10/10\n",
            "186/186 - 534s - loss: 0.0727 - accuracy: 0.4893 - val_loss: 0.0745 - val_accuracy: 0.4914\n",
            "\n",
            "Epoch 00010: val_loss did not improve from 0.07384\n"
          ],
          "name": "stdout"
        }
      ]
    },
    {
      "cell_type": "code",
      "metadata": {
        "colab": {
          "base_uri": "https://localhost:8080/"
        },
        "id": "JrQCxAMLLPlD",
        "outputId": "9cb7618d-c808-4882-8b41-5c42204f2a41"
      },
      "source": [
        "hist"
      ],
      "execution_count": null,
      "outputs": [
        {
          "output_type": "execute_result",
          "data": {
            "text/plain": [
              "<tensorflow.python.keras.callbacks.History at 0x7ff616693ed0>"
            ]
          },
          "metadata": {
            "tags": []
          },
          "execution_count": 41
        }
      ]
    },
    {
      "cell_type": "code",
      "metadata": {
        "colab": {
          "base_uri": "https://localhost:8080/",
          "height": 295
        },
        "id": "jYRXBCYmJhHm",
        "outputId": "3ea4e00f-4728-4f6a-aa66-f46b73b4787f"
      },
      "source": [
        "import matplotlib.pyplot as plt\n",
        "\n",
        "plt.plot(hist.history['loss'])\n",
        "plt.plot(hist.history['val_loss'])\n",
        "plt.title('model loss')\n",
        "plt.ylabel('loss')\n",
        "plt.xlabel('epoch')\n",
        "plt.legend(['train', 'test'], loc='upper left')\n",
        "plt.show()"
      ],
      "execution_count": null,
      "outputs": [
        {
          "output_type": "display_data",
          "data": {
            "image/png": "[encoded data removed]",
            "text/plain": [
              "<Figure size 432x288 with 1 Axes>"
            ]
          },
          "metadata": {
            "tags": [],
            "needs_background": "light"
          }
        }
      ]
    },
    {
      "cell_type": "code",
      "metadata": {
        "colab": {
          "base_uri": "https://localhost:8080/"
        },
        "id": "2_XdXICBMR6o",
        "outputId": "3499ccca-7364-4629-95d4-3735cfb75e33"
      },
      "source": [
        "y_pred = model.predict_generator(valid_gen,steps=step_size_val)\n",
        "y_pred1=y_pred.copy()\n",
        "y_pred1[y_pred1>=0.5] = 1\n",
        "y_pred1[y_pred1<0.5] = 0\n",
        "y_pred1=y_pred1.astype(int)"
      ],
      "execution_count": null,
      "outputs": [
        {
          "output_type": "stream",
          "text": [
            "/usr/local/lib/python3.7/dist-packages/tensorflow/python/keras/engine/training.py:1905: UserWarning: `Model.predict_generator` is deprecated and will be removed in a future version. Please use `Model.predict`, which supports generators.\n",
            "  warnings.warn('`Model.predict_generator` is deprecated and '\n"
          ],
          "name": "stderr"
        }
      ]
    },
    {
      "cell_type": "code",
      "metadata": {
        "id": "t1xf_D1hn7ZE"
      },
      "source": [
        ""
      ],
      "execution_count": null,
      "outputs": []
    },
    {
      "cell_type": "code",
      "metadata": {
        "id": "LK7dhwnUodZ7"
      },
      "source": [
        "# y_true=val_annotation.iloc[:,-8::].values\n",
        "# y_true.shape"
      ],
      "execution_count": null,
      "outputs": []
    },
    {
      "cell_type": "code",
      "metadata": {
        "id": "ePPDphOcn90N"
      },
      "source": [
        "# from sklearn.metrics import classification_report\n",
        "# from sklearn.metrics import accuracy_score\n",
        "# from sklearn.metrics import multilabel_confusion_matrix\n",
        "\n",
        "# multilabel_confusion_matrix(y_true, y_pred1)"
      ],
      "execution_count": null,
      "outputs": []
    },
    {
      "cell_type": "code",
      "metadata": {
        "id": "mpKNYxITn_-8"
      },
      "source": [
        "# target_names = ['N'\t,'D'\t,'G',\t'C',\t'A'\t,'H'\t,'M',\t'O']\n",
        "# print(classification_report(y_true, y_pred1, target_names=target_names))"
      ],
      "execution_count": null,
      "outputs": []
    },
    {
      "cell_type": "code",
      "metadata": {
        "id": "_07ZnzJVS6V7"
      },
      "source": [
        "#model.load_weights('model.h5')"
      ],
      "execution_count": null,
      "outputs": []
    },
    {
      "cell_type": "code",
      "metadata": {
        "colab": {
          "base_uri": "https://localhost:8080/"
        },
        "id": "UvQM1WK-TNFc",
        "outputId": "02b20ee0-b72c-4b83-f305-816c6b95d741"
      },
      "source": [
        "y_test= model.predict(test_gen,steps=len(test)/batch_size)\n"
      ],
      "execution_count": null,
      "outputs": [
        {
          "output_type": "stream",
          "text": [
            "/usr/local/lib/python3.7/dist-packages/keras_preprocessing/image/dataframe_iterator.py:220: UserWarning: `classes` will be ignored given the class_mode=\"raw\"\n",
            "  .format(self.class_mode))\n"
          ],
          "name": "stderr"
        },
        {
          "output_type": "stream",
          "text": [
            "Found 500 validated image filenames.\n",
            "Found 500 validated image filenames.\n"
          ],
          "name": "stdout"
        }
      ]
    },
    {
      "cell_type": "code",
      "metadata": {
        "id": "MK_o2xCF7obl"
      },
      "source": [
        "for i,j in enumerate(['N'\t,'D'\t,'G',\t'C',\t'A'\t,'H'\t,'M',\t'O']):\n",
        "  test[j]=y_test[:,i]"
      ],
      "execution_count": null,
      "outputs": []
    },
    {
      "cell_type": "code",
      "metadata": {
        "colab": {
          "base_uri": "https://localhost:8080/",
          "height": 202
        },
        "id": "blfhoD498HM5",
        "outputId": "20be3e2a-8d7c-4372-c7c3-21d94b1c468a"
      },
      "source": [
        "test.head()"
      ],
      "execution_count": null,
      "outputs": [
        {
          "output_type": "execute_result",
          "data": {
            "text/html": [
              "<div>\n",
              "<style scoped>\n",
              "    .dataframe tbody tr th:only-of-type {\n",
              "        vertical-align: middle;\n",
              "    }\n",
              "\n",
              "    .dataframe tbody tr th {\n",
              "        vertical-align: top;\n",
              "    }\n",
              "\n",
              "    .dataframe thead th {\n",
              "        text-align: right;\n",
              "    }\n",
              "</style>\n",
              "<table border=\"1\" class=\"dataframe\">\n",
              "  <thead>\n",
              "    <tr style=\"text-align: right;\">\n",
              "      <th></th>\n",
              "      <th>ID</th>\n",
              "      <th>N</th>\n",
              "      <th>D</th>\n",
              "      <th>G</th>\n",
              "      <th>C</th>\n",
              "      <th>A</th>\n",
              "      <th>H</th>\n",
              "      <th>M</th>\n",
              "      <th>O</th>\n",
              "    </tr>\n",
              "  </thead>\n",
              "  <tbody>\n",
              "    <tr>\n",
              "      <th>0</th>\n",
              "      <td>937</td>\n",
              "      <td>0.404540</td>\n",
              "      <td>0.448712</td>\n",
              "      <td>0.166569</td>\n",
              "      <td>0.156928</td>\n",
              "      <td>0.140467</td>\n",
              "      <td>0.210483</td>\n",
              "      <td>0.026884</td>\n",
              "      <td>0.400197</td>\n",
              "    </tr>\n",
              "    <tr>\n",
              "      <th>1</th>\n",
              "      <td>967</td>\n",
              "      <td>0.170219</td>\n",
              "      <td>0.729861</td>\n",
              "      <td>0.096241</td>\n",
              "      <td>0.067550</td>\n",
              "      <td>0.227045</td>\n",
              "      <td>0.325970</td>\n",
              "      <td>0.047197</td>\n",
              "      <td>0.356050</td>\n",
              "    </tr>\n",
              "    <tr>\n",
              "      <th>2</th>\n",
              "      <td>988</td>\n",
              "      <td>0.343683</td>\n",
              "      <td>0.478949</td>\n",
              "      <td>0.116035</td>\n",
              "      <td>0.242462</td>\n",
              "      <td>0.169859</td>\n",
              "      <td>0.187574</td>\n",
              "      <td>0.060665</td>\n",
              "      <td>0.417124</td>\n",
              "    </tr>\n",
              "    <tr>\n",
              "      <th>3</th>\n",
              "      <td>995</td>\n",
              "      <td>0.481523</td>\n",
              "      <td>0.518166</td>\n",
              "      <td>0.075349</td>\n",
              "      <td>0.084745</td>\n",
              "      <td>0.100590</td>\n",
              "      <td>0.149359</td>\n",
              "      <td>0.045543</td>\n",
              "      <td>0.391051</td>\n",
              "    </tr>\n",
              "    <tr>\n",
              "      <th>4</th>\n",
              "      <td>1000</td>\n",
              "      <td>0.492668</td>\n",
              "      <td>0.432084</td>\n",
              "      <td>0.181925</td>\n",
              "      <td>0.088703</td>\n",
              "      <td>0.125234</td>\n",
              "      <td>0.163709</td>\n",
              "      <td>0.035120</td>\n",
              "      <td>0.353531</td>\n",
              "    </tr>\n",
              "  </tbody>\n",
              "</table>\n",
              "</div>"
            ],
            "text/plain": [
              "     ID         N         D         G  ...         A         H         M         O\n",
              "0   937  0.404540  0.448712  0.166569  ...  0.140467  0.210483  0.026884  0.400197\n",
              "1   967  0.170219  0.729861  0.096241  ...  0.227045  0.325970  0.047197  0.356050\n",
              "2   988  0.343683  0.478949  0.116035  ...  0.169859  0.187574  0.060665  0.417124\n",
              "3   995  0.481523  0.518166  0.075349  ...  0.100590  0.149359  0.045543  0.391051\n",
              "4  1000  0.492668  0.432084  0.181925  ...  0.125234  0.163709  0.035120  0.353531\n",
              "\n",
              "[5 rows x 9 columns]"
            ]
          },
          "metadata": {
            "tags": []
          },
          "execution_count": 50
        }
      ]
    },
    {
      "cell_type": "code",
      "metadata": {
        "id": "spGpr4_X7fRb"
      },
      "source": [
        "test.to_csv('/content/TAC_ODIR.csv',index=False)"
      ],
      "execution_count": null,
      "outputs": []
    },
    {
      "cell_type": "code",
      "metadata": {
        "id": "QblbLh26tm9g"
      },
      "source": [
        ""
      ],
      "execution_count": null,
      "outputs": []
    }
  ]
}