{
  "nbformat": 4,
  "nbformat_minor": 0,
  "metadata": {
    "colab": {
      "name": "ghina_mam.ipynb",
      "provenance": [],
      "collapsed_sections": [
        "zznNv-qKwpV-"
      ],
      "machine_shape": "hm"
    },
    "kernelspec": {
      "name": "python3",
      "display_name": "Python 3"
    },
    "accelerator": "GPU"
  },
  "cells": [
    {
      "cell_type": "markdown",
      "metadata": {
        "id": "2mnKJ_EpENGn",
        "colab_type": "text"
      },
      "source": [
        "#TODO\n",
        "*cross check the implementation by some one expert"
      ]
    },
    {
      "cell_type": "markdown",
      "metadata": {
        "id": "IQ5RT2Rm99hw",
        "colab_type": "text"
      },
      "source": [
        "#heling material\n",
        "https://github.com/ivashnyov/ODIR/issues/1  \n",
        "https://github.com/nnnnew/ODIR  \n",
        "https://github.com/DecentMakeover/odir_winningsubmission"
      ]
    },
    {
      "cell_type": "markdown",
      "metadata": {
        "id": "YZl-KcWFwfVz",
        "colab_type": "text"
      },
      "source": [
        "# read data from directory"
      ]
    },
    {
      "cell_type": "code",
      "metadata": {
        "id": "Asm-YEP0po4m",
        "colab_type": "code",
        "colab": {
          "base_uri": "https://localhost:8080/",
          "height": 124
        },
        "outputId": "af4743aa-9cd8-41a2-b028-86c2efe16a0a"
      },
      "source": [
        "#connect drive with colab notebook\n",
        "from google.colab import drive\n",
        "drive.mount('/content/drive',force_remount=True)"
      ],
      "execution_count": 1,
      "outputs": [
        {
          "output_type": "stream",
          "text": [
            "Go to this URL in a browser: https://accounts.google.com/o/oauth2/auth?client_id=947318989803-6bn6qk8qdgf4n4g3pfee6491hc0brc4i.apps.googleusercontent.com&redirect_uri=urn%3aietf%3awg%3aoauth%3a2.0%3aoob&response_type=code&scope=email%20https%3a%2f%2fwww.googleapis.com%2fauth%2fdocs.test%20https%3a%2f%2fwww.googleapis.com%2fauth%2fdrive%20https%3a%2f%2fwww.googleapis.com%2fauth%2fdrive.photos.readonly%20https%3a%2f%2fwww.googleapis.com%2fauth%2fpeopleapi.readonly\n",
            "\n",
            "Enter your authorization code:\n",
            "··········\n",
            "Mounted at /content/drive\n"
          ],
          "name": "stdout"
        }
      ]
    },
    {
      "cell_type": "code",
      "metadata": {
        "id": "OD0ZQpnDqgEV",
        "colab_type": "code",
        "outputId": "17b5bbf6-583e-4c36-f2d4-40422ff5f8dc",
        "colab": {
          "base_uri": "https://localhost:8080/",
          "height": 34
        }
      },
      "source": [
        "#show content in working directory\n",
        "ls"
      ],
      "execution_count": 2,
      "outputs": [
        {
          "output_type": "stream",
          "text": [
            "\u001b[0m\u001b[01;34mdrive\u001b[0m/  \u001b[01;34msample_data\u001b[0m/\n"
          ],
          "name": "stdout"
        }
      ]
    },
    {
      "cell_type": "code",
      "metadata": {
        "id": "lJHkkX1Aquw_",
        "colab_type": "code",
        "colab": {}
      },
      "source": [
        "#cd drive/My\\ Drive/ghina/thesis"
      ],
      "execution_count": 0,
      "outputs": []
    },
    {
      "cell_type": "markdown",
      "metadata": {
        "id": "9SOs5EzwECgn",
        "colab_type": "text"
      },
      "source": [
        ""
      ]
    },
    {
      "cell_type": "markdown",
      "metadata": {
        "id": "W6Sd_mP8wjMa",
        "colab_type": "text"
      },
      "source": [
        "#extract data"
      ]
    },
    {
      "cell_type": "code",
      "metadata": {
        "id": "oDi8Ai-4q8Ea",
        "colab_type": "code",
        "colab": {}
      },
      "source": [
        "import pandas as pd"
      ],
      "execution_count": 0,
      "outputs": []
    },
    {
      "cell_type": "code",
      "metadata": {
        "id": "Sputu2RuriPf",
        "colab_type": "code",
        "outputId": "3cb6f0bd-34c1-495a-96fa-78a2e41a1c59",
        "colab": {
          "base_uri": "https://localhost:8080/",
          "height": 314
        }
      },
      "source": [
        "#following are libraries to unpack 7z file\n",
        "!pip install patool \n",
        "!pip install pyunpack\n",
        "from pyunpack import Archive"
      ],
      "execution_count": 5,
      "outputs": [
        {
          "output_type": "stream",
          "text": [
            "Collecting patool\n",
            "\u001b[?25l  Downloading https://files.pythonhosted.org/packages/43/94/52243ddff508780dd2d8110964320ab4851134a55ab102285b46e740f76a/patool-1.12-py2.py3-none-any.whl (77kB)\n",
            "\r\u001b[K     |████▎                           | 10kB 27.6MB/s eta 0:00:01\r\u001b[K     |████████▌                       | 20kB 3.0MB/s eta 0:00:01\r\u001b[K     |████████████▊                   | 30kB 4.3MB/s eta 0:00:01\r\u001b[K     |█████████████████               | 40kB 2.9MB/s eta 0:00:01\r\u001b[K     |█████████████████████▏          | 51kB 3.5MB/s eta 0:00:01\r\u001b[K     |█████████████████████████▍      | 61kB 4.2MB/s eta 0:00:01\r\u001b[K     |█████████████████████████████▋  | 71kB 4.8MB/s eta 0:00:01\r\u001b[K     |████████████████████████████████| 81kB 3.9MB/s \n",
            "\u001b[?25hInstalling collected packages: patool\n",
            "Successfully installed patool-1.12\n",
            "Collecting pyunpack\n",
            "  Downloading https://files.pythonhosted.org/packages/79/dc/44cd41fb99d184ae7c2eac439a52ca624d5ece62b0302c3437fcc4ce3b58/pyunpack-0.1.2.tar.gz\n",
            "Collecting easyprocess\n",
            "  Downloading https://files.pythonhosted.org/packages/fa/29/40040d1d64a224a5e44df9572794a66494618ffe5c77199214aeceedb8a7/EasyProcess-0.2.7-py2.py3-none-any.whl\n",
            "Building wheels for collected packages: pyunpack\n",
            "  Building wheel for pyunpack (setup.py) ... \u001b[?25l\u001b[?25hdone\n",
            "  Created wheel for pyunpack: filename=pyunpack-0.1.2-cp36-none-any.whl size=5162 sha256=a86cee047ed2f9e68c2f1c124b2c83f89d7bbba85973a0cd43294bf3d757d441\n",
            "  Stored in directory: /root/.cache/pip/wheels/af/44/08/60613970881e542c0baad1f2dea5ed8e6716bc573f49197b7e\n",
            "Successfully built pyunpack\n",
            "Installing collected packages: easyprocess, pyunpack\n",
            "Successfully installed easyprocess-0.2.7 pyunpack-0.1.2\n"
          ],
          "name": "stdout"
        }
      ]
    },
    {
      "cell_type": "code",
      "metadata": {
        "id": "m539rnRrsJjC",
        "colab_type": "code",
        "colab": {}
      },
      "source": [
        "#create a folder name as data\n",
        "!mkdir data"
      ],
      "execution_count": 0,
      "outputs": []
    },
    {
      "cell_type": "code",
      "metadata": {
        "id": "IoY7pdqjsTP1",
        "colab_type": "code",
        "colab": {}
      },
      "source": [
        "#path where our data is saved\n",
        "path='/content/drive/My Drive/ghina/thesis/'"
      ],
      "execution_count": 0,
      "outputs": []
    },
    {
      "cell_type": "code",
      "metadata": {
        "id": "YoWq8SBmr2Ar",
        "colab_type": "code",
        "colab": {}
      },
      "source": [
        "#extract the 7z file in data folder we created above\n",
        "#this not only extract the data but move it from drive to colab for efficinet processing\n",
        "#it will take some time\n",
        "Archive(path+'ODIR-5K_Training_Images.7z').extractall('data')"
      ],
      "execution_count": 0,
      "outputs": []
    },
    {
      "cell_type": "code",
      "metadata": {
        "id": "snDyZSiRrFkW",
        "colab_type": "code",
        "colab": {}
      },
      "source": [
        "#read the annottion file\n",
        "annotation=pd.read_excel(path+'ODIR-5K_Training_Annotations(Updated)_V2.xlsx')"
      ],
      "execution_count": 0,
      "outputs": []
    },
    {
      "cell_type": "code",
      "metadata": {
        "id": "3s4X-GkC0IpA",
        "colab_type": "code",
        "colab": {}
      },
      "source": [
        "#normal (N), diabetes (D), glaucoma (G), cataract (C), AMD (A), hypertension (H), myopia (M) and other diseases/abnormalities (O) "
      ],
      "execution_count": 0,
      "outputs": []
    },
    {
      "cell_type": "code",
      "metadata": {
        "id": "ex4R_3KcrJ5a",
        "colab_type": "code",
        "outputId": "905e86ba-7c8a-4946-c8de-f189b3500a9e",
        "colab": {
          "base_uri": "https://localhost:8080/",
          "height": 400
        }
      },
      "source": [
        "#print first 5 rows of annotation file\n",
        "annotation.head(10)"
      ],
      "execution_count": 11,
      "outputs": [
        {
          "output_type": "execute_result",
          "data": {
            "text/html": [
              "<div>\n",
              "<style scoped>\n",
              "    .dataframe tbody tr th:only-of-type {\n",
              "        vertical-align: middle;\n",
              "    }\n",
              "\n",
              "    .dataframe tbody tr th {\n",
              "        vertical-align: top;\n",
              "    }\n",
              "\n",
              "    .dataframe thead th {\n",
              "        text-align: right;\n",
              "    }\n",
              "</style>\n",
              "<table border=\"1\" class=\"dataframe\">\n",
              "  <thead>\n",
              "    <tr style=\"text-align: right;\">\n",
              "      <th></th>\n",
              "      <th>ID</th>\n",
              "      <th>Patient Age</th>\n",
              "      <th>Patient Sex</th>\n",
              "      <th>Left-Fundus</th>\n",
              "      <th>Right-Fundus</th>\n",
              "      <th>Left-Diagnostic Keywords</th>\n",
              "      <th>Right-Diagnostic Keywords</th>\n",
              "      <th>N</th>\n",
              "      <th>D</th>\n",
              "      <th>G</th>\n",
              "      <th>C</th>\n",
              "      <th>A</th>\n",
              "      <th>H</th>\n",
              "      <th>M</th>\n",
              "      <th>O</th>\n",
              "    </tr>\n",
              "  </thead>\n",
              "  <tbody>\n",
              "    <tr>\n",
              "      <th>0</th>\n",
              "      <td>0</td>\n",
              "      <td>69</td>\n",
              "      <td>Female</td>\n",
              "      <td>0_left.jpg</td>\n",
              "      <td>0_right.jpg</td>\n",
              "      <td>cataract</td>\n",
              "      <td>normal fundus</td>\n",
              "      <td>0</td>\n",
              "      <td>0</td>\n",
              "      <td>0</td>\n",
              "      <td>1</td>\n",
              "      <td>0</td>\n",
              "      <td>0</td>\n",
              "      <td>0</td>\n",
              "      <td>0</td>\n",
              "    </tr>\n",
              "    <tr>\n",
              "      <th>1</th>\n",
              "      <td>1</td>\n",
              "      <td>57</td>\n",
              "      <td>Male</td>\n",
              "      <td>1_left.jpg</td>\n",
              "      <td>1_right.jpg</td>\n",
              "      <td>normal fundus</td>\n",
              "      <td>normal fundus</td>\n",
              "      <td>1</td>\n",
              "      <td>0</td>\n",
              "      <td>0</td>\n",
              "      <td>0</td>\n",
              "      <td>0</td>\n",
              "      <td>0</td>\n",
              "      <td>0</td>\n",
              "      <td>0</td>\n",
              "    </tr>\n",
              "    <tr>\n",
              "      <th>2</th>\n",
              "      <td>2</td>\n",
              "      <td>42</td>\n",
              "      <td>Male</td>\n",
              "      <td>2_left.jpg</td>\n",
              "      <td>2_right.jpg</td>\n",
              "      <td>laser spot，moderate non proliferative retinopathy</td>\n",
              "      <td>moderate non proliferative retinopathy</td>\n",
              "      <td>0</td>\n",
              "      <td>1</td>\n",
              "      <td>0</td>\n",
              "      <td>0</td>\n",
              "      <td>0</td>\n",
              "      <td>0</td>\n",
              "      <td>0</td>\n",
              "      <td>1</td>\n",
              "    </tr>\n",
              "    <tr>\n",
              "      <th>3</th>\n",
              "      <td>3</td>\n",
              "      <td>66</td>\n",
              "      <td>Male</td>\n",
              "      <td>3_left.jpg</td>\n",
              "      <td>3_right.jpg</td>\n",
              "      <td>normal fundus</td>\n",
              "      <td>branch retinal artery occlusion</td>\n",
              "      <td>0</td>\n",
              "      <td>0</td>\n",
              "      <td>0</td>\n",
              "      <td>0</td>\n",
              "      <td>0</td>\n",
              "      <td>0</td>\n",
              "      <td>0</td>\n",
              "      <td>1</td>\n",
              "    </tr>\n",
              "    <tr>\n",
              "      <th>4</th>\n",
              "      <td>4</td>\n",
              "      <td>53</td>\n",
              "      <td>Male</td>\n",
              "      <td>4_left.jpg</td>\n",
              "      <td>4_right.jpg</td>\n",
              "      <td>macular epiretinal membrane</td>\n",
              "      <td>mild nonproliferative retinopathy</td>\n",
              "      <td>0</td>\n",
              "      <td>1</td>\n",
              "      <td>0</td>\n",
              "      <td>0</td>\n",
              "      <td>0</td>\n",
              "      <td>0</td>\n",
              "      <td>0</td>\n",
              "      <td>1</td>\n",
              "    </tr>\n",
              "    <tr>\n",
              "      <th>5</th>\n",
              "      <td>5</td>\n",
              "      <td>50</td>\n",
              "      <td>Female</td>\n",
              "      <td>5_left.jpg</td>\n",
              "      <td>5_right.jpg</td>\n",
              "      <td>moderate non proliferative retinopathy</td>\n",
              "      <td>moderate non proliferative retinopathy</td>\n",
              "      <td>0</td>\n",
              "      <td>1</td>\n",
              "      <td>0</td>\n",
              "      <td>0</td>\n",
              "      <td>0</td>\n",
              "      <td>0</td>\n",
              "      <td>0</td>\n",
              "      <td>0</td>\n",
              "    </tr>\n",
              "    <tr>\n",
              "      <th>6</th>\n",
              "      <td>6</td>\n",
              "      <td>60</td>\n",
              "      <td>Male</td>\n",
              "      <td>6_left.jpg</td>\n",
              "      <td>6_right.jpg</td>\n",
              "      <td>macular epiretinal membrane</td>\n",
              "      <td>moderate non proliferative retinopathy，epireti...</td>\n",
              "      <td>0</td>\n",
              "      <td>1</td>\n",
              "      <td>0</td>\n",
              "      <td>0</td>\n",
              "      <td>0</td>\n",
              "      <td>0</td>\n",
              "      <td>0</td>\n",
              "      <td>1</td>\n",
              "    </tr>\n",
              "    <tr>\n",
              "      <th>7</th>\n",
              "      <td>7</td>\n",
              "      <td>60</td>\n",
              "      <td>Female</td>\n",
              "      <td>7_left.jpg</td>\n",
              "      <td>7_right.jpg</td>\n",
              "      <td>drusen</td>\n",
              "      <td>mild nonproliferative retinopathy</td>\n",
              "      <td>0</td>\n",
              "      <td>1</td>\n",
              "      <td>0</td>\n",
              "      <td>0</td>\n",
              "      <td>0</td>\n",
              "      <td>0</td>\n",
              "      <td>0</td>\n",
              "      <td>1</td>\n",
              "    </tr>\n",
              "    <tr>\n",
              "      <th>8</th>\n",
              "      <td>8</td>\n",
              "      <td>59</td>\n",
              "      <td>Male</td>\n",
              "      <td>8_left.jpg</td>\n",
              "      <td>8_right.jpg</td>\n",
              "      <td>normal fundus</td>\n",
              "      <td>normal fundus</td>\n",
              "      <td>1</td>\n",
              "      <td>0</td>\n",
              "      <td>0</td>\n",
              "      <td>0</td>\n",
              "      <td>0</td>\n",
              "      <td>0</td>\n",
              "      <td>0</td>\n",
              "      <td>0</td>\n",
              "    </tr>\n",
              "    <tr>\n",
              "      <th>9</th>\n",
              "      <td>9</td>\n",
              "      <td>54</td>\n",
              "      <td>Male</td>\n",
              "      <td>9_left.jpg</td>\n",
              "      <td>9_right.jpg</td>\n",
              "      <td>normal fundus</td>\n",
              "      <td>vitreous degeneration</td>\n",
              "      <td>0</td>\n",
              "      <td>0</td>\n",
              "      <td>0</td>\n",
              "      <td>0</td>\n",
              "      <td>0</td>\n",
              "      <td>0</td>\n",
              "      <td>0</td>\n",
              "      <td>1</td>\n",
              "    </tr>\n",
              "  </tbody>\n",
              "</table>\n",
              "</div>"
            ],
            "text/plain": [
              "   ID  Patient Age Patient Sex Left-Fundus Right-Fundus  ...  C  A  H  M  O\n",
              "0   0           69      Female  0_left.jpg  0_right.jpg  ...  1  0  0  0  0\n",
              "1   1           57        Male  1_left.jpg  1_right.jpg  ...  0  0  0  0  0\n",
              "2   2           42        Male  2_left.jpg  2_right.jpg  ...  0  0  0  0  1\n",
              "3   3           66        Male  3_left.jpg  3_right.jpg  ...  0  0  0  0  1\n",
              "4   4           53        Male  4_left.jpg  4_right.jpg  ...  0  0  0  0  1\n",
              "5   5           50      Female  5_left.jpg  5_right.jpg  ...  0  0  0  0  0\n",
              "6   6           60        Male  6_left.jpg  6_right.jpg  ...  0  0  0  0  1\n",
              "7   7           60      Female  7_left.jpg  7_right.jpg  ...  0  0  0  0  1\n",
              "8   8           59        Male  8_left.jpg  8_right.jpg  ...  0  0  0  0  0\n",
              "9   9           54        Male  9_left.jpg  9_right.jpg  ...  0  0  0  0  1\n",
              "\n",
              "[10 rows x 15 columns]"
            ]
          },
          "metadata": {
            "tags": []
          },
          "execution_count": 11
        }
      ]
    },
    {
      "cell_type": "code",
      "metadata": {
        "id": "pc65ypIVweUR",
        "colab_type": "code",
        "colab": {
          "base_uri": "https://localhost:8080/",
          "height": 553
        },
        "outputId": "2c0f3984-b3cf-4871-acaa-5decbf674664"
      },
      "source": [
        "annotation['Left-Diagnostic Keywords'].value_counts().head(30)"
      ],
      "execution_count": 12,
      "outputs": [
        {
          "output_type": "execute_result",
          "data": {
            "text/plain": [
              "normal fundus                                                      1433\n",
              "moderate non proliferative retinopathy                              366\n",
              "mild nonproliferative retinopathy                                   220\n",
              "cataract                                                            135\n",
              "pathological myopia                                                 111\n",
              "lens dust，normal fundus                                             110\n",
              "glaucoma                                                            104\n",
              "dry age-related macular degeneration                                 93\n",
              "severe nonproliferative retinopathy                                  70\n",
              "drusen                                                               66\n",
              "epiretinal membrane                                                  54\n",
              "hypertensive retinopathy                                             53\n",
              "macular epiretinal membrane                                          49\n",
              "normal fundus，lens dust                                              34\n",
              "myelinated nerve fibers                                              30\n",
              "refractive media opacity                                             27\n",
              "vitreous degeneration                                                26\n",
              "wet age-related macular degeneration                                 22\n",
              "laser spot，moderate non proliferative retinopathy                    17\n",
              "moderate non proliferative retinopathy，hypertensive retinopathy      16\n",
              "moderate non proliferative retinopathy，epiretinal membrane           13\n",
              "spotted membranous change                                            12\n",
              "branch retinal vein occlusion                                        12\n",
              "suspected glaucoma                                                   11\n",
              "moderate non proliferative retinopathy，laser spot                    11\n",
              "diabetic retinopathy                                                 10\n",
              "low image quality                                                     8\n",
              "chorioretinal atrophy                                                 8\n",
              "cataract，lens dust                                                    8\n",
              "tessellated fundus，peripapillary atrophy                              7\n",
              "Name: Left-Diagnostic Keywords, dtype: int64"
            ]
          },
          "metadata": {
            "tags": []
          },
          "execution_count": 12
        }
      ]
    },
    {
      "cell_type": "code",
      "metadata": {
        "id": "es_by2nkw1J0",
        "colab_type": "code",
        "colab": {
          "base_uri": "https://localhost:8080/",
          "height": 553
        },
        "outputId": "509db679-9902-4491-efc0-0588c2bf965c"
      },
      "source": [
        "annotation['Right-Diagnostic Keywords'].value_counts().head(30)"
      ],
      "execution_count": 13,
      "outputs": [
        {
          "output_type": "execute_result",
          "data": {
            "text/plain": [
              "normal fundus                                                      1383\n",
              "moderate non proliferative retinopathy                              379\n",
              "mild nonproliferative retinopathy                                   240\n",
              "cataract                                                            127\n",
              "pathological myopia                                                 116\n",
              "lens dust，normal fundus                                             112\n",
              "dry age-related macular degeneration                                103\n",
              "glaucoma                                                             96\n",
              "severe nonproliferative retinopathy                                  74\n",
              "drusen                                                               72\n",
              "macular epiretinal membrane                                          71\n",
              "epiretinal membrane                                                  55\n",
              "hypertensive retinopathy                                             51\n",
              "myelinated nerve fibers                                              34\n",
              "refractive media opacity                                             27\n",
              "vitreous degeneration                                                26\n",
              "normal fundus，lens dust                                              21\n",
              "wet age-related macular degeneration                                 19\n",
              "maculopathy                                                          16\n",
              "moderate non proliferative retinopathy，hypertensive retinopathy      15\n",
              "moderate non proliferative retinopathy，laser spot                    15\n",
              "moderate non proliferative retinopathy，epiretinal membrane           12\n",
              "low image quality                                                    12\n",
              "laser spot，moderate non proliferative retinopathy                    12\n",
              "retinal pigmentation                                                 11\n",
              "spotted membranous change                                            10\n",
              "macular epiretinal membrane，mild nonproliferative retinopathy         9\n",
              "chorioretinal atrophy                                                 9\n",
              "proliferative diabetic retinopathy                                    9\n",
              "suspected glaucoma                                                    7\n",
              "Name: Right-Diagnostic Keywords, dtype: int64"
            ]
          },
          "metadata": {
            "tags": []
          },
          "execution_count": 13
        }
      ]
    },
    {
      "cell_type": "markdown",
      "metadata": {
        "id": "FLSohD5wwmSO",
        "colab_type": "text"
      },
      "source": [
        "#read single image"
      ]
    },
    {
      "cell_type": "code",
      "metadata": {
        "id": "y-wSYthLrLgs",
        "colab_type": "code",
        "outputId": "a6999af1-9e02-4249-dcf3-cbf954f9431a",
        "colab": {
          "base_uri": "https://localhost:8080/",
          "height": 286
        }
      },
      "source": [
        "#read a single image from data and display it\n",
        "import cv2 #for reading images\n",
        "import matplotlib.pyplot as plt # for displaying images\n",
        "\n",
        "image=cv2.imread('data/ODIR-5K_Training_Dataset/0_left.jpg')\n",
        "#cv2 read image in BGR format, and plt displaying image in RGB format. SO we need to convert BGR2RGB\n",
        "image=cv2.cvtColor(image, cv2.COLOR_RGB2BGR) \n",
        "plt.imshow(image) #display image\n"
      ],
      "execution_count": 14,
      "outputs": [
        {
          "output_type": "execute_result",
          "data": {
            "text/plain": [
              "<matplotlib.image.AxesImage at 0x7ff99615af28>"
            ]
          },
          "metadata": {
            "tags": []
          },
          "execution_count": 14
        },
        {
          "output_type": "display_data",
          "data": {
            "image/png": "[encoded data removed]",
            "text/plain": [
              "<Figure size 432x288 with 1 Axes>"
            ]
          },
          "metadata": {
            "tags": []
          }
        }
      ]
    },
    {
      "cell_type": "code",
      "metadata": {
        "id": "j-uHE_iguJ6v",
        "colab_type": "code",
        "outputId": "d26b6806-8cbe-4dcd-a868-14f79fa415f6",
        "colab": {
          "base_uri": "https://localhost:8080/",
          "height": 34
        }
      },
      "source": [
        "#now read all image in left fundus column\n",
        "for img_file,disease in zip(annotation['Left-Fundus'],annotation['Left-Diagnostic Keywords'])\t:\n",
        "  print(img_file,disease)\n",
        "  break"
      ],
      "execution_count": 15,
      "outputs": [
        {
          "output_type": "stream",
          "text": [
            "0_left.jpg cataract\n"
          ],
          "name": "stdout"
        }
      ]
    },
    {
      "cell_type": "markdown",
      "metadata": {
        "id": "zznNv-qKwpV-",
        "colab_type": "text"
      },
      "source": [
        "#read all images"
      ]
    },
    {
      "cell_type": "code",
      "metadata": {
        "id": "kTuGxq9Kumnn",
        "colab_type": "code",
        "colab": {}
      },
      "source": [
        "#create  list where we can store image , \n",
        "#this will take some time\n",
        "left_images=[]\n",
        "for img_file in (annotation['Left-Fundus'])\t:\n",
        "  image=cv2.imread('data/ODIR-5K_Training_Dataset/{}'.format(img_file))#read image\n",
        "  image=cv2.cvtColor(image, cv2.COLOR_RGB2BGR) #change BGR to RGB for sake of plotting\n",
        "  image=cv2.resize(image,(224,224)) #resize image\n",
        "  left_images.append(image)#append image in above create list of images\n",
        "  "
      ],
      "execution_count": 0,
      "outputs": []
    },
    {
      "cell_type": "code",
      "metadata": {
        "id": "th01vQ1SAoQs",
        "colab_type": "code",
        "colab": {}
      },
      "source": [
        "#create  list where we can store image , \n",
        "#this will take some time\n",
        "right_images=[]\n",
        "for img_file in (annotation['Right-Fundus'])\t:\n",
        "  image=cv2.imread('data/ODIR-5K_Training_Dataset/{}'.format(img_file))#read image\n",
        "  image=cv2.cvtColor(image, cv2.COLOR_RGB2BGR) #change BGR to RGB for sake of plotting\n",
        "  image=cv2.resize(image,(224,224)) #resize image\n",
        "  right_images.append(image)#append image in above create list of images\n",
        "  "
      ],
      "execution_count": 0,
      "outputs": []
    },
    {
      "cell_type": "code",
      "metadata": {
        "id": "-pRPVYPcvkjK",
        "colab_type": "code",
        "colab": {}
      },
      "source": [
        "labels=annotation.iloc[:,-8::]"
      ],
      "execution_count": 0,
      "outputs": []
    },
    {
      "cell_type": "code",
      "metadata": {
        "id": "8narze9U0l80",
        "colab_type": "code",
        "outputId": "c10cace8-c925-4a2d-a157-7eeb20949b7b",
        "colab": {
          "base_uri": "https://localhost:8080/",
          "height": 198
        }
      },
      "source": [
        "labels.head()"
      ],
      "execution_count": 19,
      "outputs": [
        {
          "output_type": "execute_result",
          "data": {
            "text/html": [
              "<div>\n",
              "<style scoped>\n",
              "    .dataframe tbody tr th:only-of-type {\n",
              "        vertical-align: middle;\n",
              "    }\n",
              "\n",
              "    .dataframe tbody tr th {\n",
              "        vertical-align: top;\n",
              "    }\n",
              "\n",
              "    .dataframe thead th {\n",
              "        text-align: right;\n",
              "    }\n",
              "</style>\n",
              "<table border=\"1\" class=\"dataframe\">\n",
              "  <thead>\n",
              "    <tr style=\"text-align: right;\">\n",
              "      <th></th>\n",
              "      <th>N</th>\n",
              "      <th>D</th>\n",
              "      <th>G</th>\n",
              "      <th>C</th>\n",
              "      <th>A</th>\n",
              "      <th>H</th>\n",
              "      <th>M</th>\n",
              "      <th>O</th>\n",
              "    </tr>\n",
              "  </thead>\n",
              "  <tbody>\n",
              "    <tr>\n",
              "      <th>0</th>\n",
              "      <td>0</td>\n",
              "      <td>0</td>\n",
              "      <td>0</td>\n",
              "      <td>1</td>\n",
              "      <td>0</td>\n",
              "      <td>0</td>\n",
              "      <td>0</td>\n",
              "      <td>0</td>\n",
              "    </tr>\n",
              "    <tr>\n",
              "      <th>1</th>\n",
              "      <td>1</td>\n",
              "      <td>0</td>\n",
              "      <td>0</td>\n",
              "      <td>0</td>\n",
              "      <td>0</td>\n",
              "      <td>0</td>\n",
              "      <td>0</td>\n",
              "      <td>0</td>\n",
              "    </tr>\n",
              "    <tr>\n",
              "      <th>2</th>\n",
              "      <td>0</td>\n",
              "      <td>1</td>\n",
              "      <td>0</td>\n",
              "      <td>0</td>\n",
              "      <td>0</td>\n",
              "      <td>0</td>\n",
              "      <td>0</td>\n",
              "      <td>1</td>\n",
              "    </tr>\n",
              "    <tr>\n",
              "      <th>3</th>\n",
              "      <td>0</td>\n",
              "      <td>0</td>\n",
              "      <td>0</td>\n",
              "      <td>0</td>\n",
              "      <td>0</td>\n",
              "      <td>0</td>\n",
              "      <td>0</td>\n",
              "      <td>1</td>\n",
              "    </tr>\n",
              "    <tr>\n",
              "      <th>4</th>\n",
              "      <td>0</td>\n",
              "      <td>1</td>\n",
              "      <td>0</td>\n",
              "      <td>0</td>\n",
              "      <td>0</td>\n",
              "      <td>0</td>\n",
              "      <td>0</td>\n",
              "      <td>1</td>\n",
              "    </tr>\n",
              "  </tbody>\n",
              "</table>\n",
              "</div>"
            ],
            "text/plain": [
              "   N  D  G  C  A  H  M  O\n",
              "0  0  0  0  1  0  0  0  0\n",
              "1  1  0  0  0  0  0  0  0\n",
              "2  0  1  0  0  0  0  0  1\n",
              "3  0  0  0  0  0  0  0  1\n",
              "4  0  1  0  0  0  0  0  1"
            ]
          },
          "metadata": {
            "tags": []
          },
          "execution_count": 19
        }
      ]
    },
    {
      "cell_type": "code",
      "metadata": {
        "id": "Nd8DJfsHxMMs",
        "colab_type": "code",
        "colab": {}
      },
      "source": [
        "#conver the images list to array so we can feed it to neural net\n",
        "import numpy as np\n",
        "XL=np.array(left_images)\n",
        "XR=np.array(right_images)\n",
        "y=np.array(labels)"
      ],
      "execution_count": 0,
      "outputs": []
    },
    {
      "cell_type": "code",
      "metadata": {
        "id": "IMyl1CErxZvE",
        "colab_type": "code",
        "outputId": "88b33c1e-0df2-4f23-a77f-026fb30cf41b",
        "colab": {
          "base_uri": "https://localhost:8080/",
          "height": 34
        }
      },
      "source": [
        "XL.shape,XR.shape,y.shape"
      ],
      "execution_count": 21,
      "outputs": [
        {
          "output_type": "execute_result",
          "data": {
            "text/plain": [
              "((3500, 224, 224, 3), (3500, 224, 224, 3), (3500, 8))"
            ]
          },
          "metadata": {
            "tags": []
          },
          "execution_count": 21
        }
      ]
    },
    {
      "cell_type": "code",
      "metadata": {
        "id": "MkOO_7cPySEh",
        "colab_type": "code",
        "colab": {}
      },
      "source": [
        "# #save variables in drive, so next we can load them directly\n",
        "# np.save(path+'X.npy',X)\n",
        "# np.save(path+'y.npy',y)"
      ],
      "execution_count": 0,
      "outputs": []
    },
    {
      "cell_type": "code",
      "metadata": {
        "id": "HnTwKzBwN7gJ",
        "colab_type": "code",
        "colab": {}
      },
      "source": [
        "#split data\n",
        "from sklearn.model_selection import train_test_split\n",
        "XL_train, XL_val, yL_train, yL_val = train_test_split(XL, y, test_size=0.33, random_state=42)\n",
        "XR_train, XR_val, yR_train, yR_val = train_test_split(XR, y, test_size=0.33, random_state=42)"
      ],
      "execution_count": 0,
      "outputs": []
    },
    {
      "cell_type": "code",
      "metadata": {
        "id": "mF1XjP9JPTdA",
        "colab_type": "code",
        "colab": {
          "base_uri": "https://localhost:8080/",
          "height": 34
        },
        "outputId": "f94b6210-6213-4d38-b3ca-063a234f348b"
      },
      "source": [
        "sum(XL_val==XR_val).any()"
      ],
      "execution_count": 24,
      "outputs": [
        {
          "output_type": "execute_result",
          "data": {
            "text/plain": [
              "True"
            ]
          },
          "metadata": {
            "tags": []
          },
          "execution_count": 24
        }
      ]
    },
    {
      "cell_type": "markdown",
      "metadata": {
        "id": "7oEr38G4NMqp",
        "colab_type": "text"
      },
      "source": [
        "#Date generator"
      ]
    },
    {
      "cell_type": "code",
      "metadata": {
        "id": "CUaHXkuzQ2pd",
        "colab_type": "code",
        "colab": {}
      },
      "source": [
        "BATCH_SIZE=32"
      ],
      "execution_count": 0,
      "outputs": []
    },
    {
      "cell_type": "code",
      "metadata": {
        "id": "bg_nzztvNKxR",
        "colab_type": "code",
        "colab": {
          "base_uri": "https://localhost:8080/",
          "height": 80
        },
        "outputId": "fd0f7cbf-4798-4bd9-855e-51f24ff3f3c7"
      },
      "source": [
        "#data generator\n",
        "from keras.preprocessing.image import ImageDataGenerator\n",
        "train_datagen = ImageDataGenerator(rotation_range=30, # rotate the image 30 degrees\n",
        "                               width_shift_range=0.1, # Shift the pic width by a max of 10%\n",
        "                               height_shift_range=0.1, # Shift the pic height by a max of 10%\n",
        "                               rescale=1/255, # Rescale the image by normalzing it.\n",
        "                               shear_range=0.2, # Shear means cutting away part of the image (max 20%)\n",
        "                               zoom_range=0.2, # Zoom in by 20% max\n",
        "                               horizontal_flip=True, # Allo horizontal flipping\n",
        "                               vertical_flip=False,\n",
        "                               fill_mode='nearest'# Fill in missing pixels with the nearest filled value\n",
        "                                )\n",
        "val_datagen=ImageDataGenerator(rescale=1/255)"
      ],
      "execution_count": 26,
      "outputs": [
        {
          "output_type": "stream",
          "text": [
            "Using TensorFlow backend.\n"
          ],
          "name": "stderr"
        },
        {
          "output_type": "display_data",
          "data": {
            "text/html": [
              "<p style=\"color: red;\">\n",
              "The default version of TensorFlow in Colab will soon switch to TensorFlow 2.x.<br>\n",
              "We recommend you <a href=\"https://www.tensorflow.org/guide/migrate\" target=\"_blank\">upgrade</a> now \n",
              "or ensure your notebook will continue to use TensorFlow 1.x via the <code>%tensorflow_version 1.x</code> magic:\n",
              "<a href=\"https://colab.research.google.com/notebooks/tensorflow_version.ipynb\" target=\"_blank\">more info</a>.</p>\n"
            ],
            "text/plain": [
              "<IPython.core.display.HTML object>"
            ]
          },
          "metadata": {
            "tags": []
          }
        }
      ]
    },
    {
      "cell_type": "code",
      "metadata": {
        "id": "yt7WdAzqNS3H",
        "colab_type": "code",
        "colab": {}
      },
      "source": [
        "def multi_train_gen(gen,XR_train,XL_train,yR_train,yL_train):\n",
        "  XR_generator = train_datagen.flow(XR_train, yR_train, batch_size=BATCH_SIZE)\n",
        "  XL_generator = train_datagen.flow(XL_train, yL_train, batch_size=BATCH_SIZE)\n",
        "  while True:\n",
        "    X1i = XR_generator.next()\n",
        "    X2i = XL_generator.next()\n",
        "    yield [X1i[0], X2i[0]], X2i[1] "
      ],
      "execution_count": 0,
      "outputs": []
    },
    {
      "cell_type": "code",
      "metadata": {
        "id": "VgnHS9VYWP54",
        "colab_type": "code",
        "colab": {}
      },
      "source": [
        "input_gen=multi_train_gen(train_datagen,XR_train,XL_train,yR_train,yL_train)    "
      ],
      "execution_count": 0,
      "outputs": []
    },
    {
      "cell_type": "code",
      "metadata": {
        "id": "pkalsuRYVW3s",
        "colab_type": "code",
        "colab": {}
      },
      "source": [
        "def multi_val_gen(gen,XR_val,XL_val,yR_val,yL_val):\n",
        "  vR_generator = val_datagen.flow(XR_val, yR_val, batch_size=BATCH_SIZE)\n",
        "  vL_generator = val_datagen.flow(XL_val, yL_val, batch_size=BATCH_SIZE)\n",
        "\n",
        "  while True:\n",
        "    X1i = vR_generator.next()\n",
        "    X2i = vL_generator.next()\n",
        "    yield [X1i[0], X2i[0]], X2i[1] "
      ],
      "execution_count": 0,
      "outputs": []
    },
    {
      "cell_type": "code",
      "metadata": {
        "id": "z-WGRmkVWzWW",
        "colab_type": "code",
        "colab": {}
      },
      "source": [
        "val_gen=multi_val_gen(val_datagen,XR_val,XL_val,yR_val,yL_val)    "
      ],
      "execution_count": 0,
      "outputs": []
    },
    {
      "cell_type": "code",
      "metadata": {
        "id": "qQut65acNdCr",
        "colab_type": "code",
        "colab": {}
      },
      "source": [
        "#steps_train = XR_generator.n//XR_generator.batch_size\n",
        "#steps_valid = vR_generator.n//vR_generator.batch_size\n"
      ],
      "execution_count": 0,
      "outputs": []
    },
    {
      "cell_type": "code",
      "metadata": {
        "id": "K49Hce9IX7nn",
        "colab_type": "code",
        "colab": {}
      },
      "source": [
        "steps_train=73"
      ],
      "execution_count": 0,
      "outputs": []
    },
    {
      "cell_type": "code",
      "metadata": {
        "id": "QkcROJNPX9aB",
        "colab_type": "code",
        "colab": {}
      },
      "source": [
        "steps_valid=36\n"
      ],
      "execution_count": 0,
      "outputs": []
    },
    {
      "cell_type": "markdown",
      "metadata": {
        "id": "NNcIVzf87sra",
        "colab_type": "text"
      },
      "source": [
        "#RESNET 50"
      ]
    },
    {
      "cell_type": "markdown",
      "metadata": {
        "id": "ru9A_qSDFHn-",
        "colab_type": "text"
      },
      "source": [
        "following idea is borrowed from following link. \n",
        "https://github.com/nnnnew/ODIR/blob/master/train/2_pretrained_model_and_1_classifier.ipynb  \n",
        "Data Generator is combined with multiinput model .\n",
        "Thanks to https://github.com/keras-team/keras/issues/8130#issuecomment-336855177  \n",
        "default input size for resent is `224x224`  \n",
        "https://keras.io/applications/#resnet"
      ]
    },
    {
      "cell_type": "code",
      "metadata": {
        "id": "JD0az2PQBROD",
        "colab_type": "code",
        "colab": {}
      },
      "source": [
        "from keras.models import Sequential,Model\n",
        "from keras.layers import Activation, Dropout, Flatten, Dense, Conv2D, MaxPool2D, BatchNormalization,Input\n",
        "from keras.layers import GlobalAveragePooling2D\n",
        "from keras.applications.resnet50 import ResNet50\n",
        "import tensorflow as tf\n",
        "tf.logging.set_verbosity(tf.logging.ERROR)"
      ],
      "execution_count": 0,
      "outputs": []
    },
    {
      "cell_type": "code",
      "metadata": {
        "id": "jV4sgHk6DkVE",
        "colab_type": "code",
        "colab": {
          "base_uri": "https://localhost:8080/",
          "height": 72
        },
        "outputId": "768d1173-c7a8-4279-ab33-45bb248f80b3"
      },
      "source": [
        "import keras\n",
        "left_input=Input(shape=XL.shape[1::])\n",
        "right_input=Input(shape=XR.shape[1::])\n",
        "\n",
        "left_model = ResNet50(include_top=False,input_tensor=left_input)\n",
        "for layer in left_model.layers:\n",
        "        layer.name = layer.name + '_left'\n",
        "        layer.trainable = True\n",
        "\n",
        "\n",
        "right_model = ResNet50(include_top=False,input_tensor=right_input)\n",
        "for layer in right_model.layers:\n",
        "        layer.name = layer.name + '_right'\n",
        "        layer.trainable = True\n"
      ],
      "execution_count": 55,
      "outputs": [
        {
          "output_type": "stream",
          "text": [
            "/usr/local/lib/python3.6/dist-packages/keras_applications/resnet50.py:265: UserWarning: The output shape of `ResNet50(include_top=False)` has been changed since Keras 2.2.0.\n",
            "  warnings.warn('The output shape of `ResNet50(include_top=False)` '\n"
          ],
          "name": "stderr"
        }
      ]
    },
    {
      "cell_type": "code",
      "metadata": {
        "id": "xDrQ35gYJ67q",
        "colab_type": "code",
        "colab": {}
      },
      "source": [
        "\n",
        "x = keras.layers.concatenate([left_model.output, right_model.output])\n",
        "x=  keras.layers.Flatten()(x)\n",
        "x = keras.layers.Dropout(0.2)(x)\n",
        "x = keras.layers.Dense(512)(x)\n",
        "x = keras.layers.BatchNormalization()(x)\n",
        "x = keras.layers.Activation('relu')(x)\n",
        "x = keras.layers.Dense(512)(x)\n",
        "x = keras.layers.BatchNormalization()(x)\n",
        "x = keras.layers.Activation('relu')(x)\n",
        "x = keras.layers.Dropout(0.2)(x)\n",
        "out = keras.layers.Dense(8, activation='sigmoid')(x)\n",
        "model = keras.models.Model(inputs=[left_input, right_input], outputs=out)\n"
      ],
      "execution_count": 0,
      "outputs": []
    },
    {
      "cell_type": "code",
      "metadata": {
        "colab_type": "code",
        "id": "spz5zz-W9J2K",
        "colab": {}
      },
      "source": [
        "from keras.optimizers import Adam,RMSprop\n",
        "opt = RMSprop(lr=1e-3,decay=0.2)\n",
        "model.compile(optimizer=opt, loss='categorical_crossentropy', metrics=['accuracy'])"
      ],
      "execution_count": 0,
      "outputs": []
    },
    {
      "cell_type": "code",
      "metadata": {
        "id": "Gnd3sJ78RTtl",
        "colab_type": "code",
        "colab": {
          "base_uri": "https://localhost:8080/",
          "height": 363
        },
        "outputId": "98da61f6-e0ff-40c9-f893-aeb5de38386b"
      },
      "source": [
        "\n",
        "history=model.fit_generator(generator=input_gen,\n",
        "                        steps_per_epoch=steps_train,\n",
        "                        validation_data=val_gen,\n",
        "                        validation_steps=steps_valid,\n",
        "                        epochs=10,\n",
        "                        )"
      ],
      "execution_count": 58,
      "outputs": [
        {
          "output_type": "stream",
          "text": [
            "Epoch 1/10\n",
            "73/73 [==============================] - 79s 1s/step - loss: 2.1250 - acc: 0.3104 - val_loss: 1.9188 - val_acc: 0.3602\n",
            "Epoch 2/10\n",
            "73/73 [==============================] - 50s 686ms/step - loss: 1.8985 - acc: 0.3873 - val_loss: 1.8093 - val_acc: 0.4069\n",
            "Epoch 3/10\n",
            "73/73 [==============================] - 52s 713ms/step - loss: 1.8130 - acc: 0.4342 - val_loss: 1.8041 - val_acc: 0.3900\n",
            "Epoch 4/10\n",
            "73/73 [==============================] - 52s 713ms/step - loss: 1.8004 - acc: 0.4410 - val_loss: 1.7542 - val_acc: 0.4248\n",
            "Epoch 5/10\n",
            "73/73 [==============================] - 52s 710ms/step - loss: 1.7619 - acc: 0.4406 - val_loss: 1.7806 - val_acc: 0.4194\n",
            "Epoch 6/10\n",
            "73/73 [==============================] - 52s 711ms/step - loss: 1.7250 - acc: 0.4613 - val_loss: 1.7611 - val_acc: 0.4256\n",
            "Epoch 7/10\n",
            "73/73 [==============================] - 52s 712ms/step - loss: 1.7031 - acc: 0.4744 - val_loss: 1.7318 - val_acc: 0.4408\n",
            "Epoch 8/10\n",
            "73/73 [==============================] - 52s 710ms/step - loss: 1.7117 - acc: 0.4526 - val_loss: 1.7871 - val_acc: 0.4194\n",
            "Epoch 9/10\n",
            "73/73 [==============================] - 52s 712ms/step - loss: 1.6793 - acc: 0.4785 - val_loss: 1.7092 - val_acc: 0.4506\n",
            "Epoch 10/10\n",
            "73/73 [==============================] - 51s 705ms/step - loss: 1.6589 - acc: 0.4639 - val_loss: 1.7592 - val_acc: 0.4346\n"
          ],
          "name": "stdout"
        }
      ]
    },
    {
      "cell_type": "code",
      "metadata": {
        "id": "KThzQaC4S-dj",
        "colab_type": "code",
        "colab": {}
      },
      "source": [
        "keras.backend.clear_session()"
      ],
      "execution_count": 0,
      "outputs": []
    },
    {
      "cell_type": "code",
      "metadata": {
        "id": "D-uV9-A4GkPx",
        "colab_type": "code",
        "colab": {}
      },
      "source": [
        ""
      ],
      "execution_count": 0,
      "outputs": []
    }
  ]
}