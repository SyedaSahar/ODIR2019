{
 "cells": [
  {
   "cell_type": "code",
   "execution_count": 1,
   "metadata": {
    "id": "P0Kr8B21IPhb"
   },
   "outputs": [],
   "source": [
    "%%capture\n",
    "!pip install -U efficientnet"
   ]
  },
  {
   "cell_type": "markdown",
   "execution_count": null,
   "metadata": {
    "id": "K0P-LQlKfwhp"
   },
   "source": [
    "EfficientNetB0 - (224, 224, 3)  \n",
    "EfficientNetB1 - (240, 240, 3)  \n",
    "EfficientNetB2 - (260, 260, 3)  \n",
    "EfficientNetB3 - (300, 300, 3)  \n",
    "EfficientNetB4 - (380, 380, 3)  \n",
    "EfficientNetB5 - (456, 456, 3)  \n",
    "EfficientNetB6 - (528, 528, 3)  \n",
    "EfficientNetB7 - (600, 600, 3)  "
   ]
  },
  {
   "cell_type": "code",
   "execution_count": 2,
   "metadata": {
    "id": "N6cxCkiCF0ux"
   },
   "outputs": [],
   "source": [
    "import pandas as pd\n",
    "import numpy as np\n",
    "import cv2"
   ]
  },
  {
   "cell_type": "code",
   "execution_count": 3,
   "metadata": {
    "id": "t2vwqBAqFdG2"
   },
   "outputs": [],
   "source": [
    "#read the annottion file\n",
    "annotation=pd.read_excel('../input/odir-labels/ODIR-5K_Training_Annotations(Updated)_V2.xlsx')"
   ]
  },
  {
   "cell_type": "code",
   "execution_count": 4,
   "metadata": {
    "id": "UpKZEXLMFfhW"
   },
   "outputs": [],
   "source": [
    "\n",
    "#normal (N), diabetes (D), glaucoma (G), cataract (C), AMD (A), hypertension (H), myopia (M) and other diseases/abnormalities (O)"
   ]
  },
  {
   "cell_type": "code",
   "execution_count": 5,
   "metadata": {
    "id": "3EIxDJR0FhDq",
    "outputId": "349de6e2-a3a9-4fbc-ee22-5b0a6e46aeb2"
   },
   "outputs": [
    {
     "data": {
      "text/html": [
       "<div>\n",
       "<style scoped>\n",
       "    .dataframe tbody tr th:only-of-type {\n",
       "        vertical-align: middle;\n",
       "    }\n",
       "\n",
       "    .dataframe tbody tr th {\n",
       "        vertical-align: top;\n",
       "    }\n",
       "\n",
       "    .dataframe thead th {\n",
       "        text-align: right;\n",
       "    }\n",
       "</style>\n",
       "<table border=\"1\" class=\"dataframe\">\n",
       "  <thead>\n",
       "    <tr style=\"text-align: right;\">\n",
       "      <th></th>\n",
       "      <th>ID</th>\n",
       "      <th>Patient Age</th>\n",
       "      <th>Patient Sex</th>\n",
       "      <th>Left-Fundus</th>\n",
       "      <th>Right-Fundus</th>\n",
       "      <th>Left-Diagnostic Keywords</th>\n",
       "      <th>Right-Diagnostic Keywords</th>\n",
       "      <th>N</th>\n",
       "      <th>D</th>\n",
       "      <th>G</th>\n",
       "      <th>C</th>\n",
       "      <th>A</th>\n",
       "      <th>H</th>\n",
       "      <th>M</th>\n",
       "      <th>O</th>\n",
       "    </tr>\n",
       "  </thead>\n",
       "  <tbody>\n",
       "    <tr>\n",
       "      <th>0</th>\n",
       "      <td>0</td>\n",
       "      <td>69</td>\n",
       "      <td>Female</td>\n",
       "      <td>0_left.jpg</td>\n",
       "      <td>0_right.jpg</td>\n",
       "      <td>cataract</td>\n",
       "      <td>normal fundus</td>\n",
       "      <td>0</td>\n",
       "      <td>0</td>\n",
       "      <td>0</td>\n",
       "      <td>1</td>\n",
       "      <td>0</td>\n",
       "      <td>0</td>\n",
       "      <td>0</td>\n",
       "      <td>0</td>\n",
       "    </tr>\n",
       "    <tr>\n",
       "      <th>1</th>\n",
       "      <td>1</td>\n",
       "      <td>57</td>\n",
       "      <td>Male</td>\n",
       "      <td>1_left.jpg</td>\n",
       "      <td>1_right.jpg</td>\n",
       "      <td>normal fundus</td>\n",
       "      <td>normal fundus</td>\n",
       "      <td>1</td>\n",
       "      <td>0</td>\n",
       "      <td>0</td>\n",
       "      <td>0</td>\n",
       "      <td>0</td>\n",
       "      <td>0</td>\n",
       "      <td>0</td>\n",
       "      <td>0</td>\n",
       "    </tr>\n",
       "    <tr>\n",
       "      <th>2</th>\n",
       "      <td>2</td>\n",
       "      <td>42</td>\n",
       "      <td>Male</td>\n",
       "      <td>2_left.jpg</td>\n",
       "      <td>2_right.jpg</td>\n",
       "      <td>laser spot，moderate non proliferative retinopathy</td>\n",
       "      <td>moderate non proliferative retinopathy</td>\n",
       "      <td>0</td>\n",
       "      <td>1</td>\n",
       "      <td>0</td>\n",
       "      <td>0</td>\n",
       "      <td>0</td>\n",
       "      <td>0</td>\n",
       "      <td>0</td>\n",
       "      <td>1</td>\n",
       "    </tr>\n",
       "    <tr>\n",
       "      <th>3</th>\n",
       "      <td>3</td>\n",
       "      <td>66</td>\n",
       "      <td>Male</td>\n",
       "      <td>3_left.jpg</td>\n",
       "      <td>3_right.jpg</td>\n",
       "      <td>normal fundus</td>\n",
       "      <td>branch retinal artery occlusion</td>\n",
       "      <td>0</td>\n",
       "      <td>0</td>\n",
       "      <td>0</td>\n",
       "      <td>0</td>\n",
       "      <td>0</td>\n",
       "      <td>0</td>\n",
       "      <td>0</td>\n",
       "      <td>1</td>\n",
       "    </tr>\n",
       "    <tr>\n",
       "      <th>4</th>\n",
       "      <td>4</td>\n",
       "      <td>53</td>\n",
       "      <td>Male</td>\n",
       "      <td>4_left.jpg</td>\n",
       "      <td>4_right.jpg</td>\n",
       "      <td>macular epiretinal membrane</td>\n",
       "      <td>mild nonproliferative retinopathy</td>\n",
       "      <td>0</td>\n",
       "      <td>1</td>\n",
       "      <td>0</td>\n",
       "      <td>0</td>\n",
       "      <td>0</td>\n",
       "      <td>0</td>\n",
       "      <td>0</td>\n",
       "      <td>1</td>\n",
       "    </tr>\n",
       "  </tbody>\n",
       "</table>\n",
       "</div>"
      ],
      "text/plain": [
       "   ID  Patient Age Patient Sex Left-Fundus Right-Fundus  \\\n",
       "0   0           69      Female  0_left.jpg  0_right.jpg   \n",
       "1   1           57        Male  1_left.jpg  1_right.jpg   \n",
       "2   2           42        Male  2_left.jpg  2_right.jpg   \n",
       "3   3           66        Male  3_left.jpg  3_right.jpg   \n",
       "4   4           53        Male  4_left.jpg  4_right.jpg   \n",
       "\n",
       "                            Left-Diagnostic Keywords  \\\n",
       "0                                           cataract   \n",
       "1                                      normal fundus   \n",
       "2  laser spot，moderate non proliferative retinopathy   \n",
       "3                                      normal fundus   \n",
       "4                        macular epiretinal membrane   \n",
       "\n",
       "                Right-Diagnostic Keywords  N  D  G  C  A  H  M  O  \n",
       "0                           normal fundus  0  0  0  1  0  0  0  0  \n",
       "1                           normal fundus  1  0  0  0  0  0  0  0  \n",
       "2  moderate non proliferative retinopathy  0  1  0  0  0  0  0  1  \n",
       "3         branch retinal artery occlusion  0  0  0  0  0  0  0  1  \n",
       "4       mild nonproliferative retinopathy  0  1  0  0  0  0  0  1  "
      ]
     },
     "execution_count": 5,
     "metadata": {},
     "output_type": "execute_result"
    }
   ],
   "source": [
    "#print first 5 rows of annotation file\n",
    "#annotation=annotation.sample(frac=1)\n",
    "annotation.head()"
   ]
  },
  {
   "cell_type": "code",
   "execution_count": 6,
   "metadata": {
    "id": "qmg1lv12PWNk"
   },
   "outputs": [],
   "source": [
    "from sklearn.model_selection import train_test_split\n",
    "annotation, val = train_test_split(annotation, test_size = 0.2,  random_state = 73)"
   ]
  },
  {
   "cell_type": "code",
   "execution_count": 7,
   "metadata": {
    "id": "HZqovtU5QryH"
   },
   "outputs": [],
   "source": [
    "# for i in ['G',\t'C',\t'A',\t'H',\t'M']:\n",
    "#   duplicate=annotation[annotation[i]==1]\n",
    "#   annotation=annotation.append([duplicate]*10,ignore_index=True)"
   ]
  },
  {
   "cell_type": "code",
   "execution_count": 8,
   "metadata": {
    "id": "qaUpTnUiPf31",
    "outputId": "80af9bb2-511f-4b60-d10d-f9099808397f"
   },
   "outputs": [
    {
     "data": {
      "text/html": [
       "<div>\n",
       "<style scoped>\n",
       "    .dataframe tbody tr th:only-of-type {\n",
       "        vertical-align: middle;\n",
       "    }\n",
       "\n",
       "    .dataframe tbody tr th {\n",
       "        vertical-align: top;\n",
       "    }\n",
       "\n",
       "    .dataframe thead th {\n",
       "        text-align: right;\n",
       "    }\n",
       "</style>\n",
       "<table border=\"1\" class=\"dataframe\">\n",
       "  <thead>\n",
       "    <tr style=\"text-align: right;\">\n",
       "      <th></th>\n",
       "      <th>ID</th>\n",
       "      <th>Patient Age</th>\n",
       "      <th>Patient Sex</th>\n",
       "      <th>Left-Fundus</th>\n",
       "      <th>Right-Fundus</th>\n",
       "      <th>Left-Diagnostic Keywords</th>\n",
       "      <th>Right-Diagnostic Keywords</th>\n",
       "      <th>N</th>\n",
       "      <th>D</th>\n",
       "      <th>G</th>\n",
       "      <th>C</th>\n",
       "      <th>A</th>\n",
       "      <th>H</th>\n",
       "      <th>M</th>\n",
       "      <th>O</th>\n",
       "    </tr>\n",
       "  </thead>\n",
       "  <tbody>\n",
       "    <tr>\n",
       "      <th>3225</th>\n",
       "      <td>4371</td>\n",
       "      <td>58</td>\n",
       "      <td>Female</td>\n",
       "      <td>4371_left.jpg</td>\n",
       "      <td>4371_right.jpg</td>\n",
       "      <td>moderate non proliferative retinopathy</td>\n",
       "      <td>mild nonproliferative retinopathy</td>\n",
       "      <td>0</td>\n",
       "      <td>1</td>\n",
       "      <td>0</td>\n",
       "      <td>0</td>\n",
       "      <td>0</td>\n",
       "      <td>0</td>\n",
       "      <td>0</td>\n",
       "      <td>0</td>\n",
       "    </tr>\n",
       "    <tr>\n",
       "      <th>2030</th>\n",
       "      <td>2653</td>\n",
       "      <td>31</td>\n",
       "      <td>Male</td>\n",
       "      <td>2653_left.jpg</td>\n",
       "      <td>2653_right.jpg</td>\n",
       "      <td>normal fundus</td>\n",
       "      <td>normal fundus</td>\n",
       "      <td>1</td>\n",
       "      <td>0</td>\n",
       "      <td>0</td>\n",
       "      <td>0</td>\n",
       "      <td>0</td>\n",
       "      <td>0</td>\n",
       "      <td>0</td>\n",
       "      <td>0</td>\n",
       "    </tr>\n",
       "    <tr>\n",
       "      <th>3054</th>\n",
       "      <td>4194</td>\n",
       "      <td>50</td>\n",
       "      <td>Female</td>\n",
       "      <td>4194_left.jpg</td>\n",
       "      <td>4194_right.jpg</td>\n",
       "      <td>mild nonproliferative retinopathy</td>\n",
       "      <td>normal fundus</td>\n",
       "      <td>0</td>\n",
       "      <td>1</td>\n",
       "      <td>0</td>\n",
       "      <td>0</td>\n",
       "      <td>0</td>\n",
       "      <td>0</td>\n",
       "      <td>0</td>\n",
       "      <td>0</td>\n",
       "    </tr>\n",
       "    <tr>\n",
       "      <th>1558</th>\n",
       "      <td>2096</td>\n",
       "      <td>74</td>\n",
       "      <td>Male</td>\n",
       "      <td>2096_left.jpg</td>\n",
       "      <td>2096_right.jpg</td>\n",
       "      <td>mild nonproliferative retinopathy</td>\n",
       "      <td>cataract</td>\n",
       "      <td>0</td>\n",
       "      <td>1</td>\n",
       "      <td>0</td>\n",
       "      <td>1</td>\n",
       "      <td>0</td>\n",
       "      <td>0</td>\n",
       "      <td>0</td>\n",
       "      <td>0</td>\n",
       "    </tr>\n",
       "    <tr>\n",
       "      <th>3059</th>\n",
       "      <td>4199</td>\n",
       "      <td>67</td>\n",
       "      <td>Female</td>\n",
       "      <td>4199_left.jpg</td>\n",
       "      <td>4199_right.jpg</td>\n",
       "      <td>moderate non proliferative retinopathy，hyperte...</td>\n",
       "      <td>hypertensive retinopathy</td>\n",
       "      <td>0</td>\n",
       "      <td>1</td>\n",
       "      <td>0</td>\n",
       "      <td>0</td>\n",
       "      <td>0</td>\n",
       "      <td>1</td>\n",
       "      <td>0</td>\n",
       "      <td>0</td>\n",
       "    </tr>\n",
       "  </tbody>\n",
       "</table>\n",
       "</div>"
      ],
      "text/plain": [
       "        ID  Patient Age Patient Sex    Left-Fundus    Right-Fundus  \\\n",
       "3225  4371           58      Female  4371_left.jpg  4371_right.jpg   \n",
       "2030  2653           31        Male  2653_left.jpg  2653_right.jpg   \n",
       "3054  4194           50      Female  4194_left.jpg  4194_right.jpg   \n",
       "1558  2096           74        Male  2096_left.jpg  2096_right.jpg   \n",
       "3059  4199           67      Female  4199_left.jpg  4199_right.jpg   \n",
       "\n",
       "                               Left-Diagnostic Keywords  \\\n",
       "3225             moderate non proliferative retinopathy   \n",
       "2030                                      normal fundus   \n",
       "3054                  mild nonproliferative retinopathy   \n",
       "1558                  mild nonproliferative retinopathy   \n",
       "3059  moderate non proliferative retinopathy，hyperte...   \n",
       "\n",
       "              Right-Diagnostic Keywords  N  D  G  C  A  H  M  O  \n",
       "3225  mild nonproliferative retinopathy  0  1  0  0  0  0  0  0  \n",
       "2030                      normal fundus  1  0  0  0  0  0  0  0  \n",
       "3054                      normal fundus  0  1  0  0  0  0  0  0  \n",
       "1558                           cataract  0  1  0  1  0  0  0  0  \n",
       "3059           hypertensive retinopathy  0  1  0  0  0  1  0  0  "
      ]
     },
     "execution_count": 8,
     "metadata": {},
     "output_type": "execute_result"
    }
   ],
   "source": [
    "annotation.head()"
   ]
  },
  {
   "cell_type": "code",
   "execution_count": 9,
   "metadata": {
    "id": "aPHLUeCbP7-y",
    "outputId": "08c8f1a2-1218-428a-eaec-5a51c1dcdacc"
   },
   "outputs": [
    {
     "data": {
      "text/html": [
       "<div>\n",
       "<style scoped>\n",
       "    .dataframe tbody tr th:only-of-type {\n",
       "        vertical-align: middle;\n",
       "    }\n",
       "\n",
       "    .dataframe tbody tr th {\n",
       "        vertical-align: top;\n",
       "    }\n",
       "\n",
       "    .dataframe thead th {\n",
       "        text-align: right;\n",
       "    }\n",
       "</style>\n",
       "<table border=\"1\" class=\"dataframe\">\n",
       "  <thead>\n",
       "    <tr style=\"text-align: right;\">\n",
       "      <th></th>\n",
       "      <th>ID</th>\n",
       "      <th>Patient Age</th>\n",
       "      <th>Patient Sex</th>\n",
       "      <th>Left-Fundus</th>\n",
       "      <th>Right-Fundus</th>\n",
       "      <th>Left-Diagnostic Keywords</th>\n",
       "      <th>Right-Diagnostic Keywords</th>\n",
       "      <th>N</th>\n",
       "      <th>D</th>\n",
       "      <th>G</th>\n",
       "      <th>C</th>\n",
       "      <th>A</th>\n",
       "      <th>H</th>\n",
       "      <th>M</th>\n",
       "      <th>O</th>\n",
       "    </tr>\n",
       "  </thead>\n",
       "  <tbody>\n",
       "    <tr>\n",
       "      <th>2891</th>\n",
       "      <td>4009</td>\n",
       "      <td>60</td>\n",
       "      <td>Male</td>\n",
       "      <td>4009_left.jpg</td>\n",
       "      <td>4009_right.jpg</td>\n",
       "      <td>moderate non proliferative retinopathy</td>\n",
       "      <td>moderate non proliferative retinopathy</td>\n",
       "      <td>0</td>\n",
       "      <td>1</td>\n",
       "      <td>0</td>\n",
       "      <td>0</td>\n",
       "      <td>0</td>\n",
       "      <td>0</td>\n",
       "      <td>0</td>\n",
       "      <td>0</td>\n",
       "    </tr>\n",
       "    <tr>\n",
       "      <th>1811</th>\n",
       "      <td>2434</td>\n",
       "      <td>54</td>\n",
       "      <td>Male</td>\n",
       "      <td>2434_left.jpg</td>\n",
       "      <td>2434_right.jpg</td>\n",
       "      <td>normal fundus</td>\n",
       "      <td>normal fundus</td>\n",
       "      <td>1</td>\n",
       "      <td>0</td>\n",
       "      <td>0</td>\n",
       "      <td>0</td>\n",
       "      <td>0</td>\n",
       "      <td>0</td>\n",
       "      <td>0</td>\n",
       "      <td>0</td>\n",
       "    </tr>\n",
       "    <tr>\n",
       "      <th>441</th>\n",
       "      <td>442</td>\n",
       "      <td>56</td>\n",
       "      <td>Male</td>\n",
       "      <td>442_left.jpg</td>\n",
       "      <td>442_right.jpg</td>\n",
       "      <td>moderate non proliferative retinopathy</td>\n",
       "      <td>moderate non proliferative retinopathy</td>\n",
       "      <td>0</td>\n",
       "      <td>1</td>\n",
       "      <td>0</td>\n",
       "      <td>0</td>\n",
       "      <td>0</td>\n",
       "      <td>0</td>\n",
       "      <td>0</td>\n",
       "      <td>0</td>\n",
       "    </tr>\n",
       "    <tr>\n",
       "      <th>1589</th>\n",
       "      <td>2127</td>\n",
       "      <td>70</td>\n",
       "      <td>Male</td>\n",
       "      <td>2127_left.jpg</td>\n",
       "      <td>2127_right.jpg</td>\n",
       "      <td>cataract</td>\n",
       "      <td>cataract</td>\n",
       "      <td>0</td>\n",
       "      <td>0</td>\n",
       "      <td>0</td>\n",
       "      <td>1</td>\n",
       "      <td>0</td>\n",
       "      <td>0</td>\n",
       "      <td>0</td>\n",
       "      <td>0</td>\n",
       "    </tr>\n",
       "    <tr>\n",
       "      <th>526</th>\n",
       "      <td>527</td>\n",
       "      <td>48</td>\n",
       "      <td>Male</td>\n",
       "      <td>527_left.jpg</td>\n",
       "      <td>527_right.jpg</td>\n",
       "      <td>branch retinal vein occlusion</td>\n",
       "      <td>normal fundus</td>\n",
       "      <td>0</td>\n",
       "      <td>0</td>\n",
       "      <td>0</td>\n",
       "      <td>0</td>\n",
       "      <td>0</td>\n",
       "      <td>0</td>\n",
       "      <td>0</td>\n",
       "      <td>1</td>\n",
       "    </tr>\n",
       "  </tbody>\n",
       "</table>\n",
       "</div>"
      ],
      "text/plain": [
       "        ID  Patient Age Patient Sex    Left-Fundus    Right-Fundus  \\\n",
       "2891  4009           60        Male  4009_left.jpg  4009_right.jpg   \n",
       "1811  2434           54        Male  2434_left.jpg  2434_right.jpg   \n",
       "441    442           56        Male   442_left.jpg   442_right.jpg   \n",
       "1589  2127           70        Male  2127_left.jpg  2127_right.jpg   \n",
       "526    527           48        Male   527_left.jpg   527_right.jpg   \n",
       "\n",
       "                    Left-Diagnostic Keywords  \\\n",
       "2891  moderate non proliferative retinopathy   \n",
       "1811                           normal fundus   \n",
       "441   moderate non proliferative retinopathy   \n",
       "1589                                cataract   \n",
       "526            branch retinal vein occlusion   \n",
       "\n",
       "                   Right-Diagnostic Keywords  N  D  G  C  A  H  M  O  \n",
       "2891  moderate non proliferative retinopathy  0  1  0  0  0  0  0  0  \n",
       "1811                           normal fundus  1  0  0  0  0  0  0  0  \n",
       "441   moderate non proliferative retinopathy  0  1  0  0  0  0  0  0  \n",
       "1589                                cataract  0  0  0  1  0  0  0  0  \n",
       "526                            normal fundus  0  0  0  0  0  0  0  1  "
      ]
     },
     "execution_count": 9,
     "metadata": {},
     "output_type": "execute_result"
    }
   ],
   "source": [
    "val.head()"
   ]
  },
  {
   "cell_type": "code",
   "execution_count": 10,
   "metadata": {
    "id": "xUTUDoXoo11N",
    "outputId": "4ada5471-0a09-44e0-b178-498d8ace72dc"
   },
   "outputs": [
    {
     "name": "stdout",
     "output_type": "stream",
     "text": [
      "500\n"
     ]
    },
    {
     "data": {
      "text/html": [
       "<div>\n",
       "<style scoped>\n",
       "    .dataframe tbody tr th:only-of-type {\n",
       "        vertical-align: middle;\n",
       "    }\n",
       "\n",
       "    .dataframe tbody tr th {\n",
       "        vertical-align: top;\n",
       "    }\n",
       "\n",
       "    .dataframe thead th {\n",
       "        text-align: right;\n",
       "    }\n",
       "</style>\n",
       "<table border=\"1\" class=\"dataframe\">\n",
       "  <thead>\n",
       "    <tr style=\"text-align: right;\">\n",
       "      <th></th>\n",
       "      <th>ID</th>\n",
       "      <th>N</th>\n",
       "      <th>D</th>\n",
       "      <th>G</th>\n",
       "      <th>C</th>\n",
       "      <th>A</th>\n",
       "      <th>H</th>\n",
       "      <th>M</th>\n",
       "      <th>O</th>\n",
       "    </tr>\n",
       "  </thead>\n",
       "  <tbody>\n",
       "    <tr>\n",
       "      <th>0</th>\n",
       "      <td>937</td>\n",
       "      <td>0</td>\n",
       "      <td>0</td>\n",
       "      <td>0</td>\n",
       "      <td>0</td>\n",
       "      <td>0</td>\n",
       "      <td>0</td>\n",
       "      <td>0</td>\n",
       "      <td>0</td>\n",
       "    </tr>\n",
       "    <tr>\n",
       "      <th>1</th>\n",
       "      <td>967</td>\n",
       "      <td>0</td>\n",
       "      <td>0</td>\n",
       "      <td>0</td>\n",
       "      <td>0</td>\n",
       "      <td>0</td>\n",
       "      <td>0</td>\n",
       "      <td>0</td>\n",
       "      <td>0</td>\n",
       "    </tr>\n",
       "    <tr>\n",
       "      <th>2</th>\n",
       "      <td>988</td>\n",
       "      <td>0</td>\n",
       "      <td>0</td>\n",
       "      <td>0</td>\n",
       "      <td>0</td>\n",
       "      <td>0</td>\n",
       "      <td>0</td>\n",
       "      <td>0</td>\n",
       "      <td>0</td>\n",
       "    </tr>\n",
       "    <tr>\n",
       "      <th>3</th>\n",
       "      <td>995</td>\n",
       "      <td>0</td>\n",
       "      <td>0</td>\n",
       "      <td>0</td>\n",
       "      <td>0</td>\n",
       "      <td>0</td>\n",
       "      <td>0</td>\n",
       "      <td>0</td>\n",
       "      <td>0</td>\n",
       "    </tr>\n",
       "    <tr>\n",
       "      <th>4</th>\n",
       "      <td>1000</td>\n",
       "      <td>0</td>\n",
       "      <td>0</td>\n",
       "      <td>0</td>\n",
       "      <td>0</td>\n",
       "      <td>0</td>\n",
       "      <td>0</td>\n",
       "      <td>0</td>\n",
       "      <td>0</td>\n",
       "    </tr>\n",
       "  </tbody>\n",
       "</table>\n",
       "</div>"
      ],
      "text/plain": [
       "     ID  N  D  G  C  A  H  M  O\n",
       "0   937  0  0  0  0  0  0  0  0\n",
       "1   967  0  0  0  0  0  0  0  0\n",
       "2   988  0  0  0  0  0  0  0  0\n",
       "3   995  0  0  0  0  0  0  0  0\n",
       "4  1000  0  0  0  0  0  0  0  0"
      ]
     },
     "execution_count": 10,
     "metadata": {},
     "output_type": "execute_result"
    }
   ],
   "source": [
    "test=pd.read_csv('../input/odir-labels/XYZ_ODIR.csv')\n",
    "print(len(test))\n",
    "test.head()\n"
   ]
  },
  {
   "cell_type": "code",
   "execution_count": 11,
   "metadata": {
    "id": "8ficanACZVOk",
    "outputId": "8d1f83af-d539-4dc5-d1e4-58d990133fb1"
   },
   "outputs": [
    {
     "name": "stdout",
     "output_type": "stream",
     "text": [
      "2800\n",
      "700\n",
      "500\n"
     ]
    }
   ],
   "source": [
    "print(len(annotation))\n",
    "print(len(val))\n",
    "print(len(test))"
   ]
  },
  {
   "cell_type": "code",
   "execution_count": 12,
   "metadata": {
    "id": "skIdshbwo3Y_",
    "outputId": "15d3597d-159c-441e-f660-8127a57cdfb6"
   },
   "outputs": [
    {
     "data": {
      "text/html": [
       "<div>\n",
       "<style scoped>\n",
       "    .dataframe tbody tr th:only-of-type {\n",
       "        vertical-align: middle;\n",
       "    }\n",
       "\n",
       "    .dataframe tbody tr th {\n",
       "        vertical-align: top;\n",
       "    }\n",
       "\n",
       "    .dataframe thead th {\n",
       "        text-align: right;\n",
       "    }\n",
       "</style>\n",
       "<table border=\"1\" class=\"dataframe\">\n",
       "  <thead>\n",
       "    <tr style=\"text-align: right;\">\n",
       "      <th></th>\n",
       "      <th>ID</th>\n",
       "      <th>Left-Fundus</th>\n",
       "      <th>Right-Fundus</th>\n",
       "      <th>N</th>\n",
       "      <th>D</th>\n",
       "      <th>G</th>\n",
       "      <th>C</th>\n",
       "      <th>A</th>\n",
       "      <th>H</th>\n",
       "      <th>M</th>\n",
       "      <th>O</th>\n",
       "    </tr>\n",
       "  </thead>\n",
       "  <tbody>\n",
       "    <tr>\n",
       "      <th>0</th>\n",
       "      <td>937</td>\n",
       "      <td>937_left.jpg</td>\n",
       "      <td>937_right.jpg</td>\n",
       "      <td>0</td>\n",
       "      <td>0</td>\n",
       "      <td>0</td>\n",
       "      <td>0</td>\n",
       "      <td>0</td>\n",
       "      <td>0</td>\n",
       "      <td>0</td>\n",
       "      <td>0</td>\n",
       "    </tr>\n",
       "    <tr>\n",
       "      <th>1</th>\n",
       "      <td>967</td>\n",
       "      <td>967_left.jpg</td>\n",
       "      <td>967_right.jpg</td>\n",
       "      <td>0</td>\n",
       "      <td>0</td>\n",
       "      <td>0</td>\n",
       "      <td>0</td>\n",
       "      <td>0</td>\n",
       "      <td>0</td>\n",
       "      <td>0</td>\n",
       "      <td>0</td>\n",
       "    </tr>\n",
       "    <tr>\n",
       "      <th>2</th>\n",
       "      <td>988</td>\n",
       "      <td>988_left.jpg</td>\n",
       "      <td>988_right.jpg</td>\n",
       "      <td>0</td>\n",
       "      <td>0</td>\n",
       "      <td>0</td>\n",
       "      <td>0</td>\n",
       "      <td>0</td>\n",
       "      <td>0</td>\n",
       "      <td>0</td>\n",
       "      <td>0</td>\n",
       "    </tr>\n",
       "    <tr>\n",
       "      <th>3</th>\n",
       "      <td>995</td>\n",
       "      <td>995_left.jpg</td>\n",
       "      <td>995_right.jpg</td>\n",
       "      <td>0</td>\n",
       "      <td>0</td>\n",
       "      <td>0</td>\n",
       "      <td>0</td>\n",
       "      <td>0</td>\n",
       "      <td>0</td>\n",
       "      <td>0</td>\n",
       "      <td>0</td>\n",
       "    </tr>\n",
       "    <tr>\n",
       "      <th>4</th>\n",
       "      <td>1000</td>\n",
       "      <td>1000_left.jpg</td>\n",
       "      <td>1000_right.jpg</td>\n",
       "      <td>0</td>\n",
       "      <td>0</td>\n",
       "      <td>0</td>\n",
       "      <td>0</td>\n",
       "      <td>0</td>\n",
       "      <td>0</td>\n",
       "      <td>0</td>\n",
       "      <td>0</td>\n",
       "    </tr>\n",
       "  </tbody>\n",
       "</table>\n",
       "</div>"
      ],
      "text/plain": [
       "     ID    Left-Fundus    Right-Fundus  N  D  G  C  A  H  M  O\n",
       "0   937   937_left.jpg   937_right.jpg  0  0  0  0  0  0  0  0\n",
       "1   967   967_left.jpg   967_right.jpg  0  0  0  0  0  0  0  0\n",
       "2   988   988_left.jpg   988_right.jpg  0  0  0  0  0  0  0  0\n",
       "3   995   995_left.jpg   995_right.jpg  0  0  0  0  0  0  0  0\n",
       "4  1000  1000_left.jpg  1000_right.jpg  0  0  0  0  0  0  0  0"
      ]
     },
     "execution_count": 12,
     "metadata": {},
     "output_type": "execute_result"
    }
   ],
   "source": [
    "left_test=[]\n",
    "right_test=[]\n",
    "ID=[]\n",
    "for i in test['ID']:\n",
    "    ID.append(i)\n",
    "    left_test.append(str(i)+'_left.jpg')\n",
    "    right_test.append(str(i)+'_right.jpg')\n",
    "\n",
    "name_df=pd.DataFrame(zip(ID,left_test,right_test),columns=['ID','Left-Fundus','Right-Fundus'])\n",
    "name_df.head()\n",
    "result = pd.merge(name_df, test, on='ID')\n",
    "result.head()"
   ]
  },
  {
   "cell_type": "code",
   "execution_count": 13,
   "metadata": {
    "id": "7zy2yQ5GG5VB"
   },
   "outputs": [],
   "source": [
    "img_shape=380"
   ]
  },
  {
   "cell_type": "code",
   "execution_count": 14,
   "metadata": {
    "id": "o029gBw9G058"
   },
   "outputs": [],
   "source": [
    "#https://www.kaggle.com/ratthachat/aptos-eye-preprocessing-in-diabetic-retinopathy\n",
    "def crop_image1(img,tol=7):\n",
    "    # img is image data\n",
    "    # tol  is tolerance\n",
    "        \n",
    "    mask = img>tol\n",
    "    return img[np.ix_(mask.any(1),mask.any(0))]\n",
    "\n",
    "def crop_image_from_gray(img,tol=7):\n",
    "    if img.ndim ==2:\n",
    "        mask = img>tol\n",
    "        return img[np.ix_(mask.any(1),mask.any(0))]\n",
    "    elif img.ndim==3:\n",
    "        gray_img = cv2.cvtColor(img, cv2.COLOR_RGB2GRAY)\n",
    "        mask = gray_img>tol\n",
    "        \n",
    "        check_shape = img[:,:,0][np.ix_(mask.any(1),mask.any(0))].shape[0]\n",
    "        if (check_shape == 0): # image is too dark so that we crop out everything,\n",
    "            return img # return original image\n",
    "        else:\n",
    "            img1=img[:,:,0][np.ix_(mask.any(1),mask.any(0))]\n",
    "            img2=img[:,:,1][np.ix_(mask.any(1),mask.any(0))]\n",
    "            img3=img[:,:,2][np.ix_(mask.any(1),mask.any(0))]\n",
    "    #         print(img1.shape,img2.shape,img3.shape)\n",
    "            img = np.stack([img1,img2,img3],axis=-1)\n",
    "    #         print(img.shape)\n",
    "        return img"
   ]
  },
  {
   "cell_type": "code",
   "execution_count": 15,
   "metadata": {
    "id": "lXCvf95yG3Su"
   },
   "outputs": [],
   "source": [
    "def load_ben_color(image, sigmaX=10):\n",
    "    #image = cv2.imread(path)\n",
    "    #image = cv2.cvtColor(image, cv2.COLOR_BGR2RGB)\n",
    "    image = crop_image_from_gray(image)\n",
    "    image = cv2.resize(image, (img_shape, img_shape))\n",
    "    image=cv2.addWeighted ( image,4, cv2.GaussianBlur( image , (0,0) , sigmaX) ,-4 ,128)\n",
    "    \n",
    "    \n",
    "    return image"
   ]
  },
  {
   "cell_type": "code",
   "execution_count": 16,
   "metadata": {
    "id": "YGEKCh4cHLGY"
   },
   "outputs": [],
   "source": [
    "from keras_preprocessing.image import ImageDataGenerator\n",
    "\n",
    "train_data_gen= ImageDataGenerator(\n",
    "    horizontal_flip=True,\n",
    "    vertical_flip=True,\n",
    "    rotation_range=360,\n",
    "    #width_shift_range=0.1,\n",
    "    #height_shift_range=0.1,\n",
    "    #zoom_range=.1,\n",
    "    rescale=1/255,\n",
    "    #fill_mode='nearest',\n",
    "    #shear_range=0.1,\n",
    "    #brightness_range=[0.5, 1.5],\n",
    "    preprocessing_function=load_ben_color\n",
    ")\n",
    "\n",
    "val_data_gen= ImageDataGenerator(\n",
    "    rescale=1/255\n",
    "    \n",
    ")"
   ]
  },
  {
   "cell_type": "code",
   "execution_count": 17,
   "metadata": {
    "id": "tCzfKSV3FkpG"
   },
   "outputs": [],
   "source": [
    "def get_flow_from_dataframe(generator, dataframe,directory_path,\n",
    "                            image_shape=(img_shape, img_shape),\n",
    "                            #subset='training',\n",
    "                             batch_size=35):\n",
    "    train_generator_1 = generator.flow_from_dataframe(dataframe,\n",
    "                                                      directory=directory_path,\n",
    "                                                      target_size=(img_shape,img_shape),\n",
    "                                                      x_col=\"Left-Fundus\",\n",
    "                                                      y_col=['N','D','G','C','A','H','M','O'],\n",
    "                                                      class_mode='other',\n",
    "                                                      shuffle=False,\n",
    "                                                      batch_size=batch_size,\n",
    "                                                      seed=7,\n",
    "                                                      classes=['N','D','G','C','A','H','M','O'],\n",
    "                                                      #subset=subset\n",
    "                                                      )\n",
    "\n",
    "    train_generator_2 = generator.flow_from_dataframe(dataframe, \n",
    "                                                      directory=directory_path,\n",
    "                                                      target_size=(img_shape,img_shape),\n",
    "                                                      x_col=\"Right-Fundus\",\n",
    "                                                      y_col=['N','D','G','C','A','H','M','O'],\n",
    "                                                      class_mode='other',\n",
    "                                                      shuffle=False,\n",
    "                                                      batch_size=batch_size,\n",
    "                                                      seed=7,\n",
    "                                                      classes=['N','D','G','C','A','H','M','O'],                                                  \n",
    "                                                      #subset=subset\n",
    "                                                      )\n",
    "    while True:\n",
    "        x_1 = train_generator_1.next()\n",
    "        x_2 = train_generator_2.next()\n",
    "\n",
    "        yield [x_1[0], x_2[0]], x_1[1]"
   ]
  },
  {
   "cell_type": "code",
   "execution_count": 18,
   "metadata": {
    "id": "Xjbl6CEiOJPB"
   },
   "outputs": [],
   "source": [
    "batch_size=15\n",
    "train_gen = get_flow_from_dataframe(train_data_gen, annotation, image_shape=(img_shape, img_shape),\n",
    "                                        directory_path=\"../input/ocular-disease-recognition-odir5k/ODIR-5K/Training Images\",batch_size=batch_size)\n",
    "valid_gen = get_flow_from_dataframe(train_data_gen, val, image_shape=(img_shape, img_shape),\n",
    "                                        directory_path=\"../input/ocular-disease-recognition-odir5k/ODIR-5K/Training Images\",batch_size=batch_size)\n",
    "test_gen = get_flow_from_dataframe(train_data_gen, result, image_shape=(img_shape, img_shape),\n",
    "                                        directory_path=\"../input/ocular-disease-recognition-odir5k/ODIR-5K/Testing Images\",batch_size=batch_size)"
   ]
  },
  {
   "cell_type": "code",
   "execution_count": 19,
   "metadata": {
    "id": "6wW1nbe2OPlM",
    "outputId": "0cc51279-636e-48ee-a668-051cad5a4a9b"
   },
   "outputs": [
    {
     "data": {
      "text/plain": [
       "380"
      ]
     },
     "execution_count": 19,
     "metadata": {},
     "output_type": "execute_result"
    }
   ],
   "source": [
    "img_shape"
   ]
  },
  {
   "cell_type": "code",
   "execution_count": 20,
   "metadata": {
    "id": "Yh2SCQ91Gyzk"
   },
   "outputs": [],
   "source": [
    "from tensorflow.keras.models import Sequential,Model\n",
    "from tensorflow.keras.layers import Activation, Dropout, Flatten, Dense, Conv2D, MaxPool2D, BatchNormalization,Input,MaxPooling2D,GlobalMaxPooling2D,concatenate\n",
    "from tensorflow.keras.layers import GlobalAveragePooling2D\n",
    "from tensorflow.keras.applications.resnet50 import ResNet50\n",
    "from tensorflow.keras.callbacks import ModelCheckpoint\n",
    "import tensorflow as tf\n"
   ]
  },
  {
   "cell_type": "code",
   "execution_count": 21,
   "metadata": {
    "id": "UR73wULkH2M6",
    "outputId": "a7e63efd-b3ba-435e-e7b3-90828cd1f9d8"
   },
   "outputs": [
    {
     "name": "stderr",
     "output_type": "stream",
     "text": [
      "Using TensorFlow backend.\n"
     ]
    }
   ],
   "source": [
    "wt='../input/efficientnet-keras-noisystudent-weights-b0b7/efficientnet-b4_noisy-student_notop.h5'\n",
    "from efficientnet.tfkeras import EfficientNetB4\n",
    "from keras.applications.vgg16 import VGG16\n",
    "import keras\n",
    "left_input=Input(shape=(img_shape,img_shape,3))\n",
    "right_input=Input(shape=(img_shape,img_shape,3))\n",
    "\n",
    "left_model = EfficientNetB4(input_shape =  (img_shape,img_shape,3), include_top = False, weights = wt,input_tensor=left_input)\n",
    "right_model = EfficientNetB4(input_shape =  (img_shape,img_shape,3), include_top = False, weights = wt,input_tensor=right_input)\n",
    "\n",
    "left_model.trainable = False\n",
    "right_model.trainable = False"
   ]
  },
  {
   "cell_type": "code",
   "execution_count": 22,
   "metadata": {
    "id": "Ml2q6gLRJnDZ"
   },
   "outputs": [],
   "source": [
    "con = concatenate([left_model.output, right_model.output])\n",
    "gap_dr = Dropout(0.5)(con)\n",
    "GAP= GlobalAveragePooling2D()(gap_dr)\n",
    "fc1=Dense(256, activation = 'relu')(GAP)\n",
    "fc2=Dense(128, activation = 'relu')(fc1)\n",
    "fc3=Dense(64, activation = 'relu')(fc2)\n",
    "out = Dense(8, activation = 'sigmoid')(fc3)"
   ]
  },
  {
   "cell_type": "code",
   "execution_count": 23,
   "metadata": {
    "id": "FqzmkMwkJl4u"
   },
   "outputs": [],
   "source": [
    "\n",
    "for layer in right_model._layers:\n",
    "    layer._name = layer._name + '_right'\n",
    "for layer in left_model._layers:\n",
    "    layer._name = layer._name + '_left'\n",
    "\n",
    "left_model._name=\"left_eff\"\n",
    "right_model._name=\"right_eff\""
   ]
  },
  {
   "cell_type": "code",
   "execution_count": 24,
   "metadata": {
    "id": "yhsdxOIzKDWW"
   },
   "outputs": [],
   "source": [
    "model =Model(inputs=[left_input, right_input], outputs=out)\n"
   ]
  },
  {
   "cell_type": "code",
   "execution_count": 25,
   "metadata": {
    "id": "xVWovHlxGh2D"
   },
   "outputs": [],
   "source": [
    "# from keras.utils import plot_model\n",
    "# plot_model(model)"
   ]
  },
  {
   "cell_type": "code",
   "execution_count": 26,
   "metadata": {
    "id": "iwEJjjCkfX5Y"
   },
   "outputs": [],
   "source": [
    "import keras.backend as K\n",
    "def focal_loss(y_true, y_pred, alpha = 0.75, gamma = 2):\n",
    "    alpha_factor = K.ones_like(y_true) * alpha\n",
    "    alpha_factor = tf.where(K.equal(y_true, 1), alpha_factor, 1 - alpha_factor)\n",
    "    focal_weight = tf.where(K.equal(y_true, 1), 1 - y_pred, y_pred)\n",
    "    focal_weight = alpha_factor * focal_weight ** gamma\n",
    "    loss = focal_weight * K.binary_crossentropy(y_true, y_pred)\n",
    "    return loss"
   ]
  },
  {
   "cell_type": "code",
   "execution_count": 27,
   "metadata": {
    "id": "WR_jQXQNfVCp"
   },
   "outputs": [],
   "source": [
    "model.compile('adam',loss=focal_loss,metrics=['accuracy'])"
   ]
  },
  {
   "cell_type": "code",
   "execution_count": 28,
   "metadata": {
    "id": "sjnVWl1UQxRs"
   },
   "outputs": [],
   "source": [
    "step_size_train=len(annotation)/batch_size\n",
    "step_size_val=len(val)/batch_size\n"
   ]
  },
  {
   "cell_type": "code",
   "execution_count": 29,
   "metadata": {
    "id": "hKlqXLgkHRNe"
   },
   "outputs": [],
   "source": [
    "from tensorflow.keras.callbacks import ReduceLROnPlateau,ModelCheckpoint\n",
    "reduce_lr = ReduceLROnPlateau(monitor='val_loss', factor=0.3,\n",
    "                              patience=3, min_lr=0.000001, verbose=1)\n"
   ]
  },
  {
   "cell_type": "code",
   "execution_count": 30,
   "metadata": {
    "id": "Q_K_SSjQJoIk",
    "outputId": "c77032c2-2656-407d-8ab0-29ee090b5ef9"
   },
   "outputs": [
    {
     "name": "stderr",
     "output_type": "stream",
     "text": [
      "/opt/conda/lib/python3.7/site-packages/keras_preprocessing/image/dataframe_iterator.py:220: UserWarning: `classes` will be ignored given the class_mode=\"raw\"\n",
      "  .format(self.class_mode))\n"
     ]
    },
    {
     "name": "stdout",
     "output_type": "stream",
     "text": [
      "Found 2800 validated image filenames.\n",
      "Found 2800 validated image filenames.\n",
      "Found 700 validated image filenames.\n",
      "Found 700 validated image filenames.\n",
      "187/186 - 1344s - loss: 0.0414 - accuracy: 0.3175 - val_loss: 0.0391 - val_accuracy: 0.3914 - lr: 0.0010\n"
     ]
    }
   ],
   "source": [
    "hist=model.fit(train_gen, epochs=1,\n",
    "                        steps_per_epoch=step_size_train,\n",
    "                        use_multiprocessing=False,\n",
    "                        validation_data=valid_gen,\n",
    "                        validation_steps=step_size_val,\n",
    "                        verbose=2,callbacks=[reduce_lr],\n",
    "                    \n",
    "                        )"
   ]
  },
  {
   "cell_type": "code",
   "execution_count": 31,
   "metadata": {
    "id": "JrQCxAMLLPlD"
   },
   "outputs": [
    {
     "data": {
      "text/plain": [
       "<tensorflow.python.keras.callbacks.History at 0x7f8bedf19b10>"
      ]
     },
     "execution_count": 31,
     "metadata": {},
     "output_type": "execute_result"
    }
   ],
   "source": [
    "hist"
   ]
  },
  {
   "cell_type": "code",
   "execution_count": 32,
   "metadata": {
    "id": "jYRXBCYmJhHm",
    "outputId": "fafdd498-3dff-4bc1-8a91-ae3a76b406e9"
   },
   "outputs": [
    {
     "data": {
      "image/png": "[encoded data removed]",
      "text/plain": [
       "<Figure size 432x288 with 1 Axes>"
      ]
     },
     "metadata": {
      "needs_background": "light"
     },
     "output_type": "display_data"
    }
   ],
   "source": [
    "import matplotlib.pyplot as plt\n",
    "\n",
    "plt.plot(hist.history['loss'])\n",
    "plt.plot(hist.history['val_loss'])\n",
    "plt.title('model loss')\n",
    "plt.ylabel('loss')\n",
    "plt.xlabel('epoch')\n",
    "plt.legend(['train', 'test'], loc='upper left')\n",
    "plt.show()"
   ]
  },
  {
   "cell_type": "code",
   "execution_count": 33,
   "metadata": {
    "id": "2_XdXICBMR6o",
    "outputId": "83362bb4-abfe-42a7-8811-7c13db44661f"
   },
   "outputs": [],
   "source": [
    "y_pred = model.predict(valid_gen,steps=step_size_val)\n",
    "y_pred1=y_pred.copy()\n",
    "y_pred1[y_pred1>=0.5] = 1\n",
    "y_pred1[y_pred1<0.5] = 0\n",
    "y_pred1=y_pred1.astype(int)"
   ]
  },
  {
   "cell_type": "code",
   "execution_count": null,
   "metadata": {
    "id": "t1xf_D1hn7ZE"
   },
   "outputs": [],
   "source": []
  },
  {
   "cell_type": "code",
   "execution_count": 34,
   "metadata": {
    "id": "LK7dhwnUodZ7"
   },
   "outputs": [
    {
     "data": {
      "text/plain": [
       "(700, 8)"
      ]
     },
     "execution_count": 34,
     "metadata": {},
     "output_type": "execute_result"
    }
   ],
   "source": [
    "y_true=val.iloc[:,-8::].values\n",
    "y_true.shape"
   ]
  },
  {
   "cell_type": "code",
   "execution_count": 35,
   "metadata": {
    "id": "ePPDphOcn90N"
   },
   "outputs": [
    {
     "data": {
      "text/plain": [
       "array([[[ 55, 415],\n",
       "        [ 27, 203]],\n",
       "\n",
       "       [[ 19, 457],\n",
       "        [  8, 216]],\n",
       "\n",
       "       [[662,   5],\n",
       "        [ 33,   0]],\n",
       "\n",
       "       [[613,  42],\n",
       "        [ 44,   1]],\n",
       "\n",
       "       [[661,   0],\n",
       "        [ 39,   0]],\n",
       "\n",
       "       [[681,   0],\n",
       "        [ 19,   0]],\n",
       "\n",
       "       [[638,  23],\n",
       "        [ 39,   0]],\n",
       "\n",
       "       [[134, 384],\n",
       "        [ 50, 132]]])"
      ]
     },
     "execution_count": 35,
     "metadata": {},
     "output_type": "execute_result"
    }
   ],
   "source": [
    "from sklearn.metrics import classification_report\n",
    "from sklearn.metrics import accuracy_score\n",
    "from sklearn.metrics import multilabel_confusion_matrix\n",
    "\n",
    "multilabel_confusion_matrix(y_true, y_pred1)"
   ]
  },
  {
   "cell_type": "code",
   "execution_count": 36,
   "metadata": {
    "id": "mpKNYxITn_-8"
   },
   "outputs": [
    {
     "name": "stdout",
     "output_type": "stream",
     "text": [
      "              precision    recall  f1-score   support\n",
      "\n",
      "           N       0.33      0.88      0.48       230\n",
      "           D       0.32      0.96      0.48       224\n",
      "           G       0.00      0.00      0.00        33\n",
      "           C       0.02      0.02      0.02        45\n",
      "           A       0.00      0.00      0.00        39\n",
      "           H       0.00      0.00      0.00        19\n",
      "           M       0.00      0.00      0.00        39\n",
      "           O       0.26      0.73      0.38       182\n",
      "\n",
      "   micro avg       0.29      0.68      0.41       811\n",
      "   macro avg       0.12      0.32      0.17       811\n",
      "weighted avg       0.24      0.68      0.35       811\n",
      " samples avg       0.29      0.69      0.40       811\n",
      "\n"
     ]
    },
    {
     "name": "stderr",
     "output_type": "stream",
     "text": [
      "/opt/conda/lib/python3.7/site-packages/sklearn/metrics/_classification.py:1221: UndefinedMetricWarning: Precision and F-score are ill-defined and being set to 0.0 in labels with no predicted samples. Use `zero_division` parameter to control this behavior.\n",
      "  _warn_prf(average, modifier, msg_start, len(result))\n"
     ]
    }
   ],
   "source": [
    "target_names = ['N','D','G','C','A','H','M','O']\n",
    "print(classification_report(y_true, y_pred1, target_names=target_names))"
   ]
  },
  {
   "cell_type": "code",
   "execution_count": 37,
   "metadata": {},
   "outputs": [
    {
     "data": {
      "text/plain": [
       "0.2610897311452176"
      ]
     },
     "execution_count": 37,
     "metadata": {},
     "output_type": "execute_result"
    }
   ],
   "source": [
    "from sklearn.metrics import classification_report,cohen_kappa_score\n",
    "cohen_kappa_score(y_true.flatten(), y_pred1.flatten())"
   ]
  },
  {
   "cell_type": "code",
   "execution_count": 38,
   "metadata": {
    "id": "_07ZnzJVS6V7"
   },
   "outputs": [],
   "source": [
    "#model.load_weights('model.h5')"
   ]
  },
  {
   "cell_type": "code",
   "execution_count": 39,
   "metadata": {
    "id": "UvQM1WK-TNFc"
   },
   "outputs": [
    {
     "name": "stdout",
     "output_type": "stream",
     "text": [
      "Found 500 validated image filenames.\n",
      "Found 500 validated image filenames.\n"
     ]
    }
   ],
   "source": [
    "y_test= model.predict(test_gen,steps=len(test)/batch_size)\n"
   ]
  },
  {
   "cell_type": "code",
   "execution_count": 40,
   "metadata": {
    "id": "MK_o2xCF7obl"
   },
   "outputs": [],
   "source": [
    "for i,j in enumerate(['N','D','G','C','A','H','M','O']):\n",
    "    test[j]=y_test[:,i]"
   ]
  },
  {
   "cell_type": "code",
   "execution_count": 41,
   "metadata": {
    "id": "blfhoD498HM5",
    "outputId": "7ae69f1c-2184-4415-c132-0a1cc85a41c0"
   },
   "outputs": [
    {
     "data": {
      "text/html": [
       "<div>\n",
       "<style scoped>\n",
       "    .dataframe tbody tr th:only-of-type {\n",
       "        vertical-align: middle;\n",
       "    }\n",
       "\n",
       "    .dataframe tbody tr th {\n",
       "        vertical-align: top;\n",
       "    }\n",
       "\n",
       "    .dataframe thead th {\n",
       "        text-align: right;\n",
       "    }\n",
       "</style>\n",
       "<table border=\"1\" class=\"dataframe\">\n",
       "  <thead>\n",
       "    <tr style=\"text-align: right;\">\n",
       "      <th></th>\n",
       "      <th>ID</th>\n",
       "      <th>N</th>\n",
       "      <th>D</th>\n",
       "      <th>G</th>\n",
       "      <th>C</th>\n",
       "      <th>A</th>\n",
       "      <th>H</th>\n",
       "      <th>M</th>\n",
       "      <th>O</th>\n",
       "    </tr>\n",
       "  </thead>\n",
       "  <tbody>\n",
       "    <tr>\n",
       "      <th>0</th>\n",
       "      <td>937</td>\n",
       "      <td>0.565141</td>\n",
       "      <td>0.612121</td>\n",
       "      <td>0.367233</td>\n",
       "      <td>0.224139</td>\n",
       "      <td>0.238431</td>\n",
       "      <td>0.314779</td>\n",
       "      <td>0.106141</td>\n",
       "      <td>0.507522</td>\n",
       "    </tr>\n",
       "    <tr>\n",
       "      <th>1</th>\n",
       "      <td>967</td>\n",
       "      <td>0.535142</td>\n",
       "      <td>0.617777</td>\n",
       "      <td>0.318843</td>\n",
       "      <td>0.125208</td>\n",
       "      <td>0.288398</td>\n",
       "      <td>0.338110</td>\n",
       "      <td>0.126451</td>\n",
       "      <td>0.508373</td>\n",
       "    </tr>\n",
       "    <tr>\n",
       "      <th>2</th>\n",
       "      <td>988</td>\n",
       "      <td>0.545278</td>\n",
       "      <td>0.606730</td>\n",
       "      <td>0.356492</td>\n",
       "      <td>0.182700</td>\n",
       "      <td>0.273112</td>\n",
       "      <td>0.336054</td>\n",
       "      <td>0.154254</td>\n",
       "      <td>0.515554</td>\n",
       "    </tr>\n",
       "    <tr>\n",
       "      <th>3</th>\n",
       "      <td>995</td>\n",
       "      <td>0.555603</td>\n",
       "      <td>0.647412</td>\n",
       "      <td>0.322693</td>\n",
       "      <td>0.139048</td>\n",
       "      <td>0.239833</td>\n",
       "      <td>0.318549</td>\n",
       "      <td>0.086209</td>\n",
       "      <td>0.503334</td>\n",
       "    </tr>\n",
       "    <tr>\n",
       "      <th>4</th>\n",
       "      <td>1000</td>\n",
       "      <td>0.573900</td>\n",
       "      <td>0.586680</td>\n",
       "      <td>0.436465</td>\n",
       "      <td>0.271524</td>\n",
       "      <td>0.264364</td>\n",
       "      <td>0.264375</td>\n",
       "      <td>0.153224</td>\n",
       "      <td>0.523331</td>\n",
       "    </tr>\n",
       "  </tbody>\n",
       "</table>\n",
       "</div>"
      ],
      "text/plain": [
       "     ID         N         D         G         C         A         H         M  \\\n",
       "0   937  0.565141  0.612121  0.367233  0.224139  0.238431  0.314779  0.106141   \n",
       "1   967  0.535142  0.617777  0.318843  0.125208  0.288398  0.338110  0.126451   \n",
       "2   988  0.545278  0.606730  0.356492  0.182700  0.273112  0.336054  0.154254   \n",
       "3   995  0.555603  0.647412  0.322693  0.139048  0.239833  0.318549  0.086209   \n",
       "4  1000  0.573900  0.586680  0.436465  0.271524  0.264364  0.264375  0.153224   \n",
       "\n",
       "          O  \n",
       "0  0.507522  \n",
       "1  0.508373  \n",
       "2  0.515554  \n",
       "3  0.503334  \n",
       "4  0.523331  "
      ]
     },
     "execution_count": 41,
     "metadata": {},
     "output_type": "execute_result"
    }
   ],
   "source": [
    "test.head()"
   ]
  },
  {
   "cell_type": "code",
   "execution_count": 42,
   "metadata": {
    "id": "spGpr4_X7fRb"
   },
   "outputs": [],
   "source": [
    "test.to_csv('TAC_ODIR.csv',index=False)"
   ]
  },
  {
   "cell_type": "code",
   "execution_count": null,
   "metadata": {
    "id": "QblbLh26tm9g"
   },
   "outputs": [],
   "source": []
  }
 ],
 "metadata": {
  "kernelspec": {
   "display_name": "Python 3",
   "language": "python",
   "name": "python3"
  },
  "language_info": {
   "codemirror_mode": {
    "name": "ipython",
    "version": 3
   },
   "file_extension": ".py",
   "mimetype": "text/x-python",
   "name": "python",
   "nbconvert_exporter": "python",
   "pygments_lexer": "ipython3",
   "version": "3.7.6"
  }
 },
 "nbformat": 4,
 "nbformat_minor": 4
}
