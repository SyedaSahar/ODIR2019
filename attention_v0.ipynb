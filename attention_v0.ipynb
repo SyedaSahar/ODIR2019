{
  "nbformat": 4,
  "nbformat_minor": 0,
  "metadata": {
    "colab": {
      "name": "Copy of ghina_mam.ipynb",
      "provenance": [],
      "collapsed_sections": [],
      "machine_shape": "hm",
      "include_colab_link": true
    },
    "kernelspec": {
      "name": "python3",
      "display_name": "Python 3"
    },
    "accelerator": "GPU"
  },
  "cells": [
    {
      "cell_type": "markdown",
      "metadata": {
        "id": "view-in-github",
        "colab_type": "text"
      },
      "source": [
        "<a href=\"https://colab.research.google.com/github/talhaanwarch/ODIR2019/blob/master/attention_v0.ipynb\" target=\"_parent\"><img src=\"https://colab.research.google.com/assets/colab-badge.svg\" alt=\"Open In Colab\"/></a>"
      ]
    },
    {
      "cell_type": "markdown",
      "metadata": {
        "id": "2mnKJ_EpENGn",
        "colab_type": "text"
      },
      "source": [
        "#TODO\n",
        "*cross check the implementation by some one expert"
      ]
    },
    {
      "cell_type": "markdown",
      "metadata": {
        "id": "IQ5RT2Rm99hw",
        "colab_type": "text"
      },
      "source": [
        "#heling material\n",
        "https://github.com/ivashnyov/ODIR/issues/1  \n",
        "https://github.com/nnnnew/ODIR  \n",
        "https://github.com/DecentMakeover/odir_winningsubmission"
      ]
    },
    {
      "cell_type": "markdown",
      "metadata": {
        "id": "YZl-KcWFwfVz",
        "colab_type": "text"
      },
      "source": [
        "# read data from directory"
      ]
    },
    {
      "cell_type": "code",
      "metadata": {
        "id": "Asm-YEP0po4m",
        "colab_type": "code",
        "outputId": "360edbea-75a4-47b6-ae0b-930a05520080",
        "colab": {
          "base_uri": "https://localhost:8080/",
          "height": 121
        }
      },
      "source": [
        "#connect drive with colab notebook\n",
        "from google.colab import drive\n",
        "drive.mount('/content/drive',force_remount=True)"
      ],
      "execution_count": 0,
      "outputs": [
        {
          "output_type": "stream",
          "text": [
            "Go to this URL in a browser: https://accounts.google.com/o/oauth2/auth?client_id=947318989803-6bn6qk8qdgf4n4g3pfee6491hc0brc4i.apps.googleusercontent.com&redirect_uri=urn%3aietf%3awg%3aoauth%3a2.0%3aoob&response_type=code&scope=email%20https%3a%2f%2fwww.googleapis.com%2fauth%2fdocs.test%20https%3a%2f%2fwww.googleapis.com%2fauth%2fdrive%20https%3a%2f%2fwww.googleapis.com%2fauth%2fdrive.photos.readonly%20https%3a%2f%2fwww.googleapis.com%2fauth%2fpeopleapi.readonly\n",
            "\n",
            "Enter your authorization code:\n",
            "··········\n",
            "Mounted at /content/drive\n"
          ],
          "name": "stdout"
        }
      ]
    },
    {
      "cell_type": "code",
      "metadata": {
        "id": "MkOO_7cPySEh",
        "colab_type": "code",
        "colab": {}
      },
      "source": [
        "# #save variables in drive, so next we can load them directly\n",
        "import numpy as np\n",
        "#for mam\n",
        "# XL=np.load('/content/drive/My Drive/thesis/XL.npy')\n",
        "# XR=np.load('/content/drive/My Drive/thesis/XR.npy')\n",
        "# y=np.load('/content/drive/My Drive/thesis/y.npy')\n",
        "\n",
        "XL=np.load('/content/drive/My Drive/ghina/thesis/XL.npy')\n",
        "XR=np.load('/content/drive/My Drive/ghina/thesis/XR.npy')\n",
        "y=np.load('/content/drive/My Drive/ghina/thesis/y.npy')"
      ],
      "execution_count": 0,
      "outputs": []
    },
    {
      "cell_type": "code",
      "metadata": {
        "id": "HnTwKzBwN7gJ",
        "colab_type": "code",
        "colab": {}
      },
      "source": [
        "#split data\n",
        "from sklearn.model_selection import train_test_split\n",
        "XL_train, XL_val, yL_train, yL_val = train_test_split(XL, y, test_size=0.2, random_state=42)\n",
        "XR_train, XR_val, yR_train, yR_val = train_test_split(XR, y, test_size=0.2, random_state=42)"
      ],
      "execution_count": 0,
      "outputs": []
    },
    {
      "cell_type": "code",
      "metadata": {
        "id": "V_o6MLLHA7u2",
        "colab_type": "code",
        "outputId": "211d3463-1659-4caf-9ce4-31e3bc5be129",
        "colab": {
          "base_uri": "https://localhost:8080/",
          "height": 34
        }
      },
      "source": [
        "len(yL_val),len(yR_val)"
      ],
      "execution_count": 0,
      "outputs": [
        {
          "output_type": "execute_result",
          "data": {
            "text/plain": [
              "(700, 700)"
            ]
          },
          "metadata": {
            "tags": []
          },
          "execution_count": 10
        }
      ]
    },
    {
      "cell_type": "code",
      "metadata": {
        "id": "mF1XjP9JPTdA",
        "colab_type": "code",
        "outputId": "6e280637-fea9-4863-ee8c-70867e8b646b",
        "colab": {
          "base_uri": "https://localhost:8080/",
          "height": 34
        }
      },
      "source": [
        "sum(XL_val==XR_val).any()"
      ],
      "execution_count": 0,
      "outputs": [
        {
          "output_type": "execute_result",
          "data": {
            "text/plain": [
              "True"
            ]
          },
          "metadata": {
            "tags": []
          },
          "execution_count": 11
        }
      ]
    },
    {
      "cell_type": "code",
      "metadata": {
        "id": "hOm7hAqAxeQU",
        "colab_type": "code",
        "outputId": "10660cc5-41ab-4172-e0e3-ac340d2a5d04",
        "colab": {
          "base_uri": "https://localhost:8080/",
          "height": 34
        }
      },
      "source": [
        "sum(yL_val==yR_val)"
      ],
      "execution_count": 0,
      "outputs": [
        {
          "output_type": "execute_result",
          "data": {
            "text/plain": [
              "array([700, 700, 700, 700, 700, 700, 700, 700])"
            ]
          },
          "metadata": {
            "tags": []
          },
          "execution_count": 12
        }
      ]
    },
    {
      "cell_type": "markdown",
      "metadata": {
        "id": "7oEr38G4NMqp",
        "colab_type": "text"
      },
      "source": [
        "#Date generator"
      ]
    },
    {
      "cell_type": "code",
      "metadata": {
        "id": "CUaHXkuzQ2pd",
        "colab_type": "code",
        "colab": {}
      },
      "source": [
        "BATCH_SIZE=32"
      ],
      "execution_count": 0,
      "outputs": []
    },
    {
      "cell_type": "code",
      "metadata": {
        "id": "bg_nzztvNKxR",
        "colab_type": "code",
        "colab": {}
      },
      "source": [
        "#data generator\n",
        "from keras.preprocessing.image import ImageDataGenerator\n",
        "train_datagen = ImageDataGenerator(rotation_range=30, # rotate the image 30 degrees\n",
        "                               width_shift_range=0.1, # Shift the pic width by a max of 10%\n",
        "                               height_shift_range=0.1, # Shift the pic height by a max of 10%\n",
        "                               rescale=1/255, # Rescale the image by normalzing it.\n",
        "                               shear_range=0.2, # Shear means cutting away part of the image (max 20%)\n",
        "                               zoom_range=0.2, # Zoom in by 20% max\n",
        "                               horizontal_flip=True, # Allo horizontal flipping\n",
        "                               vertical_flip=False,\n",
        "                               fill_mode='nearest'# Fill in missing pixels with the nearest filled value\n",
        "                                )\n",
        "val_datagen=ImageDataGenerator(rescale=1/255)"
      ],
      "execution_count": 0,
      "outputs": []
    },
    {
      "cell_type": "code",
      "metadata": {
        "id": "yt7WdAzqNS3H",
        "colab_type": "code",
        "colab": {}
      },
      "source": [
        "def multi_train_gen(gen,XR_train,XL_train,yR_train,yL_train):\n",
        "  XR_generator = train_datagen.flow(XR_train, yR_train, batch_size=BATCH_SIZE)\n",
        "  XL_generator = train_datagen.flow(XL_train, yL_train, batch_size=BATCH_SIZE)\n",
        "  while True:\n",
        "    X1i = XR_generator.next()\n",
        "    X2i = XL_generator.next()\n",
        "    yield [X1i[0], X2i[0]], X2i[1] "
      ],
      "execution_count": 0,
      "outputs": []
    },
    {
      "cell_type": "code",
      "metadata": {
        "id": "VgnHS9VYWP54",
        "colab_type": "code",
        "colab": {}
      },
      "source": [
        "input_gen=multi_train_gen(train_datagen,XR_train,XL_train,yR_train,yL_train)    "
      ],
      "execution_count": 0,
      "outputs": []
    },
    {
      "cell_type": "code",
      "metadata": {
        "id": "pkalsuRYVW3s",
        "colab_type": "code",
        "colab": {}
      },
      "source": [
        "def multi_val_gen(gen,XR_val,XL_val,yR_val,yL_val):\n",
        "  vR_generator = val_datagen.flow(XR_val, yR_val, batch_size=BATCH_SIZE)\n",
        "  vL_generator = val_datagen.flow(XL_val, yL_val, batch_size=BATCH_SIZE)\n",
        "\n",
        "  while True:\n",
        "    X1i = vR_generator.next()\n",
        "    X2i = vL_generator.next()\n",
        "    yield [X1i[0], X2i[0]], X2i[1] "
      ],
      "execution_count": 0,
      "outputs": []
    },
    {
      "cell_type": "code",
      "metadata": {
        "id": "z-WGRmkVWzWW",
        "colab_type": "code",
        "colab": {}
      },
      "source": [
        "val_gen=multi_val_gen(val_datagen,XR_val,XL_val,yR_val,yL_val)    "
      ],
      "execution_count": 0,
      "outputs": []
    },
    {
      "cell_type": "code",
      "metadata": {
        "id": "qQut65acNdCr",
        "colab_type": "code",
        "colab": {}
      },
      "source": [
        "#steps_train = XR_generator.n//XR_generator.batch_size\n",
        "#steps_valid = vR_generator.n//vR_generator.batch_size\n"
      ],
      "execution_count": 0,
      "outputs": []
    },
    {
      "cell_type": "code",
      "metadata": {
        "id": "K49Hce9IX7nn",
        "colab_type": "code",
        "outputId": "e7b30b44-7bb7-460c-f34d-5e1bdc1b1a10",
        "colab": {
          "base_uri": "https://localhost:8080/",
          "height": 34
        }
      },
      "source": [
        "steps_train=(len(XL_train)/BATCH_SIZE)\n",
        "steps_train"
      ],
      "execution_count": 0,
      "outputs": [
        {
          "output_type": "execute_result",
          "data": {
            "text/plain": [
              "87.5"
            ]
          },
          "metadata": {
            "tags": []
          },
          "execution_count": 19
        }
      ]
    },
    {
      "cell_type": "code",
      "metadata": {
        "id": "QkcROJNPX9aB",
        "colab_type": "code",
        "outputId": "42ee070c-1af7-460b-aeb6-f14f64e15876",
        "colab": {
          "base_uri": "https://localhost:8080/",
          "height": 34
        }
      },
      "source": [
        "steps_valid=(len(XL_val)/BATCH_SIZE)\n",
        "steps_valid"
      ],
      "execution_count": 0,
      "outputs": [
        {
          "output_type": "execute_result",
          "data": {
            "text/plain": [
              "21.875"
            ]
          },
          "metadata": {
            "tags": []
          },
          "execution_count": 20
        }
      ]
    },
    {
      "cell_type": "markdown",
      "metadata": {
        "id": "NNcIVzf87sra",
        "colab_type": "text"
      },
      "source": [
        "#RESNET 50"
      ]
    },
    {
      "cell_type": "markdown",
      "metadata": {
        "id": "ru9A_qSDFHn-",
        "colab_type": "text"
      },
      "source": [
        "following idea is borrowed from following link. \n",
        "https://github.com/nnnnew/ODIR/blob/master/train/2_pretrained_model_and_1_classifier.ipynb  \n",
        "Data Generator is combined with multiinput model .\n",
        "Thanks to https://github.com/keras-team/keras/issues/8130#issuecomment-336855177  \n",
        "default input size for resent is `224x224`  \n",
        "https://keras.io/applications/#resnet"
      ]
    },
    {
      "cell_type": "code",
      "metadata": {
        "id": "JD0az2PQBROD",
        "colab_type": "code",
        "colab": {}
      },
      "source": [
        "from keras.models import Sequential,Model\n",
        "from keras.layers import Activation, Dropout, Flatten, Dense, Conv2D, MaxPool2D, BatchNormalization,Input\n",
        "from keras.layers import GlobalAveragePooling2D\n",
        "from keras.applications.resnet50 import ResNet50\n",
        "from keras.applications.inception_v3 import InceptionV3\n",
        "from keras.callbacks import ModelCheckpoint, ReduceLROnPlateau\n",
        "import tensorflow as tf\n",
        "tf.logging.set_verbosity(tf.logging.ERROR)"
      ],
      "execution_count": 0,
      "outputs": []
    },
    {
      "cell_type": "code",
      "metadata": {
        "id": "yxrhvg2J40xY",
        "colab_type": "code",
        "colab": {}
      },
      "source": [
        "def macro_soft_f1(y, y_hat):\n",
        "    \"\"\"Compute the macro soft F1-score as a cost (average 1 - soft-F1 across all labels).\n",
        "    Use probability values instead of binary predictions.\n",
        "    \n",
        "    Args:\n",
        "        y (int32 Tensor): targets array of shape (BATCH_SIZE, N_LABELS)\n",
        "        y_hat (float32 Tensor): probability matrix from forward propagation of shape (BATCH_SIZE, N_LABELS)\n",
        "        \n",
        "    Returns:\n",
        "        cost (scalar Tensor): value of the cost function for the batch\n",
        "    \"\"\"\n",
        "    y = tf.cast(y, tf.float32)\n",
        "    y_hat = tf.cast(y_hat, tf.float32)\n",
        "    tp = tf.reduce_sum(y_hat * y, axis=0)\n",
        "    fp = tf.reduce_sum(y_hat * (1 - y), axis=0)\n",
        "    fn = tf.reduce_sum((1 - y_hat) * y, axis=0)\n",
        "    soft_f1 = 2*tp / (2*tp + fn + fp + 1e-16)\n",
        "    cost = 1 - soft_f1 # reduce 1 - soft-f1 in order to increase soft-f1\n",
        "    macro_cost = tf.reduce_mean(cost) # average on all labels\n",
        "    return macro_cost"
      ],
      "execution_count": 0,
      "outputs": []
    },
    {
      "cell_type": "code",
      "metadata": {
        "id": "HsKL2MnpAeUj",
        "colab_type": "code",
        "colab": {}
      },
      "source": [
        "@tf.function\n",
        "def macro_f1(y, y_hat, thresh=0.5):\n",
        "    \"\"\"Compute the macro F1-score on a batch of observations (average F1 across labels)\n",
        "    \n",
        "    Args:\n",
        "        y (int32 Tensor): labels array of shape (BATCH_SIZE, N_LABELS)\n",
        "        y_hat (float32 Tensor): probability matrix from forward propagation of shape (BATCH_SIZE, N_LABELS)\n",
        "        thresh: probability value above which we predict positive\n",
        "        \n",
        "    Returns:\n",
        "        macro_f1 (scalar Tensor): value of macro F1 for the batch\n",
        "    \"\"\"\n",
        "    y_pred = tf.cast(tf.greater(y_hat, thresh), tf.float32)\n",
        "    tp = tf.cast(tf.math.count_nonzero(y_pred * y, axis=0), tf.float32)\n",
        "    fp = tf.cast(tf.math.count_nonzero(y_pred * (1 - y), axis=0), tf.float32)\n",
        "    fn = tf.cast(tf.math.count_nonzero((1 - y_pred) * y, axis=0), tf.float32)\n",
        "    f1 = 2*tp / (2*tp + fn + fp + 1e-16)\n",
        "    macro_f1 = tf.reduce_mean(f1)\n",
        "    return macro_f1"
      ],
      "execution_count": 0,
      "outputs": []
    },
    {
      "cell_type": "code",
      "metadata": {
        "id": "jV4sgHk6DkVE",
        "colab_type": "code",
        "outputId": "4939d4ec-4aff-463b-cecc-fc823e403563",
        "colab": {
          "base_uri": "https://localhost:8080/",
          "height": 70
        }
      },
      "source": [
        "import keras\n",
        "left_input=Input(shape=XL.shape[1::])\n",
        "right_input=Input(shape=XR.shape[1::])\n",
        "\n",
        "left_model = InceptionV3(include_top=False,input_tensor=left_input)\n",
        "# for layer in left_model.layers:\n",
        "#         layer.name = layer.name + '_left'\n",
        "#         layer.trainable = True\n",
        "\n",
        "\n",
        "right_model = InceptionV3(include_top=False,input_tensor=right_input)\n",
        "# for layer in right_model.layers:\n",
        "#         layer.name = layer.name + '_right'\n",
        "#         layer.trainable = True\n"
      ],
      "execution_count": 0,
      "outputs": [
        {
          "output_type": "stream",
          "text": [
            "Downloading data from https://github.com/fchollet/deep-learning-models/releases/download/v0.5/inception_v3_weights_tf_dim_ordering_tf_kernels_notop.h5\n",
            "87916544/87910968 [==============================] - 1s 0us/step\n"
          ],
          "name": "stdout"
        }
      ]
    },
    {
      "cell_type": "code",
      "metadata": {
        "id": "K4Qkc1zv8DMX",
        "colab_type": "code",
        "outputId": "f84b0634-633e-4777-a04e-bdd1167a54d8",
        "colab": {
          "base_uri": "https://localhost:8080/",
          "height": 34
        }
      },
      "source": [
        "pt_depth = right_model.get_output_shape_at(0)[-1]\n",
        "print(pt_depth)\n",
        "\n",
        "left_bn = BatchNormalization()(left_model.output)\n",
        "right_bn = BatchNormalization()(right_model.output)\n"
      ],
      "execution_count": 0,
      "outputs": [
        {
          "output_type": "stream",
          "text": [
            "2048\n"
          ],
          "name": "stdout"
        }
      ]
    },
    {
      "cell_type": "code",
      "metadata": {
        "id": "XmNy1Xly8Isv",
        "colab_type": "code",
        "colab": {}
      },
      "source": [
        "from keras.layers import GlobalAveragePooling2D, Dense, Dropout, Flatten, Input, Conv2D, multiply, LocallyConnected2D, Lambda\n",
        "def attention(bn):\n",
        "  attn_layer = Conv2D(64, kernel_size = (1,1), padding = 'same', activation = 'relu')(bn)\n",
        "  attn_layer = Conv2D(16, kernel_size = (1,1), padding = 'same', activation = 'relu')(attn_layer)\n",
        "  attn_layer = LocallyConnected2D(1, kernel_size = (1,1), padding = 'valid', activation = 'sigmoid')(attn_layer)\n",
        "  up_c2_w = np.ones((1, 1, 1, pt_depth))\n",
        "  up_c2 = Conv2D(pt_depth, kernel_size = (1,1), padding = 'same', activation = 'linear', use_bias = False, weights = [up_c2_w])\n",
        "  up_c2.trainable = False\n",
        "  attn_layer = up_c2(attn_layer)\n",
        "  mask_features = multiply([attn_layer, bn])\n",
        "  gap_features = GlobalAveragePooling2D()(mask_features)\n",
        "  gap_mask = GlobalAveragePooling2D()(attn_layer)\n",
        "  # to account for missing values from the attention model\n",
        "  gap = Lambda(lambda x: x[0]/x[1])([gap_features, gap_mask])\n",
        "  gap_dr = Dropout(0.5)(gap)\n",
        "  dr_steps = Dropout(0.25)(Dense(1024, activation = 'elu')(gap_dr))\n",
        "  return dr_steps"
      ],
      "execution_count": 0,
      "outputs": []
    },
    {
      "cell_type": "code",
      "metadata": {
        "id": "MOtjd69Q9XsE",
        "colab_type": "code",
        "colab": {}
      },
      "source": [
        "left_atten=attention(left_bn)\n",
        "right_atten=attention(right_bn)"
      ],
      "execution_count": 0,
      "outputs": []
    },
    {
      "cell_type": "code",
      "metadata": {
        "id": "Gny8HvRb-zq6",
        "colab_type": "code",
        "colab": {}
      },
      "source": [
        "for layer in right_model.layers:\n",
        "        layer.name = layer.name + '_right'\n",
        "for layer in left_model.layers:\n",
        "  layer.name = layer.name + '_left'"
      ],
      "execution_count": 0,
      "outputs": []
    },
    {
      "cell_type": "code",
      "metadata": {
        "id": "xDrQ35gYJ67q",
        "colab_type": "code",
        "colab": {}
      },
      "source": [
        "\n",
        "x = keras.layers.concatenate([left_atten, right_atten])\n",
        "\n",
        "\n",
        "out = keras.layers.Dense(8, activation='sigmoid')(x)\n",
        "model = keras.models.Model(inputs=[left_input, right_input], outputs=out)\n",
        "#https://www.kaggle.com/xhlulu/aptos-2019-densenet-keras-starter"
      ],
      "execution_count": 0,
      "outputs": []
    },
    {
      "cell_type": "code",
      "metadata": {
        "colab_type": "code",
        "id": "spz5zz-W9J2K",
        "colab": {}
      },
      "source": [
        "from keras.optimizers import Adam,RMSprop\n",
        "opt = RMSprop(lr=1e-3,decay=0.2)\n",
        "model.compile(optimizer=opt, loss='binary_crossentropy', metrics=[macro_f1])\n",
        "#model.compile(optimizer=opt, loss='binary_crossentropy', metrics=['macro_f1'])\n",
        "#https://github.com/ashrefm/multi-label-soft-f1/blob/master/Multi-Label%20Image%20Classification%20in%20TensorFlow%202.0.ipynb"
      ],
      "execution_count": 0,
      "outputs": []
    },
    {
      "cell_type": "code",
      "metadata": {
        "id": "Gnd3sJ78RTtl",
        "colab_type": "code",
        "outputId": "54da1cda-7a74-470f-9874-33f9a4ea9fcf",
        "colab": {
          "base_uri": "https://localhost:8080/",
          "height": 824
        }
      },
      "source": [
        "history=model.fit_generator(generator=input_gen,\n",
        "                        steps_per_epoch=steps_train,\n",
        "                        validation_data=val_gen,\n",
        "                        validation_steps=steps_valid,\n",
        "                        epochs=30,\n",
        "                        class_weight=[0.5,0.5,1.5,1.5,1.5,1.5,1.5,0.7]\n",
        "                        )"
      ],
      "execution_count": 0,
      "outputs": [
        {
          "output_type": "stream",
          "text": [
            "Epoch 1/30\n",
            "88/87 [==============================] - 61s 690ms/step - loss: 0.2867 - macro_f1: 0.3022 - val_loss: 0.3106 - val_macro_f1: 0.2943\n",
            "Epoch 2/30\n",
            "88/87 [==============================] - 58s 663ms/step - loss: 0.2875 - macro_f1: 0.3199 - val_loss: 0.3086 - val_macro_f1: 0.2705\n",
            "Epoch 3/30\n",
            "88/87 [==============================] - 58s 659ms/step - loss: 0.2883 - macro_f1: 0.3099 - val_loss: 0.3091 - val_macro_f1: 0.2763\n",
            "Epoch 4/30\n",
            "88/87 [==============================] - 58s 654ms/step - loss: 0.2895 - macro_f1: 0.3249 - val_loss: 0.3065 - val_macro_f1: 0.2824\n",
            "Epoch 5/30\n",
            "88/87 [==============================] - 58s 658ms/step - loss: 0.2818 - macro_f1: 0.3263 - val_loss: 0.3083 - val_macro_f1: 0.2822\n",
            "Epoch 6/30\n",
            "88/87 [==============================] - 58s 658ms/step - loss: 0.2809 - macro_f1: 0.3322 - val_loss: 0.3049 - val_macro_f1: 0.2780\n",
            "Epoch 7/30\n",
            "88/87 [==============================] - 58s 655ms/step - loss: 0.2868 - macro_f1: 0.3115 - val_loss: 0.3058 - val_macro_f1: 0.2804\n",
            "Epoch 8/30\n",
            "88/87 [==============================] - 58s 660ms/step - loss: 0.2794 - macro_f1: 0.3253 - val_loss: 0.3058 - val_macro_f1: 0.2899\n",
            "Epoch 9/30\n",
            "88/87 [==============================] - 58s 654ms/step - loss: 0.2831 - macro_f1: 0.3365 - val_loss: 0.3087 - val_macro_f1: 0.2797\n",
            "Epoch 10/30\n",
            "88/87 [==============================] - 58s 655ms/step - loss: 0.2786 - macro_f1: 0.3362 - val_loss: 0.3093 - val_macro_f1: 0.2870\n",
            "Epoch 11/30\n",
            "88/87 [==============================] - 58s 655ms/step - loss: 0.2860 - macro_f1: 0.3161 - val_loss: 0.3066 - val_macro_f1: 0.2871\n",
            "Epoch 12/30\n",
            "88/87 [==============================] - 57s 650ms/step - loss: 0.2768 - macro_f1: 0.3363 - val_loss: 0.3084 - val_macro_f1: 0.3071\n",
            "Epoch 13/30\n",
            "88/87 [==============================] - 57s 648ms/step - loss: 0.2778 - macro_f1: 0.3437 - val_loss: 0.3096 - val_macro_f1: 0.2786\n",
            "Epoch 14/30\n",
            "16/87 [====>.........................] - ETA: 37s - loss: 0.2939 - macro_f1: 0.3130"
          ],
          "name": "stdout"
        },
        {
          "output_type": "error",
          "ename": "KeyboardInterrupt",
          "evalue": "ignored",
          "traceback": [
            "\u001b[0;31m---------------------------------------------------------------------------\u001b[0m",
            "\u001b[0;31mKeyboardInterrupt\u001b[0m                         Traceback (most recent call last)",
            "\u001b[0;32m<ipython-input-39-e48b70776018>\u001b[0m in \u001b[0;36m<module>\u001b[0;34m()\u001b[0m\n\u001b[1;32m      4\u001b[0m                         \u001b[0mvalidation_steps\u001b[0m\u001b[0;34m=\u001b[0m\u001b[0msteps_valid\u001b[0m\u001b[0;34m,\u001b[0m\u001b[0;34m\u001b[0m\u001b[0;34m\u001b[0m\u001b[0m\n\u001b[1;32m      5\u001b[0m                         \u001b[0mepochs\u001b[0m\u001b[0;34m=\u001b[0m\u001b[0;36m30\u001b[0m\u001b[0;34m,\u001b[0m\u001b[0;34m\u001b[0m\u001b[0;34m\u001b[0m\u001b[0m\n\u001b[0;32m----> 6\u001b[0;31m                         \u001b[0mclass_weight\u001b[0m\u001b[0;34m=\u001b[0m\u001b[0;34m[\u001b[0m\u001b[0;36m0.5\u001b[0m\u001b[0;34m,\u001b[0m\u001b[0;36m0.5\u001b[0m\u001b[0;34m,\u001b[0m\u001b[0;36m1.5\u001b[0m\u001b[0;34m,\u001b[0m\u001b[0;36m1.5\u001b[0m\u001b[0;34m,\u001b[0m\u001b[0;36m1.5\u001b[0m\u001b[0;34m,\u001b[0m\u001b[0;36m1.5\u001b[0m\u001b[0;34m,\u001b[0m\u001b[0;36m1.5\u001b[0m\u001b[0;34m,\u001b[0m\u001b[0;36m0.7\u001b[0m\u001b[0;34m]\u001b[0m\u001b[0;34m\u001b[0m\u001b[0;34m\u001b[0m\u001b[0m\n\u001b[0m\u001b[1;32m      7\u001b[0m                         )\n",
            "\u001b[0;32m/usr/local/lib/python3.6/dist-packages/keras/legacy/interfaces.py\u001b[0m in \u001b[0;36mwrapper\u001b[0;34m(*args, **kwargs)\u001b[0m\n\u001b[1;32m     89\u001b[0m                 warnings.warn('Update your `' + object_name + '` call to the ' +\n\u001b[1;32m     90\u001b[0m                               'Keras 2 API: ' + signature, stacklevel=2)\n\u001b[0;32m---> 91\u001b[0;31m             \u001b[0;32mreturn\u001b[0m \u001b[0mfunc\u001b[0m\u001b[0;34m(\u001b[0m\u001b[0;34m*\u001b[0m\u001b[0margs\u001b[0m\u001b[0;34m,\u001b[0m \u001b[0;34m**\u001b[0m\u001b[0mkwargs\u001b[0m\u001b[0;34m)\u001b[0m\u001b[0;34m\u001b[0m\u001b[0;34m\u001b[0m\u001b[0m\n\u001b[0m\u001b[1;32m     92\u001b[0m         \u001b[0mwrapper\u001b[0m\u001b[0;34m.\u001b[0m\u001b[0m_original_function\u001b[0m \u001b[0;34m=\u001b[0m \u001b[0mfunc\u001b[0m\u001b[0;34m\u001b[0m\u001b[0;34m\u001b[0m\u001b[0m\n\u001b[1;32m     93\u001b[0m         \u001b[0;32mreturn\u001b[0m \u001b[0mwrapper\u001b[0m\u001b[0;34m\u001b[0m\u001b[0;34m\u001b[0m\u001b[0m\n",
            "\u001b[0;32m/usr/local/lib/python3.6/dist-packages/keras/engine/training.py\u001b[0m in \u001b[0;36mfit_generator\u001b[0;34m(self, generator, steps_per_epoch, epochs, verbose, callbacks, validation_data, validation_steps, validation_freq, class_weight, max_queue_size, workers, use_multiprocessing, shuffle, initial_epoch)\u001b[0m\n\u001b[1;32m   1656\u001b[0m             \u001b[0muse_multiprocessing\u001b[0m\u001b[0;34m=\u001b[0m\u001b[0muse_multiprocessing\u001b[0m\u001b[0;34m,\u001b[0m\u001b[0;34m\u001b[0m\u001b[0;34m\u001b[0m\u001b[0m\n\u001b[1;32m   1657\u001b[0m             \u001b[0mshuffle\u001b[0m\u001b[0;34m=\u001b[0m\u001b[0mshuffle\u001b[0m\u001b[0;34m,\u001b[0m\u001b[0;34m\u001b[0m\u001b[0;34m\u001b[0m\u001b[0m\n\u001b[0;32m-> 1658\u001b[0;31m             initial_epoch=initial_epoch)\n\u001b[0m\u001b[1;32m   1659\u001b[0m \u001b[0;34m\u001b[0m\u001b[0m\n\u001b[1;32m   1660\u001b[0m     \u001b[0;34m@\u001b[0m\u001b[0minterfaces\u001b[0m\u001b[0;34m.\u001b[0m\u001b[0mlegacy_generator_methods_support\u001b[0m\u001b[0;34m\u001b[0m\u001b[0;34m\u001b[0m\u001b[0m\n",
            "\u001b[0;32m/usr/local/lib/python3.6/dist-packages/keras/engine/training_generator.py\u001b[0m in \u001b[0;36mfit_generator\u001b[0;34m(model, generator, steps_per_epoch, epochs, verbose, callbacks, validation_data, validation_steps, validation_freq, class_weight, max_queue_size, workers, use_multiprocessing, shuffle, initial_epoch)\u001b[0m\n\u001b[1;32m    213\u001b[0m                 outs = model.train_on_batch(x, y,\n\u001b[1;32m    214\u001b[0m                                             \u001b[0msample_weight\u001b[0m\u001b[0;34m=\u001b[0m\u001b[0msample_weight\u001b[0m\u001b[0;34m,\u001b[0m\u001b[0;34m\u001b[0m\u001b[0;34m\u001b[0m\u001b[0m\n\u001b[0;32m--> 215\u001b[0;31m                                             class_weight=class_weight)\n\u001b[0m\u001b[1;32m    216\u001b[0m \u001b[0;34m\u001b[0m\u001b[0m\n\u001b[1;32m    217\u001b[0m                 \u001b[0mouts\u001b[0m \u001b[0;34m=\u001b[0m \u001b[0mto_list\u001b[0m\u001b[0;34m(\u001b[0m\u001b[0mouts\u001b[0m\u001b[0;34m)\u001b[0m\u001b[0;34m\u001b[0m\u001b[0;34m\u001b[0m\u001b[0m\n",
            "\u001b[0;32m/usr/local/lib/python3.6/dist-packages/keras/engine/training.py\u001b[0m in \u001b[0;36mtrain_on_batch\u001b[0;34m(self, x, y, sample_weight, class_weight)\u001b[0m\n\u001b[1;32m   1447\u001b[0m             \u001b[0mins\u001b[0m \u001b[0;34m=\u001b[0m \u001b[0mx\u001b[0m \u001b[0;34m+\u001b[0m \u001b[0my\u001b[0m \u001b[0;34m+\u001b[0m \u001b[0msample_weights\u001b[0m\u001b[0;34m\u001b[0m\u001b[0;34m\u001b[0m\u001b[0m\n\u001b[1;32m   1448\u001b[0m         \u001b[0mself\u001b[0m\u001b[0;34m.\u001b[0m\u001b[0m_make_train_function\u001b[0m\u001b[0;34m(\u001b[0m\u001b[0;34m)\u001b[0m\u001b[0;34m\u001b[0m\u001b[0;34m\u001b[0m\u001b[0m\n\u001b[0;32m-> 1449\u001b[0;31m         \u001b[0moutputs\u001b[0m \u001b[0;34m=\u001b[0m \u001b[0mself\u001b[0m\u001b[0;34m.\u001b[0m\u001b[0mtrain_function\u001b[0m\u001b[0;34m(\u001b[0m\u001b[0mins\u001b[0m\u001b[0;34m)\u001b[0m\u001b[0;34m\u001b[0m\u001b[0;34m\u001b[0m\u001b[0m\n\u001b[0m\u001b[1;32m   1450\u001b[0m         \u001b[0;32mreturn\u001b[0m \u001b[0munpack_singleton\u001b[0m\u001b[0;34m(\u001b[0m\u001b[0moutputs\u001b[0m\u001b[0;34m)\u001b[0m\u001b[0;34m\u001b[0m\u001b[0;34m\u001b[0m\u001b[0m\n\u001b[1;32m   1451\u001b[0m \u001b[0;34m\u001b[0m\u001b[0m\n",
            "\u001b[0;32m/usr/local/lib/python3.6/dist-packages/keras/backend/tensorflow_backend.py\u001b[0m in \u001b[0;36m__call__\u001b[0;34m(self, inputs)\u001b[0m\n\u001b[1;32m   2977\u001b[0m                     \u001b[0;32mreturn\u001b[0m \u001b[0mself\u001b[0m\u001b[0;34m.\u001b[0m\u001b[0m_legacy_call\u001b[0m\u001b[0;34m(\u001b[0m\u001b[0minputs\u001b[0m\u001b[0;34m)\u001b[0m\u001b[0;34m\u001b[0m\u001b[0;34m\u001b[0m\u001b[0m\n\u001b[1;32m   2978\u001b[0m \u001b[0;34m\u001b[0m\u001b[0m\n\u001b[0;32m-> 2979\u001b[0;31m             \u001b[0;32mreturn\u001b[0m \u001b[0mself\u001b[0m\u001b[0;34m.\u001b[0m\u001b[0m_call\u001b[0m\u001b[0;34m(\u001b[0m\u001b[0minputs\u001b[0m\u001b[0;34m)\u001b[0m\u001b[0;34m\u001b[0m\u001b[0;34m\u001b[0m\u001b[0m\n\u001b[0m\u001b[1;32m   2980\u001b[0m         \u001b[0;32melse\u001b[0m\u001b[0;34m:\u001b[0m\u001b[0;34m\u001b[0m\u001b[0;34m\u001b[0m\u001b[0m\n\u001b[1;32m   2981\u001b[0m             \u001b[0;32mif\u001b[0m \u001b[0mpy_any\u001b[0m\u001b[0;34m(\u001b[0m\u001b[0mis_tensor\u001b[0m\u001b[0;34m(\u001b[0m\u001b[0mx\u001b[0m\u001b[0;34m)\u001b[0m \u001b[0;32mfor\u001b[0m \u001b[0mx\u001b[0m \u001b[0;32min\u001b[0m \u001b[0minputs\u001b[0m\u001b[0;34m)\u001b[0m\u001b[0;34m:\u001b[0m\u001b[0;34m\u001b[0m\u001b[0;34m\u001b[0m\u001b[0m\n",
            "\u001b[0;32m/usr/local/lib/python3.6/dist-packages/keras/backend/tensorflow_backend.py\u001b[0m in \u001b[0;36m_call\u001b[0;34m(self, inputs)\u001b[0m\n\u001b[1;32m   2935\u001b[0m             \u001b[0mfetched\u001b[0m \u001b[0;34m=\u001b[0m \u001b[0mself\u001b[0m\u001b[0;34m.\u001b[0m\u001b[0m_callable_fn\u001b[0m\u001b[0;34m(\u001b[0m\u001b[0;34m*\u001b[0m\u001b[0marray_vals\u001b[0m\u001b[0;34m,\u001b[0m \u001b[0mrun_metadata\u001b[0m\u001b[0;34m=\u001b[0m\u001b[0mself\u001b[0m\u001b[0;34m.\u001b[0m\u001b[0mrun_metadata\u001b[0m\u001b[0;34m)\u001b[0m\u001b[0;34m\u001b[0m\u001b[0;34m\u001b[0m\u001b[0m\n\u001b[1;32m   2936\u001b[0m         \u001b[0;32melse\u001b[0m\u001b[0;34m:\u001b[0m\u001b[0;34m\u001b[0m\u001b[0;34m\u001b[0m\u001b[0m\n\u001b[0;32m-> 2937\u001b[0;31m             \u001b[0mfetched\u001b[0m \u001b[0;34m=\u001b[0m \u001b[0mself\u001b[0m\u001b[0;34m.\u001b[0m\u001b[0m_callable_fn\u001b[0m\u001b[0;34m(\u001b[0m\u001b[0;34m*\u001b[0m\u001b[0marray_vals\u001b[0m\u001b[0;34m)\u001b[0m\u001b[0;34m\u001b[0m\u001b[0;34m\u001b[0m\u001b[0m\n\u001b[0m\u001b[1;32m   2938\u001b[0m         \u001b[0;32mreturn\u001b[0m \u001b[0mfetched\u001b[0m\u001b[0;34m[\u001b[0m\u001b[0;34m:\u001b[0m\u001b[0mlen\u001b[0m\u001b[0;34m(\u001b[0m\u001b[0mself\u001b[0m\u001b[0;34m.\u001b[0m\u001b[0moutputs\u001b[0m\u001b[0;34m)\u001b[0m\u001b[0;34m]\u001b[0m\u001b[0;34m\u001b[0m\u001b[0;34m\u001b[0m\u001b[0m\n\u001b[1;32m   2939\u001b[0m \u001b[0;34m\u001b[0m\u001b[0m\n",
            "\u001b[0;32m/usr/local/lib/python3.6/dist-packages/tensorflow_core/python/client/session.py\u001b[0m in \u001b[0;36m__call__\u001b[0;34m(self, *args, **kwargs)\u001b[0m\n\u001b[1;32m   1470\u001b[0m         ret = tf_session.TF_SessionRunCallable(self._session._session,\n\u001b[1;32m   1471\u001b[0m                                                \u001b[0mself\u001b[0m\u001b[0;34m.\u001b[0m\u001b[0m_handle\u001b[0m\u001b[0;34m,\u001b[0m \u001b[0margs\u001b[0m\u001b[0;34m,\u001b[0m\u001b[0;34m\u001b[0m\u001b[0;34m\u001b[0m\u001b[0m\n\u001b[0;32m-> 1472\u001b[0;31m                                                run_metadata_ptr)\n\u001b[0m\u001b[1;32m   1473\u001b[0m         \u001b[0;32mif\u001b[0m \u001b[0mrun_metadata\u001b[0m\u001b[0;34m:\u001b[0m\u001b[0;34m\u001b[0m\u001b[0;34m\u001b[0m\u001b[0m\n\u001b[1;32m   1474\u001b[0m           \u001b[0mproto_data\u001b[0m \u001b[0;34m=\u001b[0m \u001b[0mtf_session\u001b[0m\u001b[0;34m.\u001b[0m\u001b[0mTF_GetBuffer\u001b[0m\u001b[0;34m(\u001b[0m\u001b[0mrun_metadata_ptr\u001b[0m\u001b[0;34m)\u001b[0m\u001b[0;34m\u001b[0m\u001b[0;34m\u001b[0m\u001b[0m\n",
            "\u001b[0;31mKeyboardInterrupt\u001b[0m: "
          ]
        }
      ]
    },
    {
      "cell_type": "code",
      "metadata": {
        "id": "_hnIDlqTwVn2",
        "colab_type": "code",
        "colab": {}
      },
      "source": [
        "from sklearn.metrics import classification_report"
      ],
      "execution_count": 0,
      "outputs": []
    },
    {
      "cell_type": "code",
      "metadata": {
        "id": "l6P311ND_mZv",
        "colab_type": "code",
        "colab": {}
      },
      "source": [
        "\n",
        "y_pred = model.predict_generator(val_gen,steps=steps_valid)"
      ],
      "execution_count": 0,
      "outputs": []
    },
    {
      "cell_type": "code",
      "metadata": {
        "id": "D-uV9-A4GkPx",
        "colab_type": "code",
        "outputId": "ae417b2e-8f54-409d-c46c-dafdde768e28",
        "colab": {
          "base_uri": "https://localhost:8080/",
          "height": 34
        }
      },
      "source": [
        "y_pred.shape,yL_val.shape"
      ],
      "execution_count": 0,
      "outputs": [
        {
          "output_type": "execute_result",
          "data": {
            "text/plain": [
              "((700, 8), (700, 8))"
            ]
          },
          "metadata": {
            "tags": []
          },
          "execution_count": 33
        }
      ]
    },
    {
      "cell_type": "code",
      "metadata": {
        "id": "4sCb_cey5JMN",
        "colab_type": "code",
        "colab": {}
      },
      "source": [
        "y_pred[y_pred>=0.5] = 1\n",
        "y_pred[y_pred<0.5] = 0\n",
        "y_pred=y_pred.astype(int)"
      ],
      "execution_count": 0,
      "outputs": []
    },
    {
      "cell_type": "code",
      "metadata": {
        "id": "aOygyw5fwaw-",
        "colab_type": "code",
        "outputId": "7d02cf56-ac18-40b0-f89b-65edc8e94e96",
        "colab": {
          "base_uri": "https://localhost:8080/",
          "height": 373
        }
      },
      "source": [
        "from sklearn.metrics import f1_score\n",
        "print(classification_report(yL_val, y_pred))"
      ],
      "execution_count": 0,
      "outputs": [
        {
          "output_type": "stream",
          "text": [
            "              precision    recall  f1-score   support\n",
            "\n",
            "           0       0.29      0.42      0.35       209\n",
            "           1       0.47      0.15      0.23       229\n",
            "           2       0.00      0.00      0.00        33\n",
            "           3       0.12      0.12      0.12        43\n",
            "           4       0.00      0.00      0.00        34\n",
            "           5       0.00      0.00      0.00        31\n",
            "           6       0.00      0.00      0.00        33\n",
            "           7       0.42      0.05      0.08       218\n",
            "\n",
            "   micro avg       0.29      0.17      0.21       830\n",
            "   macro avg       0.16      0.09      0.10       830\n",
            "weighted avg       0.32      0.17      0.18       830\n",
            " samples avg       0.18      0.18      0.18       830\n",
            "\n"
          ],
          "name": "stdout"
        },
        {
          "output_type": "stream",
          "text": [
            "/usr/local/lib/python3.6/dist-packages/sklearn/metrics/_classification.py:1272: UndefinedMetricWarning: Precision and F-score are ill-defined and being set to 0.0 in labels with no predicted samples. Use `zero_division` parameter to control this behavior.\n",
            "  _warn_prf(average, modifier, msg_start, len(result))\n",
            "/usr/local/lib/python3.6/dist-packages/sklearn/metrics/_classification.py:1272: UndefinedMetricWarning: Precision and F-score are ill-defined and being set to 0.0 in samples with no predicted labels. Use `zero_division` parameter to control this behavior.\n",
            "  _warn_prf(average, modifier, msg_start, len(result))\n"
          ],
          "name": "stderr"
        }
      ]
    },
    {
      "cell_type": "markdown",
      "metadata": {
        "id": "oNxNNCWWSUhP",
        "colab_type": "text"
      },
      "source": [
        "normal (N), diabetes (D), glaucoma (G), cataract (C), AMD (A), hypertension (H), myopia (M) and other diseases/abnormalities (O) "
      ]
    },
    {
      "cell_type": "code",
      "metadata": {
        "id": "KIv11LsPXKxe",
        "colab_type": "code",
        "colab": {}
      },
      "source": [
        "lab=['N','D','G','C','A','H','M','O']"
      ],
      "execution_count": 0,
      "outputs": []
    },
    {
      "cell_type": "code",
      "metadata": {
        "id": "KFa4NBaezxYQ",
        "colab_type": "code",
        "outputId": "72c53c16-c473-4d41-a59b-30c9c711e658",
        "colab": {
          "base_uri": "https://localhost:8080/",
          "height": 153
        }
      },
      "source": [
        "from sklearn.metrics import confusion_matrix,f1_score\n",
        "f=np.zeros(8)\n",
        "for i,j in zip(range(8),lab):\n",
        "  f1=f1_score(yL_val[:,i],y_pred[:,i])\n",
        "  f[i]=f1\n",
        "  print(j, \":\",f1 )"
      ],
      "execution_count": 0,
      "outputs": [
        {
          "output_type": "stream",
          "text": [
            "N : 0.33073929961089493\n",
            "D : 0.19076923076923077\n",
            "G : 0.0\n",
            "C : 0.05194805194805195\n",
            "A : 0.0\n",
            "H : 0.0\n",
            "M : 0.10714285714285714\n",
            "O : 0.08695652173913043\n"
          ],
          "name": "stdout"
        }
      ]
    },
    {
      "cell_type": "code",
      "metadata": {
        "id": "n5YY6X921Y7d",
        "colab_type": "code",
        "outputId": "b2443de7-3da9-43f6-9ae9-e624ac4cdd1f",
        "colab": {
          "base_uri": "https://localhost:8080/",
          "height": 34
        }
      },
      "source": [
        "f.sum()/len(f)"
      ],
      "execution_count": 0,
      "outputs": [
        {
          "output_type": "execute_result",
          "data": {
            "text/plain": [
              "0.09594449515127065"
            ]
          },
          "metadata": {
            "tags": []
          },
          "execution_count": 34
        }
      ]
    },
    {
      "cell_type": "code",
      "metadata": {
        "id": "EfgEmfRu0Wy4",
        "colab_type": "code",
        "colab": {}
      },
      "source": [
        "keras.backend.clear_session()"
      ],
      "execution_count": 0,
      "outputs": []
    },
    {
      "cell_type": "code",
      "metadata": {
        "id": "xYZfEnFv0xr6",
        "colab_type": "code",
        "colab": {}
      },
      "source": [
        ""
      ],
      "execution_count": 0,
      "outputs": []
    }
  ]
}