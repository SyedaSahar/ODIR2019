{
  "nbformat": 4,
  "nbformat_minor": 0,
  "metadata": {
    "colab": {
      "name": "effnet_attention.ipynb",
      "provenance": [],
      "collapsed_sections": [],
      "include_colab_link": true
    },
    "kernelspec": {
      "name": "python3",
      "display_name": "Python 3"
    },
    "accelerator": "GPU"
  },
  "cells": [
    {
      "cell_type": "markdown",
      "metadata": {
        "id": "view-in-github",
        "colab_type": "text"
      },
      "source": [
        "<a href=\"https://colab.research.google.com/github/talhaanwarch/ODIR2019/blob/master/effnet_mae.ipynb\" target=\"_parent\"><img src=\"https://colab.research.google.com/assets/colab-badge.svg\" alt=\"Open In Colab\"/></a>"
      ]
    },
    {
      "cell_type": "code",
      "metadata": {
        "id": "7PsU8MEqEtcx",
        "colab_type": "code",
        "outputId": "b0bed9ca-0a5f-4d58-8668-7120e63434ae",
        "colab": {
          "base_uri": "https://localhost:8080/",
          "height": 121
        }
      },
      "source": [
        "\n",
        "#connect drive with colab notebook/\n",
        "from google.colab import drive\n",
        "drive.mount('/content/drive',force_remount=True)"
      ],
      "execution_count": 1,
      "outputs": [
        {
          "output_type": "stream",
          "text": [
            "Go to this URL in a browser: https://accounts.google.com/o/oauth2/auth?client_id=947318989803-6bn6qk8qdgf4n4g3pfee6491hc0brc4i.apps.googleusercontent.com&redirect_uri=urn%3aietf%3awg%3aoauth%3a2.0%3aoob&response_type=code&scope=email%20https%3a%2f%2fwww.googleapis.com%2fauth%2fdocs.test%20https%3a%2f%2fwww.googleapis.com%2fauth%2fdrive%20https%3a%2f%2fwww.googleapis.com%2fauth%2fdrive.photos.readonly%20https%3a%2f%2fwww.googleapis.com%2fauth%2fpeopleapi.readonly\n",
            "\n",
            "Enter your authorization code:\n",
            "··········\n",
            "Mounted at /content/drive\n"
          ],
          "name": "stdout"
        }
      ]
    },
    {
      "cell_type": "code",
      "metadata": {
        "id": "P0Kr8B21IPhb",
        "colab_type": "code",
        "outputId": "fc898724-334c-4948-855e-4e655df95194",
        "colab": {
          "base_uri": "https://localhost:8080/",
          "height": 474
        }
      },
      "source": [
        "!pip install -U efficientnet==0.0.4\n",
        "!pip install keras-rectified-adam\n"
      ],
      "execution_count": 2,
      "outputs": [
        {
          "output_type": "stream",
          "text": [
            "Collecting efficientnet==0.0.4\n",
            "  Downloading https://files.pythonhosted.org/packages/a6/80/f2c098284f7c07491e66af18d9a5fea595d4b507d10c0845275b8d47dc6f/efficientnet-0.0.4.tar.gz\n",
            "Building wheels for collected packages: efficientnet\n",
            "  Building wheel for efficientnet (setup.py) ... \u001b[?25l\u001b[?25hdone\n",
            "  Created wheel for efficientnet: filename=efficientnet-0.0.4-cp36-none-any.whl size=14288 sha256=e8e03259f45672b74676f125747cc09dafe4d58f90aa05649ffb809b8f5fd58e\n",
            "  Stored in directory: /root/.cache/pip/wheels/5c/34/68/a611a699a28239e964ccf144c0e767cdb5439fee82ec5de6e0\n",
            "Successfully built efficientnet\n",
            "Installing collected packages: efficientnet\n",
            "Successfully installed efficientnet-0.0.4\n",
            "Collecting keras-rectified-adam\n",
            "  Downloading https://files.pythonhosted.org/packages/21/79/9521f66b92186702cb58a214c1b923b416266381cd824e15a1733f6a5b06/keras-rectified-adam-0.17.0.tar.gz\n",
            "Requirement already satisfied: numpy in /usr/local/lib/python3.6/dist-packages (from keras-rectified-adam) (1.17.5)\n",
            "Requirement already satisfied: Keras in /usr/local/lib/python3.6/dist-packages (from keras-rectified-adam) (2.2.5)\n",
            "Requirement already satisfied: six>=1.9.0 in /usr/local/lib/python3.6/dist-packages (from Keras->keras-rectified-adam) (1.12.0)\n",
            "Requirement already satisfied: keras-preprocessing>=1.1.0 in /usr/local/lib/python3.6/dist-packages (from Keras->keras-rectified-adam) (1.1.0)\n",
            "Requirement already satisfied: pyyaml in /usr/local/lib/python3.6/dist-packages (from Keras->keras-rectified-adam) (3.13)\n",
            "Requirement already satisfied: scipy>=0.14 in /usr/local/lib/python3.6/dist-packages (from Keras->keras-rectified-adam) (1.4.1)\n",
            "Requirement already satisfied: h5py in /usr/local/lib/python3.6/dist-packages (from Keras->keras-rectified-adam) (2.8.0)\n",
            "Requirement already satisfied: keras-applications>=1.0.8 in /usr/local/lib/python3.6/dist-packages (from Keras->keras-rectified-adam) (1.0.8)\n",
            "Building wheels for collected packages: keras-rectified-adam\n",
            "  Building wheel for keras-rectified-adam (setup.py) ... \u001b[?25l\u001b[?25hdone\n",
            "  Created wheel for keras-rectified-adam: filename=keras_rectified_adam-0.17.0-cp36-none-any.whl size=14781 sha256=faa6b214902f545c03f9f7708825d2ec9beb50ce30d3e56bc64d949ca0205c44\n",
            "  Stored in directory: /root/.cache/pip/wheels/7b/01/27/3a934e1a5644f5b93c720422a6ef97034ea78a21ba71cfb549\n",
            "Successfully built keras-rectified-adam\n",
            "Installing collected packages: keras-rectified-adam\n",
            "Successfully installed keras-rectified-adam-0.17.0\n"
          ],
          "name": "stdout"
        }
      ]
    },
    {
      "cell_type": "markdown",
      "metadata": {
        "id": "K0P-LQlKfwhp",
        "colab_type": "text"
      },
      "source": [
        "EfficientNetB0 - (224, 224, 3)  \n",
        "EfficientNetB1 - (240, 240, 3)  \n",
        "EfficientNetB2 - (260, 260, 3)  \n",
        "EfficientNetB3 - (300, 300, 3)  \n",
        "EfficientNetB4 - (380, 380, 3)  \n",
        "EfficientNetB5 - (456, 456, 3)  \n",
        "EfficientNetB6 - (528, 528, 3)  \n",
        "EfficientNetB7 - (600, 600, 3)  "
      ]
    },
    {
      "cell_type": "markdown",
      "metadata": {
        "id": "OJgWH2mVTf-3",
        "colab_type": "text"
      },
      "source": [
        "https://github.com/keras-team/keras/issues/8130\n",
        "https://stackoverflow.com/questions/56796331/how-to-input-multiple-images-with-flow-from-dataframe-in-keras"
      ]
    },
    {
      "cell_type": "code",
      "metadata": {
        "id": "Q2olGzDvEuRy",
        "colab_type": "code",
        "outputId": "0b317042-cb54-4785-93a5-59259f71ab94",
        "colab": {
          "base_uri": "https://localhost:8080/",
          "height": 306
        }
      },
      "source": [
        "#following are libraries to unpack 7z file\n",
        "!pip install patool \n",
        "!pip install pyunpack\n",
        "from pyunpack import Archive"
      ],
      "execution_count": 3,
      "outputs": [
        {
          "output_type": "stream",
          "text": [
            "Collecting patool\n",
            "\u001b[?25l  Downloading https://files.pythonhosted.org/packages/43/94/52243ddff508780dd2d8110964320ab4851134a55ab102285b46e740f76a/patool-1.12-py2.py3-none-any.whl (77kB)\n",
            "\r\u001b[K     |████▎                           | 10kB 32.4MB/s eta 0:00:01\r\u001b[K     |████████▌                       | 20kB 5.7MB/s eta 0:00:01\r\u001b[K     |████████████▊                   | 30kB 8.1MB/s eta 0:00:01\r\u001b[K     |█████████████████               | 40kB 5.4MB/s eta 0:00:01\r\u001b[K     |█████████████████████▏          | 51kB 6.6MB/s eta 0:00:01\r\u001b[K     |█████████████████████████▍      | 61kB 7.8MB/s eta 0:00:01\r\u001b[K     |█████████████████████████████▋  | 71kB 8.9MB/s eta 0:00:01\r\u001b[K     |████████████████████████████████| 81kB 6.1MB/s \n",
            "\u001b[?25hInstalling collected packages: patool\n",
            "Successfully installed patool-1.12\n",
            "Collecting pyunpack\n",
            "  Downloading https://files.pythonhosted.org/packages/79/dc/44cd41fb99d184ae7c2eac439a52ca624d5ece62b0302c3437fcc4ce3b58/pyunpack-0.1.2.tar.gz\n",
            "Collecting easyprocess\n",
            "  Downloading https://files.pythonhosted.org/packages/32/8f/88d636f1da22a3c573259e44cfefb46a117d3f9432e2c98b1ab4a21372ad/EasyProcess-0.2.10-py2.py3-none-any.whl\n",
            "Building wheels for collected packages: pyunpack\n",
            "  Building wheel for pyunpack (setup.py) ... \u001b[?25l\u001b[?25hdone\n",
            "  Created wheel for pyunpack: filename=pyunpack-0.1.2-cp36-none-any.whl size=5163 sha256=2bd3825898819748ca0594ac28535f395966840314c951c05933b90501dae5a2\n",
            "  Stored in directory: /root/.cache/pip/wheels/af/44/08/60613970881e542c0baad1f2dea5ed8e6716bc573f49197b7e\n",
            "Successfully built pyunpack\n",
            "Installing collected packages: easyprocess, pyunpack\n",
            "Successfully installed easyprocess-0.2.10 pyunpack-0.1.2\n"
          ],
          "name": "stdout"
        }
      ]
    },
    {
      "cell_type": "code",
      "metadata": {
        "id": "N6cxCkiCF0ux",
        "colab_type": "code",
        "colab": {}
      },
      "source": [
        "import pandas as pd\n",
        "import numpy as np\n",
        "import cv2"
      ],
      "execution_count": 0,
      "outputs": []
    },
    {
      "cell_type": "code",
      "metadata": {
        "id": "HFAmlM88FWqn",
        "colab_type": "code",
        "colab": {}
      },
      "source": [
        "\n",
        "#create a folder name as data\n",
        "!mkdir data"
      ],
      "execution_count": 0,
      "outputs": []
    },
    {
      "cell_type": "code",
      "metadata": {
        "id": "venZ9rNrFZMZ",
        "colab_type": "code",
        "colab": {}
      },
      "source": [
        "#path where our data is saved\n",
        "path='/content/drive/My Drive/ghina/thesis/'"
      ],
      "execution_count": 0,
      "outputs": []
    },
    {
      "cell_type": "code",
      "metadata": {
        "id": "RPbingUaFbJ0",
        "colab_type": "code",
        "colab": {}
      },
      "source": [
        "#extract the 7z file in data folder we created above\n",
        "#this not only extract the data but move it from drive to colab for efficinet processing\n",
        "#it will take some time\n",
        "Archive(path+'ODIR-5K_Training_Images.7z').extractall('data')"
      ],
      "execution_count": 0,
      "outputs": []
    },
    {
      "cell_type": "code",
      "metadata": {
        "id": "5B_YwiHlMOHd",
        "colab_type": "code",
        "colab": {}
      },
      "source": [
        "Archive(path+'ODIR-5K_Testing_Images.7z').extractall('data')\n"
      ],
      "execution_count": 0,
      "outputs": []
    },
    {
      "cell_type": "code",
      "metadata": {
        "id": "t2vwqBAqFdG2",
        "colab_type": "code",
        "colab": {}
      },
      "source": [
        "#read the annottion file\n",
        "annotation=pd.read_excel(path+'ODIR-5K_Training_Annotations(Updated)_V2.xlsx')"
      ],
      "execution_count": 0,
      "outputs": []
    },
    {
      "cell_type": "code",
      "metadata": {
        "id": "UpKZEXLMFfhW",
        "colab_type": "code",
        "colab": {}
      },
      "source": [
        "\n",
        "#normal (N), diabetes (D), glaucoma (G), cataract (C), AMD (A), hypertension (H), myopia (M) and other diseases/abnormalities (O)"
      ],
      "execution_count": 0,
      "outputs": []
    },
    {
      "cell_type": "code",
      "metadata": {
        "id": "3EIxDJR0FhDq",
        "colab_type": "code",
        "outputId": "c73645ba-692b-4356-c8ff-a16e94a4eae9",
        "colab": {
          "base_uri": "https://localhost:8080/",
          "height": 279
        }
      },
      "source": [
        "#print first 5 rows of annotation file\n",
        "#annotation=annotation.sample(frac=1)\n",
        "annotation.head()"
      ],
      "execution_count": 11,
      "outputs": [
        {
          "output_type": "execute_result",
          "data": {
            "text/html": [
              "<div>\n",
              "<style scoped>\n",
              "    .dataframe tbody tr th:only-of-type {\n",
              "        vertical-align: middle;\n",
              "    }\n",
              "\n",
              "    .dataframe tbody tr th {\n",
              "        vertical-align: top;\n",
              "    }\n",
              "\n",
              "    .dataframe thead th {\n",
              "        text-align: right;\n",
              "    }\n",
              "</style>\n",
              "<table border=\"1\" class=\"dataframe\">\n",
              "  <thead>\n",
              "    <tr style=\"text-align: right;\">\n",
              "      <th></th>\n",
              "      <th>ID</th>\n",
              "      <th>Patient Age</th>\n",
              "      <th>Patient Sex</th>\n",
              "      <th>Left-Fundus</th>\n",
              "      <th>Right-Fundus</th>\n",
              "      <th>Left-Diagnostic Keywords</th>\n",
              "      <th>Right-Diagnostic Keywords</th>\n",
              "      <th>N</th>\n",
              "      <th>D</th>\n",
              "      <th>G</th>\n",
              "      <th>C</th>\n",
              "      <th>A</th>\n",
              "      <th>H</th>\n",
              "      <th>M</th>\n",
              "      <th>O</th>\n",
              "    </tr>\n",
              "  </thead>\n",
              "  <tbody>\n",
              "    <tr>\n",
              "      <th>0</th>\n",
              "      <td>0</td>\n",
              "      <td>69</td>\n",
              "      <td>Female</td>\n",
              "      <td>0_left.jpg</td>\n",
              "      <td>0_right.jpg</td>\n",
              "      <td>cataract</td>\n",
              "      <td>normal fundus</td>\n",
              "      <td>0</td>\n",
              "      <td>0</td>\n",
              "      <td>0</td>\n",
              "      <td>1</td>\n",
              "      <td>0</td>\n",
              "      <td>0</td>\n",
              "      <td>0</td>\n",
              "      <td>0</td>\n",
              "    </tr>\n",
              "    <tr>\n",
              "      <th>1</th>\n",
              "      <td>1</td>\n",
              "      <td>57</td>\n",
              "      <td>Male</td>\n",
              "      <td>1_left.jpg</td>\n",
              "      <td>1_right.jpg</td>\n",
              "      <td>normal fundus</td>\n",
              "      <td>normal fundus</td>\n",
              "      <td>1</td>\n",
              "      <td>0</td>\n",
              "      <td>0</td>\n",
              "      <td>0</td>\n",
              "      <td>0</td>\n",
              "      <td>0</td>\n",
              "      <td>0</td>\n",
              "      <td>0</td>\n",
              "    </tr>\n",
              "    <tr>\n",
              "      <th>2</th>\n",
              "      <td>2</td>\n",
              "      <td>42</td>\n",
              "      <td>Male</td>\n",
              "      <td>2_left.jpg</td>\n",
              "      <td>2_right.jpg</td>\n",
              "      <td>laser spot，moderate non proliferative retinopathy</td>\n",
              "      <td>moderate non proliferative retinopathy</td>\n",
              "      <td>0</td>\n",
              "      <td>1</td>\n",
              "      <td>0</td>\n",
              "      <td>0</td>\n",
              "      <td>0</td>\n",
              "      <td>0</td>\n",
              "      <td>0</td>\n",
              "      <td>1</td>\n",
              "    </tr>\n",
              "    <tr>\n",
              "      <th>3</th>\n",
              "      <td>3</td>\n",
              "      <td>66</td>\n",
              "      <td>Male</td>\n",
              "      <td>3_left.jpg</td>\n",
              "      <td>3_right.jpg</td>\n",
              "      <td>normal fundus</td>\n",
              "      <td>branch retinal artery occlusion</td>\n",
              "      <td>0</td>\n",
              "      <td>0</td>\n",
              "      <td>0</td>\n",
              "      <td>0</td>\n",
              "      <td>0</td>\n",
              "      <td>0</td>\n",
              "      <td>0</td>\n",
              "      <td>1</td>\n",
              "    </tr>\n",
              "    <tr>\n",
              "      <th>4</th>\n",
              "      <td>4</td>\n",
              "      <td>53</td>\n",
              "      <td>Male</td>\n",
              "      <td>4_left.jpg</td>\n",
              "      <td>4_right.jpg</td>\n",
              "      <td>macular epiretinal membrane</td>\n",
              "      <td>mild nonproliferative retinopathy</td>\n",
              "      <td>0</td>\n",
              "      <td>1</td>\n",
              "      <td>0</td>\n",
              "      <td>0</td>\n",
              "      <td>0</td>\n",
              "      <td>0</td>\n",
              "      <td>0</td>\n",
              "      <td>1</td>\n",
              "    </tr>\n",
              "  </tbody>\n",
              "</table>\n",
              "</div>"
            ],
            "text/plain": [
              "   ID  Patient Age Patient Sex Left-Fundus Right-Fundus  ...  C  A  H  M  O\n",
              "0   0           69      Female  0_left.jpg  0_right.jpg  ...  1  0  0  0  0\n",
              "1   1           57        Male  1_left.jpg  1_right.jpg  ...  0  0  0  0  0\n",
              "2   2           42        Male  2_left.jpg  2_right.jpg  ...  0  0  0  0  1\n",
              "3   3           66        Male  3_left.jpg  3_right.jpg  ...  0  0  0  0  1\n",
              "4   4           53        Male  4_left.jpg  4_right.jpg  ...  0  0  0  0  1\n",
              "\n",
              "[5 rows x 15 columns]"
            ]
          },
          "metadata": {
            "tags": []
          },
          "execution_count": 11
        }
      ]
    },
    {
      "cell_type": "code",
      "metadata": {
        "id": "EtXHJkD5SqEA",
        "colab_type": "code",
        "colab": {}
      },
      "source": [
        "val=[]\n",
        "for i in ['N'\t,'D'\t,'G',\t'C',\t'A'\t,'H'\t,'M',\t'O']:\n",
        "  df=annotation.sort_values(by=[i],ascending=False).head(20)\n",
        "  val.append(df)\n",
        "  annotation.drop(df.index,inplace=True)\n"
      ],
      "execution_count": 0,
      "outputs": []
    },
    {
      "cell_type": "code",
      "metadata": {
        "id": "Pr2Jtt5rWacr",
        "colab_type": "code",
        "colab": {
          "base_uri": "https://localhost:8080/",
          "height": 380
        },
        "outputId": "6c2fc76b-a638-4678-f765-243dae33fc62"
      },
      "source": [
        "val = pd.concat(val)\n",
        "val=val.sample(frac=1)\n",
        "val.head(5)"
      ],
      "execution_count": 13,
      "outputs": [
        {
          "output_type": "execute_result",
          "data": {
            "text/html": [
              "<div>\n",
              "<style scoped>\n",
              "    .dataframe tbody tr th:only-of-type {\n",
              "        vertical-align: middle;\n",
              "    }\n",
              "\n",
              "    .dataframe tbody tr th {\n",
              "        vertical-align: top;\n",
              "    }\n",
              "\n",
              "    .dataframe thead th {\n",
              "        text-align: right;\n",
              "    }\n",
              "</style>\n",
              "<table border=\"1\" class=\"dataframe\">\n",
              "  <thead>\n",
              "    <tr style=\"text-align: right;\">\n",
              "      <th></th>\n",
              "      <th>ID</th>\n",
              "      <th>Patient Age</th>\n",
              "      <th>Patient Sex</th>\n",
              "      <th>Left-Fundus</th>\n",
              "      <th>Right-Fundus</th>\n",
              "      <th>Left-Diagnostic Keywords</th>\n",
              "      <th>Right-Diagnostic Keywords</th>\n",
              "      <th>N</th>\n",
              "      <th>D</th>\n",
              "      <th>G</th>\n",
              "      <th>C</th>\n",
              "      <th>A</th>\n",
              "      <th>H</th>\n",
              "      <th>M</th>\n",
              "      <th>O</th>\n",
              "    </tr>\n",
              "  </thead>\n",
              "  <tbody>\n",
              "    <tr>\n",
              "      <th>2327</th>\n",
              "      <td>2950</td>\n",
              "      <td>45</td>\n",
              "      <td>Male</td>\n",
              "      <td>2950_left.jpg</td>\n",
              "      <td>2950_right.jpg</td>\n",
              "      <td>normal fundus</td>\n",
              "      <td>normal fundus</td>\n",
              "      <td>1</td>\n",
              "      <td>0</td>\n",
              "      <td>0</td>\n",
              "      <td>0</td>\n",
              "      <td>0</td>\n",
              "      <td>0</td>\n",
              "      <td>0</td>\n",
              "      <td>0</td>\n",
              "    </tr>\n",
              "    <tr>\n",
              "      <th>1437</th>\n",
              "      <td>1628</td>\n",
              "      <td>56</td>\n",
              "      <td>Male</td>\n",
              "      <td>1628_left.jpg</td>\n",
              "      <td>1628_right.jpg</td>\n",
              "      <td>pathological myopia</td>\n",
              "      <td>tessellated fundus，peripapillary atrophy</td>\n",
              "      <td>0</td>\n",
              "      <td>0</td>\n",
              "      <td>0</td>\n",
              "      <td>0</td>\n",
              "      <td>0</td>\n",
              "      <td>0</td>\n",
              "      <td>1</td>\n",
              "      <td>1</td>\n",
              "    </tr>\n",
              "    <tr>\n",
              "      <th>1540</th>\n",
              "      <td>2006</td>\n",
              "      <td>44</td>\n",
              "      <td>Male</td>\n",
              "      <td>2006_left.jpg</td>\n",
              "      <td>2006_right.jpg</td>\n",
              "      <td>maculopathy，glaucoma</td>\n",
              "      <td>maculopathy</td>\n",
              "      <td>0</td>\n",
              "      <td>0</td>\n",
              "      <td>1</td>\n",
              "      <td>0</td>\n",
              "      <td>0</td>\n",
              "      <td>0</td>\n",
              "      <td>0</td>\n",
              "      <td>1</td>\n",
              "    </tr>\n",
              "    <tr>\n",
              "      <th>753</th>\n",
              "      <td>755</td>\n",
              "      <td>69</td>\n",
              "      <td>Female</td>\n",
              "      <td>755_left.jpg</td>\n",
              "      <td>755_right.jpg</td>\n",
              "      <td>severe nonproliferative retinopathy</td>\n",
              "      <td>severe nonproliferative retinopathy</td>\n",
              "      <td>0</td>\n",
              "      <td>1</td>\n",
              "      <td>0</td>\n",
              "      <td>0</td>\n",
              "      <td>0</td>\n",
              "      <td>0</td>\n",
              "      <td>0</td>\n",
              "      <td>0</td>\n",
              "    </tr>\n",
              "    <tr>\n",
              "      <th>364</th>\n",
              "      <td>365</td>\n",
              "      <td>60</td>\n",
              "      <td>Female</td>\n",
              "      <td>365_left.jpg</td>\n",
              "      <td>365_right.jpg</td>\n",
              "      <td>hypertensive retinopathy，suspected glaucoma</td>\n",
              "      <td>hypertensive retinopathy，suspected glaucoma</td>\n",
              "      <td>0</td>\n",
              "      <td>0</td>\n",
              "      <td>1</td>\n",
              "      <td>0</td>\n",
              "      <td>0</td>\n",
              "      <td>1</td>\n",
              "      <td>0</td>\n",
              "      <td>0</td>\n",
              "    </tr>\n",
              "  </tbody>\n",
              "</table>\n",
              "</div>"
            ],
            "text/plain": [
              "        ID  Patient Age Patient Sex    Left-Fundus  ...  A  H  M  O\n",
              "2327  2950           45        Male  2950_left.jpg  ...  0  0  0  0\n",
              "1437  1628           56        Male  1628_left.jpg  ...  0  0  1  1\n",
              "1540  2006           44        Male  2006_left.jpg  ...  0  0  0  1\n",
              "753    755           69      Female   755_left.jpg  ...  0  0  0  0\n",
              "364    365           60      Female   365_left.jpg  ...  0  1  0  0\n",
              "\n",
              "[5 rows x 15 columns]"
            ]
          },
          "metadata": {
            "tags": []
          },
          "execution_count": 13
        }
      ]
    },
    {
      "cell_type": "code",
      "metadata": {
        "id": "xUTUDoXoo11N",
        "colab_type": "code",
        "outputId": "88e3a828-930e-43f2-daac-66523ba7c554",
        "colab": {
          "base_uri": "https://localhost:8080/",
          "height": 212
        }
      },
      "source": [
        "test=pd.read_csv(path+'XYZ_ODIR.csv')\n",
        "print(len(test))\n",
        "test.head()\n"
      ],
      "execution_count": 14,
      "outputs": [
        {
          "output_type": "stream",
          "text": [
            "500\n"
          ],
          "name": "stdout"
        },
        {
          "output_type": "execute_result",
          "data": {
            "text/html": [
              "<div>\n",
              "<style scoped>\n",
              "    .dataframe tbody tr th:only-of-type {\n",
              "        vertical-align: middle;\n",
              "    }\n",
              "\n",
              "    .dataframe tbody tr th {\n",
              "        vertical-align: top;\n",
              "    }\n",
              "\n",
              "    .dataframe thead th {\n",
              "        text-align: right;\n",
              "    }\n",
              "</style>\n",
              "<table border=\"1\" class=\"dataframe\">\n",
              "  <thead>\n",
              "    <tr style=\"text-align: right;\">\n",
              "      <th></th>\n",
              "      <th>ID</th>\n",
              "      <th>N</th>\n",
              "      <th>D</th>\n",
              "      <th>G</th>\n",
              "      <th>C</th>\n",
              "      <th>A</th>\n",
              "      <th>H</th>\n",
              "      <th>M</th>\n",
              "      <th>O</th>\n",
              "    </tr>\n",
              "  </thead>\n",
              "  <tbody>\n",
              "    <tr>\n",
              "      <th>0</th>\n",
              "      <td>937</td>\n",
              "      <td>0</td>\n",
              "      <td>0</td>\n",
              "      <td>0</td>\n",
              "      <td>0</td>\n",
              "      <td>0</td>\n",
              "      <td>0</td>\n",
              "      <td>0</td>\n",
              "      <td>0</td>\n",
              "    </tr>\n",
              "    <tr>\n",
              "      <th>1</th>\n",
              "      <td>967</td>\n",
              "      <td>0</td>\n",
              "      <td>0</td>\n",
              "      <td>0</td>\n",
              "      <td>0</td>\n",
              "      <td>0</td>\n",
              "      <td>0</td>\n",
              "      <td>0</td>\n",
              "      <td>0</td>\n",
              "    </tr>\n",
              "    <tr>\n",
              "      <th>2</th>\n",
              "      <td>988</td>\n",
              "      <td>0</td>\n",
              "      <td>0</td>\n",
              "      <td>0</td>\n",
              "      <td>0</td>\n",
              "      <td>0</td>\n",
              "      <td>0</td>\n",
              "      <td>0</td>\n",
              "      <td>0</td>\n",
              "    </tr>\n",
              "    <tr>\n",
              "      <th>3</th>\n",
              "      <td>995</td>\n",
              "      <td>0</td>\n",
              "      <td>0</td>\n",
              "      <td>0</td>\n",
              "      <td>0</td>\n",
              "      <td>0</td>\n",
              "      <td>0</td>\n",
              "      <td>0</td>\n",
              "      <td>0</td>\n",
              "    </tr>\n",
              "    <tr>\n",
              "      <th>4</th>\n",
              "      <td>1000</td>\n",
              "      <td>0</td>\n",
              "      <td>0</td>\n",
              "      <td>0</td>\n",
              "      <td>0</td>\n",
              "      <td>0</td>\n",
              "      <td>0</td>\n",
              "      <td>0</td>\n",
              "      <td>0</td>\n",
              "    </tr>\n",
              "  </tbody>\n",
              "</table>\n",
              "</div>"
            ],
            "text/plain": [
              "     ID  N  D  G  C  A  H  M  O\n",
              "0   937  0  0  0  0  0  0  0  0\n",
              "1   967  0  0  0  0  0  0  0  0\n",
              "2   988  0  0  0  0  0  0  0  0\n",
              "3   995  0  0  0  0  0  0  0  0\n",
              "4  1000  0  0  0  0  0  0  0  0"
            ]
          },
          "metadata": {
            "tags": []
          },
          "execution_count": 14
        }
      ]
    },
    {
      "cell_type": "code",
      "metadata": {
        "id": "8ficanACZVOk",
        "colab_type": "code",
        "colab": {
          "base_uri": "https://localhost:8080/",
          "height": 67
        },
        "outputId": "995ef2b7-8840-4bd9-a60c-e7beeb8938d2"
      },
      "source": [
        "print(len(annotation))\n",
        "print(len(val))\n",
        "print(len(test))"
      ],
      "execution_count": 15,
      "outputs": [
        {
          "output_type": "stream",
          "text": [
            "3340\n",
            "160\n",
            "500\n"
          ],
          "name": "stdout"
        }
      ]
    },
    {
      "cell_type": "code",
      "metadata": {
        "id": "skIdshbwo3Y_",
        "colab_type": "code",
        "outputId": "34903042-afb0-40db-c67b-2a69f310a741",
        "colab": {
          "base_uri": "https://localhost:8080/",
          "height": 195
        }
      },
      "source": [
        "left_test=[]\n",
        "right_test=[]\n",
        "ID=[]\n",
        "for i in test['ID']:\n",
        "  ID.append(i)\n",
        "  left_test.append(str(i)+'_left.jpg')\n",
        "  right_test.append(str(i)+'_right.jpg')\n",
        "\n",
        "name_df=pd.DataFrame(zip(ID,left_test,right_test),columns=['ID','Left-Fundus','Right-Fundus'])\n",
        "name_df.head()\n",
        "result = pd.merge(name_df, test, on='ID')\n",
        "result.head()"
      ],
      "execution_count": 16,
      "outputs": [
        {
          "output_type": "execute_result",
          "data": {
            "text/html": [
              "<div>\n",
              "<style scoped>\n",
              "    .dataframe tbody tr th:only-of-type {\n",
              "        vertical-align: middle;\n",
              "    }\n",
              "\n",
              "    .dataframe tbody tr th {\n",
              "        vertical-align: top;\n",
              "    }\n",
              "\n",
              "    .dataframe thead th {\n",
              "        text-align: right;\n",
              "    }\n",
              "</style>\n",
              "<table border=\"1\" class=\"dataframe\">\n",
              "  <thead>\n",
              "    <tr style=\"text-align: right;\">\n",
              "      <th></th>\n",
              "      <th>ID</th>\n",
              "      <th>Left-Fundus</th>\n",
              "      <th>Right-Fundus</th>\n",
              "      <th>N</th>\n",
              "      <th>D</th>\n",
              "      <th>G</th>\n",
              "      <th>C</th>\n",
              "      <th>A</th>\n",
              "      <th>H</th>\n",
              "      <th>M</th>\n",
              "      <th>O</th>\n",
              "    </tr>\n",
              "  </thead>\n",
              "  <tbody>\n",
              "    <tr>\n",
              "      <th>0</th>\n",
              "      <td>937</td>\n",
              "      <td>937_left.jpg</td>\n",
              "      <td>937_right.jpg</td>\n",
              "      <td>0</td>\n",
              "      <td>0</td>\n",
              "      <td>0</td>\n",
              "      <td>0</td>\n",
              "      <td>0</td>\n",
              "      <td>0</td>\n",
              "      <td>0</td>\n",
              "      <td>0</td>\n",
              "    </tr>\n",
              "    <tr>\n",
              "      <th>1</th>\n",
              "      <td>967</td>\n",
              "      <td>967_left.jpg</td>\n",
              "      <td>967_right.jpg</td>\n",
              "      <td>0</td>\n",
              "      <td>0</td>\n",
              "      <td>0</td>\n",
              "      <td>0</td>\n",
              "      <td>0</td>\n",
              "      <td>0</td>\n",
              "      <td>0</td>\n",
              "      <td>0</td>\n",
              "    </tr>\n",
              "    <tr>\n",
              "      <th>2</th>\n",
              "      <td>988</td>\n",
              "      <td>988_left.jpg</td>\n",
              "      <td>988_right.jpg</td>\n",
              "      <td>0</td>\n",
              "      <td>0</td>\n",
              "      <td>0</td>\n",
              "      <td>0</td>\n",
              "      <td>0</td>\n",
              "      <td>0</td>\n",
              "      <td>0</td>\n",
              "      <td>0</td>\n",
              "    </tr>\n",
              "    <tr>\n",
              "      <th>3</th>\n",
              "      <td>995</td>\n",
              "      <td>995_left.jpg</td>\n",
              "      <td>995_right.jpg</td>\n",
              "      <td>0</td>\n",
              "      <td>0</td>\n",
              "      <td>0</td>\n",
              "      <td>0</td>\n",
              "      <td>0</td>\n",
              "      <td>0</td>\n",
              "      <td>0</td>\n",
              "      <td>0</td>\n",
              "    </tr>\n",
              "    <tr>\n",
              "      <th>4</th>\n",
              "      <td>1000</td>\n",
              "      <td>1000_left.jpg</td>\n",
              "      <td>1000_right.jpg</td>\n",
              "      <td>0</td>\n",
              "      <td>0</td>\n",
              "      <td>0</td>\n",
              "      <td>0</td>\n",
              "      <td>0</td>\n",
              "      <td>0</td>\n",
              "      <td>0</td>\n",
              "      <td>0</td>\n",
              "    </tr>\n",
              "  </tbody>\n",
              "</table>\n",
              "</div>"
            ],
            "text/plain": [
              "     ID    Left-Fundus    Right-Fundus  N  D  G  C  A  H  M  O\n",
              "0   937   937_left.jpg   937_right.jpg  0  0  0  0  0  0  0  0\n",
              "1   967   967_left.jpg   967_right.jpg  0  0  0  0  0  0  0  0\n",
              "2   988   988_left.jpg   988_right.jpg  0  0  0  0  0  0  0  0\n",
              "3   995   995_left.jpg   995_right.jpg  0  0  0  0  0  0  0  0\n",
              "4  1000  1000_left.jpg  1000_right.jpg  0  0  0  0  0  0  0  0"
            ]
          },
          "metadata": {
            "tags": []
          },
          "execution_count": 16
        }
      ]
    },
    {
      "cell_type": "code",
      "metadata": {
        "id": "aLc48p3aGN1H",
        "colab_type": "code",
        "colab": {}
      },
      "source": [
        "# for i in ['G',\t'C',\t'A',\t'H',\t'M']:\n",
        "#   duplicate=annotation[annotation[i]==1]\n",
        "#   annotation=annotation.append([duplicate]*5,ignore_index=True)"
      ],
      "execution_count": 0,
      "outputs": []
    },
    {
      "cell_type": "code",
      "metadata": {
        "id": "_vZADzpUGq8L",
        "colab_type": "code",
        "outputId": "0532555c-53eb-4085-b958-7b1c54451a25",
        "colab": {
          "base_uri": "https://localhost:8080/",
          "height": 34
        }
      },
      "source": [
        "len(annotation)"
      ],
      "execution_count": 18,
      "outputs": [
        {
          "output_type": "execute_result",
          "data": {
            "text/plain": [
              "3340"
            ]
          },
          "metadata": {
            "tags": []
          },
          "execution_count": 18
        }
      ]
    },
    {
      "cell_type": "code",
      "metadata": {
        "id": "7zy2yQ5GG5VB",
        "colab_type": "code",
        "colab": {}
      },
      "source": [
        "img_shape=300"
      ],
      "execution_count": 0,
      "outputs": []
    },
    {
      "cell_type": "code",
      "metadata": {
        "id": "o029gBw9G058",
        "colab_type": "code",
        "colab": {}
      },
      "source": [
        "#https://www.kaggle.com/ratthachat/aptos-eye-preprocessing-in-diabetic-retinopathy\n",
        "def crop_image1(img,tol=7):\n",
        "    # img is image data\n",
        "    # tol  is tolerance\n",
        "        \n",
        "    mask = img>tol\n",
        "    return img[np.ix_(mask.any(1),mask.any(0))]\n",
        "\n",
        "def crop_image_from_gray(img,tol=7):\n",
        "    if img.ndim ==2:\n",
        "        mask = img>tol\n",
        "        return img[np.ix_(mask.any(1),mask.any(0))]\n",
        "    elif img.ndim==3:\n",
        "        gray_img = cv2.cvtColor(img, cv2.COLOR_RGB2GRAY)\n",
        "        mask = gray_img>tol\n",
        "        \n",
        "        check_shape = img[:,:,0][np.ix_(mask.any(1),mask.any(0))].shape[0]\n",
        "        if (check_shape == 0): # image is too dark so that we crop out everything,\n",
        "            return img # return original image\n",
        "        else:\n",
        "            img1=img[:,:,0][np.ix_(mask.any(1),mask.any(0))]\n",
        "            img2=img[:,:,1][np.ix_(mask.any(1),mask.any(0))]\n",
        "            img3=img[:,:,2][np.ix_(mask.any(1),mask.any(0))]\n",
        "    #         print(img1.shape,img2.shape,img3.shape)\n",
        "            img = np.stack([img1,img2,img3],axis=-1)\n",
        "    #         print(img.shape)\n",
        "        return img"
      ],
      "execution_count": 0,
      "outputs": []
    },
    {
      "cell_type": "code",
      "metadata": {
        "id": "lXCvf95yG3Su",
        "colab_type": "code",
        "colab": {}
      },
      "source": [
        "def load_ben_color(image, sigmaX=10):\n",
        "    #image = cv2.imread(path)\n",
        "    #image = cv2.cvtColor(image, cv2.COLOR_BGR2RGB)\n",
        "    image = crop_image_from_gray(image)\n",
        "    image = cv2.resize(image, (img_shape, img_shape))\n",
        "    image=cv2.addWeighted ( image,4, cv2.GaussianBlur( image , (0,0) , sigmaX) ,-4 ,128)\n",
        "    \n",
        "    \n",
        "    return image"
      ],
      "execution_count": 0,
      "outputs": []
    },
    {
      "cell_type": "code",
      "metadata": {
        "id": "YGEKCh4cHLGY",
        "colab_type": "code",
        "colab": {}
      },
      "source": [
        "from keras_preprocessing.image import ImageDataGenerator\n",
        "\n",
        "train_data_gen= ImageDataGenerator(\n",
        "    horizontal_flip=True,\n",
        "    vertical_flip=True,\n",
        "    rotation_range=10,\n",
        "    width_shift_range=0.1,\n",
        "    height_shift_range=0.1,\n",
        "    zoom_range=.1,\n",
        "    rescale=1/255,\n",
        "    fill_mode='nearest',\n",
        "    shear_range=0.1,\n",
        "    brightness_range=[0.5, 1.5],\n",
        "    preprocessing_function=load_ben_color\n",
        ")\n",
        "\n",
        "val_data_gen= ImageDataGenerator(\n",
        "    rescale=1/255\n",
        "    \n",
        ")"
      ],
      "execution_count": 0,
      "outputs": []
    },
    {
      "cell_type": "code",
      "metadata": {
        "id": "tCzfKSV3FkpG",
        "colab_type": "code",
        "colab": {}
      },
      "source": [
        "def get_flow_from_dataframe(generator, dataframe,directory_path,\n",
        "                            image_shape=(img_shape, img_shape),\n",
        "                            #subset='training',\n",
        "                             batch_size=35):\n",
        "    train_generator_1 = generator.flow_from_dataframe(dataframe,\n",
        "                                                      directory=directory_path,\n",
        "                                                      target_size=(img_shape,img_shape),\n",
        "                                                      x_col=\"Left-Fundus\",\n",
        "                                                      y_col=['N'\t,'D'\t,'G',\t'C',\t'A'\t,'H'\t,'M',\t'O'],\n",
        "                                                      class_mode='other',\n",
        "                                                      shuffle=False,\n",
        "                                                      batch_size=batch_size,\n",
        "                                                      seed=7,\n",
        "                                                      #subset=subset\n",
        "                                                      )\n",
        "\n",
        "    train_generator_2 = generator.flow_from_dataframe(dataframe, \n",
        "                                                      directory=directory_path,\n",
        "                                                      target_size=(img_shape,img_shape),\n",
        "                                                      x_col=\"Right-Fundus\",\n",
        "                                                      y_col=['N'\t,'D'\t,'G',\t'C',\t'A'\t,'H'\t,'M',\t'O'],\n",
        "                                                      class_mode='other',\n",
        "                                                      shuffle=False,\n",
        "                                                      batch_size=batch_size,\n",
        "                                                      seed=7,\n",
        "                                                      #subset=subset\n",
        "                                                      )\n",
        "    while True:\n",
        "        x_1 = train_generator_1.next()\n",
        "        x_2 = train_generator_2.next()\n",
        "\n",
        "        yield [x_1[0], x_2[0]], x_1[1]"
      ],
      "execution_count": 0,
      "outputs": []
    },
    {
      "cell_type": "code",
      "metadata": {
        "id": "Xjbl6CEiOJPB",
        "colab_type": "code",
        "colab": {}
      },
      "source": [
        "batch_size=15\n",
        "train_gen = get_flow_from_dataframe(train_data_gen, annotation, image_shape=(img_shape, img_shape),\n",
        "                                        directory_path=\"data/ODIR-5K_Training_Dataset/\",batch_size=batch_size)\n",
        "valid_gen = get_flow_from_dataframe(val_data_gen, val, image_shape=(img_shape, img_shape),\n",
        "                                        directory_path=\"data/ODIR-5K_Training_Dataset/\",batch_size=batch_size)\n",
        "test_gen = get_flow_from_dataframe(val_data_gen, result, image_shape=(img_shape, img_shape),\n",
        "                                        directory_path=\"data/ODIR-5K_Testing_Images/\",batch_size=batch_size)"
      ],
      "execution_count": 0,
      "outputs": []
    },
    {
      "cell_type": "code",
      "metadata": {
        "id": "6wW1nbe2OPlM",
        "colab_type": "code",
        "outputId": "39799b8b-98c8-4d20-dfb2-b313e3de2625",
        "colab": {
          "base_uri": "https://localhost:8080/",
          "height": 34
        }
      },
      "source": [
        "img_shape"
      ],
      "execution_count": 25,
      "outputs": [
        {
          "output_type": "execute_result",
          "data": {
            "text/plain": [
              "300"
            ]
          },
          "metadata": {
            "tags": []
          },
          "execution_count": 25
        }
      ]
    },
    {
      "cell_type": "code",
      "metadata": {
        "id": "Yh2SCQ91Gyzk",
        "colab_type": "code",
        "colab": {
          "base_uri": "https://localhost:8080/",
          "height": 96
        },
        "outputId": "da11d20b-327e-4311-89d4-d50ae4f5cea8"
      },
      "source": [
        "from keras.models import Sequential,Model\n",
        "from keras.layers import Activation, Dropout, Flatten, Dense, Conv2D, MaxPool2D, BatchNormalization,Input,MaxPooling2D,GlobalMaxPooling2D,concatenate\n",
        "from keras.layers import GlobalAveragePooling2D\n",
        "from keras.applications.resnet50 import ResNet50\n",
        "from keras.callbacks import ModelCheckpoint\n",
        "import tensorflow as tf\n",
        "tf.logging.set_verbosity(tf.logging.ERROR)"
      ],
      "execution_count": 26,
      "outputs": [
        {
          "output_type": "stream",
          "text": [
            "Using TensorFlow backend.\n"
          ],
          "name": "stderr"
        },
        {
          "output_type": "display_data",
          "data": {
            "text/html": [
              "<p style=\"color: red;\">\n",
              "The default version of TensorFlow in Colab will soon switch to TensorFlow 2.x.<br>\n",
              "We recommend you <a href=\"https://www.tensorflow.org/guide/migrate\" target=\"_blank\">upgrade</a> now \n",
              "or ensure your notebook will continue to use TensorFlow 1.x via the <code>%tensorflow_version 1.x</code> magic:\n",
              "<a href=\"https://colab.research.google.com/notebooks/tensorflow_version.ipynb\" target=\"_blank\">more info</a>.</p>\n"
            ],
            "text/plain": [
              "<IPython.core.display.HTML object>"
            ]
          },
          "metadata": {
            "tags": []
          }
        }
      ]
    },
    {
      "cell_type": "code",
      "metadata": {
        "id": "UR73wULkH2M6",
        "colab_type": "code",
        "colab": {}
      },
      "source": [
        "\n",
        "from efficientnet import EfficientNetB3\n",
        "import keras\n",
        "left_input=Input(shape=(img_shape,img_shape,3))\n",
        "right_input=Input(shape=(img_shape,img_shape,3))\n",
        "\n",
        "left_model = EfficientNetB3(input_shape =  (img_shape,img_shape,3), include_top = False, weights = 'imagenet',input_tensor=left_input)\n",
        "right_model = EfficientNetB3(input_shape =  (img_shape,img_shape,3), include_top = False, weights = 'imagenet',input_tensor=right_input)\n",
        "\n",
        "left_model.trainable = False\n",
        "right_model.trainable = False"
      ],
      "execution_count": 0,
      "outputs": []
    },
    {
      "cell_type": "code",
      "metadata": {
        "id": "Ml2q6gLRJnDZ",
        "colab_type": "code",
        "colab": {}
      },
      "source": [
        "con = concatenate([left_model.output, right_model.output])\n",
        "gap_dr = Dropout(0.5)(con)\n",
        "GAP= GlobalAveragePooling2D()(gap_dr)\n",
        "fc1=Dense(256, activation = 'relu')(GAP)\n",
        "fc2=Dense(128, activation = 'relu')(fc1)\n",
        "fc3=Dense(64, activation = 'relu')(fc2)\n",
        "out = Dense(8, activation = 'linear')(fc3)"
      ],
      "execution_count": 0,
      "outputs": []
    },
    {
      "cell_type": "code",
      "metadata": {
        "id": "FqzmkMwkJl4u",
        "colab_type": "code",
        "colab": {}
      },
      "source": [
        "\n",
        "for layer in right_model.layers:\n",
        "        layer.name = layer.name + '_right'\n",
        "for layer in left_model.layers:\n",
        "  layer.name = layer.name + '_left'\n",
        "\n",
        "left_model.name=\"left_eff\"\n",
        "right_model.name=\"right_eff\""
      ],
      "execution_count": 0,
      "outputs": []
    },
    {
      "cell_type": "code",
      "metadata": {
        "id": "yhsdxOIzKDWW",
        "colab_type": "code",
        "colab": {}
      },
      "source": [
        "model =Model(inputs=[left_input, right_input], outputs=out)\n"
      ],
      "execution_count": 0,
      "outputs": []
    },
    {
      "cell_type": "code",
      "metadata": {
        "id": "xVWovHlxGh2D",
        "colab_type": "code",
        "colab": {}
      },
      "source": [
        "#from keras.utils import plot_model\n",
        "#plot_model(model)"
      ],
      "execution_count": 0,
      "outputs": []
    },
    {
      "cell_type": "code",
      "metadata": {
        "id": "iwEJjjCkfX5Y",
        "colab_type": "code",
        "colab": {}
      },
      "source": [
        "# import keras.backend as K\n",
        "# def focal_loss(y_true, y_pred, alpha = 0.75, gamma = 3):\n",
        "#   alpha_factor = K.ones_like(y_true) * alpha\n",
        "#   alpha_factor = tf.where(K.equal(y_true, 1), alpha_factor, 1 - alpha_factor)\n",
        "#   focal_weight = tf.where(K.equal(y_true, 1), 1 - y_pred, y_pred)\n",
        "#   focal_weight = alpha_factor * focal_weight ** gamma\n",
        "#   loss = focal_weight * K.binary_crossentropy(y_true, y_pred)\n",
        "#   return loss"
      ],
      "execution_count": 0,
      "outputs": []
    },
    {
      "cell_type": "code",
      "metadata": {
        "id": "-oAXQbvdX4pV",
        "colab_type": "code",
        "colab": {}
      },
      "source": [
        "from keras.callbacks import Callback\n",
        "class Metrics(Callback):\n",
        "    def on_train_begin(self, logs={}):\n",
        "        self.val_kappas = []\n",
        "\n",
        "    def on_epoch_end(self, epoch, logs={}):\n",
        "        X_val, y_val = self.validation_data[:2]\n",
        "        y_val = y_val.sum(axis=1) - 1\n",
        "        \n",
        "        y_pred = self.model.predict(X_val) > 0.5\n",
        "        y_pred = y_pred.astype(int).sum(axis=1) - 1\n",
        "\n",
        "        _val_kappa = cohen_kappa_score(\n",
        "            y_val,\n",
        "            y_pred, \n",
        "            weights='quadratic'\n",
        "        )\n",
        "\n",
        "        self.val_kappas.append(_val_kappa)\n",
        "\n",
        "        print(f\"val_kappa: {_val_kappa:.4f}\")\n",
        "        \n",
        "        if _val_kappa == max(self.val_kappas):\n",
        "            print(\"Validation Kappa has improved. Saving model.\")\n",
        "            self.model.save('model.h5')\n",
        "\n",
        "        return"
      ],
      "execution_count": 0,
      "outputs": []
    },
    {
      "cell_type": "code",
      "metadata": {
        "id": "WR_jQXQNfVCp",
        "colab_type": "code",
        "colab": {}
      },
      "source": [
        "import keras.backend as K\n",
        "def mean_squared_error(y_true, y_pred):\n",
        "    return K.mean(K.square(y_pred - y_true), axis=-1)\n",
        "model.compile('adam',loss='mean_absolute_error',metrics=['accuracy'])"
      ],
      "execution_count": 0,
      "outputs": []
    },
    {
      "cell_type": "code",
      "metadata": {
        "id": "sjnVWl1UQxRs",
        "colab_type": "code",
        "colab": {}
      },
      "source": [
        "step_size_train=len(annotation)/batch_size\n",
        "step_size_val=len(val)/batch_size\n"
      ],
      "execution_count": 0,
      "outputs": []
    },
    {
      "cell_type": "code",
      "metadata": {
        "id": "hKlqXLgkHRNe",
        "colab_type": "code",
        "colab": {}
      },
      "source": [
        "from keras.callbacks import ReduceLROnPlateau,ModelCheckpoint\n",
        "reduce_lr = ReduceLROnPlateau(monitor='val_loss', factor=0.1,\n",
        "                              patience=2, min_lr=0.000001, verbose=1)\n",
        "checkpoint = ModelCheckpoint('model.h5', monitor='val_loss', verbose=1, save_best_only=True, mode='min')\n",
        "kappa=Metrics()"
      ],
      "execution_count": 0,
      "outputs": []
    },
    {
      "cell_type": "code",
      "metadata": {
        "id": "Q_K_SSjQJoIk",
        "colab_type": "code",
        "outputId": "d0d0dd3d-a0af-4a16-b041-1d7f4b526fa5",
        "colab": {
          "base_uri": "https://localhost:8080/",
          "height": 1000
        }
      },
      "source": [
        "model.fit_generator(train_gen, epochs=30,\n",
        "                        steps_per_epoch=step_size_train,\n",
        "                        use_multiprocessing=True,\n",
        "                        validation_data=valid_gen,\n",
        "                        validation_steps=step_size_val,\n",
        "                        verbose=2,callbacks=[reduce_lr,checkpoint]\n",
        "                   # class_weight=[0.5,0.5,1.5,1.5,1.5,2.5,1.5,0.5]\n",
        "                    \n",
        "                        )"
      ],
      "execution_count": 37,
      "outputs": [
        {
          "output_type": "stream",
          "text": [
            "Epoch 1/30\n",
            "Found 160 validated image filenames.\n",
            "Found 160 validated image filenames.\n",
            "Found 3340 validated image filenames.\n",
            "Found 3340 validated image filenames.\n",
            " - 668s - loss: 0.1433 - acc: 0.4472 - val_loss: 0.1845 - val_acc: 0.1250\n",
            "\n",
            "Epoch 00001: val_loss improved from inf to 0.18452, saving model to model.h5\n",
            "Epoch 2/30\n",
            " - 567s - loss: 0.1485 - acc: 0.3683 - val_loss: 0.1810 - val_acc: 0.2063\n",
            "\n",
            "Epoch 00002: val_loss improved from 0.18452 to 0.18101, saving model to model.h5\n",
            "Epoch 3/30\n",
            " - 598s - loss: 0.1475 - acc: 0.3952 - val_loss: 0.1779 - val_acc: 0.2563\n",
            "\n",
            "Epoch 00003: val_loss improved from 0.18101 to 0.17795, saving model to model.h5\n",
            "Epoch 4/30\n",
            " - 597s - loss: 0.1474 - acc: 0.3904 - val_loss: 0.1777 - val_acc: 0.2563\n",
            "\n",
            "Epoch 00004: val_loss improved from 0.17795 to 0.17770, saving model to model.h5\n",
            "Epoch 5/30\n",
            " - 607s - loss: 0.1473 - acc: 0.3851 - val_loss: 0.1775 - val_acc: 0.2313\n",
            "\n",
            "Epoch 00005: val_loss improved from 0.17770 to 0.17754, saving model to model.h5\n",
            "Epoch 6/30\n",
            " - 618s - loss: 0.1473 - acc: 0.3886 - val_loss: 0.1774 - val_acc: 0.2563\n",
            "\n",
            "Epoch 00006: val_loss improved from 0.17754 to 0.17742, saving model to model.h5\n",
            "Epoch 7/30\n",
            " - 621s - loss: 0.1473 - acc: 0.3862 - val_loss: 0.1774 - val_acc: 0.2563\n",
            "\n",
            "Epoch 00007: val_loss did not improve from 0.17742\n",
            "Epoch 8/30\n",
            " - 626s - loss: 0.1472 - acc: 0.3862 - val_loss: 0.1778 - val_acc: 0.2563\n",
            "\n",
            "Epoch 00008: ReduceLROnPlateau reducing learning rate to 0.00010000000474974513.\n",
            "\n",
            "Epoch 00008: val_loss did not improve from 0.17742\n",
            "Epoch 9/30\n",
            " - 621s - loss: 0.1492 - acc: 0.2424 - val_loss: 0.1764 - val_acc: 0.2500\n",
            "\n",
            "Epoch 00009: val_loss improved from 0.17742 to 0.17640, saving model to model.h5\n",
            "Epoch 10/30\n",
            " - 621s - loss: 0.1485 - acc: 0.2538 - val_loss: 0.1751 - val_acc: 0.1313\n",
            "\n",
            "Epoch 00010: val_loss improved from 0.17640 to 0.17509, saving model to model.h5\n",
            "Epoch 11/30\n",
            " - 621s - loss: 0.1478 - acc: 0.2954 - val_loss: 0.1738 - val_acc: 0.1250\n",
            "\n",
            "Epoch 00011: val_loss improved from 0.17509 to 0.17379, saving model to model.h5\n",
            "Epoch 12/30\n",
            " - 623s - loss: 0.1470 - acc: 0.3094 - val_loss: 0.1725 - val_acc: 0.1250\n",
            "\n",
            "Epoch 00012: val_loss improved from 0.17379 to 0.17252, saving model to model.h5\n",
            "Epoch 13/30\n",
            " - 625s - loss: 0.1462 - acc: 0.2813 - val_loss: 0.1717 - val_acc: 0.2313\n",
            "\n",
            "Epoch 00013: val_loss improved from 0.17252 to 0.17173, saving model to model.h5\n",
            "Epoch 14/30\n",
            " - 626s - loss: 0.1459 - acc: 0.3895 - val_loss: 0.1718 - val_acc: 0.2250\n",
            "\n",
            "Epoch 00014: val_loss did not improve from 0.17173\n",
            "Epoch 15/30\n",
            " - 633s - loss: 0.1459 - acc: 0.3856 - val_loss: 0.1718 - val_acc: 0.2313\n",
            "\n",
            "Epoch 00015: ReduceLROnPlateau reducing learning rate to 1.0000000474974514e-05.\n",
            "\n",
            "Epoch 00015: val_loss did not improve from 0.17173\n",
            "Epoch 16/30\n",
            " - 632s - loss: 0.1461 - acc: 0.2424 - val_loss: 0.1717 - val_acc: 0.2313\n",
            "\n",
            "Epoch 00016: val_loss improved from 0.17173 to 0.17167, saving model to model.h5\n",
            "Epoch 17/30\n",
            " - 631s - loss: 0.1460 - acc: 0.2448 - val_loss: 0.1715 - val_acc: 0.2250\n",
            "\n",
            "Epoch 00017: val_loss improved from 0.17167 to 0.17155, saving model to model.h5\n",
            "Epoch 18/30\n",
            " - 622s - loss: 0.1460 - acc: 0.2852 - val_loss: 0.1714 - val_acc: 0.1188\n",
            "\n",
            "Epoch 00018: val_loss improved from 0.17155 to 0.17143, saving model to model.h5\n",
            "Epoch 19/30\n",
            " - 621s - loss: 0.1459 - acc: 0.3064 - val_loss: 0.1713 - val_acc: 0.1375\n",
            "\n",
            "Epoch 00019: val_loss improved from 0.17143 to 0.17133, saving model to model.h5\n",
            "Epoch 20/30\n",
            " - 629s - loss: 0.1458 - acc: 0.3157 - val_loss: 0.1713 - val_acc: 0.2125\n",
            "\n",
            "Epoch 00020: val_loss improved from 0.17133 to 0.17130, saving model to model.h5\n",
            "Epoch 21/30\n",
            " - 629s - loss: 0.1458 - acc: 0.3886 - val_loss: 0.1713 - val_acc: 0.2188\n",
            "\n",
            "Epoch 00021: val_loss improved from 0.17130 to 0.17130, saving model to model.h5\n",
            "Epoch 22/30\n",
            " - 628s - loss: 0.1458 - acc: 0.3839 - val_loss: 0.1713 - val_acc: 0.2188\n",
            "\n",
            "Epoch 00022: ReduceLROnPlateau reducing learning rate to 1.0000000656873453e-06.\n",
            "\n",
            "Epoch 00022: val_loss did not improve from 0.17130\n",
            "Epoch 23/30\n",
            " - 632s - loss: 0.1458 - acc: 0.2448 - val_loss: 0.1713 - val_acc: 0.2250\n",
            "\n",
            "Epoch 00023: val_loss improved from 0.17130 to 0.17129, saving model to model.h5\n",
            "Epoch 24/30\n",
            " - 632s - loss: 0.1458 - acc: 0.2852 - val_loss: 0.1713 - val_acc: 0.1250\n",
            "\n",
            "Epoch 00024: ReduceLROnPlateau reducing learning rate to 1e-06.\n",
            "\n",
            "Epoch 00024: val_loss improved from 0.17129 to 0.17129, saving model to model.h5\n",
            "Epoch 25/30\n",
            " - 635s - loss: 0.1458 - acc: 0.3037 - val_loss: 0.1713 - val_acc: 0.1250\n",
            "\n",
            "Epoch 00025: val_loss improved from 0.17129 to 0.17126, saving model to model.h5\n",
            "Epoch 26/30\n",
            " - 638s - loss: 0.1458 - acc: 0.3061 - val_loss: 0.1713 - val_acc: 0.1375\n",
            "\n",
            "Epoch 00026: val_loss did not improve from 0.17126\n",
            "Epoch 27/30\n",
            " - 640s - loss: 0.1458 - acc: 0.2607 - val_loss: 0.1713 - val_acc: 0.2188\n",
            "\n",
            "Epoch 00027: val_loss improved from 0.17126 to 0.17125, saving model to model.h5\n",
            "Epoch 28/30\n",
            " - 636s - loss: 0.1458 - acc: 0.3860 - val_loss: 0.1713 - val_acc: 0.2250\n",
            "\n",
            "Epoch 00028: val_loss did not improve from 0.17125\n",
            "Epoch 29/30\n",
            " - 639s - loss: 0.1458 - acc: 0.3818 - val_loss: 0.1713 - val_acc: 0.2000\n",
            "\n",
            "Epoch 00029: val_loss did not improve from 0.17125\n",
            "Epoch 30/30\n",
            " - 635s - loss: 0.1458 - acc: 0.3848 - val_loss: 0.1713 - val_acc: 0.2313\n",
            "\n",
            "Epoch 00030: val_loss improved from 0.17125 to 0.17125, saving model to model.h5\n"
          ],
          "name": "stdout"
        },
        {
          "output_type": "execute_result",
          "data": {
            "text/plain": [
              "<keras.callbacks.History at 0x7f2bc9881390>"
            ]
          },
          "metadata": {
            "tags": []
          },
          "execution_count": 37
        }
      ]
    },
    {
      "cell_type": "code",
      "metadata": {
        "id": "jYRXBCYmJhHm",
        "colab_type": "code",
        "colab": {}
      },
      "source": [
        "model.load_weights('model.h5')\n"
      ],
      "execution_count": 0,
      "outputs": []
    },
    {
      "cell_type": "code",
      "metadata": {
        "id": "2_XdXICBMR6o",
        "colab_type": "code",
        "colab": {}
      },
      "source": [
        "y_pred = model.predict_generator(valid_gen,steps=step_size_val)\n",
        "y_pred1=y_pred.copy()\n",
        "y_pred1[y_pred1>=0.5] = 1\n",
        "y_pred1[y_pred1<0.5] = 0\n",
        "y_pred1=y_pred1.astype(int)"
      ],
      "execution_count": 0,
      "outputs": []
    },
    {
      "cell_type": "code",
      "metadata": {
        "id": "t1xf_D1hn7ZE",
        "colab_type": "code",
        "colab": {}
      },
      "source": [
        ""
      ],
      "execution_count": 0,
      "outputs": []
    },
    {
      "cell_type": "code",
      "metadata": {
        "id": "LK7dhwnUodZ7",
        "colab_type": "code",
        "colab": {
          "base_uri": "https://localhost:8080/",
          "height": 34
        },
        "outputId": "6537afaa-efb1-4827-e532-779c04400b47"
      },
      "source": [
        "y_true=val.iloc[:,-8::].values\n",
        "y_true.shape"
      ],
      "execution_count": 56,
      "outputs": [
        {
          "output_type": "execute_result",
          "data": {
            "text/plain": [
              "(160, 8)"
            ]
          },
          "metadata": {
            "tags": []
          },
          "execution_count": 56
        }
      ]
    },
    {
      "cell_type": "code",
      "metadata": {
        "id": "ePPDphOcn90N",
        "colab_type": "code",
        "colab": {
          "base_uri": "https://localhost:8080/",
          "height": 357
        },
        "outputId": "e1b18688-2870-404f-8fbc-9fb278e8865b"
      },
      "source": [
        "from sklearn.metrics import classification_report\n",
        "from sklearn.metrics import accuracy_score,cohen_kappa_score\n",
        "from sklearn.metrics import multilabel_confusion_matrix\n",
        "\n",
        "cohen_kappa_score(y_true, y_pred1)"
      ],
      "execution_count": 57,
      "outputs": [
        {
          "output_type": "error",
          "ename": "ValueError",
          "evalue": "ignored",
          "traceback": [
            "\u001b[0;31m---------------------------------------------------------------------------\u001b[0m",
            "\u001b[0;31mValueError\u001b[0m                                Traceback (most recent call last)",
            "\u001b[0;32m<ipython-input-57-c095f270fa39>\u001b[0m in \u001b[0;36m<module>\u001b[0;34m()\u001b[0m\n\u001b[1;32m      3\u001b[0m \u001b[0;32mfrom\u001b[0m \u001b[0msklearn\u001b[0m\u001b[0;34m.\u001b[0m\u001b[0mmetrics\u001b[0m \u001b[0;32mimport\u001b[0m \u001b[0mmultilabel_confusion_matrix\u001b[0m\u001b[0;34m\u001b[0m\u001b[0;34m\u001b[0m\u001b[0m\n\u001b[1;32m      4\u001b[0m \u001b[0;34m\u001b[0m\u001b[0m\n\u001b[0;32m----> 5\u001b[0;31m \u001b[0mcohen_kappa_score\u001b[0m\u001b[0;34m(\u001b[0m\u001b[0my_true\u001b[0m\u001b[0;34m,\u001b[0m \u001b[0my_pred1\u001b[0m\u001b[0;34m)\u001b[0m\u001b[0;34m\u001b[0m\u001b[0;34m\u001b[0m\u001b[0m\n\u001b[0m",
            "\u001b[0;32m/usr/local/lib/python3.6/dist-packages/sklearn/metrics/_classification.py\u001b[0m in \u001b[0;36mcohen_kappa_score\u001b[0;34m(y1, y2, labels, weights, sample_weight)\u001b[0m\n\u001b[1;32m    583\u001b[0m     \"\"\"\n\u001b[1;32m    584\u001b[0m     confusion = confusion_matrix(y1, y2, labels=labels,\n\u001b[0;32m--> 585\u001b[0;31m                                  sample_weight=sample_weight)\n\u001b[0m\u001b[1;32m    586\u001b[0m     \u001b[0mn_classes\u001b[0m \u001b[0;34m=\u001b[0m \u001b[0mconfusion\u001b[0m\u001b[0;34m.\u001b[0m\u001b[0mshape\u001b[0m\u001b[0;34m[\u001b[0m\u001b[0;36m0\u001b[0m\u001b[0;34m]\u001b[0m\u001b[0;34m\u001b[0m\u001b[0;34m\u001b[0m\u001b[0m\n\u001b[1;32m    587\u001b[0m     \u001b[0msum0\u001b[0m \u001b[0;34m=\u001b[0m \u001b[0mnp\u001b[0m\u001b[0;34m.\u001b[0m\u001b[0msum\u001b[0m\u001b[0;34m(\u001b[0m\u001b[0mconfusion\u001b[0m\u001b[0;34m,\u001b[0m \u001b[0maxis\u001b[0m\u001b[0;34m=\u001b[0m\u001b[0;36m0\u001b[0m\u001b[0;34m)\u001b[0m\u001b[0;34m\u001b[0m\u001b[0;34m\u001b[0m\u001b[0m\n",
            "\u001b[0;32m/usr/local/lib/python3.6/dist-packages/sklearn/metrics/_classification.py\u001b[0m in \u001b[0;36mconfusion_matrix\u001b[0;34m(y_true, y_pred, labels, sample_weight, normalize)\u001b[0m\n\u001b[1;32m    268\u001b[0m     \u001b[0my_type\u001b[0m\u001b[0;34m,\u001b[0m \u001b[0my_true\u001b[0m\u001b[0;34m,\u001b[0m \u001b[0my_pred\u001b[0m \u001b[0;34m=\u001b[0m \u001b[0m_check_targets\u001b[0m\u001b[0;34m(\u001b[0m\u001b[0my_true\u001b[0m\u001b[0;34m,\u001b[0m \u001b[0my_pred\u001b[0m\u001b[0;34m)\u001b[0m\u001b[0;34m\u001b[0m\u001b[0;34m\u001b[0m\u001b[0m\n\u001b[1;32m    269\u001b[0m     \u001b[0;32mif\u001b[0m \u001b[0my_type\u001b[0m \u001b[0;32mnot\u001b[0m \u001b[0;32min\u001b[0m \u001b[0;34m(\u001b[0m\u001b[0;34m\"binary\"\u001b[0m\u001b[0;34m,\u001b[0m \u001b[0;34m\"multiclass\"\u001b[0m\u001b[0;34m)\u001b[0m\u001b[0;34m:\u001b[0m\u001b[0;34m\u001b[0m\u001b[0;34m\u001b[0m\u001b[0m\n\u001b[0;32m--> 270\u001b[0;31m         \u001b[0;32mraise\u001b[0m \u001b[0mValueError\u001b[0m\u001b[0;34m(\u001b[0m\u001b[0;34m\"%s is not supported\"\u001b[0m \u001b[0;34m%\u001b[0m \u001b[0my_type\u001b[0m\u001b[0;34m)\u001b[0m\u001b[0;34m\u001b[0m\u001b[0;34m\u001b[0m\u001b[0m\n\u001b[0m\u001b[1;32m    271\u001b[0m \u001b[0;34m\u001b[0m\u001b[0m\n\u001b[1;32m    272\u001b[0m     \u001b[0;32mif\u001b[0m \u001b[0mlabels\u001b[0m \u001b[0;32mis\u001b[0m \u001b[0;32mNone\u001b[0m\u001b[0;34m:\u001b[0m\u001b[0;34m\u001b[0m\u001b[0;34m\u001b[0m\u001b[0m\n",
            "\u001b[0;31mValueError\u001b[0m: multilabel-indicator is not supported"
          ]
        }
      ]
    },
    {
      "cell_type": "code",
      "metadata": {
        "id": "mpKNYxITn_-8",
        "colab_type": "code",
        "colab": {
          "base_uri": "https://localhost:8080/",
          "height": 406
        },
        "outputId": "08ee312f-aa52-470a-96d3-4a2756c183e3"
      },
      "source": [
        "target_names = ['N'\t,'D'\t,'G',\t'C',\t'A'\t,'H'\t,'M',\t'O']\n",
        "print(classification_report(y_true, y_pred1, target_names=target_names))"
      ],
      "execution_count": 58,
      "outputs": [
        {
          "output_type": "stream",
          "text": [
            "              precision    recall  f1-score   support\n",
            "\n",
            "           N       0.00      0.00      0.00        20\n",
            "           D       0.00      0.00      0.00        41\n",
            "           G       0.00      0.00      0.00        23\n",
            "           C       0.00      0.00      0.00        21\n",
            "           A       0.00      0.00      0.00        22\n",
            "           H       0.00      0.00      0.00        23\n",
            "           M       0.00      0.00      0.00        21\n",
            "           O       0.00      0.00      0.00        48\n",
            "\n",
            "   micro avg       0.00      0.00      0.00       219\n",
            "   macro avg       0.00      0.00      0.00       219\n",
            "weighted avg       0.00      0.00      0.00       219\n",
            " samples avg       0.00      0.00      0.00       219\n",
            "\n"
          ],
          "name": "stdout"
        },
        {
          "output_type": "stream",
          "text": [
            "/usr/local/lib/python3.6/dist-packages/sklearn/metrics/_classification.py:1272: UndefinedMetricWarning: Precision and F-score are ill-defined and being set to 0.0 in labels with no predicted samples. Use `zero_division` parameter to control this behavior.\n",
            "  _warn_prf(average, modifier, msg_start, len(result))\n",
            "/usr/local/lib/python3.6/dist-packages/sklearn/metrics/_classification.py:1272: UndefinedMetricWarning: Precision and F-score are ill-defined and being set to 0.0 due to no predicted samples. Use `zero_division` parameter to control this behavior.\n",
            "  _warn_prf(average, modifier, msg_start, len(result))\n",
            "/usr/local/lib/python3.6/dist-packages/sklearn/metrics/_classification.py:1272: UndefinedMetricWarning: Precision and F-score are ill-defined and being set to 0.0 in samples with no predicted labels. Use `zero_division` parameter to control this behavior.\n",
            "  _warn_prf(average, modifier, msg_start, len(result))\n"
          ],
          "name": "stderr"
        }
      ]
    },
    {
      "cell_type": "code",
      "metadata": {
        "id": "_07ZnzJVS6V7",
        "colab_type": "code",
        "colab": {}
      },
      "source": [
        ""
      ],
      "execution_count": 0,
      "outputs": []
    },
    {
      "cell_type": "code",
      "metadata": {
        "id": "UvQM1WK-TNFc",
        "colab_type": "code",
        "colab": {}
      },
      "source": [
        "y_test= model.predict_generator(test_gen,steps=len(test)/batch_size)\n"
      ],
      "execution_count": 0,
      "outputs": []
    },
    {
      "cell_type": "code",
      "metadata": {
        "id": "MK_o2xCF7obl",
        "colab_type": "code",
        "colab": {}
      },
      "source": [
        "for i,j in enumerate(['N'\t,'D'\t,'G',\t'C',\t'A'\t,'H'\t,'M',\t'O']):\n",
        "  test[j]=y_test[:,i]"
      ],
      "execution_count": 0,
      "outputs": []
    },
    {
      "cell_type": "code",
      "metadata": {
        "id": "blfhoD498HM5",
        "colab_type": "code",
        "colab": {
          "base_uri": "https://localhost:8080/",
          "height": 195
        },
        "outputId": "dc88ac09-a0b0-413d-d4c3-4e3409c552de"
      },
      "source": [
        "test.head()"
      ],
      "execution_count": 61,
      "outputs": [
        {
          "output_type": "execute_result",
          "data": {
            "text/html": [
              "<div>\n",
              "<style scoped>\n",
              "    .dataframe tbody tr th:only-of-type {\n",
              "        vertical-align: middle;\n",
              "    }\n",
              "\n",
              "    .dataframe tbody tr th {\n",
              "        vertical-align: top;\n",
              "    }\n",
              "\n",
              "    .dataframe thead th {\n",
              "        text-align: right;\n",
              "    }\n",
              "</style>\n",
              "<table border=\"1\" class=\"dataframe\">\n",
              "  <thead>\n",
              "    <tr style=\"text-align: right;\">\n",
              "      <th></th>\n",
              "      <th>ID</th>\n",
              "      <th>N</th>\n",
              "      <th>D</th>\n",
              "      <th>G</th>\n",
              "      <th>C</th>\n",
              "      <th>A</th>\n",
              "      <th>H</th>\n",
              "      <th>M</th>\n",
              "      <th>O</th>\n",
              "    </tr>\n",
              "  </thead>\n",
              "  <tbody>\n",
              "    <tr>\n",
              "      <th>0</th>\n",
              "      <td>937</td>\n",
              "      <td>0.000032</td>\n",
              "      <td>0.000036</td>\n",
              "      <td>-1.485762e-04</td>\n",
              "      <td>1.839154e-05</td>\n",
              "      <td>1.448238e-04</td>\n",
              "      <td>9.542786e-05</td>\n",
              "      <td>1.110535e-04</td>\n",
              "      <td>8.364285e-05</td>\n",
              "    </tr>\n",
              "    <tr>\n",
              "      <th>1</th>\n",
              "      <td>967</td>\n",
              "      <td>0.000039</td>\n",
              "      <td>0.000040</td>\n",
              "      <td>1.101248e-07</td>\n",
              "      <td>-2.026280e-08</td>\n",
              "      <td>2.882721e-08</td>\n",
              "      <td>-1.793211e-07</td>\n",
              "      <td>-2.827825e-07</td>\n",
              "      <td>-7.500120e-08</td>\n",
              "    </tr>\n",
              "    <tr>\n",
              "      <th>2</th>\n",
              "      <td>988</td>\n",
              "      <td>0.000039</td>\n",
              "      <td>0.000040</td>\n",
              "      <td>1.101248e-07</td>\n",
              "      <td>-2.026280e-08</td>\n",
              "      <td>2.882721e-08</td>\n",
              "      <td>-1.793211e-07</td>\n",
              "      <td>-2.827825e-07</td>\n",
              "      <td>-7.500120e-08</td>\n",
              "    </tr>\n",
              "    <tr>\n",
              "      <th>3</th>\n",
              "      <td>995</td>\n",
              "      <td>0.000112</td>\n",
              "      <td>0.000028</td>\n",
              "      <td>-2.498153e-05</td>\n",
              "      <td>5.361290e-05</td>\n",
              "      <td>2.947282e-05</td>\n",
              "      <td>-1.711331e-05</td>\n",
              "      <td>3.317943e-05</td>\n",
              "      <td>1.349212e-04</td>\n",
              "    </tr>\n",
              "    <tr>\n",
              "      <th>4</th>\n",
              "      <td>1000</td>\n",
              "      <td>0.000039</td>\n",
              "      <td>0.000040</td>\n",
              "      <td>1.101248e-07</td>\n",
              "      <td>-2.026280e-08</td>\n",
              "      <td>2.882721e-08</td>\n",
              "      <td>-1.793211e-07</td>\n",
              "      <td>-2.827825e-07</td>\n",
              "      <td>-7.500120e-08</td>\n",
              "    </tr>\n",
              "  </tbody>\n",
              "</table>\n",
              "</div>"
            ],
            "text/plain": [
              "     ID         N         D  ...             H             M             O\n",
              "0   937  0.000032  0.000036  ...  9.542786e-05  1.110535e-04  8.364285e-05\n",
              "1   967  0.000039  0.000040  ... -1.793211e-07 -2.827825e-07 -7.500120e-08\n",
              "2   988  0.000039  0.000040  ... -1.793211e-07 -2.827825e-07 -7.500120e-08\n",
              "3   995  0.000112  0.000028  ... -1.711331e-05  3.317943e-05  1.349212e-04\n",
              "4  1000  0.000039  0.000040  ... -1.793211e-07 -2.827825e-07 -7.500120e-08\n",
              "\n",
              "[5 rows x 9 columns]"
            ]
          },
          "metadata": {
            "tags": []
          },
          "execution_count": 61
        }
      ]
    },
    {
      "cell_type": "code",
      "metadata": {
        "id": "spGpr4_X7fRb",
        "colab_type": "code",
        "colab": {}
      },
      "source": [
        "test.to_csv('/content/TAC_ODIR.csv',index=False)"
      ],
      "execution_count": 0,
      "outputs": []
    },
    {
      "cell_type": "code",
      "metadata": {
        "id": "bowHQjwutLGp",
        "colab_type": "code",
        "colab": {}
      },
      "source": [
        "keras.backend.clear_session()\n"
      ],
      "execution_count": 0,
      "outputs": []
    },
    {
      "cell_type": "code",
      "metadata": {
        "id": "QblbLh26tm9g",
        "colab_type": "code",
        "colab": {}
      },
      "source": [
        ""
      ],
      "execution_count": 0,
      "outputs": []
    }
  ]
}