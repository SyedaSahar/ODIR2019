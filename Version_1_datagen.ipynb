{
  "nbformat": 4,
  "nbformat_minor": 0,
  "metadata": {
    "colab": {
      "name": "Untitled0.ipynb",
      "provenance": [],
      "collapsed_sections": [],
      "authorship_tag": "ABX9TyOOmG969VZmcWI0yebKwZ12",
      "include_colab_link": true
    },
    "kernelspec": {
      "name": "python3",
      "display_name": "Python 3"
    },
    "accelerator": "GPU"
  },
  "cells": [
    {
      "cell_type": "markdown",
      "metadata": {
        "id": "view-in-github",
        "colab_type": "text"
      },
      "source": [
        "<a href=\"https://colab.research.google.com/github/talhaanwarch/ODIR2019/blob/master/Version_1_datagen.ipynb\" target=\"_parent\"><img src=\"https://colab.research.google.com/assets/colab-badge.svg\" alt=\"Open In Colab\"/></a>"
      ]
    },
    {
      "cell_type": "code",
      "metadata": {
        "id": "7PsU8MEqEtcx",
        "colab_type": "code",
        "outputId": "68b51d40-ad7e-4bb2-9f3d-1e0e1de9e43a",
        "colab": {
          "base_uri": "https://localhost:8080/",
          "height": 121
        }
      },
      "source": [
        "\n",
        "#connect drive with colab notebook/\n",
        "\n",
        "from google.colab import drive\n",
        "drive.mount('/content/drive',force_remount=True)"
      ],
      "execution_count": 1,
      "outputs": [
        {
          "output_type": "stream",
          "text": [
            "Go to this URL in a browser: https://accounts.google.com/o/oauth2/auth?client_id=947318989803-6bn6qk8qdgf4n4g3pfee6491hc0brc4i.apps.googleusercontent.com&redirect_uri=urn%3aietf%3awg%3aoauth%3a2.0%3aoob&response_type=code&scope=email%20https%3a%2f%2fwww.googleapis.com%2fauth%2fdocs.test%20https%3a%2f%2fwww.googleapis.com%2fauth%2fdrive%20https%3a%2f%2fwww.googleapis.com%2fauth%2fdrive.photos.readonly%20https%3a%2f%2fwww.googleapis.com%2fauth%2fpeopleapi.readonly\n",
            "\n",
            "Enter your authorization code:\n",
            "··········\n",
            "Mounted at /content/drive\n"
          ],
          "name": "stdout"
        }
      ]
    },
    {
      "cell_type": "markdown",
      "metadata": {
        "id": "OJgWH2mVTf-3",
        "colab_type": "text"
      },
      "source": [
        "https://github.com/keras-team/keras/issues/8130\n",
        "https://stackoverflow.com/questions/56796331/how-to-input-multiple-images-with-flow-from-dataframe-in-keras"
      ]
    },
    {
      "cell_type": "code",
      "metadata": {
        "id": "Q2olGzDvEuRy",
        "colab_type": "code",
        "outputId": "5e8cf255-cdf9-43ae-ce73-35d6e6d11e7f",
        "colab": {
          "base_uri": "https://localhost:8080/",
          "height": 286
        }
      },
      "source": [
        "#following are libraries to unpack 7z file\n",
        "!pip install patool \n",
        "!pip install pyunpack\n",
        "from pyunpack import Archive"
      ],
      "execution_count": 2,
      "outputs": [
        {
          "output_type": "stream",
          "text": [
            "Collecting patool\n",
            "\u001b[?25l  Downloading https://files.pythonhosted.org/packages/43/94/52243ddff508780dd2d8110964320ab4851134a55ab102285b46e740f76a/patool-1.12-py2.py3-none-any.whl (77kB)\n",
            "\r\u001b[K     |████▎                           | 10kB 32.5MB/s eta 0:00:01\r\u001b[K     |████████▌                       | 20kB 2.1MB/s eta 0:00:01\r\u001b[K     |████████████▊                   | 30kB 3.1MB/s eta 0:00:01\r\u001b[K     |█████████████████               | 40kB 2.0MB/s eta 0:00:01\r\u001b[K     |█████████████████████▏          | 51kB 2.5MB/s eta 0:00:01\r\u001b[K     |█████████████████████████▍      | 61kB 3.0MB/s eta 0:00:01\r\u001b[K     |█████████████████████████████▋  | 71kB 3.5MB/s eta 0:00:01\r\u001b[K     |████████████████████████████████| 81kB 3.2MB/s \n",
            "\u001b[?25hInstalling collected packages: patool\n",
            "Successfully installed patool-1.12\n",
            "Collecting pyunpack\n",
            "  Downloading https://files.pythonhosted.org/packages/79/dc/44cd41fb99d184ae7c2eac439a52ca624d5ece62b0302c3437fcc4ce3b58/pyunpack-0.1.2.tar.gz\n",
            "Collecting easyprocess\n",
            "  Downloading https://files.pythonhosted.org/packages/32/8f/88d636f1da22a3c573259e44cfefb46a117d3f9432e2c98b1ab4a21372ad/EasyProcess-0.2.10-py2.py3-none-any.whl\n",
            "Building wheels for collected packages: pyunpack\n",
            "  Building wheel for pyunpack (setup.py) ... \u001b[?25l\u001b[?25hdone\n",
            "  Created wheel for pyunpack: filename=pyunpack-0.1.2-cp36-none-any.whl size=5162 sha256=a7a2a86dcc10d37dc12a2850bf7e3e18fd82ad7a45d416b84493834d4dfb62ee\n",
            "  Stored in directory: /root/.cache/pip/wheels/af/44/08/60613970881e542c0baad1f2dea5ed8e6716bc573f49197b7e\n",
            "Successfully built pyunpack\n",
            "Installing collected packages: easyprocess, pyunpack\n",
            "Successfully installed easyprocess-0.2.10 pyunpack-0.1.2\n"
          ],
          "name": "stdout"
        }
      ]
    },
    {
      "cell_type": "code",
      "metadata": {
        "id": "N6cxCkiCF0ux",
        "colab_type": "code",
        "colab": {}
      },
      "source": [
        "import pandas as pd\n",
        "import numpy as np\n",
        "import cv2"
      ],
      "execution_count": 0,
      "outputs": []
    },
    {
      "cell_type": "code",
      "metadata": {
        "id": "HFAmlM88FWqn",
        "colab_type": "code",
        "colab": {}
      },
      "source": [
        "\n",
        "#create a folder name as data\n",
        "!mkdir data"
      ],
      "execution_count": 0,
      "outputs": []
    },
    {
      "cell_type": "code",
      "metadata": {
        "id": "venZ9rNrFZMZ",
        "colab_type": "code",
        "colab": {}
      },
      "source": [
        "#path where our data is saved\n",
        "path='/content/drive/My Drive/ghina/thesis/'"
      ],
      "execution_count": 0,
      "outputs": []
    },
    {
      "cell_type": "code",
      "metadata": {
        "id": "RPbingUaFbJ0",
        "colab_type": "code",
        "colab": {}
      },
      "source": [
        "#extract the 7z file in data folder we created above\n",
        "#this not only extract the data but move it from drive to colab for efficinet processing\n",
        "#it will take some time\n",
        "Archive(path+'ODIR-5K_Training_Images.7z').extractall('data')"
      ],
      "execution_count": 0,
      "outputs": []
    },
    {
      "cell_type": "code",
      "metadata": {
        "id": "t2vwqBAqFdG2",
        "colab_type": "code",
        "colab": {}
      },
      "source": [
        "#read the annottion file\n",
        "annotation=pd.read_excel(path+'ODIR-5K_Training_Annotations(Updated)_V2.xlsx')"
      ],
      "execution_count": 0,
      "outputs": []
    },
    {
      "cell_type": "code",
      "metadata": {
        "id": "UpKZEXLMFfhW",
        "colab_type": "code",
        "colab": {}
      },
      "source": [
        "\n",
        "#normal (N), diabetes (D), glaucoma (G), cataract (C), AMD (A), hypertension (H), myopia (M) and other diseases/abnormalities (O)"
      ],
      "execution_count": 0,
      "outputs": []
    },
    {
      "cell_type": "code",
      "metadata": {
        "id": "3EIxDJR0FhDq",
        "colab_type": "code",
        "outputId": "d73c35a8-80bb-44b5-90a4-939acb4aafc6",
        "colab": {
          "base_uri": "https://localhost:8080/",
          "height": 195
        }
      },
      "source": [
        "#print first 5 rows of annotation file\n",
        "annotation=annotation.sample(frac=1)\n",
        "annotation.head()"
      ],
      "execution_count": 9,
      "outputs": [
        {
          "output_type": "execute_result",
          "data": {
            "text/html": [
              "<div>\n",
              "<style scoped>\n",
              "    .dataframe tbody tr th:only-of-type {\n",
              "        vertical-align: middle;\n",
              "    }\n",
              "\n",
              "    .dataframe tbody tr th {\n",
              "        vertical-align: top;\n",
              "    }\n",
              "\n",
              "    .dataframe thead th {\n",
              "        text-align: right;\n",
              "    }\n",
              "</style>\n",
              "<table border=\"1\" class=\"dataframe\">\n",
              "  <thead>\n",
              "    <tr style=\"text-align: right;\">\n",
              "      <th></th>\n",
              "      <th>ID</th>\n",
              "      <th>Patient Age</th>\n",
              "      <th>Patient Sex</th>\n",
              "      <th>Left-Fundus</th>\n",
              "      <th>Right-Fundus</th>\n",
              "      <th>Left-Diagnostic Keywords</th>\n",
              "      <th>Right-Diagnostic Keywords</th>\n",
              "      <th>N</th>\n",
              "      <th>D</th>\n",
              "      <th>G</th>\n",
              "      <th>C</th>\n",
              "      <th>A</th>\n",
              "      <th>H</th>\n",
              "      <th>M</th>\n",
              "      <th>O</th>\n",
              "    </tr>\n",
              "  </thead>\n",
              "  <tbody>\n",
              "    <tr>\n",
              "      <th>1226</th>\n",
              "      <td>1311</td>\n",
              "      <td>67</td>\n",
              "      <td>Female</td>\n",
              "      <td>1311_left.jpg</td>\n",
              "      <td>1311_right.jpg</td>\n",
              "      <td>normal fundus</td>\n",
              "      <td>vitreous degeneration</td>\n",
              "      <td>0</td>\n",
              "      <td>0</td>\n",
              "      <td>0</td>\n",
              "      <td>0</td>\n",
              "      <td>0</td>\n",
              "      <td>0</td>\n",
              "      <td>0</td>\n",
              "      <td>1</td>\n",
              "    </tr>\n",
              "    <tr>\n",
              "      <th>896</th>\n",
              "      <td>898</td>\n",
              "      <td>77</td>\n",
              "      <td>Female</td>\n",
              "      <td>898_left.jpg</td>\n",
              "      <td>898_right.jpg</td>\n",
              "      <td>moderate non proliferative retinopathy，epireti...</td>\n",
              "      <td>mild nonproliferative retinopathy</td>\n",
              "      <td>0</td>\n",
              "      <td>1</td>\n",
              "      <td>0</td>\n",
              "      <td>0</td>\n",
              "      <td>0</td>\n",
              "      <td>0</td>\n",
              "      <td>0</td>\n",
              "      <td>1</td>\n",
              "    </tr>\n",
              "    <tr>\n",
              "      <th>738</th>\n",
              "      <td>740</td>\n",
              "      <td>56</td>\n",
              "      <td>Male</td>\n",
              "      <td>740_left.jpg</td>\n",
              "      <td>740_right.jpg</td>\n",
              "      <td>normal fundus</td>\n",
              "      <td>mild nonproliferative retinopathy</td>\n",
              "      <td>0</td>\n",
              "      <td>1</td>\n",
              "      <td>0</td>\n",
              "      <td>0</td>\n",
              "      <td>0</td>\n",
              "      <td>0</td>\n",
              "      <td>0</td>\n",
              "      <td>0</td>\n",
              "    </tr>\n",
              "    <tr>\n",
              "      <th>2362</th>\n",
              "      <td>2985</td>\n",
              "      <td>61</td>\n",
              "      <td>Female</td>\n",
              "      <td>2985_left.jpg</td>\n",
              "      <td>2985_right.jpg</td>\n",
              "      <td>normal fundus</td>\n",
              "      <td>normal fundus</td>\n",
              "      <td>1</td>\n",
              "      <td>0</td>\n",
              "      <td>0</td>\n",
              "      <td>0</td>\n",
              "      <td>0</td>\n",
              "      <td>0</td>\n",
              "      <td>0</td>\n",
              "      <td>0</td>\n",
              "    </tr>\n",
              "    <tr>\n",
              "      <th>1085</th>\n",
              "      <td>1125</td>\n",
              "      <td>37</td>\n",
              "      <td>Female</td>\n",
              "      <td>1125_left.jpg</td>\n",
              "      <td>1125_right.jpg</td>\n",
              "      <td>dry age-related macular degeneration</td>\n",
              "      <td>dry age-related macular degeneration</td>\n",
              "      <td>0</td>\n",
              "      <td>0</td>\n",
              "      <td>0</td>\n",
              "      <td>0</td>\n",
              "      <td>1</td>\n",
              "      <td>0</td>\n",
              "      <td>0</td>\n",
              "      <td>0</td>\n",
              "    </tr>\n",
              "  </tbody>\n",
              "</table>\n",
              "</div>"
            ],
            "text/plain": [
              "        ID  Patient Age Patient Sex    Left-Fundus  ...  A  H  M  O\n",
              "1226  1311           67      Female  1311_left.jpg  ...  0  0  0  1\n",
              "896    898           77      Female   898_left.jpg  ...  0  0  0  1\n",
              "738    740           56        Male   740_left.jpg  ...  0  0  0  0\n",
              "2362  2985           61      Female  2985_left.jpg  ...  0  0  0  0\n",
              "1085  1125           37      Female  1125_left.jpg  ...  1  0  0  0\n",
              "\n",
              "[5 rows x 15 columns]"
            ]
          },
          "metadata": {
            "tags": []
          },
          "execution_count": 9
        }
      ]
    },
    {
      "cell_type": "code",
      "metadata": {
        "id": "3rAwNowDKIV7",
        "colab_type": "code",
        "colab": {}
      },
      "source": [
        "train_annotation=annotation[0:2500]\n",
        "val_annotation=annotation[2500:3500]\n"
      ],
      "execution_count": 0,
      "outputs": []
    },
    {
      "cell_type": "code",
      "metadata": {
        "id": "YGEKCh4cHLGY",
        "colab_type": "code",
        "colab": {}
      },
      "source": [
        "from keras_preprocessing.image import ImageDataGenerator\n",
        "\n",
        "train_data_gen= ImageDataGenerator(\n",
        "    rotation_range=10,\n",
        "    width_shift_range=0.1,\n",
        "    height_shift_range=0.1,\n",
        "    zoom_range=.1,\n",
        "    rescale=1/255,\n",
        "    fill_mode='nearest'\n",
        ")\n",
        "\n",
        "val_data_gen= ImageDataGenerator(\n",
        "    rescale=1/255\n",
        "    \n",
        ")"
      ],
      "execution_count": 0,
      "outputs": []
    },
    {
      "cell_type": "code",
      "metadata": {
        "id": "tCzfKSV3FkpG",
        "colab_type": "code",
        "colab": {}
      },
      "source": [
        "\n",
        "def get_flow_from_dataframe(generator, dataframe,directory_path,\n",
        "                            image_shape=(224, 224),\n",
        "                            #subset='training',\n",
        "                             batch_size=50):\n",
        "    train_generator_1 = generator.flow_from_dataframe(dataframe,\n",
        "                                                      directory=directory_path,\n",
        "                                                      target_size=image_shape,\n",
        "                                                      x_col=\"Left-Fundus\",\n",
        "                                                      y_col=['N'\t,'D'\t,'G',\t'C',\t'A'\t,'H'\t,'M',\t'O'],\n",
        "                                                      class_mode='other',\n",
        "                                                      shuffle=False,\n",
        "                                                      batch_size=batch_size,\n",
        "                                                      seed=7,\n",
        "                                                      #subset=subset\n",
        "                                                      )\n",
        "\n",
        "    train_generator_2 = generator.flow_from_dataframe(dataframe, \n",
        "                                                      directory=directory_path,\n",
        "                                                      target_size=image_shape,\n",
        "                                                      x_col=\"Right-Fundus\",\n",
        "                                                      y_col=['N'\t,'D'\t,'G',\t'C',\t'A'\t,'H'\t,'M',\t'O'],\n",
        "                                                      class_mode='other',\n",
        "                                                      shuffle=False,\n",
        "                                                      batch_size=batch_size,\n",
        "                                                      seed=7,\n",
        "                                                      #subset=subset\n",
        "                                                      )\n",
        "    while True:\n",
        "        x_1 = train_generator_1.next()\n",
        "        x_2 = train_generator_2.next()\n",
        "\n",
        "        yield [x_1[0], x_2[0]], x_1[1]"
      ],
      "execution_count": 0,
      "outputs": []
    },
    {
      "cell_type": "code",
      "metadata": {
        "id": "mN00HbMdBGMX",
        "colab_type": "code",
        "colab": {
          "base_uri": "https://localhost:8080/",
          "height": 34
        },
        "outputId": "5d64c998-c5bd-430e-dda1-6f65eb3f2c94"
      },
      "source": [
        "train_generator_2 = val_data_gen.flow_from_dataframe(val_annotation, \n",
        "                                                      directory=\"data/ODIR-5K_Training_Dataset/\",\n",
        "                                                      target_size=(224,224),\n",
        "                                                      x_col=\"Right-Fundus\",\n",
        "                                                      y_col=['N'\t,'D'\t,'G',\t'C',\t'A'\t,'H'\t,'M',\t'O'],\n",
        "                                                      class_mode='other',\n",
        "                                                      shuffle=False,\n",
        "                                                      batch_size=batch_size,\n",
        "                                                      seed=7,\n",
        "                                                      )"
      ],
      "execution_count": 37,
      "outputs": [
        {
          "output_type": "stream",
          "text": [
            "Found 1000 validated image filenames.\n"
          ],
          "name": "stdout"
        }
      ]
    },
    {
      "cell_type": "code",
      "metadata": {
        "id": "F8CwT_EtBd9L",
        "colab_type": "code",
        "colab": {}
      },
      "source": [
        ""
      ],
      "execution_count": 0,
      "outputs": []
    },
    {
      "cell_type": "code",
      "metadata": {
        "id": "Xjbl6CEiOJPB",
        "colab_type": "code",
        "colab": {}
      },
      "source": [
        "batch_size=50\n",
        "train_gen = get_flow_from_dataframe(train_data_gen, train_annotation, image_shape=(224, 224),\n",
        "                                        directory_path=\"data/ODIR-5K_Training_Dataset/\",batch_size=batch_size)\n",
        "valid_gen = get_flow_from_dataframe(val_data_gen, val_annotation, image_shape=(224, 224),\n",
        "                                        directory_path=\"data/ODIR-5K_Training_Dataset/\",batch_size=batch_size)"
      ],
      "execution_count": 0,
      "outputs": []
    },
    {
      "cell_type": "code",
      "metadata": {
        "id": "Yh2SCQ91Gyzk",
        "colab_type": "code",
        "colab": {}
      },
      "source": [
        "from keras.models import Sequential,Model\n",
        "from keras.layers import Activation, Dropout, Flatten, Dense, Conv2D, MaxPool2D, BatchNormalization,Input,MaxPooling2D,GlobalMaxPooling2D,concatenate\n",
        "from keras.layers import GlobalAveragePooling2D\n",
        "from keras.applications.resnet50 import ResNet50\n",
        "from keras.callbacks import ModelCheckpoint\n",
        "import tensorflow as tf\n",
        "tf.logging.set_verbosity(tf.logging.ERROR)"
      ],
      "execution_count": 0,
      "outputs": []
    },
    {
      "cell_type": "code",
      "metadata": {
        "colab_type": "code",
        "cellView": "both",
        "id": "990sSHvt_T-2",
        "colab": {}
      },
      "source": [
        "inp1= Input(shape=(224, 224, 3))\n",
        "inp2= Input(shape=(224, 224, 3))\n",
        "\n",
        "X1=BatchNormalization()(inp1)\n",
        "X1=Conv2D(32, (3, 3), padding='same',activation='relu')(X1)\n",
        "X1=Conv2D(32, (3, 3), padding='same',activation='relu')(X1)\n",
        "X1=MaxPooling2D(pool_size=(2, 2))(X1)\n",
        "X1=Conv2D(32, (3, 3), padding='same',activation='relu')(X1)\n",
        "X1=Conv2D(32, (3, 3), padding='same',activation='relu')(X1)\n",
        "X1=GlobalMaxPooling2D()(X1)\n",
        "\n",
        "\n",
        "X2=BatchNormalization()(inp2)\n",
        "X2=Conv2D(32, (3, 3), padding='same',activation='relu')(X2)\n",
        "X2=Conv2D(32, (3, 3), padding='same',activation='relu')(X2)\n",
        "X2=MaxPooling2D(pool_size=(2, 2))(X2)\n",
        "X2=Conv2D(32, (3, 3), padding='same',activation='relu')(X2)\n",
        "X2=Conv2D(32, (3, 3), padding='same',activation='relu')(X2)\n",
        "X2=GlobalMaxPooling2D()(X2)\n",
        "\n",
        "X=concatenate([X1,X2])\n",
        "X=Dropout(0.25)(X)\n",
        "X=Dense(512,activation='relu')(X)\n",
        "X=Dropout(0.25)(X)\n",
        "out=Dense(8, activation='sigmoid')(X)\n",
        "\n",
        "model=Model(inputs=[inp1,inp2],outputs=out)\n",
        "\n",
        "model.compile('adam',loss=\"binary_crossentropy\",metrics=[\"accuracy\"])"
      ],
      "execution_count": 0,
      "outputs": []
    },
    {
      "cell_type": "code",
      "metadata": {
        "id": "sjnVWl1UQxRs",
        "colab_type": "code",
        "colab": {}
      },
      "source": [
        "step_size_train=2500/50\n",
        "step_size_val=1000/50\n"
      ],
      "execution_count": 0,
      "outputs": []
    },
    {
      "cell_type": "code",
      "metadata": {
        "id": "Q_K_SSjQJoIk",
        "colab_type": "code",
        "outputId": "b4da96e0-699a-42af-f3d2-c4f3a798ddde",
        "colab": {
          "base_uri": "https://localhost:8080/",
          "height": 101
        }
      },
      "source": [
        "model.fit_generator(train_gen, epochs=5,\n",
        "                        steps_per_epoch=step_size_train,\n",
        "                        use_multiprocessing=True,\n",
        "                        validation_data=valid_gen,\n",
        "                        validation_steps=step_size_val,\n",
        "                        verbose=2\n",
        "                    \n",
        "                        )"
      ],
      "execution_count": 0,
      "outputs": [
        {
          "output_type": "stream",
          "text": [
            "Epoch 1/5\n",
            "Found 1000 validated image filenames.\n",
            "Found 1000 validated image filenames.\n",
            "Found 2500 validated image filenames.\n",
            "Found 2500 validated image filenames.\n"
          ],
          "name": "stdout"
        }
      ]
    },
    {
      "cell_type": "code",
      "metadata": {
        "id": "2_XdXICBMR6o",
        "colab_type": "code",
        "colab": {}
      },
      "source": [
        "y_pred = model.predict_generator(val_generator,steps=step_size_valid)\n"
      ],
      "execution_count": 0,
      "outputs": []
    },
    {
      "cell_type": "code",
      "metadata": {
        "id": "W74o2wdhLidd",
        "colab_type": "code",
        "outputId": "c9e6451a-7053-42a8-cbf9-356d581e1e65",
        "colab": {
          "base_uri": "https://localhost:8080/",
          "height": 34
        }
      },
      "source": [
        "y_pred.shape"
      ],
      "execution_count": 0,
      "outputs": [
        {
          "output_type": "execute_result",
          "data": {
            "text/plain": [
              "(992, 8)"
            ]
          },
          "metadata": {
            "tags": []
          },
          "execution_count": 38
        }
      ]
    },
    {
      "cell_type": "code",
      "metadata": {
        "id": "2MOGeLHqJlhl",
        "colab_type": "code",
        "outputId": "4d2d6a0d-9ed4-41fb-a6cd-9beb26a18b7c",
        "colab": {
          "base_uri": "https://localhost:8080/",
          "height": 50
        }
      },
      "source": [
        "y_pred[0]"
      ],
      "execution_count": 0,
      "outputs": [
        {
          "output_type": "execute_result",
          "data": {
            "text/plain": [
              "array([0.35950512, 0.29279578, 0.10425806, 0.10760719, 0.06777266,\n",
              "       0.05234444, 0.08795124, 0.2723663 ], dtype=float32)"
            ]
          },
          "metadata": {
            "tags": []
          },
          "execution_count": 39
        }
      ]
    },
    {
      "cell_type": "code",
      "metadata": {
        "id": "jYRXBCYmJhHm",
        "colab_type": "code",
        "colab": {}
      },
      "source": [
        ""
      ],
      "execution_count": 0,
      "outputs": []
    }
  ]
}